{
 "cells": [
  {
   "cell_type": "markdown",
   "metadata": {
    "collapsed": true,
    "pycharm": {
     "name": "#%% md\n"
    }
   },
   "source": [
    "Getting elevation from lat/long and making a new csv file which contains elevation\n"
   ]
  },
  {
   "cell_type": "markdown",
   "source": [
    "Function to get elevation"
   ],
   "metadata": {
    "collapsed": false,
    "pycharm": {
     "name": "#%% md\n"
    }
   }
  },
  {
   "cell_type": "code",
   "execution_count": 1,
   "outputs": [],
   "source": [
    "import requests\n",
    "import pandas as pd\n",
    "\n",
    "\n",
    "# script for returning elevation from lat, long, based on open elevation data\n",
    "# which in turn is based on SRTM\n",
    "def get_elevation(lat: float, long: float):\n",
    "    \"\"\"\n",
    "    :param lat: latitude of the point\n",
    "    :param long: longitude of the point\n",
    "    :return: elevation in meters as numpy.int64\n",
    "    \"\"\"\n",
    "    query = ('https://api.open-elevation.com/api/v1/lookup'\n",
    "             f'?locations={lat},{long}')\n",
    "    r = requests.get(query).json()  # json object, various ways you can extract value\n",
    "    # one approach is to use pandas json functionality:\n",
    "    elevation = pd.io.json.json_normalize(r, 'results')['elevation'].values[0]\n",
    "    return elevation"
   ],
   "metadata": {
    "collapsed": false,
    "pycharm": {
     "name": "#%%\n"
    }
   }
  },
  {
   "cell_type": "markdown",
   "source": [
    "Getting the latitude and longitude points from the CSV"
   ],
   "metadata": {
    "collapsed": false,
    "pycharm": {
     "name": "#%% md\n"
    }
   }
  },
  {
   "cell_type": "code",
   "execution_count": 2,
   "outputs": [],
   "source": [
    "dfFull = pd.read_csv(filepath_or_buffer=r\"D:\\Google Drive\\Uni\\Tilburg\\Semester 6\\Thesis\\Data\\FW_Veg_Rem_Combined.csv\")\n",
    "dfLatLong = dfFull[[\"latitude\", \"longitude\"]]\n",
    "\n",
    "# dfLatLong\n"
   ],
   "metadata": {
    "collapsed": false,
    "pycharm": {
     "name": "#%%\n"
    }
   }
  },
  {
   "cell_type": "markdown",
   "source": [
    "Script to get the elevation, takes a very long time (overnight at least)\n",
    "\n",
    "I also timed it just for fun"
   ],
   "metadata": {
    "collapsed": false,
    "pycharm": {
     "name": "#%% md\n"
    }
   }
  },
  {
   "cell_type": "code",
   "execution_count": null,
   "outputs": [
    {
     "name": "stderr",
     "output_type": "stream",
     "text": [
      "<ipython-input-1-8a5ecda57acf>:17: FutureWarning: pandas.io.json.json_normalize is deprecated, use pandas.json_normalize instead\n",
      "  elevation = pd.io.json.json_normalize(r, 'results')['elevation'].values[0]\n"
     ]
    }
   ],
   "source": [
    "import time  # optional for timing the code\n",
    "\n",
    "dfElevation = pd.DataFrame(columns=[\"Elevation\"])\n",
    "\n",
    "tic = time.perf_counter()\n",
    "\n",
    "for index, row in dfLatLong.iterrows():\n",
    "    elevation = get_elevation(row[\"latitude\"], row[\"longitude\"])\n",
    "    dfElevation.append([elevation], ignore_index=True)\n",
    "\n",
    "toc = time.perf_counter()\n",
    "\n",
    "dfElevation.head(100)\n",
    "print(f\"Done in {toc - tic:0.4f} seconds\")\n",
    "\n"
   ],
   "metadata": {
    "collapsed": false,
    "pycharm": {
     "name": "#%%\n",
     "is_executing": true
    }
   }
  }
 ],
 "metadata": {
  "kernelspec": {
   "display_name": "Python 3",
   "language": "python",
   "name": "python3"
  },
  "language_info": {
   "codemirror_mode": {
    "name": "ipython",
    "version": 2
   },
   "file_extension": ".py",
   "mimetype": "text/x-python",
   "name": "python",
   "nbconvert_exporter": "python",
   "pygments_lexer": "ipython2",
   "version": "2.7.6"
  }
 },
 "nbformat": 4,
 "nbformat_minor": 0
}