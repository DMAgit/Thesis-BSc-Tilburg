{
 "cells": [
  {
   "cell_type": "markdown",
   "metadata": {
    "collapsed": true,
    "pycharm": {
     "name": "#%% md\n"
    }
   },
   "source": [
    "Title\n",
    "\n",
    "Description"
   ]
  },
  {
   "cell_type": "markdown",
   "source": [
    "Importing packages."
   ],
   "metadata": {
    "collapsed": false,
    "pycharm": {
     "name": "#%% md\n"
    }
   }
  },
  {
   "cell_type": "code",
   "execution_count": 41,
   "outputs": [],
   "source": [
    "import pandas as pd\n",
    "import numpy as np\n",
    "import matplotlib.pyplot as plt\n",
    "%matplotlib inline"
   ],
   "metadata": {
    "collapsed": false,
    "pycharm": {
     "name": "#%%\n"
    }
   }
  },
  {
   "cell_type": "markdown",
   "source": [
    "Importing data into pandas DataFrame."
   ],
   "metadata": {
    "collapsed": false,
    "pycharm": {
     "name": "#%% md\n"
    }
   }
  },
  {
   "cell_type": "code",
   "execution_count": 42,
   "outputs": [
    {
     "data": {
      "text/plain": "      fire_size_class  latitude   longitude discovery_month  weekday  \\\n9402                B  34.29002  -80.968781             Jan     True   \n35119               G  32.61530 -112.109300             Jun     True   \n4965                B  35.30610  -92.087270             Jul     True   \n4060                B  47.66500 -120.508333             Aug     True   \n1986                C  43.63141 -102.564040             Sep     True   \n\n             Vegetation  remoteness  elevation       Temp      Wind  \\\n9402   Broadleaf Forest    0.125243      165.0   2.913529  0.758438   \n35119         Shrubland    0.225579      593.0  33.211757  2.307285   \n4965               Rock    0.225229      195.0  29.991118  2.998553   \n4060               Rock    0.497120     1021.0  20.431591  3.701693   \n1986          Grassland    0.320094      850.0  24.386706  4.860812   \n\n        Humidity  Precipitation  \n9402   22.334641       0.000000  \n35119  20.116564       0.000000  \n4965   63.461341       7.500000  \n4060   45.886931       2.333333  \n1986   48.769894       8.500000  ",
      "text/html": "<div>\n<style scoped>\n    .dataframe tbody tr th:only-of-type {\n        vertical-align: middle;\n    }\n\n    .dataframe tbody tr th {\n        vertical-align: top;\n    }\n\n    .dataframe thead th {\n        text-align: right;\n    }\n</style>\n<table border=\"1\" class=\"dataframe\">\n  <thead>\n    <tr style=\"text-align: right;\">\n      <th></th>\n      <th>fire_size_class</th>\n      <th>latitude</th>\n      <th>longitude</th>\n      <th>discovery_month</th>\n      <th>weekday</th>\n      <th>Vegetation</th>\n      <th>remoteness</th>\n      <th>elevation</th>\n      <th>Temp</th>\n      <th>Wind</th>\n      <th>Humidity</th>\n      <th>Precipitation</th>\n    </tr>\n  </thead>\n  <tbody>\n    <tr>\n      <th>9402</th>\n      <td>B</td>\n      <td>34.29002</td>\n      <td>-80.968781</td>\n      <td>Jan</td>\n      <td>True</td>\n      <td>Broadleaf Forest</td>\n      <td>0.125243</td>\n      <td>165.0</td>\n      <td>2.913529</td>\n      <td>0.758438</td>\n      <td>22.334641</td>\n      <td>0.000000</td>\n    </tr>\n    <tr>\n      <th>35119</th>\n      <td>G</td>\n      <td>32.61530</td>\n      <td>-112.109300</td>\n      <td>Jun</td>\n      <td>True</td>\n      <td>Shrubland</td>\n      <td>0.225579</td>\n      <td>593.0</td>\n      <td>33.211757</td>\n      <td>2.307285</td>\n      <td>20.116564</td>\n      <td>0.000000</td>\n    </tr>\n    <tr>\n      <th>4965</th>\n      <td>B</td>\n      <td>35.30610</td>\n      <td>-92.087270</td>\n      <td>Jul</td>\n      <td>True</td>\n      <td>Rock</td>\n      <td>0.225229</td>\n      <td>195.0</td>\n      <td>29.991118</td>\n      <td>2.998553</td>\n      <td>63.461341</td>\n      <td>7.500000</td>\n    </tr>\n    <tr>\n      <th>4060</th>\n      <td>B</td>\n      <td>47.66500</td>\n      <td>-120.508333</td>\n      <td>Aug</td>\n      <td>True</td>\n      <td>Rock</td>\n      <td>0.497120</td>\n      <td>1021.0</td>\n      <td>20.431591</td>\n      <td>3.701693</td>\n      <td>45.886931</td>\n      <td>2.333333</td>\n    </tr>\n    <tr>\n      <th>1986</th>\n      <td>C</td>\n      <td>43.63141</td>\n      <td>-102.564040</td>\n      <td>Sep</td>\n      <td>True</td>\n      <td>Grassland</td>\n      <td>0.320094</td>\n      <td>850.0</td>\n      <td>24.386706</td>\n      <td>4.860812</td>\n      <td>48.769894</td>\n      <td>8.500000</td>\n    </tr>\n  </tbody>\n</table>\n</div>"
     },
     "execution_count": 42,
     "metadata": {},
     "output_type": "execute_result"
    }
   ],
   "source": [
    "df = pd.read_csv(r\"fullDataFinal.csv\", index_col=0)\n",
    "df.columns = df.columns.str.strip()\n",
    "df.sample(5)"
   ],
   "metadata": {
    "collapsed": false,
    "pycharm": {
     "name": "#%%\n"
    }
   }
  },
  {
   "cell_type": "markdown",
   "source": [
    "Run this block to get the dataset with the all the features."
   ],
   "metadata": {
    "collapsed": false,
    "pycharm": {
     "name": "#%% md\n"
    }
   }
  },
  {
   "cell_type": "code",
   "source": [
    "# Separate target variable (fire_size_class) from predictor variables.\n",
    "\n",
    "dfTarget = df[\"fire_size_class\"]\n",
    "dfPredictor = df[[\"latitude\", \"longitude\", \"discovery_month\", \"weekday\", \"Vegetation\", \"remoteness\", \"elevation\", \"Temp\", \"Wind\", \"Humidity\", \"Precipitation\"]]\n",
    "\n",
    "# First we one-hot encode all of the classes\n",
    "dfTarget = pd.concat([dfTarget, pd.get_dummies(dfTarget)], axis=1)  # use get_dummies and concatenate the result to dfTarget\n",
    "dfTarget.drop([\"fire_size_class\"], axis=1, inplace=True)  # and remove the old column\n",
    "# print(dfTarget.sample(5))\n",
    "\n",
    "# We want to make it binary classification between B and the larger fires\n",
    "# To do this we can drop all classes other than B\n",
    "# If B is 0 -> it's larger\n",
    "dfTarget.drop([\"C\", \"D\", \"E\", \"F\", \"G\"], axis=1, inplace=True)\n",
    "print(dfTarget.sample(5))\n",
    "\n",
    "# Changing categorical variables into one-hot encoded ones.\n",
    "# Vegetation\n",
    "dfPredictor = pd.concat([dfPredictor, pd.get_dummies(dfPredictor[\"Vegetation\"], prefix=\"Veg\", prefix_sep=\" \")], axis=1)\n",
    "dfPredictor.drop([\"Vegetation\"], axis=1, inplace=True)\n",
    "# And discovery_month\n",
    "dfPredictor = pd.concat([dfPredictor, pd.get_dummies(dfPredictor[\"discovery_month\"])], axis=1)\n",
    "dfPredictor.drop([\"discovery_month\"], axis=1, inplace=True)\n",
    "# And weekday\n",
    "dfPredictor = pd.concat([dfPredictor, pd.get_dummies(dfPredictor[\"weekday\"])], axis=1)\n",
    "dfPredictor.drop([\"weekday\"], axis=1, inplace=True)\n",
    "dfPredictor.rename(columns={False:\"is_weekend\", True:\"is_weekday\"}, inplace=True)\n",
    "dfPredictor.sample(5)\n",
    "\n",
    "\n",
    "# Scaling numerical data to 0-1 range.\n",
    "from sklearn.preprocessing import MinMaxScaler\n",
    "\n",
    "dfPredictorScaled = pd.DataFrame(MinMaxScaler().fit_transform(dfPredictor[[\"latitude\", \"longitude\", \"remoteness\", \"elevation\", \"Temp\", \"Wind\", \"Humidity\", \"Precipitation\"]]), columns=[\"latitude\", \"longitude\", \"remoteness\", \"elevation\", \"Temp\", \"Wind\", \"Humidity\", \"Precipitation\"])\n",
    "# dfPredictorScaled.sample(5)\n",
    "\n",
    "dfPredictor = dfPredictor.assign(**dfPredictorScaled.to_dict(orient=\"series\"))  # replace the columns of the old df with the ones from the new one\n",
    "dfPredictor.sample(5)"
   ],
   "metadata": {
    "collapsed": false,
    "pycharm": {
     "name": "#%%\n"
    }
   },
   "execution_count": 63,
   "outputs": [
    {
     "name": "stdout",
     "output_type": "stream",
     "text": [
      "       B\n",
      "28865  1\n",
      "31113  0\n",
      "23486  1\n",
      "35851  0\n",
      "21185  1\n"
     ]
    },
    {
     "data": {
      "text/plain": "       latitude  longitude  remoteness  elevation      Temp      Wind  \\\n6668   0.361151   0.589965    0.359457   0.776193  0.557402  0.150894   \n21766  0.285001   0.703496    0.253949   0.044432  0.662829  0.061571   \n26992  0.324109   0.859755    0.111246   0.024685  0.489967  0.122379   \n33449  0.474498   0.524906    0.049418   0.473121  0.649207  0.090531   \n20341  0.265804   0.827214    0.142049   0.034833  0.535582  0.073624   \n\n       Humidity  Precipitation  Veg Broadleaf Forest  Veg Desert  ...  Jan  \\\n6668   0.305397       0.004872                     0           0  ...    0   \n21766  0.498025       0.000000                     0           0  ...    0   \n26992  0.599048       0.000682                     1           0  ...    0   \n33449  0.304629       0.000000                     0           0  ...    0   \n20341  0.780265       0.018292                     0           0  ...    0   \n\n       Jul  Jun  Mar  May  Nov  Oct  Sep  is_weekend  is_weekday  \n6668     0    1    0    0    0    0    0           0           1  \n21766    0    0    0    0    0    0    1           0           1  \n26992    0    0    0    0    1    0    0           0           1  \n33449    0    0    0    0    0    0    0           1           0  \n20341    0    0    0    0    1    0    0           0           1  \n\n[5 rows x 28 columns]",
      "text/html": "<div>\n<style scoped>\n    .dataframe tbody tr th:only-of-type {\n        vertical-align: middle;\n    }\n\n    .dataframe tbody tr th {\n        vertical-align: top;\n    }\n\n    .dataframe thead th {\n        text-align: right;\n    }\n</style>\n<table border=\"1\" class=\"dataframe\">\n  <thead>\n    <tr style=\"text-align: right;\">\n      <th></th>\n      <th>latitude</th>\n      <th>longitude</th>\n      <th>remoteness</th>\n      <th>elevation</th>\n      <th>Temp</th>\n      <th>Wind</th>\n      <th>Humidity</th>\n      <th>Precipitation</th>\n      <th>Veg Broadleaf Forest</th>\n      <th>Veg Desert</th>\n      <th>...</th>\n      <th>Jan</th>\n      <th>Jul</th>\n      <th>Jun</th>\n      <th>Mar</th>\n      <th>May</th>\n      <th>Nov</th>\n      <th>Oct</th>\n      <th>Sep</th>\n      <th>is_weekend</th>\n      <th>is_weekday</th>\n    </tr>\n  </thead>\n  <tbody>\n    <tr>\n      <th>6668</th>\n      <td>0.361151</td>\n      <td>0.589965</td>\n      <td>0.359457</td>\n      <td>0.776193</td>\n      <td>0.557402</td>\n      <td>0.150894</td>\n      <td>0.305397</td>\n      <td>0.004872</td>\n      <td>0</td>\n      <td>0</td>\n      <td>...</td>\n      <td>0</td>\n      <td>0</td>\n      <td>1</td>\n      <td>0</td>\n      <td>0</td>\n      <td>0</td>\n      <td>0</td>\n      <td>0</td>\n      <td>0</td>\n      <td>1</td>\n    </tr>\n    <tr>\n      <th>21766</th>\n      <td>0.285001</td>\n      <td>0.703496</td>\n      <td>0.253949</td>\n      <td>0.044432</td>\n      <td>0.662829</td>\n      <td>0.061571</td>\n      <td>0.498025</td>\n      <td>0.000000</td>\n      <td>0</td>\n      <td>0</td>\n      <td>...</td>\n      <td>0</td>\n      <td>0</td>\n      <td>0</td>\n      <td>0</td>\n      <td>0</td>\n      <td>0</td>\n      <td>0</td>\n      <td>1</td>\n      <td>0</td>\n      <td>1</td>\n    </tr>\n    <tr>\n      <th>26992</th>\n      <td>0.324109</td>\n      <td>0.859755</td>\n      <td>0.111246</td>\n      <td>0.024685</td>\n      <td>0.489967</td>\n      <td>0.122379</td>\n      <td>0.599048</td>\n      <td>0.000682</td>\n      <td>1</td>\n      <td>0</td>\n      <td>...</td>\n      <td>0</td>\n      <td>0</td>\n      <td>0</td>\n      <td>0</td>\n      <td>0</td>\n      <td>1</td>\n      <td>0</td>\n      <td>0</td>\n      <td>0</td>\n      <td>1</td>\n    </tr>\n    <tr>\n      <th>33449</th>\n      <td>0.474498</td>\n      <td>0.524906</td>\n      <td>0.049418</td>\n      <td>0.473121</td>\n      <td>0.649207</td>\n      <td>0.090531</td>\n      <td>0.304629</td>\n      <td>0.000000</td>\n      <td>0</td>\n      <td>0</td>\n      <td>...</td>\n      <td>0</td>\n      <td>0</td>\n      <td>0</td>\n      <td>0</td>\n      <td>0</td>\n      <td>0</td>\n      <td>0</td>\n      <td>0</td>\n      <td>1</td>\n      <td>0</td>\n    </tr>\n    <tr>\n      <th>20341</th>\n      <td>0.265804</td>\n      <td>0.827214</td>\n      <td>0.142049</td>\n      <td>0.034833</td>\n      <td>0.535582</td>\n      <td>0.073624</td>\n      <td>0.780265</td>\n      <td>0.018292</td>\n      <td>0</td>\n      <td>0</td>\n      <td>...</td>\n      <td>0</td>\n      <td>0</td>\n      <td>0</td>\n      <td>0</td>\n      <td>0</td>\n      <td>1</td>\n      <td>0</td>\n      <td>0</td>\n      <td>0</td>\n      <td>1</td>\n    </tr>\n  </tbody>\n</table>\n<p>5 rows × 28 columns</p>\n</div>"
     },
     "execution_count": 63,
     "metadata": {},
     "output_type": "execute_result"
    }
   ]
  },
  {
   "cell_type": "markdown",
   "source": [
    "Run the block below to get "
   ],
   "metadata": {
    "collapsed": false,
    "pycharm": {
     "name": "#%% md\n"
    }
   }
  },
  {
   "cell_type": "markdown",
   "source": [
    "Train-test split"
   ],
   "metadata": {
    "collapsed": false,
    "pycharm": {
     "name": "#%% md\n"
    }
   }
  },
  {
   "cell_type": "code",
   "execution_count": 65,
   "outputs": [
    {
     "name": "stdout",
     "output_type": "stream",
     "text": [
      "(33522, 28)\n",
      "(33522, 1) \n",
      "\n",
      "(3725, 28)\n",
      "(3725, 1)\n"
     ]
    }
   ],
   "source": [
    "from sklearn.model_selection import train_test_split\n",
    "\n",
    "X_train, X_test, y_train, y_test = train_test_split(dfPredictor, dfTarget, test_size=0.1, random_state=42, stratify=dfTarget)\n",
    "\n",
    "print(X_train.shape)\n",
    "print(y_train.shape, \"\\n\")\n",
    "\n",
    "print(X_test.shape)\n",
    "print(y_test.shape)"
   ],
   "metadata": {
    "collapsed": false,
    "pycharm": {
     "name": "#%%\n"
    }
   }
  },
  {
   "cell_type": "markdown",
   "source": [
    "Before SMOTEEN"
   ],
   "metadata": {
    "collapsed": false
   }
  },
  {
   "cell_type": "code",
   "execution_count": 67,
   "outputs": [
    {
     "data": {
      "text/plain": "array([[<AxesSubplot:title={'center':'B'}>]], dtype=object)"
     },
     "execution_count": 67,
     "metadata": {},
     "output_type": "execute_result"
    },
    {
     "data": {
      "text/plain": "<Figure size 432x288 with 1 Axes>",
      "image/png": "[encoded data removed]"
     },
     "metadata": {
      "needs_background": "light"
     },
     "output_type": "display_data"
    }
   ],
   "source": [
    "y_train.hist()"
   ],
   "metadata": {
    "collapsed": false,
    "pycharm": {
     "name": "#%%\n"
    }
   }
  },
  {
   "cell_type": "markdown",
   "source": [
    "In order to fix the distribution of the data when training, we want to change it (in the training set only though).\n",
    "\n",
    "First, I tried randomly undersampling the data, however that made the training set too small (down to 2.6k samples total). The results were abysmal, with basically every model getting around a 2% accuracy on the test set.\n",
    "\n",
    "This is the code to do this, in case you want to (but you shouldn't)."
   ],
   "metadata": {
    "collapsed": false,
    "pycharm": {
     "name": "#%% md\n"
    }
   }
  },
  {
   "cell_type": "code",
   "execution_count": 68,
   "outputs": [
    {
     "name": "stdout",
     "output_type": "stream",
     "text": [
      "(23236, 28)\n",
      "(23236, 1)\n"
     ]
    }
   ],
   "source": [
    "from imblearn.under_sampling import RandomUnderSampler\n",
    "\n",
    "rus = RandomUnderSampler()\n",
    "X_train, y_train = rus.fit_resample(X_train, y_train)\n",
    "\n",
    "print(X_train.shape)\n",
    "print(y_train.shape)"
   ],
   "metadata": {
    "collapsed": false,
    "pycharm": {
     "name": "#%%\n"
    }
   }
  },
  {
   "cell_type": "markdown",
   "source": [
    "We want to convert the y_train dataset from a Pandas DataFrame to a (n, ) Numpy array."
   ],
   "metadata": {
    "collapsed": false,
    "pycharm": {
     "name": "#%% md\n"
    }
   }
  },
  {
   "cell_type": "code",
   "execution_count": 72,
   "outputs": [],
   "source": [
    "y_train = y_train.values.ravel()"
   ],
   "metadata": {
    "collapsed": false,
    "pycharm": {
     "name": "#%%\n"
    }
   }
  },
  {
   "cell_type": "markdown",
   "source": [
    "Next, I tried the opposite approach -- random *over*sampling.\n",
    "\n",
    "Here, examples from the smaller classes are picked randomly and repeated in the dataset.\n",
    "\n",
    "This made the training set massive, at 130k+ samples, but it also made training take forever and didn't achieve great results.\n",
    "\n",
    "    from imblearn.over_sampling import RandomOverSampler\n",
    "\n",
    "    ros = RandomOverSampler()\n",
    "    X_train, y_train = ros.fit_resample(X_train, y_train.values)\n",
    "\n",
    "    print(X_train.shape)\n",
    "    print(y_train.shape)\n",
    "\n",
    "    y_train = pd.DataFrame(y_train)"
   ],
   "metadata": {
    "collapsed": false,
    "pycharm": {
     "name": "#%% md\n"
    }
   }
  },
  {
   "cell_type": "code",
   "execution_count": 25,
   "outputs": [
    {
     "name": "stderr",
     "output_type": "stream",
     "text": [
      "d:\\pycharmprojects\\thesis\\lib\\site-packages\\sklearn\\utils\\validation.py:70: FutureWarning: Pass classes=[0 1 2 3 4 5] as keyword args. From version 1.0 (renaming of 0.25) passing these as positional arguments will result in an error\n",
      "  warnings.warn(f\"Pass {args_msg} as keyword args. From version \"\n"
     ]
    }
   ],
   "source": [
    "from imblearn.combine import SMOTEENN\n",
    "\n",
    "smote_enn = SMOTEENN(random_state=0)\n",
    "X_train, y_train = smote_enn.fit_resample(X_train, y_train.to_numpy())\n",
    "y_train = pd.DataFrame(y_train)"
   ],
   "metadata": {
    "collapsed": false,
    "pycharm": {
     "name": "#%%\n"
    }
   }
  },
  {
   "cell_type": "markdown",
   "source": [
    "After SMOTEEN"
   ],
   "metadata": {
    "collapsed": false,
    "pycharm": {
     "name": "#%% md\n"
    }
   }
  },
  {
   "cell_type": "code",
   "execution_count": 69,
   "outputs": [
    {
     "data": {
      "text/plain": "array([[<AxesSubplot:title={'center':'B'}>]], dtype=object)"
     },
     "execution_count": 69,
     "metadata": {},
     "output_type": "execute_result"
    },
    {
     "data": {
      "text/plain": "<Figure size 432x288 with 1 Axes>",
      "image/png": "[encoded data removed]"
     },
     "metadata": {
      "needs_background": "light"
     },
     "output_type": "display_data"
    }
   ],
   "source": [
    "y_train.hist()"
   ],
   "metadata": {
    "collapsed": false,
    "pycharm": {
     "name": "#%%\n"
    }
   }
  },
  {
   "cell_type": "markdown",
   "source": [
    "Make a correlation matrix"
   ],
   "metadata": {
    "collapsed": false,
    "pycharm": {
     "name": "#%% md\n"
    }
   }
  },
  {
   "cell_type": "code",
   "execution_count": 37,
   "outputs": [
    {
     "data": {
      "text/plain": "<Figure size 432x288 with 2 Axes>",
      "image/png": "[encoded data removed]"
     },
     "metadata": {
      "needs_background": "light"
     },
     "output_type": "display_data"
    }
   ],
   "source": [
    "import seaborn as sn\n",
    "\n",
    "corrMatrix = X_train.corr()\n",
    "sn.heatmap(corrMatrix)\n",
    "plt.show()"
   ],
   "metadata": {
    "collapsed": false,
    "pycharm": {
     "name": "#%%\n"
    }
   }
  },
  {
   "cell_type": "markdown",
   "source": [
    "Training models, each in a cell (?)\n",
    "\n",
    "* Dummy classifier\n",
    "* K-Nearest Neighbour (KNN)\n",
    "* Naïve Bayes (NB)\n",
    "* Support Vector Machine (SVM)\n",
    "* Decision Tree (DT)\n",
    "* Random Forest (RF)\n",
    "* Gradient Boosted Trees (GBT)\n",
    "* Multi-Layered Perceptron (MLP)\n",
    "* Artificial Neural Network (ANN)"
   ],
   "metadata": {
    "collapsed": false,
    "pycharm": {
     "name": "#%% md\n"
    }
   }
  },
  {
   "cell_type": "markdown",
   "source": [
    "Evaluation with confusion matrix, F1 score, etc"
   ],
   "metadata": {
    "collapsed": false,
    "pycharm": {
     "name": "#%% md\n"
    }
   }
  },
  {
   "cell_type": "markdown",
   "source": [
    "### Dummy classifier"
   ],
   "metadata": {
    "collapsed": false,
    "pycharm": {
     "name": "#%% md\n"
    }
   }
  },
  {
   "cell_type": "code",
   "source": [
    "from sklearn.dummy import DummyClassifier\n",
    "\n",
    "dummy_clf = DummyClassifier()\n",
    "\n",
    "dummy_clf.fit(X_train, y_train)\n",
    "training_accuracy = dummy_clf.score(X_train, y_train)\n",
    "test_accuracy = dummy_clf.score(X_test, y_test)\n",
    "print(f\"Training accuracy: {training_accuracy}\")  # 0.6537796074219915\n",
    "print(f\"Test accuracy: {test_accuracy}\")  # 0.6502013422818792\n",
    "\n",
    "\n",
    "y_true, y_pred = y_test , dummy_clf.predict(X_test)\n",
    "from sklearn.metrics import classification_report\n",
    "print('Results on the test set:')\n",
    "print(classification_report(y_true, y_pred))"
   ],
   "metadata": {
    "collapsed": false,
    "pycharm": {
     "name": "#%%\n"
    }
   },
   "execution_count": 73,
   "outputs": [
    {
     "name": "stdout",
     "output_type": "stream",
     "text": [
      "Training accuracy: 0.5\n",
      "Test accuracy: 0.3465771812080537\n",
      "Results on the test set:\n",
      "              precision    recall  f1-score   support\n",
      "\n",
      "           0       0.35      1.00      0.51      1291\n",
      "           1       0.00      0.00      0.00      2434\n",
      "\n",
      "    accuracy                           0.35      3725\n",
      "   macro avg       0.17      0.50      0.26      3725\n",
      "weighted avg       0.12      0.35      0.18      3725\n",
      "\n"
     ]
    },
    {
     "name": "stderr",
     "output_type": "stream",
     "text": [
      "d:\\pycharmprojects\\thesis\\lib\\site-packages\\sklearn\\metrics\\_classification.py:1245: UndefinedMetricWarning: Precision and F-score are ill-defined and being set to 0.0 in labels with no predicted samples. Use `zero_division` parameter to control this behavior.\n",
      "  _warn_prf(average, modifier, msg_start, len(result))\n",
      "d:\\pycharmprojects\\thesis\\lib\\site-packages\\sklearn\\metrics\\_classification.py:1245: UndefinedMetricWarning: Precision and F-score are ill-defined and being set to 0.0 in labels with no predicted samples. Use `zero_division` parameter to control this behavior.\n",
      "  _warn_prf(average, modifier, msg_start, len(result))\n",
      "d:\\pycharmprojects\\thesis\\lib\\site-packages\\sklearn\\metrics\\_classification.py:1245: UndefinedMetricWarning: Precision and F-score are ill-defined and being set to 0.0 in labels with no predicted samples. Use `zero_division` parameter to control this behavior.\n",
      "  _warn_prf(average, modifier, msg_start, len(result))\n"
     ]
    }
   ]
  },
  {
   "cell_type": "markdown",
   "source": [
    "### KNN"
   ],
   "metadata": {
    "collapsed": false,
    "pycharm": {
     "name": "#%% md\n"
    }
   }
  },
  {
   "cell_type": "code",
   "source": [
    "from sklearn.model_selection import GridSearchCV\n",
    "from sklearn.neighbors import KNeighborsClassifier\n",
    "\n",
    "param_grid = {'n_neighbors': range(2, 30, 2)}\n",
    "\n",
    "grid_searchKNN = GridSearchCV(KNeighborsClassifier(), param_grid, cv=5, n_jobs=-1)\n",
    "grid_searchKNN.fit(X_train, y_train)\n",
    "\n",
    "print(\"Test set score: {:.2f}\".format(grid_searchKNN.score(X_test, y_test)))\n",
    "\n",
    "\n",
    "y_true, y_pred = y_test , grid_searchKNN.predict(X_test)\n",
    "from sklearn.metrics import classification_report\n",
    "print('Results on the test set:')\n",
    "print(classification_report(y_true, y_pred))\n",
    "\n",
    "print(f\"Best test set score: {grid_searchKNN.best_score_} with {grid_searchKNN.best_params_} parameters.\")  # 0.6436993848306627 with {'n_neighbors': 25}"
   ],
   "metadata": {
    "collapsed": false,
    "pycharm": {
     "name": "#%%\n"
    }
   },
   "execution_count": 76,
   "outputs": [
    {
     "name": "stdout",
     "output_type": "stream",
     "text": [
      "Test set score: 0.69\n",
      "Results on the test set:\n",
      "              precision    recall  f1-score   support\n",
      "\n",
      "           0       0.55      0.57      0.56      1291\n",
      "           1       0.77      0.76      0.76      2434\n",
      "\n",
      "    accuracy                           0.69      3725\n",
      "   macro avg       0.66      0.66      0.66      3725\n",
      "weighted avg       0.69      0.69      0.69      3725\n",
      "\n",
      "Best test set score: 0.6436993848306627 with {'n_neighbors': 25} parameters.\n"
     ]
    }
   ]
  },
  {
   "cell_type": "markdown",
   "source": [
    "25 seems to be the best on our test set. Let's train that model and save it."
   ],
   "metadata": {
    "collapsed": false,
    "pycharm": {
     "name": "#%% md\n"
    }
   }
  },
  {
   "cell_type": "code",
   "source": [
    "clfKNN = KNeighborsClassifier(n_neighbors=9, n_jobs=-1)\n",
    "clfKNN.fit(X_train, y_train)\n",
    "\n",
    "training_accuracy = clfKNN.score(X_train, y_train)\n",
    "test_accuracy = clfKNN.score(X_test, y_test)\n",
    "print(\"Number of neighbors: 9\")\n",
    "print(f\"\\nTraining accuracy: {training_accuracy}\")  # 0.7298490543523656\n",
    "print(f\"\\nTest accuracy: {test_accuracy}\")  # 0.6934228187919463"
   ],
   "metadata": {
    "collapsed": false,
    "pycharm": {
     "name": "#%%\n"
    }
   },
   "execution_count": null,
   "outputs": []
  },
  {
   "cell_type": "markdown",
   "source": [
    "### Naive Bayes"
   ],
   "metadata": {
    "collapsed": false,
    "pycharm": {
     "name": "#%% md\n"
    }
   }
  },
  {
   "cell_type": "code",
   "source": [
    "from sklearn.naive_bayes import GaussianNB\n",
    "\n",
    "gnb = GaussianNB()\n",
    "gnb.fit(X_train, y_train)\n",
    "print(f\"GaussianNB train score: {gnb.score(X_train, y_train)}\")  # 0.21296462024938845\n",
    "print(f\"GaussianNB test score: {gnb.score(X_test, y_test)}\")  # 0.21986577181208053\n",
    "print(\"\\n\")\n",
    "\n",
    "y_true, y_pred = y_test , gnb.predict(X_test)\n",
    "from sklearn.metrics import classification_report\n",
    "print('Results on the test set:')\n",
    "print(classification_report(y_true, y_pred))"
   ],
   "metadata": {
    "collapsed": false,
    "pycharm": {
     "name": "#%%\n"
    }
   },
   "execution_count": 79,
   "outputs": [
    {
     "name": "stdout",
     "output_type": "stream",
     "text": [
      "GaussianNB train score: 0.59330349457738\n",
      "GaussianNB test score: 0.6429530201342282\n",
      "\n",
      "\n",
      "Results on the test set:\n",
      "              precision    recall  f1-score   support\n",
      "\n",
      "           0       0.49      0.51      0.50      1291\n",
      "           1       0.73      0.71      0.72      2434\n",
      "\n",
      "    accuracy                           0.64      3725\n",
      "   macro avg       0.61      0.61      0.61      3725\n",
      "weighted avg       0.65      0.64      0.65      3725\n",
      "\n"
     ]
    }
   ]
  },
  {
   "cell_type": "markdown",
   "source": [
    "### Support Vector Machine"
   ],
   "metadata": {
    "collapsed": false,
    "pycharm": {
     "name": "#%% md\n"
    }
   }
  },
  {
   "cell_type": "code",
   "source": [
    "from sklearn.model_selection import GridSearchCV\n",
    "from sklearn.svm import SVC\n",
    "\n",
    "param_grid = {'C': [0.01, 0.1, 0.25, 0.5, 0.75, 1]}\n",
    "\n",
    "grid_searchSVC = GridSearchCV(SVC(), param_grid, cv=5, n_jobs=-1)\n",
    "grid_searchSVC.fit(X_train, y_train)\n",
    "\n",
    "print(\"Test set score: {:.2f}\".format(grid_searchSVC.score(X_test, y_test)))\n",
    "\n",
    "y_true, y_pred = y_test , grid_searchSVC.predict(X_test)\n",
    "from sklearn.metrics import classification_report\n",
    "print('Results on the test set:')\n",
    "print(classification_report(y_true, y_pred))"
   ],
   "metadata": {
    "collapsed": false,
    "pycharm": {
     "name": "#%%\n"
    }
   },
   "execution_count": 82,
   "outputs": [
    {
     "name": "stdout",
     "output_type": "stream",
     "text": [
      "Test set score: 0.72\n",
      "Results on the test set:\n",
      "              precision    recall  f1-score   support\n",
      "\n",
      "           0       0.63      0.48      0.55      1291\n",
      "           1       0.76      0.85      0.80      2434\n",
      "\n",
      "    accuracy                           0.72      3725\n",
      "   macro avg       0.69      0.67      0.67      3725\n",
      "weighted avg       0.71      0.72      0.71      3725\n",
      "\n"
     ]
    }
   ]
  },
  {
   "cell_type": "markdown",
   "source": [
    "Best seems to be with C = ?\n",
    "\n",
    "Now lets train the final SVM"
   ],
   "metadata": {
    "collapsed": false,
    "pycharm": {
     "name": "#%% md\n",
     "is_executing": true
    }
   }
  },
  {
   "cell_type": "code",
   "source": [
    "svm = SVC(C = 0.25)\n",
    "multi_svm = MultiOutputClassifier(svm, n_jobs=-1)\n",
    "multi_svm.fit(X_train, y_train)\n",
    "\n",
    "print(f\"Kernel SVM train score: {multi_svm.score(X_train, y_train)}\")  # 0.7018077680329335\n",
    "print(f\"Kernel SVM test score: {multi_svm.score(X_test, y_test)}\")  # 0.6977181208053691\n",
    "print(\"\\n\")"
   ],
   "metadata": {
    "collapsed": false,
    "pycharm": {
     "name": "#%%\n"
    }
   },
   "execution_count": null,
   "outputs": []
  },
  {
   "cell_type": "markdown",
   "source": [
    "### Decision Tree"
   ],
   "metadata": {
    "collapsed": false,
    "pycharm": {
     "name": "#%% md\n"
    }
   }
  },
  {
   "cell_type": "code",
   "source": [
    "from sklearn.tree import DecisionTreeClassifier\n",
    "from sklearn.model_selection import GridSearchCV\n",
    "\n",
    "param_grid = {'max_depth': [4, 8, 16, 32, 64, 128, 256, 512], 'criterion': ['gini', 'entropy']}\n",
    "\n",
    "grid_searchDT = GridSearchCV(DecisionTreeClassifier(), param_grid, cv=5, n_jobs=-1)\n",
    "grid_searchDT.fit(X_train, y_train)\n",
    "DT_ResultsDf = pd.DataFrame(grid_searchDT.cv_results_)\n",
    "\n",
    "print(DT_ResultsDf)\n",
    "print(f\"Best test set score: {grid_searchDT.best_score_} with {grid_searchDT.best_params_} parameters.\")\n",
    "\n",
    "y_true, y_pred = y_test , grid_searchDT.predict(X_test)\n",
    "from sklearn.metrics import classification_report\n",
    "print('Results on the test set:')\n",
    "print(classification_report(y_true, y_pred))"
   ],
   "metadata": {
    "collapsed": false,
    "pycharm": {
     "name": "#%%\n"
    }
   },
   "execution_count": 83,
   "outputs": [
    {
     "name": "stdout",
     "output_type": "stream",
     "text": [
      "    mean_fit_time  std_fit_time  mean_score_time  std_score_time  \\\n",
      "0        0.090305      0.001199         0.003997    6.468134e-07   \n",
      "1        0.165829      0.002604         0.003797    3.995420e-04   \n",
      "2        0.264329      0.003495         0.003797    3.994467e-04   \n",
      "3        0.297095      0.007779         0.004196    3.993043e-04   \n",
      "4        0.298693      0.005508         0.004396    4.894732e-04   \n",
      "5        0.298693      0.009392         0.003797    3.993512e-04   \n",
      "6        0.306086      0.011207         0.004396    4.890649e-04   \n",
      "7        0.301690      0.003739         0.004396    4.889282e-04   \n",
      "8        0.133662      0.003812         0.003997    6.314300e-04   \n",
      "9        0.239553      0.002558         0.003596    4.897652e-04   \n",
      "10       0.459329      0.021918         0.003797    3.992081e-04   \n",
      "11       0.574212      0.033062         0.006593    4.219602e-03   \n",
      "12       0.556829      0.058337         0.004196    3.994703e-04   \n",
      "13       0.526460      0.014830         0.004196    3.994945e-04   \n",
      "14       0.502685      0.009714         0.003796    3.993989e-04   \n",
      "15       0.421168      0.031493         0.003197    3.994232e-04   \n",
      "\n",
      "   param_criterion param_max_depth  \\\n",
      "0             gini               4   \n",
      "1             gini               8   \n",
      "2             gini              16   \n",
      "3             gini              32   \n",
      "4             gini              64   \n",
      "5             gini             128   \n",
      "6             gini             256   \n",
      "7             gini             512   \n",
      "8          entropy               4   \n",
      "9          entropy               8   \n",
      "10         entropy              16   \n",
      "11         entropy              32   \n",
      "12         entropy              64   \n",
      "13         entropy             128   \n",
      "14         entropy             256   \n",
      "15         entropy             512   \n",
      "\n",
      "                                        params  split0_test_score  \\\n",
      "0        {'criterion': 'gini', 'max_depth': 4}           0.655981   \n",
      "1        {'criterion': 'gini', 'max_depth': 8}           0.684165   \n",
      "2       {'criterion': 'gini', 'max_depth': 16}           0.649096   \n",
      "3       {'criterion': 'gini', 'max_depth': 32}           0.628657   \n",
      "4       {'criterion': 'gini', 'max_depth': 64}           0.632100   \n",
      "5      {'criterion': 'gini', 'max_depth': 128}           0.631239   \n",
      "6      {'criterion': 'gini', 'max_depth': 256}           0.629088   \n",
      "7      {'criterion': 'gini', 'max_depth': 512}           0.628657   \n",
      "8     {'criterion': 'entropy', 'max_depth': 4}           0.655766   \n",
      "9     {'criterion': 'entropy', 'max_depth': 8}           0.679647   \n",
      "10   {'criterion': 'entropy', 'max_depth': 16}           0.663296   \n",
      "11   {'criterion': 'entropy', 'max_depth': 32}           0.640491   \n",
      "12   {'criterion': 'entropy', 'max_depth': 64}           0.638554   \n",
      "13  {'criterion': 'entropy', 'max_depth': 128}           0.638339   \n",
      "14  {'criterion': 'entropy', 'max_depth': 256}           0.636188   \n",
      "15  {'criterion': 'entropy', 'max_depth': 512}           0.643718   \n",
      "\n",
      "    split1_test_score  split2_test_score  split3_test_score  \\\n",
      "0            0.648806           0.641704           0.648375   \n",
      "1            0.676781           0.672692           0.672262   \n",
      "2            0.658920           0.642350           0.654616   \n",
      "3            0.642565           0.624919           0.635249   \n",
      "4            0.641489           0.621261           0.632021   \n",
      "5            0.639552           0.625780           0.632451   \n",
      "6            0.641920           0.619755           0.630514   \n",
      "7            0.640413           0.619109           0.630514   \n",
      "8            0.648806           0.641704           0.648806   \n",
      "9            0.678072           0.667958           0.675490   \n",
      "10           0.661932           0.648160           0.657844   \n",
      "11           0.645793           0.629008           0.637400   \n",
      "12           0.638692           0.627932           0.638907   \n",
      "13           0.640628           0.630299           0.634173   \n",
      "14           0.637400           0.634173           0.636755   \n",
      "15           0.645147           0.627932           0.632236   \n",
      "\n",
      "    split4_test_score  mean_test_score  std_test_score  rank_test_score  \n",
      "0            0.650312         0.649036        0.004563                5  \n",
      "1            0.675920         0.676364        0.004279                1  \n",
      "2            0.642780         0.649552        0.006501                4  \n",
      "3            0.624704         0.631219        0.006836               12  \n",
      "4            0.627286         0.630831        0.006645               13  \n",
      "5            0.621691         0.630143        0.006091               14  \n",
      "6            0.621476         0.628551        0.007878               15  \n",
      "7            0.623843         0.628507        0.007154               16  \n",
      "8            0.649666         0.648950        0.004461                6  \n",
      "9            0.672262         0.674686        0.004192                2  \n",
      "10           0.643856         0.655018        0.007693                3  \n",
      "11           0.619755         0.634489        0.009159                7  \n",
      "12           0.617818         0.632381        0.008395               11  \n",
      "13           0.620615         0.632811        0.007051               10  \n",
      "14           0.619539         0.632811        0.006723                9  \n",
      "15           0.618894         0.633585        0.009859                8  \n",
      "Best test set score: 0.676363926609324 with {'criterion': 'gini', 'max_depth': 8} parameters.\n",
      "Results on the test set:\n",
      "              precision    recall  f1-score   support\n",
      "\n",
      "           0       0.58      0.62      0.60      1291\n",
      "           1       0.79      0.76      0.78      2434\n",
      "\n",
      "    accuracy                           0.71      3725\n",
      "   macro avg       0.69      0.69      0.69      3725\n",
      "weighted avg       0.72      0.71      0.71      3725\n",
      "\n"
     ]
    }
   ]
  },
  {
   "cell_type": "markdown",
   "source": [
    "Best max_depth is 5 -->  0.72060144"
   ],
   "metadata": {
    "collapsed": false,
    "pycharm": {
     "name": "#%% md\n"
    }
   }
  },
  {
   "cell_type": "code",
   "source": [
    "dt = DecisionTreeClassifier(max_depth=5)\n",
    "dt.fit(X_train, y_train)\n",
    "\n",
    "print(f\"Decision Tree train score: {dt.score(X_train, y_train)}\")  # 0.7240618101545254\n",
    "print(f\"Decision Tree test score: {dt.score(X_test, y_test)}\")  # 0.7103355704697987\n",
    "print(\"\\n\")"
   ],
   "metadata": {
    "collapsed": false,
    "pycharm": {
     "name": "#%%\n"
    }
   },
   "execution_count": null,
   "outputs": []
  },
  {
   "cell_type": "markdown",
   "source": [
    "### Random Forest"
   ],
   "metadata": {
    "collapsed": false,
    "pycharm": {
     "name": "#%% md\n"
    }
   }
  },
  {
   "cell_type": "code",
   "source": [
    "from sklearn.ensemble import RandomForestClassifier\n",
    "from sklearn.model_selection import GridSearchCV\n",
    "\n",
    "param_grid = {'max_depth': [4, 8, 16, 32, 64, 128, 256, 512], 'n_estimators': [100, 500, 1000], 'criterion': ['gini', 'entropy']}\n",
    "\n",
    "grid_searchRF = GridSearchCV(RandomForestClassifier(), param_grid, cv=5, n_jobs=-1)\n",
    "grid_searchRF.fit(X_train, y_train)\n",
    "RF_ResultsDf = pd.DataFrame(grid_searchRF.cv_results_)\n",
    "\n",
    "print(RF_ResultsDf)\n",
    "print(f\"Best test set score: {grid_searchRF.best_score_} with {grid_searchRF.best_params_} parameters.\")\n",
    "\n",
    "\n",
    "y_true, y_pred = y_test , grid_searchRF.predict(X_test)\n",
    "from sklearn.metrics import classification_report\n",
    "print('Results on the test set:')\n",
    "print(classification_report(y_true, y_pred))"
   ],
   "metadata": {
    "collapsed": false,
    "pycharm": {
     "name": "#%%\n"
    }
   },
   "execution_count": 84,
   "outputs": [
    {
     "name": "stdout",
     "output_type": "stream",
     "text": [
      "    mean_fit_time  std_fit_time  mean_score_time  std_score_time  \\\n",
      "0        1.310457      0.015876         0.046753        0.000748   \n",
      "1        6.546496      0.112534         0.214779        0.005650   \n",
      "2       13.206278      0.236400         0.420769        0.005906   \n",
      "3        2.390752      0.069540         0.069729        0.012690   \n",
      "4       11.044292      0.095473         0.294099        0.001623   \n",
      "5       22.104567      0.085902         0.596789        0.014304   \n",
      "6        3.666845      0.051906         0.108689        0.002225   \n",
      "7       18.456303      0.178604         0.548438        0.009435   \n",
      "8       38.444237      0.400869         1.139034        0.048136   \n",
      "9        4.490202      0.040899         0.141656        0.003121   \n",
      "10      23.264179      0.340181         0.705079        0.009401   \n",
      "11      45.378338      0.158833         1.436329        0.013660   \n",
      "12       4.614875      0.045619         0.148049        0.009381   \n",
      "13      22.653006      0.235129         0.704479        0.015800   \n",
      "14      45.338778      0.244722         1.481683        0.038691   \n",
      "15       4.524368      0.029822         0.144852        0.009090   \n",
      "16      22.522939      0.218662         0.714868        0.016652   \n",
      "17      45.788118      0.311682         1.494070        0.040181   \n",
      "18       4.572918      0.020884         0.141455        0.005707   \n",
      "19      22.700357      0.111779         0.714868        0.018176   \n",
      "20      45.319198      0.189391         1.473092        0.023390   \n",
      "21       4.528362      0.065086         0.143254        0.003975   \n",
      "22      22.700956      0.352882         0.706877        0.027472   \n",
      "23      45.637272      0.451772         1.417748        0.045011   \n",
      "24       1.814941      0.031193         0.044754        0.000748   \n",
      "25       9.054529      0.080360         0.212383        0.005566   \n",
      "26      18.208756      0.086254         0.413776        0.003426   \n",
      "27       3.299221      0.062739         0.058541        0.000800   \n",
      "28      16.211601      0.068314         0.285108        0.005879   \n",
      "29      32.520902      0.247842         0.555032        0.009821   \n",
      "30       5.614451      0.055790         0.095702        0.002225   \n",
      "31      28.097031      0.102662         0.467921        0.015224   \n",
      "32      56.119340      0.212166         0.955822        0.012531   \n",
      "33       7.054376      0.047535         0.129868        0.003894   \n",
      "34      35.513637      0.236305         0.630754        0.008514   \n",
      "35      70.999704      0.538091         1.281488        0.014232   \n",
      "36       7.127102      0.069112         0.131066        0.008854   \n",
      "37      35.671676      0.298866         0.641143        0.021092   \n",
      "38      72.326345      0.579255         1.333035        0.022200   \n",
      "39       7.100130      0.056226         0.129867        0.004853   \n",
      "40      35.971369      0.136733         0.642942        0.015954   \n",
      "41      71.699387      0.744046         1.363005        0.043354   \n",
      "42       7.121907      0.055905         0.129268        0.005117   \n",
      "43      35.695651      0.157234         0.656728        0.017007   \n",
      "44      71.903778      0.276077         1.361606        0.041733   \n",
      "45       7.146082      0.092675         0.129268        0.003607   \n",
      "46      34.981182      1.199392         0.618966        0.033537   \n",
      "47      61.674851      0.387123         1.098875        0.103082   \n",
      "\n",
      "   param_criterion param_max_depth param_n_estimators  \\\n",
      "0             gini               4                100   \n",
      "1             gini               4                500   \n",
      "2             gini               4               1000   \n",
      "3             gini               8                100   \n",
      "4             gini               8                500   \n",
      "5             gini               8               1000   \n",
      "6             gini              16                100   \n",
      "7             gini              16                500   \n",
      "8             gini              16               1000   \n",
      "9             gini              32                100   \n",
      "10            gini              32                500   \n",
      "11            gini              32               1000   \n",
      "12            gini              64                100   \n",
      "13            gini              64                500   \n",
      "14            gini              64               1000   \n",
      "15            gini             128                100   \n",
      "16            gini             128                500   \n",
      "17            gini             128               1000   \n",
      "18            gini             256                100   \n",
      "19            gini             256                500   \n",
      "20            gini             256               1000   \n",
      "21            gini             512                100   \n",
      "22            gini             512                500   \n",
      "23            gini             512               1000   \n",
      "24         entropy               4                100   \n",
      "25         entropy               4                500   \n",
      "26         entropy               4               1000   \n",
      "27         entropy               8                100   \n",
      "28         entropy               8                500   \n",
      "29         entropy               8               1000   \n",
      "30         entropy              16                100   \n",
      "31         entropy              16                500   \n",
      "32         entropy              16               1000   \n",
      "33         entropy              32                100   \n",
      "34         entropy              32                500   \n",
      "35         entropy              32               1000   \n",
      "36         entropy              64                100   \n",
      "37         entropy              64                500   \n",
      "38         entropy              64               1000   \n",
      "39         entropy             128                100   \n",
      "40         entropy             128                500   \n",
      "41         entropy             128               1000   \n",
      "42         entropy             256                100   \n",
      "43         entropy             256                500   \n",
      "44         entropy             256               1000   \n",
      "45         entropy             512                100   \n",
      "46         entropy             512                500   \n",
      "47         entropy             512               1000   \n",
      "\n",
      "                                               params  split0_test_score  \\\n",
      "0   {'criterion': 'gini', 'max_depth': 4, 'n_estim...           0.649312   \n",
      "1   {'criterion': 'gini', 'max_depth': 4, 'n_estim...           0.653184   \n",
      "2   {'criterion': 'gini', 'max_depth': 4, 'n_estim...           0.651678   \n",
      "3   {'criterion': 'gini', 'max_depth': 8, 'n_estim...           0.681799   \n",
      "4   {'criterion': 'gini', 'max_depth': 8, 'n_estim...           0.683305   \n",
      "5   {'criterion': 'gini', 'max_depth': 8, 'n_estim...           0.682229   \n",
      "6   {'criterion': 'gini', 'max_depth': 16, 'n_esti...           0.688898   \n",
      "7   {'criterion': 'gini', 'max_depth': 16, 'n_esti...           0.689974   \n",
      "8   {'criterion': 'gini', 'max_depth': 16, 'n_esti...           0.692556   \n",
      "9   {'criterion': 'gini', 'max_depth': 32, 'n_esti...           0.677281   \n",
      "10  {'criterion': 'gini', 'max_depth': 32, 'n_esti...           0.689114   \n",
      "11  {'criterion': 'gini', 'max_depth': 32, 'n_esti...           0.690835   \n",
      "12  {'criterion': 'gini', 'max_depth': 64, 'n_esti...           0.685456   \n",
      "13  {'criterion': 'gini', 'max_depth': 64, 'n_esti...           0.694707   \n",
      "14  {'criterion': 'gini', 'max_depth': 64, 'n_esti...           0.687392   \n",
      "15  {'criterion': 'gini', 'max_depth': 128, 'n_est...           0.687823   \n",
      "16  {'criterion': 'gini', 'max_depth': 128, 'n_est...           0.689544   \n",
      "17  {'criterion': 'gini', 'max_depth': 128, 'n_est...           0.688038   \n",
      "18  {'criterion': 'gini', 'max_depth': 256, 'n_est...           0.686532   \n",
      "19  {'criterion': 'gini', 'max_depth': 256, 'n_est...           0.687823   \n",
      "20  {'criterion': 'gini', 'max_depth': 256, 'n_est...           0.685456   \n",
      "21  {'criterion': 'gini', 'max_depth': 512, 'n_est...           0.683950   \n",
      "22  {'criterion': 'gini', 'max_depth': 512, 'n_est...           0.690835   \n",
      "23  {'criterion': 'gini', 'max_depth': 512, 'n_est...           0.689974   \n",
      "24  {'criterion': 'entropy', 'max_depth': 4, 'n_es...           0.650818   \n",
      "25  {'criterion': 'entropy', 'max_depth': 4, 'n_es...           0.651033   \n",
      "26  {'criterion': 'entropy', 'max_depth': 4, 'n_es...           0.650818   \n",
      "27  {'criterion': 'entropy', 'max_depth': 8, 'n_es...           0.678141   \n",
      "28  {'criterion': 'entropy', 'max_depth': 8, 'n_es...           0.674484   \n",
      "29  {'criterion': 'entropy', 'max_depth': 8, 'n_es...           0.677926   \n",
      "30  {'criterion': 'entropy', 'max_depth': 16, 'n_e...           0.691910   \n",
      "31  {'criterion': 'entropy', 'max_depth': 16, 'n_e...           0.691910   \n",
      "32  {'criterion': 'entropy', 'max_depth': 16, 'n_e...           0.691910   \n",
      "33  {'criterion': 'entropy', 'max_depth': 32, 'n_e...           0.689544   \n",
      "34  {'criterion': 'entropy', 'max_depth': 32, 'n_e...           0.690620   \n",
      "35  {'criterion': 'entropy', 'max_depth': 32, 'n_e...           0.693847   \n",
      "36  {'criterion': 'entropy', 'max_depth': 64, 'n_e...           0.685456   \n",
      "37  {'criterion': 'entropy', 'max_depth': 64, 'n_e...           0.689544   \n",
      "38  {'criterion': 'entropy', 'max_depth': 64, 'n_e...           0.689544   \n",
      "39  {'criterion': 'entropy', 'max_depth': 128, 'n_...           0.685456   \n",
      "40  {'criterion': 'entropy', 'max_depth': 128, 'n_...           0.688898   \n",
      "41  {'criterion': 'entropy', 'max_depth': 128, 'n_...           0.690835   \n",
      "42  {'criterion': 'entropy', 'max_depth': 256, 'n_...           0.681368   \n",
      "43  {'criterion': 'entropy', 'max_depth': 256, 'n_...           0.687392   \n",
      "44  {'criterion': 'entropy', 'max_depth': 256, 'n_...           0.692771   \n",
      "45  {'criterion': 'entropy', 'max_depth': 512, 'n_...           0.685671   \n",
      "46  {'criterion': 'entropy', 'max_depth': 512, 'n_...           0.687392   \n",
      "47  {'criterion': 'entropy', 'max_depth': 512, 'n_...           0.690189   \n",
      "\n",
      "    split1_test_score  split2_test_score  split3_test_score  \\\n",
      "0            0.645578           0.637400           0.641704   \n",
      "1            0.646869           0.635249           0.639983   \n",
      "2            0.645147           0.638046           0.644502   \n",
      "3            0.676996           0.664515           0.664300   \n",
      "4            0.676350           0.664945           0.666451   \n",
      "5            0.677426           0.661717           0.666451   \n",
      "6            0.691414           0.693781           0.689477   \n",
      "7            0.692490           0.690338           0.692920   \n",
      "8            0.692490           0.688616           0.690983   \n",
      "9            0.690983           0.693351           0.681945   \n",
      "10           0.690338           0.681730           0.686895   \n",
      "11           0.692275           0.688401           0.688832   \n",
      "12           0.694642           0.684097           0.683021   \n",
      "13           0.696794           0.686034           0.688186   \n",
      "14           0.693351           0.689262           0.684528   \n",
      "15           0.694642           0.687325           0.689907   \n",
      "16           0.686249           0.689907           0.684958   \n",
      "17           0.691844           0.685819           0.687756   \n",
      "18           0.690338           0.686680           0.685819   \n",
      "19           0.692059           0.685173           0.684743   \n",
      "20           0.692705           0.693135           0.688832   \n",
      "21           0.694427           0.682806           0.679578   \n",
      "22           0.692490           0.687971           0.685173   \n",
      "23           0.694857           0.692059           0.687540   \n",
      "24           0.646008           0.637400           0.640628   \n",
      "25           0.644287           0.634173           0.642565   \n",
      "26           0.646869           0.637400           0.642350   \n",
      "27           0.673983           0.661932           0.662578   \n",
      "28           0.675274           0.662148           0.666021   \n",
      "29           0.675490           0.661932           0.666882   \n",
      "30           0.687110           0.693566           0.686034   \n",
      "31           0.693996           0.693566           0.689692   \n",
      "32           0.692705           0.687325           0.693135   \n",
      "33           0.692275           0.690123           0.682806   \n",
      "34           0.690553           0.689477           0.687756   \n",
      "35           0.692705           0.689262           0.685173   \n",
      "36           0.685819           0.685173           0.680009   \n",
      "37           0.691199           0.685819           0.687540   \n",
      "38           0.691629           0.684528           0.684312   \n",
      "39           0.689262           0.686464           0.682591   \n",
      "40           0.696363           0.689262           0.685819   \n",
      "41           0.691844           0.689907           0.686895   \n",
      "42           0.690983           0.687110           0.684312   \n",
      "43           0.691414           0.685819           0.687110   \n",
      "44           0.695072           0.687110           0.685604   \n",
      "45           0.687971           0.682376           0.689692   \n",
      "46           0.693996           0.687325           0.685604   \n",
      "47           0.695502           0.684743           0.687110   \n",
      "\n",
      "    split4_test_score  mean_test_score  std_test_score  rank_test_score  \n",
      "0            0.640628         0.642924        0.004126               47  \n",
      "1            0.640844         0.643226        0.006201               45  \n",
      "2            0.641489         0.644173        0.004519               43  \n",
      "3            0.666236         0.670769        0.007238               39  \n",
      "4            0.668388         0.671888        0.006932               37  \n",
      "5            0.666882         0.670941        0.007631               38  \n",
      "6            0.694211         0.691556        0.002164                6  \n",
      "7            0.696794         0.692503        0.002436                2  \n",
      "8            0.696578         0.692245        0.002596                3  \n",
      "9            0.687325         0.686177        0.005881               33  \n",
      "10           0.693781         0.688371        0.003999               27  \n",
      "11           0.696794         0.691427        0.003025                8  \n",
      "12           0.684743         0.686392        0.004202               31  \n",
      "13           0.693135         0.691771        0.004037                5  \n",
      "14           0.694857         0.689878        0.003796               17  \n",
      "15           0.689692         0.689878        0.002587               18  \n",
      "16           0.690338         0.688199        0.002173               28  \n",
      "17           0.693781         0.689447        0.002917               21  \n",
      "18           0.689262         0.687726        0.001752               29  \n",
      "19           0.696794         0.689318        0.004555               22  \n",
      "20           0.693135         0.690653        0.003061               13  \n",
      "21           0.687971         0.685746        0.005103               35  \n",
      "22           0.692920         0.689878        0.002925               19  \n",
      "23           0.692920         0.691470        0.002514                7  \n",
      "24           0.638692         0.642709        0.005006               48  \n",
      "25           0.643641         0.643140        0.005378               46  \n",
      "26           0.642135         0.643914        0.004570               44  \n",
      "27           0.665376         0.668402        0.006495               42  \n",
      "28           0.664730         0.668531        0.005337               41  \n",
      "29           0.663008         0.669048        0.006513               40  \n",
      "30           0.691844         0.690093        0.002960               16  \n",
      "31           0.695933         0.693020        0.002100                1  \n",
      "32           0.695072         0.692030        0.002572                4  \n",
      "33           0.689692         0.688888        0.003196               25  \n",
      "34           0.694857         0.690652        0.002344               14  \n",
      "35           0.695287         0.691255        0.003634                9  \n",
      "36           0.691844         0.685660        0.003755               36  \n",
      "37           0.691844         0.689189        0.002249               23  \n",
      "38           0.693351         0.688673        0.003676               26  \n",
      "39           0.687540         0.686263        0.002227               32  \n",
      "40           0.695287         0.691126        0.004034               10  \n",
      "41           0.693996         0.690695        0.002337               12  \n",
      "42           0.685819         0.685919        0.003174               34  \n",
      "43           0.692705         0.688888        0.002675               24  \n",
      "44           0.693351         0.690781        0.003722               11  \n",
      "45           0.687110         0.686564        0.002466               30  \n",
      "46           0.694857         0.689835        0.003813               20  \n",
      "47           0.693996         0.690308        0.004045               15  \n",
      "Best test set score: 0.6930195003013067 with {'criterion': 'entropy', 'max_depth': 16, 'n_estimators': 500} parameters.\n",
      "Results on the test set:\n",
      "              precision    recall  f1-score   support\n",
      "\n",
      "           0       0.63      0.61      0.62      1291\n",
      "           1       0.80      0.81      0.81      2434\n",
      "\n",
      "    accuracy                           0.74      3725\n",
      "   macro avg       0.72      0.71      0.71      3725\n",
      "weighted avg       0.74      0.74      0.74      3725\n",
      "\n"
     ]
    }
   ]
  },
  {
   "cell_type": "markdown",
   "source": [
    "Best seems to be with max_depth=12"
   ],
   "metadata": {
    "collapsed": false,
    "pycharm": {
     "name": "#%% md\n"
    }
   }
  },
  {
   "cell_type": "code",
   "source": [
    "rf = RandomForestClassifier(max_depth=12, n_jobs=-1)\n",
    "rf.fit(X_train, y_train)\n",
    "\n",
    "print(f\"Random Forest train score: {rf.score(X_train, y_train)}\")  # 0.7210786945886284\n",
    "print(f\"Random Forest test score: {rf.score(X_test, y_test)}\")  # 0.6877852348993289\n",
    "print(\"\\n\")\n"
   ],
   "metadata": {
    "collapsed": false,
    "pycharm": {
     "name": "#%%\n"
    }
   },
   "execution_count": null,
   "outputs": []
  },
  {
   "cell_type": "markdown",
   "source": [
    "### Gradient Boosted Trees (GBT)"
   ],
   "metadata": {
    "collapsed": false,
    "pycharm": {
     "name": "#%% md\n"
    }
   }
  },
  {
   "cell_type": "code",
   "source": [
    "from sklearn.ensemble import GradientBoostingClassifier\n",
    "from sklearn.model_selection import GridSearchCV\n",
    "\n",
    "param_grid = {'max_depth':[2,4,8,16,30,40], 'loss':['deviance', 'exponential']}\n",
    "\n",
    "grid_searchGBT = GridSearchCV(GradientBoostingClassifier(), param_grid, cv=5, n_jobs=-1)\n",
    "grid_searchGBT.fit(X_train, y_train)\n",
    "GBT_ResultsDf = pd.DataFrame(grid_searchGBT.cv_results_)\n",
    "\n",
    "print(GBT_ResultsDf)\n",
    "print(f\"Best test set score: {grid_searchGBT.best_score_} with {grid_searchGBT.best_params_} parameters.\")\n",
    "\n",
    "y_true, y_pred = y_test , grid_searchGBT.predict(X_test)\n",
    "from sklearn.metrics import classification_report\n",
    "print('Results on the test set:')\n",
    "print(classification_report(y_true, y_pred))"
   ],
   "metadata": {
    "collapsed": false,
    "pycharm": {
     "name": "#%%\n"
    }
   },
   "execution_count": 87,
   "outputs": [
    {
     "name": "stdout",
     "output_type": "stream",
     "text": [
      "    mean_fit_time  std_fit_time  mean_score_time  std_score_time   param_loss  \\\n",
      "0        4.328169      0.199383         0.010190        0.000979     deviance   \n",
      "1        7.887125      0.200798         0.012986        0.000631     deviance   \n",
      "2       15.895523      0.130179         0.020379        0.001355     deviance   \n",
      "3       38.067223      0.326768         0.042557        0.001355     deviance   \n",
      "4       62.989905      2.541507         0.088709        0.008415     deviance   \n",
      "5       58.718878      0.827659         0.087910        0.005508     deviance   \n",
      "6        3.943162      0.027810         0.009190        0.000400  exponential   \n",
      "7        7.664752      0.058801         0.012587        0.000489  exponential   \n",
      "8       15.488541      0.067889         0.020379        0.000490  exponential   \n",
      "9       40.177063      0.505294         0.044754        0.001325  exponential   \n",
      "10      71.472819      3.095950         0.085313        0.012865  exponential   \n",
      "11      57.193240      8.443523         0.071727        0.005109  exponential   \n",
      "\n",
      "   param_max_depth                                    params  \\\n",
      "0                2      {'loss': 'deviance', 'max_depth': 2}   \n",
      "1                4      {'loss': 'deviance', 'max_depth': 4}   \n",
      "2                8      {'loss': 'deviance', 'max_depth': 8}   \n",
      "3               16     {'loss': 'deviance', 'max_depth': 16}   \n",
      "4               30     {'loss': 'deviance', 'max_depth': 30}   \n",
      "5               40     {'loss': 'deviance', 'max_depth': 40}   \n",
      "6                2   {'loss': 'exponential', 'max_depth': 2}   \n",
      "7                4   {'loss': 'exponential', 'max_depth': 4}   \n",
      "8                8   {'loss': 'exponential', 'max_depth': 8}   \n",
      "9               16  {'loss': 'exponential', 'max_depth': 16}   \n",
      "10              30  {'loss': 'exponential', 'max_depth': 30}   \n",
      "11              40  {'loss': 'exponential', 'max_depth': 40}   \n",
      "\n",
      "    split0_test_score  split1_test_score  split2_test_score  \\\n",
      "0            0.671687           0.666667           0.658705   \n",
      "1            0.685886           0.686680           0.685173   \n",
      "2            0.679002           0.690553           0.682376   \n",
      "3            0.675129           0.682806           0.680439   \n",
      "4            0.637694           0.642135           0.623413   \n",
      "5            0.630164           0.640628           0.623413   \n",
      "6            0.669105           0.665806           0.658920   \n",
      "7            0.686747           0.686034           0.686464   \n",
      "8            0.685241           0.695502           0.691414   \n",
      "9            0.684811           0.692920           0.678717   \n",
      "10           0.630809           0.648590           0.626426   \n",
      "11           0.629518           0.637616           0.624704   \n",
      "\n",
      "    split3_test_score  split4_test_score  mean_test_score  std_test_score  \\\n",
      "0            0.661287           0.668173         0.665304        0.004701   \n",
      "1            0.683667           0.687325         0.685746        0.001268   \n",
      "2            0.694642           0.689692         0.687253        0.005715   \n",
      "3            0.673553           0.681515         0.678688        0.003662   \n",
      "4            0.632451           0.627502         0.632639        0.006742   \n",
      "5            0.634388           0.626641         0.631047        0.006024   \n",
      "6            0.660856           0.665591         0.664056        0.003675   \n",
      "7            0.678072           0.686249         0.684713        0.003329   \n",
      "8            0.689477           0.687756         0.689878        0.003469   \n",
      "9            0.679363           0.690338         0.685230        0.005696   \n",
      "10           0.640413           0.626641         0.634576        0.008649   \n",
      "11           0.633097           0.623413         0.629669        0.005267   \n",
      "\n",
      "    rank_test_score  \n",
      "0                 7  \n",
      "1                 3  \n",
      "2                 2  \n",
      "3                 6  \n",
      "4                10  \n",
      "5                11  \n",
      "6                 8  \n",
      "7                 5  \n",
      "8                 1  \n",
      "9                 4  \n",
      "10                9  \n",
      "11               12  \n",
      "Best test set score: 0.689877975426561 with {'loss': 'exponential', 'max_depth': 8} parameters.\n",
      "Results on the test set:\n",
      "              precision    recall  f1-score   support\n",
      "\n",
      "           0       0.62      0.64      0.63      1291\n",
      "           1       0.81      0.79      0.80      2434\n",
      "\n",
      "    accuracy                           0.74      3725\n",
      "   macro avg       0.71      0.72      0.71      3725\n",
      "weighted avg       0.74      0.74      0.74      3725\n",
      "\n"
     ]
    }
   ]
  },
  {
   "cell_type": "markdown",
   "source": [
    "### Multi-Layered Perceptron (MLP)"
   ],
   "metadata": {
    "collapsed": false,
    "pycharm": {
     "name": "#%% md\n"
    }
   }
  },
  {
   "cell_type": "code",
   "source": [
    "from sklearn.neural_network import MLPClassifier\n",
    "from sklearn.model_selection import GridSearchCV\n",
    "\n",
    "param_grid = {\n",
    "    'hidden_layer_sizes': [(5), (5, 5), (10), (10, 10), (10, 5), (5, 10, 5), (15, 30, 15), (5, 10, 10, 5), (15, 30, 5)],\n",
    "    'activation': ['tanh', 'relu'],\n",
    "    'solver': ['adam'],\n",
    "    'alpha': [0.0001, 0.05],\n",
    "    'learning_rate': ['constant']\n",
    "}\n",
    "\n",
    "grid_searchMLP = GridSearchCV(MLPClassifier(max_iter=10000), param_grid, cv=5, n_jobs=-1)\n",
    "\n",
    "grid_searchMLP.fit(X_train, y_train)\n",
    "MLP_ResultsDf = pd.DataFrame(grid_searchMLP.cv_results_)\n",
    "\n",
    "print(MLP_ResultsDf)\n",
    "print(f\"Best test set score: {grid_searchMLP.best_score_} with {grid_searchMLP.best_params_} parameters.\")\n",
    "\n",
    "y_true, y_pred = y_test , grid_searchMLP.predict(X_test)\n",
    "from sklearn.metrics import classification_report\n",
    "print('Results on the test set:')\n",
    "print(classification_report(y_true, y_pred))\n"
   ],
   "metadata": {
    "collapsed": false,
    "pycharm": {
     "name": "#%%\n"
    }
   },
   "execution_count": 88,
   "outputs": [
    {
     "name": "stdout",
     "output_type": "stream",
     "text": [
      "    mean_fit_time  std_fit_time  mean_score_time  std_score_time  \\\n",
      "0       19.404132      2.160922         0.004995    1.168008e-07   \n",
      "1       21.387702      3.315974         0.005794    7.476146e-04   \n",
      "2       23.851379      2.584907         0.005794    3.995181e-04   \n",
      "3       20.937162      1.584407         0.006194    3.997567e-04   \n",
      "4       18.915832      2.266775         0.006194    3.994944e-04   \n",
      "5       20.225492      6.483543         0.006193    3.995667e-04   \n",
      "6       22.543118      2.191165         0.011189    3.999235e-04   \n",
      "7       19.637493      2.592764         0.007992    3.162980e-07   \n",
      "8       27.296051      6.570260         0.009990    4.523674e-07   \n",
      "9       11.371356      1.946801         0.004795    3.996611e-04   \n",
      "10      16.702698      2.600532         0.005594    4.886559e-04   \n",
      "11      15.373859      2.569150         0.004995    3.162980e-07   \n",
      "12      16.125688      3.182139         0.006393    4.892591e-04   \n",
      "13      15.451779      1.229246         0.005994    3.873843e-07   \n",
      "14      17.337049      7.811734         0.005994    6.318820e-04   \n",
      "15      16.006411      4.733622         0.010190    3.997089e-04   \n",
      "16      11.996516      4.108431         0.006993    4.422006e-07   \n",
      "17      17.285501      3.223663         0.009191    3.994704e-04   \n",
      "18      13.649624      2.470560         0.004196    3.993991e-04   \n",
      "19      15.328305      2.985577         0.004995    8.936160e-04   \n",
      "20      16.420787      1.520084         0.004995    6.315805e-04   \n",
      "21      17.796977      3.409338         0.005794    7.475126e-04   \n",
      "22      17.134456      2.913031         0.004995    2.431402e-07   \n",
      "23      16.854543      4.119715         0.005594    4.892201e-04   \n",
      "24      19.409127      4.762953         0.013187    4.950862e-03   \n",
      "25      20.935963      2.940154         0.007792    1.164969e-03   \n",
      "26      17.435148      3.570069         0.009590    2.056675e-03   \n",
      "27       9.876887      2.432749         0.004796    7.473215e-04   \n",
      "28      14.498755      3.150350         0.005195    3.994942e-04   \n",
      "29      14.959084      2.403807         0.005395    1.018365e-03   \n",
      "30      12.481220      2.084459         0.005594    4.893759e-04   \n",
      "31      17.187002      3.105920         0.005195    1.165002e-03   \n",
      "32      15.870150      3.269847         0.006194    1.598007e-03   \n",
      "33      14.616234      2.910466         0.010590    2.725051e-03   \n",
      "34      19.846878      3.366105         0.007592    1.018711e-03   \n",
      "35      13.025463      3.616297         0.007392    2.151776e-03   \n",
      "\n",
      "   param_activation param_alpha param_hidden_layer_sizes param_learning_rate  \\\n",
      "0              tanh      0.0001                        5            constant   \n",
      "1              tanh      0.0001                   (5, 5)            constant   \n",
      "2              tanh      0.0001                       10            constant   \n",
      "3              tanh      0.0001                 (10, 10)            constant   \n",
      "4              tanh      0.0001                  (10, 5)            constant   \n",
      "5              tanh      0.0001               (5, 10, 5)            constant   \n",
      "6              tanh      0.0001             (15, 30, 15)            constant   \n",
      "7              tanh      0.0001           (5, 10, 10, 5)            constant   \n",
      "8              tanh      0.0001              (15, 30, 5)            constant   \n",
      "9              tanh        0.05                        5            constant   \n",
      "10             tanh        0.05                   (5, 5)            constant   \n",
      "11             tanh        0.05                       10            constant   \n",
      "12             tanh        0.05                 (10, 10)            constant   \n",
      "13             tanh        0.05                  (10, 5)            constant   \n",
      "14             tanh        0.05               (5, 10, 5)            constant   \n",
      "15             tanh        0.05             (15, 30, 15)            constant   \n",
      "16             tanh        0.05           (5, 10, 10, 5)            constant   \n",
      "17             tanh        0.05              (15, 30, 5)            constant   \n",
      "18             relu      0.0001                        5            constant   \n",
      "19             relu      0.0001                   (5, 5)            constant   \n",
      "20             relu      0.0001                       10            constant   \n",
      "21             relu      0.0001                 (10, 10)            constant   \n",
      "22             relu      0.0001                  (10, 5)            constant   \n",
      "23             relu      0.0001               (5, 10, 5)            constant   \n",
      "24             relu      0.0001             (15, 30, 15)            constant   \n",
      "25             relu      0.0001           (5, 10, 10, 5)            constant   \n",
      "26             relu      0.0001              (15, 30, 5)            constant   \n",
      "27             relu        0.05                        5            constant   \n",
      "28             relu        0.05                   (5, 5)            constant   \n",
      "29             relu        0.05                       10            constant   \n",
      "30             relu        0.05                 (10, 10)            constant   \n",
      "31             relu        0.05                  (10, 5)            constant   \n",
      "32             relu        0.05               (5, 10, 5)            constant   \n",
      "33             relu        0.05             (15, 30, 15)            constant   \n",
      "34             relu        0.05           (5, 10, 10, 5)            constant   \n",
      "35             relu        0.05              (15, 30, 5)            constant   \n",
      "\n",
      "   param_solver                                             params  \\\n",
      "0          adam  {'activation': 'tanh', 'alpha': 0.0001, 'hidde...   \n",
      "1          adam  {'activation': 'tanh', 'alpha': 0.0001, 'hidde...   \n",
      "2          adam  {'activation': 'tanh', 'alpha': 0.0001, 'hidde...   \n",
      "3          adam  {'activation': 'tanh', 'alpha': 0.0001, 'hidde...   \n",
      "4          adam  {'activation': 'tanh', 'alpha': 0.0001, 'hidde...   \n",
      "5          adam  {'activation': 'tanh', 'alpha': 0.0001, 'hidde...   \n",
      "6          adam  {'activation': 'tanh', 'alpha': 0.0001, 'hidde...   \n",
      "7          adam  {'activation': 'tanh', 'alpha': 0.0001, 'hidde...   \n",
      "8          adam  {'activation': 'tanh', 'alpha': 0.0001, 'hidde...   \n",
      "9          adam  {'activation': 'tanh', 'alpha': 0.05, 'hidden_...   \n",
      "10         adam  {'activation': 'tanh', 'alpha': 0.05, 'hidden_...   \n",
      "11         adam  {'activation': 'tanh', 'alpha': 0.05, 'hidden_...   \n",
      "12         adam  {'activation': 'tanh', 'alpha': 0.05, 'hidden_...   \n",
      "13         adam  {'activation': 'tanh', 'alpha': 0.05, 'hidden_...   \n",
      "14         adam  {'activation': 'tanh', 'alpha': 0.05, 'hidden_...   \n",
      "15         adam  {'activation': 'tanh', 'alpha': 0.05, 'hidden_...   \n",
      "16         adam  {'activation': 'tanh', 'alpha': 0.05, 'hidden_...   \n",
      "17         adam  {'activation': 'tanh', 'alpha': 0.05, 'hidden_...   \n",
      "18         adam  {'activation': 'relu', 'alpha': 0.0001, 'hidde...   \n",
      "19         adam  {'activation': 'relu', 'alpha': 0.0001, 'hidde...   \n",
      "20         adam  {'activation': 'relu', 'alpha': 0.0001, 'hidde...   \n",
      "21         adam  {'activation': 'relu', 'alpha': 0.0001, 'hidde...   \n",
      "22         adam  {'activation': 'relu', 'alpha': 0.0001, 'hidde...   \n",
      "23         adam  {'activation': 'relu', 'alpha': 0.0001, 'hidde...   \n",
      "24         adam  {'activation': 'relu', 'alpha': 0.0001, 'hidde...   \n",
      "25         adam  {'activation': 'relu', 'alpha': 0.0001, 'hidde...   \n",
      "26         adam  {'activation': 'relu', 'alpha': 0.0001, 'hidde...   \n",
      "27         adam  {'activation': 'relu', 'alpha': 0.05, 'hidden_...   \n",
      "28         adam  {'activation': 'relu', 'alpha': 0.05, 'hidden_...   \n",
      "29         adam  {'activation': 'relu', 'alpha': 0.05, 'hidden_...   \n",
      "30         adam  {'activation': 'relu', 'alpha': 0.05, 'hidden_...   \n",
      "31         adam  {'activation': 'relu', 'alpha': 0.05, 'hidden_...   \n",
      "32         adam  {'activation': 'relu', 'alpha': 0.05, 'hidden_...   \n",
      "33         adam  {'activation': 'relu', 'alpha': 0.05, 'hidden_...   \n",
      "34         adam  {'activation': 'relu', 'alpha': 0.05, 'hidden_...   \n",
      "35         adam  {'activation': 'relu', 'alpha': 0.05, 'hidden_...   \n",
      "\n",
      "    split0_test_score  split1_test_score  split2_test_score  \\\n",
      "0            0.653614           0.655477           0.649021   \n",
      "1            0.657917           0.675705           0.654401   \n",
      "2            0.658993           0.665591           0.658274   \n",
      "3            0.662435           0.676996           0.665806   \n",
      "4            0.655766           0.669464           0.657413   \n",
      "5            0.659208           0.670755           0.659135   \n",
      "6            0.667814           0.678287           0.652894   \n",
      "7            0.648881           0.664084           0.655692   \n",
      "8            0.662866           0.667527           0.669679   \n",
      "9            0.649096           0.654616           0.636755   \n",
      "10           0.664157           0.674198           0.652894   \n",
      "11           0.650387           0.654185           0.645793   \n",
      "12           0.655981           0.669034           0.662578   \n",
      "13           0.659208           0.667312           0.655907   \n",
      "14           0.656196           0.673983           0.655046   \n",
      "15           0.661575           0.671616           0.660426   \n",
      "16           0.647160           0.637400           0.621691   \n",
      "17           0.653399           0.673122           0.657413   \n",
      "18           0.656627           0.667958           0.639552   \n",
      "19           0.657272           0.662578           0.655046   \n",
      "20           0.655120           0.669464           0.652894   \n",
      "21           0.662866           0.672262           0.654401   \n",
      "22           0.660284           0.670755           0.663008   \n",
      "23           0.649742           0.668603           0.655692   \n",
      "24           0.666093           0.657198           0.661072   \n",
      "25           0.646730           0.671616           0.653755   \n",
      "26           0.662435           0.658489           0.661502   \n",
      "27           0.655981           0.661502           0.645793   \n",
      "28           0.670396           0.663224           0.660211   \n",
      "29           0.650818           0.663654           0.647945   \n",
      "30           0.663081           0.666021           0.661502   \n",
      "31           0.658778           0.680869           0.660641   \n",
      "32           0.649096           0.672046           0.658920   \n",
      "33           0.659639           0.670540           0.658489   \n",
      "34           0.657272           0.669679           0.654831   \n",
      "35           0.658778           0.670971           0.665376   \n",
      "\n",
      "    split3_test_score  split4_test_score  mean_test_score  std_test_score  \\\n",
      "0            0.656337           0.655261         0.653942        0.002614   \n",
      "1            0.657413           0.671831         0.663454        0.008595   \n",
      "2            0.654401           0.668388         0.661129        0.005110   \n",
      "3            0.662148           0.670755         0.667628        0.005619   \n",
      "4            0.665160           0.666882         0.662937        0.005386   \n",
      "5            0.664515           0.665376         0.663798        0.004341   \n",
      "6            0.664730           0.667312         0.666208        0.008113   \n",
      "7            0.661287           0.666882         0.659365        0.006417   \n",
      "8            0.660426           0.664945         0.665089        0.003278   \n",
      "9            0.644932           0.643856         0.645851        0.005915   \n",
      "10           0.655477           0.663869         0.662119        0.007515   \n",
      "11           0.645147           0.658489         0.650800        0.005055   \n",
      "12           0.661072           0.673553         0.664443        0.006173   \n",
      "13           0.660641           0.672477         0.663109        0.005977   \n",
      "14           0.626210           0.664515         0.655190        0.016006   \n",
      "15           0.662148           0.667527         0.664658        0.004251   \n",
      "16           0.661072           0.639337         0.641332        0.012875   \n",
      "17           0.656553           0.668819         0.661861        0.007678   \n",
      "18           0.650312           0.653970         0.653684        0.009204   \n",
      "19           0.634603           0.664515         0.654803        0.010667   \n",
      "20           0.651388           0.660641         0.657902        0.006579   \n",
      "21           0.657844           0.660641         0.661603        0.006035   \n",
      "22           0.659350           0.667527         0.664185        0.004343   \n",
      "23           0.657629           0.663224         0.658978        0.006459   \n",
      "24           0.659350           0.673122         0.663367        0.005693   \n",
      "25           0.658705           0.666667         0.659494        0.008887   \n",
      "26           0.665806           0.661072         0.661861        0.002367   \n",
      "27           0.644071           0.642780         0.650026        0.007390   \n",
      "28           0.642135           0.643211         0.655835        0.011250   \n",
      "29           0.650097           0.663439         0.655190        0.006888   \n",
      "30           0.662148           0.654185         0.661387        0.003919   \n",
      "31           0.659781           0.667312         0.665476        0.008258   \n",
      "32           0.648590           0.662578         0.658246        0.008793   \n",
      "33           0.662148           0.667097         0.663583        0.004568   \n",
      "34           0.658274           0.649666         0.657945        0.006580   \n",
      "35           0.658489           0.667312         0.664185        0.004877   \n",
      "\n",
      "    rank_test_score  \n",
      "0                31  \n",
      "1                11  \n",
      "2                20  \n",
      "3                 1  \n",
      "4                14  \n",
      "5                 9  \n",
      "6                 2  \n",
      "7                22  \n",
      "8                 4  \n",
      "9                35  \n",
      "10               15  \n",
      "11               33  \n",
      "12                6  \n",
      "13               13  \n",
      "14               29  \n",
      "15                5  \n",
      "16               36  \n",
      "17               16  \n",
      "18               32  \n",
      "19               30  \n",
      "20               26  \n",
      "21               18  \n",
      "22                8  \n",
      "23               23  \n",
      "24               12  \n",
      "25               21  \n",
      "26               17  \n",
      "27               34  \n",
      "28               27  \n",
      "29               28  \n",
      "30               19  \n",
      "31                3  \n",
      "32               24  \n",
      "33               10  \n",
      "34               25  \n",
      "35                7  \n",
      "Best test set score: 0.6676280423733114 with {'activation': 'tanh', 'alpha': 0.0001, 'hidden_layer_sizes': (10, 10), 'learning_rate': 'constant', 'solver': 'adam'} parameters.\n",
      "Results on the test set:\n",
      "              precision    recall  f1-score   support\n",
      "\n",
      "           0       0.66      0.49      0.56      1291\n",
      "           1       0.76      0.87      0.81      2434\n",
      "\n",
      "    accuracy                           0.74      3725\n",
      "   macro avg       0.71      0.68      0.69      3725\n",
      "weighted avg       0.73      0.74      0.72      3725\n",
      "\n"
     ]
    }
   ]
  }
 ],
 "metadata": {
  "kernelspec": {
   "display_name": "Python 3",
   "language": "python",
   "name": "python3"
  },
  "language_info": {
   "codemirror_mode": {
    "name": "ipython",
    "version": 2
   },
   "file_extension": ".py",
   "mimetype": "text/x-python",
   "name": "python",
   "nbconvert_exporter": "python",
   "pygments_lexer": "ipython2",
   "version": "2.7.6"
  }
 },
 "nbformat": 4,
 "nbformat_minor": 0
}