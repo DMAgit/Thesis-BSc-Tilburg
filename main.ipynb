{
 "cells": [
  {
   "cell_type": "markdown",
   "metadata": {
    "collapsed": true,
    "pycharm": {
     "name": "#%% md\n"
    }
   },
   "source": [
    "Title\n",
    "\n",
    "Description"
   ]
  },
  {
   "cell_type": "markdown",
   "source": [
    "Importing packages."
   ],
   "metadata": {
    "collapsed": false,
    "pycharm": {
     "name": "#%% md\n"
    }
   }
  },
  {
   "cell_type": "code",
   "execution_count": 15,
   "outputs": [],
   "source": [
    "import pandas as pd\n",
    "import matplotlib.pyplot as plt\n",
    "%matplotlib inline"
   ],
   "metadata": {
    "collapsed": false,
    "pycharm": {
     "name": "#%%\n"
    }
   }
  },
  {
   "cell_type": "markdown",
   "source": [
    "Importing data into pandas DataFrame."
   ],
   "metadata": {
    "collapsed": false,
    "pycharm": {
     "name": "#%% md\n"
    }
   }
  },
  {
   "cell_type": "code",
   "execution_count": 16,
   "outputs": [
    {
     "data": {
      "text/plain": "      fire_size_class  latitude   longitude discovery_month  weekday  \\\n33953               G  62.34090 -161.002400             Jun     True   \n210                 C  34.82717  -95.255000             Feb     True   \n12056               B  32.73734  -80.707660             Sep    False   \n9285                B  38.42578  -82.816400             Apr     True   \n1182                B  26.22750  -98.355556             Jun     True   \n\n             Vegetation  remoteness  elevation       Temp      Wind  \\\n33953               NaN    0.759810        0.0  12.989656  1.531587   \n210    Broadleaf Forest    0.254984      252.0   6.890374  3.828253   \n12056         Shrubland    0.123981        7.0  25.826576  2.395933   \n9285                NaN    0.139282      261.0  12.212261  2.828967   \n1182          Shrubland    0.290861       43.0  27.580811  5.745526   \n\n        Humidity  Precipitation  \n33953  51.430160       0.000000  \n210    64.521728      16.200000  \n12056  80.549021     195.000000  \n9285   57.714327      25.833333  \n1182   78.336303      35.700000  ",
      "text/html": "<div>\n<style scoped>\n    .dataframe tbody tr th:only-of-type {\n        vertical-align: middle;\n    }\n\n    .dataframe tbody tr th {\n        vertical-align: top;\n    }\n\n    .dataframe thead th {\n        text-align: right;\n    }\n</style>\n<table border=\"1\" class=\"dataframe\">\n  <thead>\n    <tr style=\"text-align: right;\">\n      <th></th>\n      <th>fire_size_class</th>\n      <th>latitude</th>\n      <th>longitude</th>\n      <th>discovery_month</th>\n      <th>weekday</th>\n      <th>Vegetation</th>\n      <th>remoteness</th>\n      <th>elevation</th>\n      <th>Temp</th>\n      <th>Wind</th>\n      <th>Humidity</th>\n      <th>Precipitation</th>\n    </tr>\n  </thead>\n  <tbody>\n    <tr>\n      <th>33953</th>\n      <td>G</td>\n      <td>62.34090</td>\n      <td>-161.002400</td>\n      <td>Jun</td>\n      <td>True</td>\n      <td>NaN</td>\n      <td>0.759810</td>\n      <td>0.0</td>\n      <td>12.989656</td>\n      <td>1.531587</td>\n      <td>51.430160</td>\n      <td>0.000000</td>\n    </tr>\n    <tr>\n      <th>210</th>\n      <td>C</td>\n      <td>34.82717</td>\n      <td>-95.255000</td>\n      <td>Feb</td>\n      <td>True</td>\n      <td>Broadleaf Forest</td>\n      <td>0.254984</td>\n      <td>252.0</td>\n      <td>6.890374</td>\n      <td>3.828253</td>\n      <td>64.521728</td>\n      <td>16.200000</td>\n    </tr>\n    <tr>\n      <th>12056</th>\n      <td>B</td>\n      <td>32.73734</td>\n      <td>-80.707660</td>\n      <td>Sep</td>\n      <td>False</td>\n      <td>Shrubland</td>\n      <td>0.123981</td>\n      <td>7.0</td>\n      <td>25.826576</td>\n      <td>2.395933</td>\n      <td>80.549021</td>\n      <td>195.000000</td>\n    </tr>\n    <tr>\n      <th>9285</th>\n      <td>B</td>\n      <td>38.42578</td>\n      <td>-82.816400</td>\n      <td>Apr</td>\n      <td>True</td>\n      <td>NaN</td>\n      <td>0.139282</td>\n      <td>261.0</td>\n      <td>12.212261</td>\n      <td>2.828967</td>\n      <td>57.714327</td>\n      <td>25.833333</td>\n    </tr>\n    <tr>\n      <th>1182</th>\n      <td>B</td>\n      <td>26.22750</td>\n      <td>-98.355556</td>\n      <td>Jun</td>\n      <td>True</td>\n      <td>Shrubland</td>\n      <td>0.290861</td>\n      <td>43.0</td>\n      <td>27.580811</td>\n      <td>5.745526</td>\n      <td>78.336303</td>\n      <td>35.700000</td>\n    </tr>\n  </tbody>\n</table>\n</div>"
     },
     "execution_count": 16,
     "metadata": {},
     "output_type": "execute_result"
    }
   ],
   "source": [
    "df = pd.read_csv(r\"fullDataFinal.csv\", index_col=0)\n",
    "df.columns = df.columns.str.strip()\n",
    "df.sample(5)"
   ],
   "metadata": {
    "collapsed": false,
    "pycharm": {
     "name": "#%%\n"
    }
   }
  },
  {
   "cell_type": "markdown",
   "source": [
    "Separate target variable (fire_size_class) from predictor variables."
   ],
   "metadata": {
    "collapsed": false,
    "pycharm": {
     "name": "#%% md\n"
    }
   }
  },
  {
   "cell_type": "code",
   "execution_count": 18,
   "outputs": [],
   "source": [
    "dfTarget = df[\"fire_size_class\"]\n",
    "dfPredictor = df[[\"latitude\", \"longitude\", \"discovery_month\", \"weekday\", \"Vegetation\", \"remoteness\", \"elevation\", \"Temp\", \"Wind\", \"Humidity\", \"Precipitation\"]]"
   ],
   "metadata": {
    "collapsed": false,
    "pycharm": {
     "name": "#%%\n"
    }
   }
  },
  {
   "cell_type": "markdown",
   "source": [
    "Before doing anything, let's check the distribution of our data by plotting a histogram"
   ],
   "metadata": {
    "collapsed": false,
    "pycharm": {
     "name": "#%% md\n"
    }
   }
  },
  {
   "cell_type": "code",
   "execution_count": 19,
   "outputs": [
    {
     "data": {
      "text/plain": "array([[<AxesSubplot:title={'center':'latitude'}>,\n        <AxesSubplot:title={'center':'longitude'}>,\n        <AxesSubplot:title={'center':'remoteness'}>],\n       [<AxesSubplot:title={'center':'elevation'}>,\n        <AxesSubplot:title={'center':'Temp'}>,\n        <AxesSubplot:title={'center':'Wind'}>],\n       [<AxesSubplot:title={'center':'Humidity'}>,\n        <AxesSubplot:title={'center':'Precipitation'}>, <AxesSubplot:>]],\n      dtype=object)"
     },
     "execution_count": 19,
     "metadata": {},
     "output_type": "execute_result"
    },
    {
     "data": {
      "text/plain": "<Figure size 432x288 with 1 Axes>",
      "image/png": "[encoded data removed]"
     },
     "metadata": {
      "needs_background": "light"
     },
     "output_type": "display_data"
    },
    {
     "data": {
      "text/plain": "<Figure size 432x288 with 9 Axes>",
      "image/png": "[encoded data removed]"
     },
     "metadata": {
      "needs_background": "light"
     },
     "output_type": "display_data"
    }
   ],
   "source": [
    "dfTarget.hist()\n",
    "dfPredictor.hist()"
   ],
   "metadata": {
    "collapsed": false,
    "pycharm": {
     "name": "#%%\n"
    }
   }
  },
  {
   "cell_type": "markdown",
   "source": [
    "From the first histogram we can see that the \"B\" class is *way* overrepresented in our data and there is an imbalance.\n",
    "\n",
    "We'll explore some methods to sort this out after we encode our data properly and create our train and test sets."
   ],
   "metadata": {
    "collapsed": false,
    "pycharm": {
     "name": "#%% md\n"
    }
   }
  },
  {
   "cell_type": "markdown",
   "source": [
    "Changing categorical variables into one-hot encoded ones."
   ],
   "metadata": {
    "collapsed": false,
    "pycharm": {
     "name": "#%% md\n"
    }
   }
  },
  {
   "cell_type": "code",
   "source": [
    "# First let's do fire_size_class\n",
    "dfTarget = pd.concat([dfTarget, pd.get_dummies(dfTarget)], axis=1)  # use get_dummies and concatenate the result to dfTarget\n",
    "dfTarget.drop([\"fire_size_class\"], axis=1, inplace=True)  # and remove the old column\n",
    "dfTarget.sample(5)"
   ],
   "metadata": {
    "collapsed": false,
    "pycharm": {
     "name": "#%%\n"
    }
   },
   "execution_count": 20,
   "outputs": [
    {
     "data": {
      "text/plain": "       B  C  D  E  F  G\n2314   1  0  0  0  0  0\n12867  1  0  0  0  0  0\n32535  1  0  0  0  0  0\n4880   1  0  0  0  0  0\n15223  1  0  0  0  0  0",
      "text/html": "<div>\n<style scoped>\n    .dataframe tbody tr th:only-of-type {\n        vertical-align: middle;\n    }\n\n    .dataframe tbody tr th {\n        vertical-align: top;\n    }\n\n    .dataframe thead th {\n        text-align: right;\n    }\n</style>\n<table border=\"1\" class=\"dataframe\">\n  <thead>\n    <tr style=\"text-align: right;\">\n      <th></th>\n      <th>B</th>\n      <th>C</th>\n      <th>D</th>\n      <th>E</th>\n      <th>F</th>\n      <th>G</th>\n    </tr>\n  </thead>\n  <tbody>\n    <tr>\n      <th>2314</th>\n      <td>1</td>\n      <td>0</td>\n      <td>0</td>\n      <td>0</td>\n      <td>0</td>\n      <td>0</td>\n    </tr>\n    <tr>\n      <th>12867</th>\n      <td>1</td>\n      <td>0</td>\n      <td>0</td>\n      <td>0</td>\n      <td>0</td>\n      <td>0</td>\n    </tr>\n    <tr>\n      <th>32535</th>\n      <td>1</td>\n      <td>0</td>\n      <td>0</td>\n      <td>0</td>\n      <td>0</td>\n      <td>0</td>\n    </tr>\n    <tr>\n      <th>4880</th>\n      <td>1</td>\n      <td>0</td>\n      <td>0</td>\n      <td>0</td>\n      <td>0</td>\n      <td>0</td>\n    </tr>\n    <tr>\n      <th>15223</th>\n      <td>1</td>\n      <td>0</td>\n      <td>0</td>\n      <td>0</td>\n      <td>0</td>\n      <td>0</td>\n    </tr>\n  </tbody>\n</table>\n</div>"
     },
     "execution_count": 20,
     "metadata": {},
     "output_type": "execute_result"
    }
   ]
  },
  {
   "cell_type": "code",
   "execution_count": 21,
   "outputs": [
    {
     "data": {
      "text/plain": "        latitude   longitude  remoteness  elevation       Temp      Wind  \\\n14115  38.217486 -120.147232    0.496704     1487.0  13.940353  1.796859   \n32230  32.599116  -89.122991    0.199767      172.0  25.598414  1.827472   \n21709  29.610290 -100.007300    0.303593      422.0  27.893955  4.233712   \n34229  33.367778 -107.951389    0.275043     2401.0  25.351508  3.446856   \n20093  37.410000  -95.120000    0.252211      261.0  17.077195  1.917328   \n\n        Humidity  Precipitation  Veg Broadleaf Forest  Veg Desert  ...  Jan  \\\n14115  53.752497       6.966667                     0           0  ...    0   \n32230  74.079297      40.200000                     0           0  ...    0   \n21709  59.409340       0.000000                     0           0  ...    0   \n34229  46.804403      81.066667                     1           0  ...    0   \n20093  61.396383      13.166667                     0           0  ...    0   \n\n       Jul  Jun  Mar  May  Nov  Oct  Sep  is_weekend  is_weekday  \n14115    0    1    0    0    0    0    0           0           1  \n32230    0    0    0    0    0    0    1           0           1  \n21709    0    0    0    0    0    0    0           0           1  \n34229    1    0    0    0    0    0    0           0           1  \n20093    0    0    0    0    0    1    0           0           1  \n\n[5 rows x 28 columns]",
      "text/html": "<div>\n<style scoped>\n    .dataframe tbody tr th:only-of-type {\n        vertical-align: middle;\n    }\n\n    .dataframe tbody tr th {\n        vertical-align: top;\n    }\n\n    .dataframe thead th {\n        text-align: right;\n    }\n</style>\n<table border=\"1\" class=\"dataframe\">\n  <thead>\n    <tr style=\"text-align: right;\">\n      <th></th>\n      <th>latitude</th>\n      <th>longitude</th>\n      <th>remoteness</th>\n      <th>elevation</th>\n      <th>Temp</th>\n      <th>Wind</th>\n      <th>Humidity</th>\n      <th>Precipitation</th>\n      <th>Veg Broadleaf Forest</th>\n      <th>Veg Desert</th>\n      <th>...</th>\n      <th>Jan</th>\n      <th>Jul</th>\n      <th>Jun</th>\n      <th>Mar</th>\n      <th>May</th>\n      <th>Nov</th>\n      <th>Oct</th>\n      <th>Sep</th>\n      <th>is_weekend</th>\n      <th>is_weekday</th>\n    </tr>\n  </thead>\n  <tbody>\n    <tr>\n      <th>14115</th>\n      <td>38.217486</td>\n      <td>-120.147232</td>\n      <td>0.496704</td>\n      <td>1487.0</td>\n      <td>13.940353</td>\n      <td>1.796859</td>\n      <td>53.752497</td>\n      <td>6.966667</td>\n      <td>0</td>\n      <td>0</td>\n      <td>...</td>\n      <td>0</td>\n      <td>0</td>\n      <td>1</td>\n      <td>0</td>\n      <td>0</td>\n      <td>0</td>\n      <td>0</td>\n      <td>0</td>\n      <td>0</td>\n      <td>1</td>\n    </tr>\n    <tr>\n      <th>32230</th>\n      <td>32.599116</td>\n      <td>-89.122991</td>\n      <td>0.199767</td>\n      <td>172.0</td>\n      <td>25.598414</td>\n      <td>1.827472</td>\n      <td>74.079297</td>\n      <td>40.200000</td>\n      <td>0</td>\n      <td>0</td>\n      <td>...</td>\n      <td>0</td>\n      <td>0</td>\n      <td>0</td>\n      <td>0</td>\n      <td>0</td>\n      <td>0</td>\n      <td>0</td>\n      <td>1</td>\n      <td>0</td>\n      <td>1</td>\n    </tr>\n    <tr>\n      <th>21709</th>\n      <td>29.610290</td>\n      <td>-100.007300</td>\n      <td>0.303593</td>\n      <td>422.0</td>\n      <td>27.893955</td>\n      <td>4.233712</td>\n      <td>59.409340</td>\n      <td>0.000000</td>\n      <td>0</td>\n      <td>0</td>\n      <td>...</td>\n      <td>0</td>\n      <td>0</td>\n      <td>0</td>\n      <td>0</td>\n      <td>0</td>\n      <td>0</td>\n      <td>0</td>\n      <td>0</td>\n      <td>0</td>\n      <td>1</td>\n    </tr>\n    <tr>\n      <th>34229</th>\n      <td>33.367778</td>\n      <td>-107.951389</td>\n      <td>0.275043</td>\n      <td>2401.0</td>\n      <td>25.351508</td>\n      <td>3.446856</td>\n      <td>46.804403</td>\n      <td>81.066667</td>\n      <td>1</td>\n      <td>0</td>\n      <td>...</td>\n      <td>0</td>\n      <td>1</td>\n      <td>0</td>\n      <td>0</td>\n      <td>0</td>\n      <td>0</td>\n      <td>0</td>\n      <td>0</td>\n      <td>0</td>\n      <td>1</td>\n    </tr>\n    <tr>\n      <th>20093</th>\n      <td>37.410000</td>\n      <td>-95.120000</td>\n      <td>0.252211</td>\n      <td>261.0</td>\n      <td>17.077195</td>\n      <td>1.917328</td>\n      <td>61.396383</td>\n      <td>13.166667</td>\n      <td>0</td>\n      <td>0</td>\n      <td>...</td>\n      <td>0</td>\n      <td>0</td>\n      <td>0</td>\n      <td>0</td>\n      <td>0</td>\n      <td>0</td>\n      <td>1</td>\n      <td>0</td>\n      <td>0</td>\n      <td>1</td>\n    </tr>\n  </tbody>\n</table>\n<p>5 rows × 28 columns</p>\n</div>"
     },
     "execution_count": 21,
     "metadata": {},
     "output_type": "execute_result"
    }
   ],
   "source": [
    "# Now Vegetation\n",
    "dfPredictor = pd.concat([dfPredictor, pd.get_dummies(dfPredictor[\"Vegetation\"], prefix=\"Veg\", prefix_sep=\" \")], axis=1)\n",
    "dfPredictor.drop([\"Vegetation\"], axis=1, inplace=True)\n",
    "\n",
    "# And discovery_month\n",
    "dfPredictor = pd.concat([dfPredictor, pd.get_dummies(dfPredictor[\"discovery_month\"])], axis=1)\n",
    "dfPredictor.drop([\"discovery_month\"], axis=1, inplace=True)\n",
    "\n",
    "# And weekday\n",
    "dfPredictor = pd.concat([dfPredictor, pd.get_dummies(dfPredictor[\"weekday\"])], axis=1)\n",
    "dfPredictor.drop([\"weekday\"], axis=1, inplace=True)\n",
    "dfPredictor.rename(columns={False:\"is_weekend\", True:\"is_weekday\"}, inplace=True)\n",
    "dfPredictor.sample(5)"
   ],
   "metadata": {
    "collapsed": false,
    "pycharm": {
     "name": "#%%\n"
    }
   }
  },
  {
   "cell_type": "markdown",
   "source": [
    "Scaling numerical data to 0-1 range."
   ],
   "metadata": {
    "collapsed": false,
    "pycharm": {
     "name": "#%% md\n"
    }
   }
  },
  {
   "cell_type": "code",
   "execution_count": 22,
   "outputs": [
    {
     "data": {
      "text/plain": "       latitude  longitude  remoteness  elevation      Temp      Wind  \\\n18730  0.332893   0.695366    0.259901   0.076522  0.416526  0.171620   \n17664  0.349322   0.669094    0.284060   0.141525  0.341020  0.179169   \n30944  0.288181   0.693434    0.263226   0.060614  0.683004  0.148743   \n6356   0.322151   0.852065    0.118069   0.040592  0.429270  0.100095   \n23021  0.251299   0.660599    0.295509   0.158530  0.668331  0.136756   \n\n       Humidity  Precipitation  Veg Broadleaf Forest  Veg Desert  ...  Jan  \\\n18730  0.731946       0.023338                     1           0  ...    0   \n17664  0.751569       0.004618                     0           0  ...    0   \n30944  0.676263       0.002965                     0           0  ...    0   \n6356   0.721087       0.004524                     1           0  ...    0   \n23021  0.638626       0.000000                     0           0  ...    0   \n\n       Jul  Jun  Mar  May  Nov  Oct  Sep  is_weekend  is_weekday  \n18730    0    0    1    0    0    0    0           0           1  \n17664    0    0    0    0    1    0    0           0           1  \n30944    0    1    0    0    0    0    0           0           1  \n6356     0    0    1    0    0    0    0           0           1  \n23021    1    0    0    0    0    0    0           1           0  \n\n[5 rows x 28 columns]",
      "text/html": "<div>\n<style scoped>\n    .dataframe tbody tr th:only-of-type {\n        vertical-align: middle;\n    }\n\n    .dataframe tbody tr th {\n        vertical-align: top;\n    }\n\n    .dataframe thead th {\n        text-align: right;\n    }\n</style>\n<table border=\"1\" class=\"dataframe\">\n  <thead>\n    <tr style=\"text-align: right;\">\n      <th></th>\n      <th>latitude</th>\n      <th>longitude</th>\n      <th>remoteness</th>\n      <th>elevation</th>\n      <th>Temp</th>\n      <th>Wind</th>\n      <th>Humidity</th>\n      <th>Precipitation</th>\n      <th>Veg Broadleaf Forest</th>\n      <th>Veg Desert</th>\n      <th>...</th>\n      <th>Jan</th>\n      <th>Jul</th>\n      <th>Jun</th>\n      <th>Mar</th>\n      <th>May</th>\n      <th>Nov</th>\n      <th>Oct</th>\n      <th>Sep</th>\n      <th>is_weekend</th>\n      <th>is_weekday</th>\n    </tr>\n  </thead>\n  <tbody>\n    <tr>\n      <th>18730</th>\n      <td>0.332893</td>\n      <td>0.695366</td>\n      <td>0.259901</td>\n      <td>0.076522</td>\n      <td>0.416526</td>\n      <td>0.171620</td>\n      <td>0.731946</td>\n      <td>0.023338</td>\n      <td>1</td>\n      <td>0</td>\n      <td>...</td>\n      <td>0</td>\n      <td>0</td>\n      <td>0</td>\n      <td>1</td>\n      <td>0</td>\n      <td>0</td>\n      <td>0</td>\n      <td>0</td>\n      <td>0</td>\n      <td>1</td>\n    </tr>\n    <tr>\n      <th>17664</th>\n      <td>0.349322</td>\n      <td>0.669094</td>\n      <td>0.284060</td>\n      <td>0.141525</td>\n      <td>0.341020</td>\n      <td>0.179169</td>\n      <td>0.751569</td>\n      <td>0.004618</td>\n      <td>0</td>\n      <td>0</td>\n      <td>...</td>\n      <td>0</td>\n      <td>0</td>\n      <td>0</td>\n      <td>0</td>\n      <td>0</td>\n      <td>1</td>\n      <td>0</td>\n      <td>0</td>\n      <td>0</td>\n      <td>1</td>\n    </tr>\n    <tr>\n      <th>30944</th>\n      <td>0.288181</td>\n      <td>0.693434</td>\n      <td>0.263226</td>\n      <td>0.060614</td>\n      <td>0.683004</td>\n      <td>0.148743</td>\n      <td>0.676263</td>\n      <td>0.002965</td>\n      <td>0</td>\n      <td>0</td>\n      <td>...</td>\n      <td>0</td>\n      <td>0</td>\n      <td>1</td>\n      <td>0</td>\n      <td>0</td>\n      <td>0</td>\n      <td>0</td>\n      <td>0</td>\n      <td>0</td>\n      <td>1</td>\n    </tr>\n    <tr>\n      <th>6356</th>\n      <td>0.322151</td>\n      <td>0.852065</td>\n      <td>0.118069</td>\n      <td>0.040592</td>\n      <td>0.429270</td>\n      <td>0.100095</td>\n      <td>0.721087</td>\n      <td>0.004524</td>\n      <td>1</td>\n      <td>0</td>\n      <td>...</td>\n      <td>0</td>\n      <td>0</td>\n      <td>0</td>\n      <td>1</td>\n      <td>0</td>\n      <td>0</td>\n      <td>0</td>\n      <td>0</td>\n      <td>0</td>\n      <td>1</td>\n    </tr>\n    <tr>\n      <th>23021</th>\n      <td>0.251299</td>\n      <td>0.660599</td>\n      <td>0.295509</td>\n      <td>0.158530</td>\n      <td>0.668331</td>\n      <td>0.136756</td>\n      <td>0.638626</td>\n      <td>0.000000</td>\n      <td>0</td>\n      <td>0</td>\n      <td>...</td>\n      <td>0</td>\n      <td>1</td>\n      <td>0</td>\n      <td>0</td>\n      <td>0</td>\n      <td>0</td>\n      <td>0</td>\n      <td>0</td>\n      <td>1</td>\n      <td>0</td>\n    </tr>\n  </tbody>\n</table>\n<p>5 rows × 28 columns</p>\n</div>"
     },
     "execution_count": 22,
     "metadata": {},
     "output_type": "execute_result"
    }
   ],
   "source": [
    "from sklearn.preprocessing import MinMaxScaler\n",
    "\n",
    "dfPredictorScaled = pd.DataFrame(MinMaxScaler().fit_transform(dfPredictor[[\"latitude\", \"longitude\", \"remoteness\", \"elevation\", \"Temp\", \"Wind\", \"Humidity\", \"Precipitation\"]]), columns=[\"latitude\", \"longitude\", \"remoteness\", \"elevation\", \"Temp\", \"Wind\", \"Humidity\", \"Precipitation\"])\n",
    "# dfPredictorScaled.sample(5)\n",
    "\n",
    "dfPredictor = dfPredictor.assign(**dfPredictorScaled.to_dict(orient=\"series\"))  # replace the columns of the old df with the ones from the new one\n",
    "dfPredictor.sample(5)"
   ],
   "metadata": {
    "collapsed": false,
    "pycharm": {
     "name": "#%%\n"
    }
   }
  },
  {
   "cell_type": "markdown",
   "source": [
    "Make a correlation matrix"
   ],
   "metadata": {
    "collapsed": false,
    "pycharm": {
     "name": "#%% md\n"
    }
   }
  },
  {
   "cell_type": "code",
   "execution_count": 9,
   "outputs": [
    {
     "data": {
      "text/plain": "<Figure size 432x288 with 2 Axes>",
      "image/png": "[encoded data removed]"
     },
     "metadata": {
      "needs_background": "light"
     },
     "output_type": "display_data"
    }
   ],
   "source": [
    "import seaborn as sn\n",
    "\n",
    "corrMatrix = dfPredictor.corr()\n",
    "sn.heatmap(corrMatrix)\n",
    "plt.show()"
   ],
   "metadata": {
    "collapsed": false,
    "pycharm": {
     "name": "#%%\n"
    }
   }
  },
  {
   "cell_type": "markdown",
   "source": [
    "Train-test split"
   ],
   "metadata": {
    "collapsed": false,
    "pycharm": {
     "name": "#%% md\n"
    }
   }
  },
  {
   "cell_type": "code",
   "execution_count": 23,
   "outputs": [
    {
     "name": "stdout",
     "output_type": "stream",
     "text": [
      "(33522, 28)\n",
      "(3725, 28)\n"
     ]
    }
   ],
   "source": [
    "from sklearn.model_selection import train_test_split\n",
    "\n",
    "X_train, X_test, y_train, y_test = train_test_split(dfPredictor, dfTarget, test_size=0.1, random_state=42)\n",
    "\n",
    "print(X_train.shape)\n",
    "print(X_test.shape)"
   ],
   "metadata": {
    "collapsed": false,
    "pycharm": {
     "name": "#%%\n"
    }
   }
  },
  {
   "cell_type": "markdown",
   "source": [
    "In order to fix the distribution of the data when training, we want to change it (in the training set only though).\n",
    "\n",
    "First, I tried randomly undersampling the data, however that made the training set too small (down to 2.6k samples total). The results were abysmal, with basically every model getting around a 2% accuracy on the test set.\n",
    "\n",
    "This is the code to do this, in case you want to (but you shouldn't).\n",
    "\n",
    "    from imblearn.under_sampling import RandomUnderSampler\n",
    "\n",
    "    rus = RandomUnderSampler()\n",
    "    X_train, y_train = rus.fit_resample(X_train, y_train.values)\n",
    "\n",
    "    print(X_train.shape)\n",
    "    print(y_train.shape)\n",
    "\n",
    "    y_train = pd.DataFrame(y_train)"
   ],
   "metadata": {
    "collapsed": false,
    "pycharm": {
     "name": "#%% md\n"
    }
   }
  },
  {
   "cell_type": "markdown",
   "source": [
    "Next, I tried the opposite approach -- random *over*sampling.\n",
    "\n",
    "Here, examples from the smaller classes are picked randomly and repeated in the dataset.\n",
    "\n",
    "This made the training set massive, at 130k+ samples, but it also made training take forever and didn't achieve great results.\n",
    "\n",
    "    from imblearn.over_sampling import RandomOverSampler\n",
    "\n",
    "    ros = RandomOverSampler()\n",
    "    X_train, y_train = ros.fit_resample(X_train, y_train.values)\n",
    "\n",
    "    print(X_train.shape)\n",
    "    print(y_train.shape)\n",
    "\n",
    "    y_train = pd.DataFrame(y_train)"
   ],
   "metadata": {
    "collapsed": false,
    "pycharm": {
     "name": "#%% md\n"
    }
   }
  },
  {
   "cell_type": "code",
   "execution_count": 25,
   "outputs": [
    {
     "name": "stderr",
     "output_type": "stream",
     "text": [
      "d:\\pycharmprojects\\thesis\\lib\\site-packages\\sklearn\\utils\\validation.py:70: FutureWarning: Pass classes=[0 1 2 3 4 5] as keyword args. From version 1.0 (renaming of 0.25) passing these as positional arguments will result in an error\n",
      "  warnings.warn(f\"Pass {args_msg} as keyword args. From version \"\n"
     ]
    }
   ],
   "source": [
    "from imblearn.combine import SMOTEENN\n",
    "\n",
    "smote_enn = SMOTEENN(random_state=0)\n",
    "X_train, y_train = smote_enn.fit_resample(X_train, y_train.values)\n",
    "y_train = pd.DataFrame(y_train)"
   ],
   "metadata": {
    "collapsed": false,
    "pycharm": {
     "name": "#%%\n"
    }
   }
  },
  {
   "cell_type": "code",
   "execution_count": 26,
   "outputs": [
    {
     "data": {
      "text/plain": "array([[<AxesSubplot:title={'center':'0'}>,\n        <AxesSubplot:title={'center':'1'}>],\n       [<AxesSubplot:title={'center':'2'}>,\n        <AxesSubplot:title={'center':'3'}>],\n       [<AxesSubplot:title={'center':'4'}>,\n        <AxesSubplot:title={'center':'5'}>]], dtype=object)"
     },
     "execution_count": 26,
     "metadata": {},
     "output_type": "execute_result"
    },
    {
     "data": {
      "text/plain": "<Figure size 432x288 with 30 Axes>",
      "image/png": "[encoded data removed]"
     },
     "metadata": {
      "needs_background": "light"
     },
     "output_type": "display_data"
    },
    {
     "data": {
      "text/plain": "<Figure size 432x288 with 6 Axes>",
      "image/png": "[encoded data removed]"
     },
     "metadata": {
      "needs_background": "light"
     },
     "output_type": "display_data"
    }
   ],
   "source": [
    "X_train.hist()\n",
    "y_train.hist()"
   ],
   "metadata": {
    "collapsed": false,
    "pycharm": {
     "name": "#%%\n"
    }
   }
  },
  {
   "cell_type": "markdown",
   "source": [
    "Make a correlation matrix"
   ],
   "metadata": {
    "collapsed": false,
    "pycharm": {
     "name": "#%% md\n"
    }
   }
  },
  {
   "cell_type": "code",
   "execution_count": 27,
   "outputs": [
    {
     "data": {
      "text/plain": "<Figure size 432x288 with 2 Axes>",
      "image/png": "[encoded data removed]"
     },
     "metadata": {
      "needs_background": "light"
     },
     "output_type": "display_data"
    }
   ],
   "source": [
    "import seaborn as sn\n",
    "\n",
    "corrMatrix = X_train.corr()\n",
    "sn.heatmap(corrMatrix)\n",
    "plt.show()"
   ],
   "metadata": {
    "collapsed": false,
    "pycharm": {
     "name": "#%%\n"
    }
   }
  },
  {
   "cell_type": "markdown",
   "source": [
    "Training models, each in a cell (?)\n",
    "\n",
    "* Dummy classifier\n",
    "* K-Nearest Neighbour (KNN)\n",
    "* Naïve Bayes (NB)\n",
    "* Support Vector Machine (SVM)\n",
    "* Decision Tree (DT)\n",
    "* Random Forest (RF)\n",
    "* Gradient Boosted Trees (GBT)\n",
    "* Multi-Layered Perceptron (MLP)\n",
    "* Artificial Neural Network (ANN)"
   ],
   "metadata": {
    "collapsed": false,
    "pycharm": {
     "name": "#%% md\n"
    }
   }
  },
  {
   "cell_type": "markdown",
   "source": [
    "Evaluation with confusion matrix, F1 score, etc"
   ],
   "metadata": {
    "collapsed": false,
    "pycharm": {
     "name": "#%% md\n"
    }
   }
  },
  {
   "cell_type": "markdown",
   "source": [
    "### Dummy classifier"
   ],
   "metadata": {
    "collapsed": false,
    "pycharm": {
     "name": "#%% md\n"
    }
   }
  },
  {
   "cell_type": "code",
   "source": [
    "from sklearn.dummy import DummyClassifier\n",
    "\n",
    "dummy_clf = DummyClassifier(strategy=\"stratified\")\n",
    "\n",
    "dummy_clf.fit(X_train, y_train)\n",
    "training_accuracy = dummy_clf.score(X_train, y_train)\n",
    "test_accuracy = dummy_clf.score(X_test, y_test)\n",
    "print(f\"Training accuracy: {training_accuracy}\")  # 0.6537796074219915\n",
    "print(f\"Test accuracy: {test_accuracy}\")  # 0.6502013422818792\n"
   ],
   "metadata": {
    "collapsed": false,
    "pycharm": {
     "name": "#%%\n"
    }
   },
   "execution_count": 28,
   "outputs": [
    {
     "name": "stdout",
     "output_type": "stream",
     "text": [
      "Training accuracy: 0.074689461198915\n",
      "Test accuracy: 0.03946308724832215\n"
     ]
    }
   ]
  },
  {
   "cell_type": "markdown",
   "source": [
    "### KNN"
   ],
   "metadata": {
    "collapsed": false,
    "pycharm": {
     "name": "#%% md\n"
    }
   }
  },
  {
   "cell_type": "code",
   "source": [
    "from sklearn.model_selection import GridSearchCV\n",
    "from sklearn.neighbors import KNeighborsClassifier\n",
    "\n",
    "param_grid = {'n_neighbors': range(2, 15, 2)}\n",
    "\n",
    "grid_search = GridSearchCV(KNeighborsClassifier(n_jobs=-1), param_grid, cv=5)\n",
    "grid_search.fit(X_train, y_train)\n",
    "scores = grid_search.cv_results_['mean_test_score']\n",
    "print(scores)\n",
    "\n",
    "print(\"Test set score: {:.2f}\".format(grid_search.score(X_test, y_test)))\n"
   ],
   "metadata": {
    "collapsed": false,
    "pycharm": {
     "name": "#%%\n"
    }
   },
   "execution_count": 29,
   "outputs": [
    {
     "name": "stdout",
     "output_type": "stream",
     "text": [
      "[0.11218495 0.06924479 0.04433144 0.03450227 0.02878693 0.02482321\n",
      " 0.0207894 ]\n",
      "Test set score: 0.34\n"
     ]
    }
   ]
  },
  {
   "cell_type": "markdown",
   "source": [
    "? seems to be the best on our test set. Let's train that model and save it."
   ],
   "metadata": {
    "collapsed": false,
    "pycharm": {
     "name": "#%% md\n"
    }
   }
  },
  {
   "cell_type": "code",
   "source": [
    "clf = KNeighborsClassifier(n_neighbors=9, n_jobs=-1)\n",
    "clf.fit(X_train, y_train)\n",
    "\n",
    "training_accuracy = clf.score(X_train, y_train)\n",
    "test_accuracy = clf.score(X_test, y_test)\n",
    "print(\"Number of neighbors: 9\")\n",
    "print(f\"\\nTraining accuracy: {training_accuracy}\")  # 0.7298490543523656\n",
    "print(f\"\\nTest accuracy: {test_accuracy}\")  # 0.6934228187919463"
   ],
   "metadata": {
    "collapsed": false,
    "pycharm": {
     "name": "#%%\n"
    }
   },
   "execution_count": null,
   "outputs": []
  },
  {
   "cell_type": "markdown",
   "source": [
    "### Naive Bayes"
   ],
   "metadata": {
    "collapsed": false,
    "pycharm": {
     "name": "#%% md\n"
    }
   }
  },
  {
   "cell_type": "code",
   "source": [
    "from sklearn.multioutput import MultiOutputClassifier  # (https://sklearn.org/modules/multiclass.html#multioutput-classification)\n",
    "\n",
    "# train a Gaussian Naive Bayes\n",
    "from sklearn.naive_bayes import GaussianNB\n",
    "\n",
    "gnb = GaussianNB()\n",
    "multi_gnb = MultiOutputClassifier(gnb, n_jobs=-1)\n",
    "multi_gnb.fit(X_train, y_train)\n",
    "print(f\"GaussianNB train score: {multi_gnb.score(X_train, y_train)}\")  # 0.21296462024938845\n",
    "print(f\"GaussianNB test score: {multi_gnb.score(X_test, y_test)}\")  # 0.21986577181208053\n",
    "print(\"\\n\")\n"
   ],
   "metadata": {
    "collapsed": false,
    "pycharm": {
     "name": "#%%\n"
    }
   },
   "execution_count": 30,
   "outputs": [
    {
     "name": "stdout",
     "output_type": "stream",
     "text": [
      "GaussianNB train score: 0.01326233397059265\n",
      "GaussianNB test score: 0.005100671140939597\n",
      "\n",
      "\n"
     ]
    }
   ]
  },
  {
   "cell_type": "markdown",
   "source": [
    "### Support Vector Machine"
   ],
   "metadata": {
    "collapsed": false,
    "pycharm": {
     "name": "#%% md\n"
    }
   }
  },
  {
   "cell_type": "code",
   "source": [
    "from sklearn.model_selection import GridSearchCV\n",
    "from sklearn.svm import SVC\n",
    "from sklearn.multioutput import MultiOutputClassifier  # (https://sklearn.org/modules/multiclass.html#multioutput-classification)\n",
    "\n",
    "param_grid = {'C': [0.01, 0.1, 0.25, 0.5, 0.75, 1]}\n",
    "\n",
    "grid_search = GridSearchCV(MultiOutputClassifier(SVC(), n_jobs=-1), param_grid, cv=5)\n",
    "grid_search.fit(X_train, y_train)\n",
    "scores = grid_search.cv_results_['mean_test_score']\n",
    "print(scores)\n",
    "\n",
    "print(\"Test set score: {:.2f}\".format(grid_search.score(X_test, y_test)))"
   ],
   "metadata": {
    "collapsed": false,
    "pycharm": {
     "name": "#%%\n"
    }
   },
   "execution_count": 32,
   "outputs": [
    {
     "ename": "ValueError",
     "evalue": "Invalid parameter C for estimator MultiOutputClassifier(estimator=SVC(), n_jobs=-1). Check the list of available parameters with `estimator.get_params().keys()`.",
     "output_type": "error",
     "traceback": [
      "\u001B[1;31m---------------------------------------------------------------------------\u001B[0m",
      "\u001B[1;31mValueError\u001B[0m                                Traceback (most recent call last)",
      "\u001B[1;32m<ipython-input-32-4af2b0689cc4>\u001B[0m in \u001B[0;36m<module>\u001B[1;34m\u001B[0m\n\u001B[0;32m      6\u001B[0m \u001B[1;33m\u001B[0m\u001B[0m\n\u001B[0;32m      7\u001B[0m \u001B[0mgrid_search\u001B[0m \u001B[1;33m=\u001B[0m \u001B[0mGridSearchCV\u001B[0m\u001B[1;33m(\u001B[0m\u001B[0mMultiOutputClassifier\u001B[0m\u001B[1;33m(\u001B[0m\u001B[0mSVC\u001B[0m\u001B[1;33m(\u001B[0m\u001B[1;33m)\u001B[0m\u001B[1;33m,\u001B[0m \u001B[0mn_jobs\u001B[0m\u001B[1;33m=\u001B[0m\u001B[1;33m-\u001B[0m\u001B[1;36m1\u001B[0m\u001B[1;33m)\u001B[0m\u001B[1;33m,\u001B[0m \u001B[0mparam_grid\u001B[0m\u001B[1;33m,\u001B[0m \u001B[0mcv\u001B[0m\u001B[1;33m=\u001B[0m\u001B[1;36m5\u001B[0m\u001B[1;33m)\u001B[0m\u001B[1;33m\u001B[0m\u001B[1;33m\u001B[0m\u001B[0m\n\u001B[1;32m----> 8\u001B[1;33m \u001B[0mgrid_search\u001B[0m\u001B[1;33m.\u001B[0m\u001B[0mfit\u001B[0m\u001B[1;33m(\u001B[0m\u001B[0mX_train\u001B[0m\u001B[1;33m,\u001B[0m \u001B[0my_train\u001B[0m\u001B[1;33m)\u001B[0m\u001B[1;33m\u001B[0m\u001B[1;33m\u001B[0m\u001B[0m\n\u001B[0m\u001B[0;32m      9\u001B[0m \u001B[0mscores\u001B[0m \u001B[1;33m=\u001B[0m \u001B[0mgrid_search\u001B[0m\u001B[1;33m.\u001B[0m\u001B[0mcv_results_\u001B[0m\u001B[1;33m[\u001B[0m\u001B[1;34m'mean_test_score'\u001B[0m\u001B[1;33m]\u001B[0m\u001B[1;33m\u001B[0m\u001B[1;33m\u001B[0m\u001B[0m\n\u001B[0;32m     10\u001B[0m \u001B[0mprint\u001B[0m\u001B[1;33m(\u001B[0m\u001B[0mscores\u001B[0m\u001B[1;33m)\u001B[0m\u001B[1;33m\u001B[0m\u001B[1;33m\u001B[0m\u001B[0m\n",
      "\u001B[1;32md:\\pycharmprojects\\thesis\\lib\\site-packages\\sklearn\\utils\\validation.py\u001B[0m in \u001B[0;36minner_f\u001B[1;34m(*args, **kwargs)\u001B[0m\n\u001B[0;32m     61\u001B[0m             \u001B[0mextra_args\u001B[0m \u001B[1;33m=\u001B[0m \u001B[0mlen\u001B[0m\u001B[1;33m(\u001B[0m\u001B[0margs\u001B[0m\u001B[1;33m)\u001B[0m \u001B[1;33m-\u001B[0m \u001B[0mlen\u001B[0m\u001B[1;33m(\u001B[0m\u001B[0mall_args\u001B[0m\u001B[1;33m)\u001B[0m\u001B[1;33m\u001B[0m\u001B[1;33m\u001B[0m\u001B[0m\n\u001B[0;32m     62\u001B[0m             \u001B[1;32mif\u001B[0m \u001B[0mextra_args\u001B[0m \u001B[1;33m<=\u001B[0m \u001B[1;36m0\u001B[0m\u001B[1;33m:\u001B[0m\u001B[1;33m\u001B[0m\u001B[1;33m\u001B[0m\u001B[0m\n\u001B[1;32m---> 63\u001B[1;33m                 \u001B[1;32mreturn\u001B[0m \u001B[0mf\u001B[0m\u001B[1;33m(\u001B[0m\u001B[1;33m*\u001B[0m\u001B[0margs\u001B[0m\u001B[1;33m,\u001B[0m \u001B[1;33m**\u001B[0m\u001B[0mkwargs\u001B[0m\u001B[1;33m)\u001B[0m\u001B[1;33m\u001B[0m\u001B[1;33m\u001B[0m\u001B[0m\n\u001B[0m\u001B[0;32m     64\u001B[0m \u001B[1;33m\u001B[0m\u001B[0m\n\u001B[0;32m     65\u001B[0m             \u001B[1;31m# extra_args > 0\u001B[0m\u001B[1;33m\u001B[0m\u001B[1;33m\u001B[0m\u001B[1;33m\u001B[0m\u001B[0m\n",
      "\u001B[1;32md:\\pycharmprojects\\thesis\\lib\\site-packages\\sklearn\\model_selection\\_search.py\u001B[0m in \u001B[0;36mfit\u001B[1;34m(self, X, y, groups, **fit_params)\u001B[0m\n\u001B[0;32m    839\u001B[0m                 \u001B[1;32mreturn\u001B[0m \u001B[0mresults\u001B[0m\u001B[1;33m\u001B[0m\u001B[1;33m\u001B[0m\u001B[0m\n\u001B[0;32m    840\u001B[0m \u001B[1;33m\u001B[0m\u001B[0m\n\u001B[1;32m--> 841\u001B[1;33m             \u001B[0mself\u001B[0m\u001B[1;33m.\u001B[0m\u001B[0m_run_search\u001B[0m\u001B[1;33m(\u001B[0m\u001B[0mevaluate_candidates\u001B[0m\u001B[1;33m)\u001B[0m\u001B[1;33m\u001B[0m\u001B[1;33m\u001B[0m\u001B[0m\n\u001B[0m\u001B[0;32m    842\u001B[0m \u001B[1;33m\u001B[0m\u001B[0m\n\u001B[0;32m    843\u001B[0m             \u001B[1;31m# multimetric is determined here because in the case of a callable\u001B[0m\u001B[1;33m\u001B[0m\u001B[1;33m\u001B[0m\u001B[1;33m\u001B[0m\u001B[0m\n",
      "\u001B[1;32md:\\pycharmprojects\\thesis\\lib\\site-packages\\sklearn\\model_selection\\_search.py\u001B[0m in \u001B[0;36m_run_search\u001B[1;34m(self, evaluate_candidates)\u001B[0m\n\u001B[0;32m   1286\u001B[0m     \u001B[1;32mdef\u001B[0m \u001B[0m_run_search\u001B[0m\u001B[1;33m(\u001B[0m\u001B[0mself\u001B[0m\u001B[1;33m,\u001B[0m \u001B[0mevaluate_candidates\u001B[0m\u001B[1;33m)\u001B[0m\u001B[1;33m:\u001B[0m\u001B[1;33m\u001B[0m\u001B[1;33m\u001B[0m\u001B[0m\n\u001B[0;32m   1287\u001B[0m         \u001B[1;34m\"\"\"Search all candidates in param_grid\"\"\"\u001B[0m\u001B[1;33m\u001B[0m\u001B[1;33m\u001B[0m\u001B[0m\n\u001B[1;32m-> 1288\u001B[1;33m         \u001B[0mevaluate_candidates\u001B[0m\u001B[1;33m(\u001B[0m\u001B[0mParameterGrid\u001B[0m\u001B[1;33m(\u001B[0m\u001B[0mself\u001B[0m\u001B[1;33m.\u001B[0m\u001B[0mparam_grid\u001B[0m\u001B[1;33m)\u001B[0m\u001B[1;33m)\u001B[0m\u001B[1;33m\u001B[0m\u001B[1;33m\u001B[0m\u001B[0m\n\u001B[0m\u001B[0;32m   1289\u001B[0m \u001B[1;33m\u001B[0m\u001B[0m\n\u001B[0;32m   1290\u001B[0m \u001B[1;33m\u001B[0m\u001B[0m\n",
      "\u001B[1;32md:\\pycharmprojects\\thesis\\lib\\site-packages\\sklearn\\model_selection\\_search.py\u001B[0m in \u001B[0;36mevaluate_candidates\u001B[1;34m(candidate_params, cv, more_results)\u001B[0m\n\u001B[0;32m    793\u001B[0m                               n_splits, n_candidates, n_candidates * n_splits))\n\u001B[0;32m    794\u001B[0m \u001B[1;33m\u001B[0m\u001B[0m\n\u001B[1;32m--> 795\u001B[1;33m                 out = parallel(delayed(_fit_and_score)(clone(base_estimator),\n\u001B[0m\u001B[0;32m    796\u001B[0m                                                        \u001B[0mX\u001B[0m\u001B[1;33m,\u001B[0m \u001B[0my\u001B[0m\u001B[1;33m,\u001B[0m\u001B[1;33m\u001B[0m\u001B[1;33m\u001B[0m\u001B[0m\n\u001B[0;32m    797\u001B[0m                                                        \u001B[0mtrain\u001B[0m\u001B[1;33m=\u001B[0m\u001B[0mtrain\u001B[0m\u001B[1;33m,\u001B[0m \u001B[0mtest\u001B[0m\u001B[1;33m=\u001B[0m\u001B[0mtest\u001B[0m\u001B[1;33m,\u001B[0m\u001B[1;33m\u001B[0m\u001B[1;33m\u001B[0m\u001B[0m\n",
      "\u001B[1;32md:\\pycharmprojects\\thesis\\lib\\site-packages\\joblib\\parallel.py\u001B[0m in \u001B[0;36m__call__\u001B[1;34m(self, iterable)\u001B[0m\n\u001B[0;32m   1039\u001B[0m             \u001B[1;31m# remaining jobs.\u001B[0m\u001B[1;33m\u001B[0m\u001B[1;33m\u001B[0m\u001B[1;33m\u001B[0m\u001B[0m\n\u001B[0;32m   1040\u001B[0m             \u001B[0mself\u001B[0m\u001B[1;33m.\u001B[0m\u001B[0m_iterating\u001B[0m \u001B[1;33m=\u001B[0m \u001B[1;32mFalse\u001B[0m\u001B[1;33m\u001B[0m\u001B[1;33m\u001B[0m\u001B[0m\n\u001B[1;32m-> 1041\u001B[1;33m             \u001B[1;32mif\u001B[0m \u001B[0mself\u001B[0m\u001B[1;33m.\u001B[0m\u001B[0mdispatch_one_batch\u001B[0m\u001B[1;33m(\u001B[0m\u001B[0miterator\u001B[0m\u001B[1;33m)\u001B[0m\u001B[1;33m:\u001B[0m\u001B[1;33m\u001B[0m\u001B[1;33m\u001B[0m\u001B[0m\n\u001B[0m\u001B[0;32m   1042\u001B[0m                 \u001B[0mself\u001B[0m\u001B[1;33m.\u001B[0m\u001B[0m_iterating\u001B[0m \u001B[1;33m=\u001B[0m \u001B[0mself\u001B[0m\u001B[1;33m.\u001B[0m\u001B[0m_original_iterator\u001B[0m \u001B[1;32mis\u001B[0m \u001B[1;32mnot\u001B[0m \u001B[1;32mNone\u001B[0m\u001B[1;33m\u001B[0m\u001B[1;33m\u001B[0m\u001B[0m\n\u001B[0;32m   1043\u001B[0m \u001B[1;33m\u001B[0m\u001B[0m\n",
      "\u001B[1;32md:\\pycharmprojects\\thesis\\lib\\site-packages\\joblib\\parallel.py\u001B[0m in \u001B[0;36mdispatch_one_batch\u001B[1;34m(self, iterator)\u001B[0m\n\u001B[0;32m    857\u001B[0m                 \u001B[1;32mreturn\u001B[0m \u001B[1;32mFalse\u001B[0m\u001B[1;33m\u001B[0m\u001B[1;33m\u001B[0m\u001B[0m\n\u001B[0;32m    858\u001B[0m             \u001B[1;32melse\u001B[0m\u001B[1;33m:\u001B[0m\u001B[1;33m\u001B[0m\u001B[1;33m\u001B[0m\u001B[0m\n\u001B[1;32m--> 859\u001B[1;33m                 \u001B[0mself\u001B[0m\u001B[1;33m.\u001B[0m\u001B[0m_dispatch\u001B[0m\u001B[1;33m(\u001B[0m\u001B[0mtasks\u001B[0m\u001B[1;33m)\u001B[0m\u001B[1;33m\u001B[0m\u001B[1;33m\u001B[0m\u001B[0m\n\u001B[0m\u001B[0;32m    860\u001B[0m                 \u001B[1;32mreturn\u001B[0m \u001B[1;32mTrue\u001B[0m\u001B[1;33m\u001B[0m\u001B[1;33m\u001B[0m\u001B[0m\n\u001B[0;32m    861\u001B[0m \u001B[1;33m\u001B[0m\u001B[0m\n",
      "\u001B[1;32md:\\pycharmprojects\\thesis\\lib\\site-packages\\joblib\\parallel.py\u001B[0m in \u001B[0;36m_dispatch\u001B[1;34m(self, batch)\u001B[0m\n\u001B[0;32m    775\u001B[0m         \u001B[1;32mwith\u001B[0m \u001B[0mself\u001B[0m\u001B[1;33m.\u001B[0m\u001B[0m_lock\u001B[0m\u001B[1;33m:\u001B[0m\u001B[1;33m\u001B[0m\u001B[1;33m\u001B[0m\u001B[0m\n\u001B[0;32m    776\u001B[0m             \u001B[0mjob_idx\u001B[0m \u001B[1;33m=\u001B[0m \u001B[0mlen\u001B[0m\u001B[1;33m(\u001B[0m\u001B[0mself\u001B[0m\u001B[1;33m.\u001B[0m\u001B[0m_jobs\u001B[0m\u001B[1;33m)\u001B[0m\u001B[1;33m\u001B[0m\u001B[1;33m\u001B[0m\u001B[0m\n\u001B[1;32m--> 777\u001B[1;33m             \u001B[0mjob\u001B[0m \u001B[1;33m=\u001B[0m \u001B[0mself\u001B[0m\u001B[1;33m.\u001B[0m\u001B[0m_backend\u001B[0m\u001B[1;33m.\u001B[0m\u001B[0mapply_async\u001B[0m\u001B[1;33m(\u001B[0m\u001B[0mbatch\u001B[0m\u001B[1;33m,\u001B[0m \u001B[0mcallback\u001B[0m\u001B[1;33m=\u001B[0m\u001B[0mcb\u001B[0m\u001B[1;33m)\u001B[0m\u001B[1;33m\u001B[0m\u001B[1;33m\u001B[0m\u001B[0m\n\u001B[0m\u001B[0;32m    778\u001B[0m             \u001B[1;31m# A job can complete so quickly than its callback is\u001B[0m\u001B[1;33m\u001B[0m\u001B[1;33m\u001B[0m\u001B[1;33m\u001B[0m\u001B[0m\n\u001B[0;32m    779\u001B[0m             \u001B[1;31m# called before we get here, causing self._jobs to\u001B[0m\u001B[1;33m\u001B[0m\u001B[1;33m\u001B[0m\u001B[1;33m\u001B[0m\u001B[0m\n",
      "\u001B[1;32md:\\pycharmprojects\\thesis\\lib\\site-packages\\joblib\\_parallel_backends.py\u001B[0m in \u001B[0;36mapply_async\u001B[1;34m(self, func, callback)\u001B[0m\n\u001B[0;32m    206\u001B[0m     \u001B[1;32mdef\u001B[0m \u001B[0mapply_async\u001B[0m\u001B[1;33m(\u001B[0m\u001B[0mself\u001B[0m\u001B[1;33m,\u001B[0m \u001B[0mfunc\u001B[0m\u001B[1;33m,\u001B[0m \u001B[0mcallback\u001B[0m\u001B[1;33m=\u001B[0m\u001B[1;32mNone\u001B[0m\u001B[1;33m)\u001B[0m\u001B[1;33m:\u001B[0m\u001B[1;33m\u001B[0m\u001B[1;33m\u001B[0m\u001B[0m\n\u001B[0;32m    207\u001B[0m         \u001B[1;34m\"\"\"Schedule a func to be run\"\"\"\u001B[0m\u001B[1;33m\u001B[0m\u001B[1;33m\u001B[0m\u001B[0m\n\u001B[1;32m--> 208\u001B[1;33m         \u001B[0mresult\u001B[0m \u001B[1;33m=\u001B[0m \u001B[0mImmediateResult\u001B[0m\u001B[1;33m(\u001B[0m\u001B[0mfunc\u001B[0m\u001B[1;33m)\u001B[0m\u001B[1;33m\u001B[0m\u001B[1;33m\u001B[0m\u001B[0m\n\u001B[0m\u001B[0;32m    209\u001B[0m         \u001B[1;32mif\u001B[0m \u001B[0mcallback\u001B[0m\u001B[1;33m:\u001B[0m\u001B[1;33m\u001B[0m\u001B[1;33m\u001B[0m\u001B[0m\n\u001B[0;32m    210\u001B[0m             \u001B[0mcallback\u001B[0m\u001B[1;33m(\u001B[0m\u001B[0mresult\u001B[0m\u001B[1;33m)\u001B[0m\u001B[1;33m\u001B[0m\u001B[1;33m\u001B[0m\u001B[0m\n",
      "\u001B[1;32md:\\pycharmprojects\\thesis\\lib\\site-packages\\joblib\\_parallel_backends.py\u001B[0m in \u001B[0;36m__init__\u001B[1;34m(self, batch)\u001B[0m\n\u001B[0;32m    570\u001B[0m         \u001B[1;31m# Don't delay the application, to avoid keeping the input\u001B[0m\u001B[1;33m\u001B[0m\u001B[1;33m\u001B[0m\u001B[1;33m\u001B[0m\u001B[0m\n\u001B[0;32m    571\u001B[0m         \u001B[1;31m# arguments in memory\u001B[0m\u001B[1;33m\u001B[0m\u001B[1;33m\u001B[0m\u001B[1;33m\u001B[0m\u001B[0m\n\u001B[1;32m--> 572\u001B[1;33m         \u001B[0mself\u001B[0m\u001B[1;33m.\u001B[0m\u001B[0mresults\u001B[0m \u001B[1;33m=\u001B[0m \u001B[0mbatch\u001B[0m\u001B[1;33m(\u001B[0m\u001B[1;33m)\u001B[0m\u001B[1;33m\u001B[0m\u001B[1;33m\u001B[0m\u001B[0m\n\u001B[0m\u001B[0;32m    573\u001B[0m \u001B[1;33m\u001B[0m\u001B[0m\n\u001B[0;32m    574\u001B[0m     \u001B[1;32mdef\u001B[0m \u001B[0mget\u001B[0m\u001B[1;33m(\u001B[0m\u001B[0mself\u001B[0m\u001B[1;33m)\u001B[0m\u001B[1;33m:\u001B[0m\u001B[1;33m\u001B[0m\u001B[1;33m\u001B[0m\u001B[0m\n",
      "\u001B[1;32md:\\pycharmprojects\\thesis\\lib\\site-packages\\joblib\\parallel.py\u001B[0m in \u001B[0;36m__call__\u001B[1;34m(self)\u001B[0m\n\u001B[0;32m    260\u001B[0m         \u001B[1;31m# change the default number of processes to -1\u001B[0m\u001B[1;33m\u001B[0m\u001B[1;33m\u001B[0m\u001B[1;33m\u001B[0m\u001B[0m\n\u001B[0;32m    261\u001B[0m         \u001B[1;32mwith\u001B[0m \u001B[0mparallel_backend\u001B[0m\u001B[1;33m(\u001B[0m\u001B[0mself\u001B[0m\u001B[1;33m.\u001B[0m\u001B[0m_backend\u001B[0m\u001B[1;33m,\u001B[0m \u001B[0mn_jobs\u001B[0m\u001B[1;33m=\u001B[0m\u001B[0mself\u001B[0m\u001B[1;33m.\u001B[0m\u001B[0m_n_jobs\u001B[0m\u001B[1;33m)\u001B[0m\u001B[1;33m:\u001B[0m\u001B[1;33m\u001B[0m\u001B[1;33m\u001B[0m\u001B[0m\n\u001B[1;32m--> 262\u001B[1;33m             return [func(*args, **kwargs)\n\u001B[0m\u001B[0;32m    263\u001B[0m                     for func, args, kwargs in self.items]\n\u001B[0;32m    264\u001B[0m \u001B[1;33m\u001B[0m\u001B[0m\n",
      "\u001B[1;32md:\\pycharmprojects\\thesis\\lib\\site-packages\\joblib\\parallel.py\u001B[0m in \u001B[0;36m<listcomp>\u001B[1;34m(.0)\u001B[0m\n\u001B[0;32m    260\u001B[0m         \u001B[1;31m# change the default number of processes to -1\u001B[0m\u001B[1;33m\u001B[0m\u001B[1;33m\u001B[0m\u001B[1;33m\u001B[0m\u001B[0m\n\u001B[0;32m    261\u001B[0m         \u001B[1;32mwith\u001B[0m \u001B[0mparallel_backend\u001B[0m\u001B[1;33m(\u001B[0m\u001B[0mself\u001B[0m\u001B[1;33m.\u001B[0m\u001B[0m_backend\u001B[0m\u001B[1;33m,\u001B[0m \u001B[0mn_jobs\u001B[0m\u001B[1;33m=\u001B[0m\u001B[0mself\u001B[0m\u001B[1;33m.\u001B[0m\u001B[0m_n_jobs\u001B[0m\u001B[1;33m)\u001B[0m\u001B[1;33m:\u001B[0m\u001B[1;33m\u001B[0m\u001B[1;33m\u001B[0m\u001B[0m\n\u001B[1;32m--> 262\u001B[1;33m             return [func(*args, **kwargs)\n\u001B[0m\u001B[0;32m    263\u001B[0m                     for func, args, kwargs in self.items]\n\u001B[0;32m    264\u001B[0m \u001B[1;33m\u001B[0m\u001B[0m\n",
      "\u001B[1;32md:\\pycharmprojects\\thesis\\lib\\site-packages\\sklearn\\utils\\fixes.py\u001B[0m in \u001B[0;36m__call__\u001B[1;34m(self, *args, **kwargs)\u001B[0m\n\u001B[0;32m    220\u001B[0m     \u001B[1;32mdef\u001B[0m \u001B[0m__call__\u001B[0m\u001B[1;33m(\u001B[0m\u001B[0mself\u001B[0m\u001B[1;33m,\u001B[0m \u001B[1;33m*\u001B[0m\u001B[0margs\u001B[0m\u001B[1;33m,\u001B[0m \u001B[1;33m**\u001B[0m\u001B[0mkwargs\u001B[0m\u001B[1;33m)\u001B[0m\u001B[1;33m:\u001B[0m\u001B[1;33m\u001B[0m\u001B[1;33m\u001B[0m\u001B[0m\n\u001B[0;32m    221\u001B[0m         \u001B[1;32mwith\u001B[0m \u001B[0mconfig_context\u001B[0m\u001B[1;33m(\u001B[0m\u001B[1;33m**\u001B[0m\u001B[0mself\u001B[0m\u001B[1;33m.\u001B[0m\u001B[0mconfig\u001B[0m\u001B[1;33m)\u001B[0m\u001B[1;33m:\u001B[0m\u001B[1;33m\u001B[0m\u001B[1;33m\u001B[0m\u001B[0m\n\u001B[1;32m--> 222\u001B[1;33m             \u001B[1;32mreturn\u001B[0m \u001B[0mself\u001B[0m\u001B[1;33m.\u001B[0m\u001B[0mfunction\u001B[0m\u001B[1;33m(\u001B[0m\u001B[1;33m*\u001B[0m\u001B[0margs\u001B[0m\u001B[1;33m,\u001B[0m \u001B[1;33m**\u001B[0m\u001B[0mkwargs\u001B[0m\u001B[1;33m)\u001B[0m\u001B[1;33m\u001B[0m\u001B[1;33m\u001B[0m\u001B[0m\n\u001B[0m",
      "\u001B[1;32md:\\pycharmprojects\\thesis\\lib\\site-packages\\sklearn\\model_selection\\_validation.py\u001B[0m in \u001B[0;36m_fit_and_score\u001B[1;34m(estimator, X, y, scorer, train, test, verbose, parameters, fit_params, return_train_score, return_parameters, return_n_test_samples, return_times, return_estimator, split_progress, candidate_progress, error_score)\u001B[0m\n\u001B[0;32m    579\u001B[0m             \u001B[0mcloned_parameters\u001B[0m\u001B[1;33m[\u001B[0m\u001B[0mk\u001B[0m\u001B[1;33m]\u001B[0m \u001B[1;33m=\u001B[0m \u001B[0mclone\u001B[0m\u001B[1;33m(\u001B[0m\u001B[0mv\u001B[0m\u001B[1;33m,\u001B[0m \u001B[0msafe\u001B[0m\u001B[1;33m=\u001B[0m\u001B[1;32mFalse\u001B[0m\u001B[1;33m)\u001B[0m\u001B[1;33m\u001B[0m\u001B[1;33m\u001B[0m\u001B[0m\n\u001B[0;32m    580\u001B[0m \u001B[1;33m\u001B[0m\u001B[0m\n\u001B[1;32m--> 581\u001B[1;33m         \u001B[0mestimator\u001B[0m \u001B[1;33m=\u001B[0m \u001B[0mestimator\u001B[0m\u001B[1;33m.\u001B[0m\u001B[0mset_params\u001B[0m\u001B[1;33m(\u001B[0m\u001B[1;33m**\u001B[0m\u001B[0mcloned_parameters\u001B[0m\u001B[1;33m)\u001B[0m\u001B[1;33m\u001B[0m\u001B[1;33m\u001B[0m\u001B[0m\n\u001B[0m\u001B[0;32m    582\u001B[0m \u001B[1;33m\u001B[0m\u001B[0m\n\u001B[0;32m    583\u001B[0m     \u001B[0mstart_time\u001B[0m \u001B[1;33m=\u001B[0m \u001B[0mtime\u001B[0m\u001B[1;33m.\u001B[0m\u001B[0mtime\u001B[0m\u001B[1;33m(\u001B[0m\u001B[1;33m)\u001B[0m\u001B[1;33m\u001B[0m\u001B[1;33m\u001B[0m\u001B[0m\n",
      "\u001B[1;32md:\\pycharmprojects\\thesis\\lib\\site-packages\\sklearn\\base.py\u001B[0m in \u001B[0;36mset_params\u001B[1;34m(self, **params)\u001B[0m\n\u001B[0;32m    228\u001B[0m             \u001B[0mkey\u001B[0m\u001B[1;33m,\u001B[0m \u001B[0mdelim\u001B[0m\u001B[1;33m,\u001B[0m \u001B[0msub_key\u001B[0m \u001B[1;33m=\u001B[0m \u001B[0mkey\u001B[0m\u001B[1;33m.\u001B[0m\u001B[0mpartition\u001B[0m\u001B[1;33m(\u001B[0m\u001B[1;34m'__'\u001B[0m\u001B[1;33m)\u001B[0m\u001B[1;33m\u001B[0m\u001B[1;33m\u001B[0m\u001B[0m\n\u001B[0;32m    229\u001B[0m             \u001B[1;32mif\u001B[0m \u001B[0mkey\u001B[0m \u001B[1;32mnot\u001B[0m \u001B[1;32min\u001B[0m \u001B[0mvalid_params\u001B[0m\u001B[1;33m:\u001B[0m\u001B[1;33m\u001B[0m\u001B[1;33m\u001B[0m\u001B[0m\n\u001B[1;32m--> 230\u001B[1;33m                 raise ValueError('Invalid parameter %s for estimator %s. '\n\u001B[0m\u001B[0;32m    231\u001B[0m                                  \u001B[1;34m'Check the list of available parameters '\u001B[0m\u001B[1;33m\u001B[0m\u001B[1;33m\u001B[0m\u001B[0m\n\u001B[0;32m    232\u001B[0m                                  \u001B[1;34m'with `estimator.get_params().keys()`.'\u001B[0m \u001B[1;33m%\u001B[0m\u001B[1;33m\u001B[0m\u001B[1;33m\u001B[0m\u001B[0m\n",
      "\u001B[1;31mValueError\u001B[0m: Invalid parameter C for estimator MultiOutputClassifier(estimator=SVC(), n_jobs=-1). Check the list of available parameters with `estimator.get_params().keys()`."
     ]
    }
   ]
  },
  {
   "cell_type": "markdown",
   "source": [
    "Best seems to be with C = ?\n",
    "\n",
    "Now lets train the final SVM"
   ],
   "metadata": {
    "collapsed": false,
    "pycharm": {
     "name": "#%% md\n",
     "is_executing": true
    }
   }
  },
  {
   "cell_type": "code",
   "source": [
    "svm = SVC(C = 0.25)\n",
    "multi_svm = MultiOutputClassifier(svm, n_jobs=-1)\n",
    "multi_svm.fit(X_train, y_train)\n",
    "\n",
    "print(f\"Kernel SVM train score: {multi_svm.score(X_train, y_train)}\")  # 0.7018077680329335\n",
    "print(f\"Kernel SVM test score: {multi_svm.score(X_test, y_test)}\")  # 0.6977181208053691\n",
    "print(\"\\n\")"
   ],
   "metadata": {
    "collapsed": false,
    "pycharm": {
     "name": "#%%\n"
    }
   },
   "execution_count": null,
   "outputs": []
  },
  {
   "cell_type": "markdown",
   "source": [
    "### Decision Tree"
   ],
   "metadata": {
    "collapsed": false,
    "pycharm": {
     "name": "#%% md\n"
    }
   }
  },
  {
   "cell_type": "code",
   "source": [
    "from sklearn.tree import DecisionTreeClassifier\n",
    "from sklearn.model_selection import GridSearchCV\n",
    "\n",
    "# 'max_depth': [1, 2, 3, 4, 5, 6, 7, 8, 9, 10, 11, 12, 13, 14, 20, 40]\n",
    "# 20:\n",
    "\n",
    "param_grid = {'max_depth': [2, 4, 8, 16, 32, 64, 128, 256, 512], 'criterion': ['gini', 'entropy']}\n",
    "\n",
    "grid_search = GridSearchCV(DecisionTreeClassifier(), param_grid, cv=5, )\n",
    "grid_search.fit(X_train, y_train)\n",
    "DT_ResultsDf = pd.DataFrame(grid_search.cv_results_)\n",
    "\n",
    "print(DT_ResultsDf)\n",
    "print(f\"Best test set score: {grid_search.best_score_} with {grid_search.best_params_} parameters.\")"
   ],
   "metadata": {
    "collapsed": false,
    "pycharm": {
     "name": "#%%\n"
    }
   },
   "execution_count": 37,
   "outputs": [
    {
     "name": "stdout",
     "output_type": "stream",
     "text": [
      "    mean_fit_time  std_fit_time  mean_score_time  std_score_time  \\\n",
      "0        0.347367      0.093914         0.023378        0.024774   \n",
      "1        0.480160      0.003380         0.011188        0.000400   \n",
      "2        0.861972      0.026711         0.011589        0.000490   \n",
      "3        1.449067      0.042260         0.013689        0.001396   \n",
      "4        1.712812      0.049752         0.013687        0.000869   \n",
      "5        1.711371      0.045952         0.014585        0.002868   \n",
      "6        1.721813      0.028602         0.013583        0.001016   \n",
      "7        1.981959      0.356041         0.013586        0.001495   \n",
      "8        1.714025      0.042461         0.014175        0.001714   \n",
      "9        0.641189      0.011705         0.010890        0.001281   \n",
      "10       1.209327      0.039129         0.011990        0.001547   \n",
      "11       2.403208      0.050523         0.015385        0.002057   \n",
      "12       3.800699      0.141778         0.014186        0.001325   \n",
      "13       4.229795      0.080640         0.014186        0.001598   \n",
      "14       4.224030      0.082820         0.014187        0.000980   \n",
      "15       4.218813      0.085923         0.013786        0.001468   \n",
      "16       4.229808      0.078559         0.013988        0.001097   \n",
      "17       4.229163      0.074630         0.013586        0.001018   \n",
      "\n",
      "   param_criterion param_max_depth  \\\n",
      "0             gini               2   \n",
      "1             gini               4   \n",
      "2             gini               8   \n",
      "3             gini              16   \n",
      "4             gini              32   \n",
      "5             gini              64   \n",
      "6             gini             128   \n",
      "7             gini             256   \n",
      "8             gini             512   \n",
      "9          entropy               2   \n",
      "10         entropy               4   \n",
      "11         entropy               8   \n",
      "12         entropy              16   \n",
      "13         entropy              32   \n",
      "14         entropy              64   \n",
      "15         entropy             128   \n",
      "16         entropy             256   \n",
      "17         entropy             512   \n",
      "\n",
      "                                        params  split0_test_score  \\\n",
      "0        {'criterion': 'gini', 'max_depth': 2}           0.000000   \n",
      "1        {'criterion': 'gini', 'max_depth': 4}           0.000000   \n",
      "2        {'criterion': 'gini', 'max_depth': 8}           0.006456   \n",
      "3       {'criterion': 'gini', 'max_depth': 16}           0.087679   \n",
      "4       {'criterion': 'gini', 'max_depth': 32}           0.173756   \n",
      "5       {'criterion': 'gini', 'max_depth': 64}           0.174857   \n",
      "6      {'criterion': 'gini', 'max_depth': 128}           0.174557   \n",
      "7      {'criterion': 'gini', 'max_depth': 256}           0.176709   \n",
      "8      {'criterion': 'gini', 'max_depth': 512}           0.173856   \n",
      "9     {'criterion': 'entropy', 'max_depth': 2}           0.000000   \n",
      "10    {'criterion': 'entropy', 'max_depth': 4}           0.000000   \n",
      "11    {'criterion': 'entropy', 'max_depth': 8}           0.006156   \n",
      "12   {'criterion': 'entropy', 'max_depth': 16}           0.107196   \n",
      "13   {'criterion': 'entropy', 'max_depth': 32}           0.184416   \n",
      "14   {'criterion': 'entropy', 'max_depth': 64}           0.186218   \n",
      "15  {'criterion': 'entropy', 'max_depth': 128}           0.183415   \n",
      "16  {'criterion': 'entropy', 'max_depth': 256}           0.187118   \n",
      "17  {'criterion': 'entropy', 'max_depth': 512}           0.186918   \n",
      "\n",
      "    split1_test_score  split2_test_score  split3_test_score  \\\n",
      "0            0.000000           0.000000           0.000000   \n",
      "1            0.000000           0.001501           0.002302   \n",
      "2            0.017015           0.004154           0.030729   \n",
      "3            0.028726           0.116361           0.062710   \n",
      "4            0.046842           0.284020           0.095140   \n",
      "5            0.050545           0.282919           0.089335   \n",
      "6            0.047843           0.292278           0.093439   \n",
      "7            0.049244           0.288374           0.093939   \n",
      "8            0.050095           0.289925           0.090036   \n",
      "9            0.000000           0.000000           0.000000   \n",
      "10           0.000000           0.001401           0.001852   \n",
      "11           0.015914           0.002202           0.033382   \n",
      "12           0.027675           0.122967           0.066663   \n",
      "13           0.054149           0.297983           0.088985   \n",
      "14           0.055100           0.297082           0.087883   \n",
      "15           0.051947           0.296281           0.091987   \n",
      "16           0.056201           0.297533           0.087333   \n",
      "17           0.053698           0.295080           0.089985   \n",
      "\n",
      "    split4_test_score  mean_test_score  std_test_score  rank_test_score  \n",
      "0            0.006456         0.001291        0.002582               17  \n",
      "1            0.007057         0.002172        0.002599               15  \n",
      "2            0.007657         0.013202        0.009797               13  \n",
      "3            0.008108         0.060717        0.039034               12  \n",
      "4            0.008508         0.121653        0.098162                9  \n",
      "5            0.008508         0.121233        0.097713               10  \n",
      "6            0.008508         0.123325        0.100939                7  \n",
      "7            0.008508         0.123355        0.099625                6  \n",
      "8            0.008508         0.122484        0.099959                8  \n",
      "9            0.005455         0.001091        0.002182               18  \n",
      "10           0.006056         0.001862        0.002224               16  \n",
      "11           0.006756         0.012882        0.011192               14  \n",
      "12           0.007958         0.066492        0.044225               11  \n",
      "13           0.008558         0.126818        0.103259                3  \n",
      "14           0.008508         0.126958        0.103126                2  \n",
      "15           0.008558         0.126438        0.102689                5  \n",
      "16           0.008508         0.127339        0.103268                1  \n",
      "17           0.008358         0.126808        0.102626                4  \n",
      "Best test set score: 0.12733853842162965 with {'criterion': 'entropy', 'max_depth': 256} parameters.\n"
     ]
    }
   ]
  },
  {
   "cell_type": "markdown",
   "source": [
    "Best max_depth is 5 -->  0.72060144"
   ],
   "metadata": {
    "collapsed": false,
    "pycharm": {
     "name": "#%% md\n"
    }
   }
  },
  {
   "cell_type": "code",
   "source": [
    "dt = DecisionTreeClassifier(max_depth=5)\n",
    "dt.fit(X_train, y_train)\n",
    "\n",
    "print(f\"Decision Tree train score: {dt.score(X_train, y_train)}\")  # 0.7240618101545254\n",
    "print(f\"Decision Tree test score: {dt.score(X_test, y_test)}\")  # 0.7103355704697987\n",
    "print(\"\\n\")"
   ],
   "metadata": {
    "collapsed": false,
    "pycharm": {
     "name": "#%%\n"
    }
   },
   "execution_count": null,
   "outputs": []
  },
  {
   "cell_type": "markdown",
   "source": [
    "### Random Forest"
   ],
   "metadata": {
    "collapsed": false,
    "pycharm": {
     "name": "#%% md\n"
    }
   }
  },
  {
   "cell_type": "code",
   "source": [
    "from sklearn.ensemble import RandomForestClassifier\n",
    "from sklearn.model_selection import GridSearchCV\n",
    "\n",
    "param_grid = {'max_depth': [2, 4, 8, 16, 32, 64, 128, 256, 512], 'n_estimators': [10, 100, 1000, 5000], 'criterion': ['gini', 'entropy']}\n",
    "\n",
    "grid_search = GridSearchCV(RandomForestClassifier(n_jobs=-1, warm_start=True), param_grid, cv=5)\n",
    "grid_search.fit(X_train, y_train)\n",
    "RF_ResultsDf = pd.DataFrame(grid_search.cv_results_)\n",
    "\n",
    "print(RF_ResultsDf)\n",
    "print(f\"Best test set score: {grid_search.best_score_} with {grid_search.best_params_} parameters.\")"
   ],
   "metadata": {
    "collapsed": false,
    "pycharm": {
     "name": "#%%\n"
    }
   },
   "execution_count": 39,
   "outputs": [
    {
     "name": "stdout",
     "output_type": "stream",
     "text": [
      "    mean_fit_time  std_fit_time  mean_score_time  std_score_time  \\\n",
      "0        0.931986      0.943220         0.042375        0.004351   \n",
      "1        2.213349      0.086618         0.264360        0.009675   \n",
      "2       18.715196      0.098012         2.593686        0.089489   \n",
      "3       92.192599      0.583681        12.874250        0.617334   \n",
      "4        0.602364      0.122971         0.066334        0.047368   \n",
      "..            ...           ...              ...             ...   \n",
      "67     653.061826     18.741582        21.750120        2.354909   \n",
      "68       1.928824      0.273057         0.080917        0.058325   \n",
      "69      13.232246      0.215891         0.572613        0.603446   \n",
      "70     129.255595      2.218610         2.793139        0.111566   \n",
      "71     649.284695      9.967199        21.593080        3.395270   \n",
      "\n",
      "   param_criterion param_max_depth param_n_estimators  \\\n",
      "0             gini               2                 10   \n",
      "1             gini               2                100   \n",
      "2             gini               2               1000   \n",
      "3             gini               2               5000   \n",
      "4             gini               4                 10   \n",
      "..             ...             ...                ...   \n",
      "67         entropy             256               5000   \n",
      "68         entropy             512                 10   \n",
      "69         entropy             512                100   \n",
      "70         entropy             512               1000   \n",
      "71         entropy             512               5000   \n",
      "\n",
      "                                               params  split0_test_score  \\\n",
      "0   {'criterion': 'gini', 'max_depth': 2, 'n_estim...           0.000000   \n",
      "1   {'criterion': 'gini', 'max_depth': 2, 'n_estim...           0.000000   \n",
      "2   {'criterion': 'gini', 'max_depth': 2, 'n_estim...           0.000000   \n",
      "3   {'criterion': 'gini', 'max_depth': 2, 'n_estim...           0.000000   \n",
      "4   {'criterion': 'gini', 'max_depth': 4, 'n_estim...           0.000000   \n",
      "..                                                ...                ...   \n",
      "67  {'criterion': 'entropy', 'max_depth': 256, 'n_...           0.041938   \n",
      "68  {'criterion': 'entropy', 'max_depth': 512, 'n_...           0.051096   \n",
      "69  {'criterion': 'entropy', 'max_depth': 512, 'n_...           0.044240   \n",
      "70  {'criterion': 'entropy', 'max_depth': 512, 'n_...           0.042488   \n",
      "71  {'criterion': 'entropy', 'max_depth': 512, 'n_...           0.042288   \n",
      "\n",
      "    split1_test_score  split2_test_score  split3_test_score  \\\n",
      "0            0.000000           0.000000           0.000000   \n",
      "1            0.000000           0.000000           0.000000   \n",
      "2            0.000000           0.000000           0.000000   \n",
      "3            0.000000           0.000000           0.000000   \n",
      "4            0.000000           0.000000           0.000050   \n",
      "..                ...                ...                ...   \n",
      "67           0.033780           0.114759           0.041489   \n",
      "68           0.031779           0.109954           0.042540   \n",
      "69           0.033580           0.114609           0.041239   \n",
      "70           0.033430           0.115360           0.041740   \n",
      "71           0.033680           0.114659           0.041690   \n",
      "\n",
      "    split4_test_score  mean_test_score  std_test_score  rank_test_score  \n",
      "0            0.002903         0.000581        0.001161               65  \n",
      "1            0.002302         0.000460        0.000921               70  \n",
      "2            0.002452         0.000490        0.000981               67  \n",
      "3            0.002502         0.000500        0.001001               66  \n",
      "4            0.004104         0.000831        0.001637               63  \n",
      "..                ...              ...             ...              ...  \n",
      "67           0.008708         0.048135        0.035445               23  \n",
      "68           0.008658         0.048806        0.033721                5  \n",
      "69           0.008708         0.048475        0.035348               12  \n",
      "70           0.008708         0.048345        0.035672               14  \n",
      "71           0.008708         0.048205        0.035396               20  \n",
      "\n",
      "[72 rows x 16 columns]\n",
      "Best test set score: 0.051978536350600034 with {'criterion': 'gini', 'max_depth': 256, 'n_estimators': 10} parameters.\n"
     ]
    }
   ]
  },
  {
   "cell_type": "markdown",
   "source": [
    "Best seems to be with max_depth=12"
   ],
   "metadata": {
    "collapsed": false,
    "pycharm": {
     "name": "#%% md\n"
    }
   }
  },
  {
   "cell_type": "code",
   "source": [
    "rf = RandomForestClassifier(max_depth=12, n_jobs=-1)\n",
    "rf.fit(X_train, y_train)\n",
    "\n",
    "print(f\"Random Forest train score: {rf.score(X_train, y_train)}\")  # 0.7210786945886284\n",
    "print(f\"Random Forest test score: {rf.score(X_test, y_test)}\")  # 0.6877852348993289\n",
    "print(\"\\n\")\n"
   ],
   "metadata": {
    "collapsed": false,
    "pycharm": {
     "name": "#%%\n"
    }
   },
   "execution_count": null,
   "outputs": []
  },
  {
   "cell_type": "markdown",
   "source": [
    "### Gradient Boosted Trees (GBT)"
   ],
   "metadata": {
    "collapsed": false,
    "pycharm": {
     "name": "#%% md\n"
    }
   }
  },
  {
   "cell_type": "code",
   "source": [
    "from sklearn.ensemble import GradientBoostingClassifier\n",
    "from sklearn.model_selection import GridSearchCV\n",
    "from sklearn.multioutput import MultiOutputClassifier  # (https://sklearn.org/modules/multiclass.html#multioutput-classification)\n",
    "\n",
    "param_grid = {'estimator__max_depth':[2,4,8,16,30,40], 'estimator__loss':['deviance', 'exponential']}\n",
    "\n",
    "gbt = MultiOutputClassifier(GradientBoostingClassifier(verbose=0, warm_start=True))\n",
    "grid_search = GridSearchCV(gbt, param_grid, cv=5)\n",
    "grid_search.fit(X_train, y_train)\n",
    "GBT_ResultsDf = pd.DataFrame(grid_search.cv_results_)\n",
    "\n",
    "print(GBT_ResultsDf)\n",
    "print(f\"Best test set score: {grid_search.best_score_} with {grid_search.best_params_} parameters.\")"
   ],
   "metadata": {
    "collapsed": false,
    "pycharm": {
     "name": "#%%\n"
    }
   },
   "execution_count": 40,
   "outputs": [
    {
     "name": "stderr",
     "output_type": "stream",
     "text": [
      "d:\\pycharmprojects\\thesis\\lib\\site-packages\\sklearn\\model_selection\\_validation.py:610: FitFailedWarning: Estimator fit failed. The score on this train-test partition for these parameters will be set to nan. Details: \n",
      "Traceback (most recent call last):\n",
      "  File \"d:\\pycharmprojects\\thesis\\lib\\site-packages\\sklearn\\model_selection\\_validation.py\", line 593, in _fit_and_score\n",
      "    estimator.fit(X_train, y_train, **fit_params)\n",
      "  File \"d:\\pycharmprojects\\thesis\\lib\\site-packages\\sklearn\\multioutput.py\", line 368, in fit\n",
      "    super().fit(X, Y, sample_weight, **fit_params)\n",
      "  File \"d:\\pycharmprojects\\thesis\\lib\\site-packages\\sklearn\\multioutput.py\", line 178, in fit\n",
      "    self.estimators_ = Parallel(n_jobs=self.n_jobs)(\n",
      "  File \"d:\\pycharmprojects\\thesis\\lib\\site-packages\\joblib\\parallel.py\", line 1041, in __call__\n",
      "    if self.dispatch_one_batch(iterator):\n",
      "  File \"d:\\pycharmprojects\\thesis\\lib\\site-packages\\joblib\\parallel.py\", line 859, in dispatch_one_batch\n",
      "    self._dispatch(tasks)\n",
      "  File \"d:\\pycharmprojects\\thesis\\lib\\site-packages\\joblib\\parallel.py\", line 777, in _dispatch\n",
      "    job = self._backend.apply_async(batch, callback=cb)\n",
      "  File \"d:\\pycharmprojects\\thesis\\lib\\site-packages\\joblib\\_parallel_backends.py\", line 208, in apply_async\n",
      "    result = ImmediateResult(func)\n",
      "  File \"d:\\pycharmprojects\\thesis\\lib\\site-packages\\joblib\\_parallel_backends.py\", line 572, in __init__\n",
      "    self.results = batch()\n",
      "  File \"d:\\pycharmprojects\\thesis\\lib\\site-packages\\joblib\\parallel.py\", line 262, in __call__\n",
      "    return [func(*args, **kwargs)\n",
      "  File \"d:\\pycharmprojects\\thesis\\lib\\site-packages\\joblib\\parallel.py\", line 262, in <listcomp>\n",
      "    return [func(*args, **kwargs)\n",
      "  File \"d:\\pycharmprojects\\thesis\\lib\\site-packages\\sklearn\\utils\\fixes.py\", line 222, in __call__\n",
      "    return self.function(*args, **kwargs)\n",
      "  File \"d:\\pycharmprojects\\thesis\\lib\\site-packages\\sklearn\\multioutput.py\", line 41, in _fit_estimator\n",
      "    estimator.fit(X, y, **fit_params)\n",
      "  File \"d:\\pycharmprojects\\thesis\\lib\\site-packages\\sklearn\\ensemble\\_gb.py\", line 423, in fit\n",
      "    y = self._validate_y(y, sample_weight)\n",
      "  File \"d:\\pycharmprojects\\thesis\\lib\\site-packages\\sklearn\\ensemble\\_gb.py\", line 1107, in _validate_y\n",
      "    raise ValueError(\"y contains %d class after sample_weight \"\n",
      "ValueError: y contains 1 class after sample_weight trimmed classes with zero weights, while a minimum of 2 classes are required.\n",
      "\n",
      "  warnings.warn(\"Estimator fit failed. The score on this train-test\"\n",
      "d:\\pycharmprojects\\thesis\\lib\\site-packages\\sklearn\\model_selection\\_validation.py:610: FitFailedWarning: Estimator fit failed. The score on this train-test partition for these parameters will be set to nan. Details: \n",
      "Traceback (most recent call last):\n",
      "  File \"d:\\pycharmprojects\\thesis\\lib\\site-packages\\sklearn\\model_selection\\_validation.py\", line 593, in _fit_and_score\n",
      "    estimator.fit(X_train, y_train, **fit_params)\n",
      "  File \"d:\\pycharmprojects\\thesis\\lib\\site-packages\\sklearn\\multioutput.py\", line 368, in fit\n",
      "    super().fit(X, Y, sample_weight, **fit_params)\n",
      "  File \"d:\\pycharmprojects\\thesis\\lib\\site-packages\\sklearn\\multioutput.py\", line 178, in fit\n",
      "    self.estimators_ = Parallel(n_jobs=self.n_jobs)(\n",
      "  File \"d:\\pycharmprojects\\thesis\\lib\\site-packages\\joblib\\parallel.py\", line 1044, in __call__\n",
      "    while self.dispatch_one_batch(iterator):\n",
      "  File \"d:\\pycharmprojects\\thesis\\lib\\site-packages\\joblib\\parallel.py\", line 859, in dispatch_one_batch\n",
      "    self._dispatch(tasks)\n",
      "  File \"d:\\pycharmprojects\\thesis\\lib\\site-packages\\joblib\\parallel.py\", line 777, in _dispatch\n",
      "    job = self._backend.apply_async(batch, callback=cb)\n",
      "  File \"d:\\pycharmprojects\\thesis\\lib\\site-packages\\joblib\\_parallel_backends.py\", line 208, in apply_async\n",
      "    result = ImmediateResult(func)\n",
      "  File \"d:\\pycharmprojects\\thesis\\lib\\site-packages\\joblib\\_parallel_backends.py\", line 572, in __init__\n",
      "    self.results = batch()\n",
      "  File \"d:\\pycharmprojects\\thesis\\lib\\site-packages\\joblib\\parallel.py\", line 262, in __call__\n",
      "    return [func(*args, **kwargs)\n",
      "  File \"d:\\pycharmprojects\\thesis\\lib\\site-packages\\joblib\\parallel.py\", line 262, in <listcomp>\n",
      "    return [func(*args, **kwargs)\n",
      "  File \"d:\\pycharmprojects\\thesis\\lib\\site-packages\\sklearn\\utils\\fixes.py\", line 222, in __call__\n",
      "    return self.function(*args, **kwargs)\n",
      "  File \"d:\\pycharmprojects\\thesis\\lib\\site-packages\\sklearn\\multioutput.py\", line 41, in _fit_estimator\n",
      "    estimator.fit(X, y, **fit_params)\n",
      "  File \"d:\\pycharmprojects\\thesis\\lib\\site-packages\\sklearn\\ensemble\\_gb.py\", line 423, in fit\n",
      "    y = self._validate_y(y, sample_weight)\n",
      "  File \"d:\\pycharmprojects\\thesis\\lib\\site-packages\\sklearn\\ensemble\\_gb.py\", line 1107, in _validate_y\n",
      "    raise ValueError(\"y contains %d class after sample_weight \"\n",
      "ValueError: y contains 1 class after sample_weight trimmed classes with zero weights, while a minimum of 2 classes are required.\n",
      "\n",
      "  warnings.warn(\"Estimator fit failed. The score on this train-test\"\n",
      "d:\\pycharmprojects\\thesis\\lib\\site-packages\\sklearn\\model_selection\\_validation.py:610: FitFailedWarning: Estimator fit failed. The score on this train-test partition for these parameters will be set to nan. Details: \n",
      "Traceback (most recent call last):\n",
      "  File \"d:\\pycharmprojects\\thesis\\lib\\site-packages\\sklearn\\model_selection\\_validation.py\", line 593, in _fit_and_score\n",
      "    estimator.fit(X_train, y_train, **fit_params)\n",
      "  File \"d:\\pycharmprojects\\thesis\\lib\\site-packages\\sklearn\\multioutput.py\", line 368, in fit\n",
      "    super().fit(X, Y, sample_weight, **fit_params)\n",
      "  File \"d:\\pycharmprojects\\thesis\\lib\\site-packages\\sklearn\\multioutput.py\", line 178, in fit\n",
      "    self.estimators_ = Parallel(n_jobs=self.n_jobs)(\n",
      "  File \"d:\\pycharmprojects\\thesis\\lib\\site-packages\\joblib\\parallel.py\", line 1041, in __call__\n",
      "    if self.dispatch_one_batch(iterator):\n",
      "  File \"d:\\pycharmprojects\\thesis\\lib\\site-packages\\joblib\\parallel.py\", line 859, in dispatch_one_batch\n",
      "    self._dispatch(tasks)\n",
      "  File \"d:\\pycharmprojects\\thesis\\lib\\site-packages\\joblib\\parallel.py\", line 777, in _dispatch\n",
      "    job = self._backend.apply_async(batch, callback=cb)\n",
      "  File \"d:\\pycharmprojects\\thesis\\lib\\site-packages\\joblib\\_parallel_backends.py\", line 208, in apply_async\n",
      "    result = ImmediateResult(func)\n",
      "  File \"d:\\pycharmprojects\\thesis\\lib\\site-packages\\joblib\\_parallel_backends.py\", line 572, in __init__\n",
      "    self.results = batch()\n",
      "  File \"d:\\pycharmprojects\\thesis\\lib\\site-packages\\joblib\\parallel.py\", line 262, in __call__\n",
      "    return [func(*args, **kwargs)\n",
      "  File \"d:\\pycharmprojects\\thesis\\lib\\site-packages\\joblib\\parallel.py\", line 262, in <listcomp>\n",
      "    return [func(*args, **kwargs)\n",
      "  File \"d:\\pycharmprojects\\thesis\\lib\\site-packages\\sklearn\\utils\\fixes.py\", line 222, in __call__\n",
      "    return self.function(*args, **kwargs)\n",
      "  File \"d:\\pycharmprojects\\thesis\\lib\\site-packages\\sklearn\\multioutput.py\", line 41, in _fit_estimator\n",
      "    estimator.fit(X, y, **fit_params)\n",
      "  File \"d:\\pycharmprojects\\thesis\\lib\\site-packages\\sklearn\\ensemble\\_gb.py\", line 423, in fit\n",
      "    y = self._validate_y(y, sample_weight)\n",
      "  File \"d:\\pycharmprojects\\thesis\\lib\\site-packages\\sklearn\\ensemble\\_gb.py\", line 1107, in _validate_y\n",
      "    raise ValueError(\"y contains %d class after sample_weight \"\n",
      "ValueError: y contains 1 class after sample_weight trimmed classes with zero weights, while a minimum of 2 classes are required.\n",
      "\n",
      "  warnings.warn(\"Estimator fit failed. The score on this train-test\"\n",
      "d:\\pycharmprojects\\thesis\\lib\\site-packages\\sklearn\\model_selection\\_validation.py:610: FitFailedWarning: Estimator fit failed. The score on this train-test partition for these parameters will be set to nan. Details: \n",
      "Traceback (most recent call last):\n",
      "  File \"d:\\pycharmprojects\\thesis\\lib\\site-packages\\sklearn\\model_selection\\_validation.py\", line 593, in _fit_and_score\n",
      "    estimator.fit(X_train, y_train, **fit_params)\n",
      "  File \"d:\\pycharmprojects\\thesis\\lib\\site-packages\\sklearn\\multioutput.py\", line 368, in fit\n",
      "    super().fit(X, Y, sample_weight, **fit_params)\n",
      "  File \"d:\\pycharmprojects\\thesis\\lib\\site-packages\\sklearn\\multioutput.py\", line 178, in fit\n",
      "    self.estimators_ = Parallel(n_jobs=self.n_jobs)(\n",
      "  File \"d:\\pycharmprojects\\thesis\\lib\\site-packages\\joblib\\parallel.py\", line 1044, in __call__\n",
      "    while self.dispatch_one_batch(iterator):\n",
      "  File \"d:\\pycharmprojects\\thesis\\lib\\site-packages\\joblib\\parallel.py\", line 859, in dispatch_one_batch\n",
      "    self._dispatch(tasks)\n",
      "  File \"d:\\pycharmprojects\\thesis\\lib\\site-packages\\joblib\\parallel.py\", line 777, in _dispatch\n",
      "    job = self._backend.apply_async(batch, callback=cb)\n",
      "  File \"d:\\pycharmprojects\\thesis\\lib\\site-packages\\joblib\\_parallel_backends.py\", line 208, in apply_async\n",
      "    result = ImmediateResult(func)\n",
      "  File \"d:\\pycharmprojects\\thesis\\lib\\site-packages\\joblib\\_parallel_backends.py\", line 572, in __init__\n",
      "    self.results = batch()\n",
      "  File \"d:\\pycharmprojects\\thesis\\lib\\site-packages\\joblib\\parallel.py\", line 262, in __call__\n",
      "    return [func(*args, **kwargs)\n",
      "  File \"d:\\pycharmprojects\\thesis\\lib\\site-packages\\joblib\\parallel.py\", line 262, in <listcomp>\n",
      "    return [func(*args, **kwargs)\n",
      "  File \"d:\\pycharmprojects\\thesis\\lib\\site-packages\\sklearn\\utils\\fixes.py\", line 222, in __call__\n",
      "    return self.function(*args, **kwargs)\n",
      "  File \"d:\\pycharmprojects\\thesis\\lib\\site-packages\\sklearn\\multioutput.py\", line 41, in _fit_estimator\n",
      "    estimator.fit(X, y, **fit_params)\n",
      "  File \"d:\\pycharmprojects\\thesis\\lib\\site-packages\\sklearn\\ensemble\\_gb.py\", line 423, in fit\n",
      "    y = self._validate_y(y, sample_weight)\n",
      "  File \"d:\\pycharmprojects\\thesis\\lib\\site-packages\\sklearn\\ensemble\\_gb.py\", line 1107, in _validate_y\n",
      "    raise ValueError(\"y contains %d class after sample_weight \"\n",
      "ValueError: y contains 1 class after sample_weight trimmed classes with zero weights, while a minimum of 2 classes are required.\n",
      "\n",
      "  warnings.warn(\"Estimator fit failed. The score on this train-test\"\n",
      "d:\\pycharmprojects\\thesis\\lib\\site-packages\\sklearn\\model_selection\\_validation.py:610: FitFailedWarning: Estimator fit failed. The score on this train-test partition for these parameters will be set to nan. Details: \n",
      "Traceback (most recent call last):\n",
      "  File \"d:\\pycharmprojects\\thesis\\lib\\site-packages\\sklearn\\model_selection\\_validation.py\", line 593, in _fit_and_score\n",
      "    estimator.fit(X_train, y_train, **fit_params)\n",
      "  File \"d:\\pycharmprojects\\thesis\\lib\\site-packages\\sklearn\\multioutput.py\", line 368, in fit\n",
      "    super().fit(X, Y, sample_weight, **fit_params)\n",
      "  File \"d:\\pycharmprojects\\thesis\\lib\\site-packages\\sklearn\\multioutput.py\", line 178, in fit\n",
      "    self.estimators_ = Parallel(n_jobs=self.n_jobs)(\n",
      "  File \"d:\\pycharmprojects\\thesis\\lib\\site-packages\\joblib\\parallel.py\", line 1041, in __call__\n",
      "    if self.dispatch_one_batch(iterator):\n",
      "  File \"d:\\pycharmprojects\\thesis\\lib\\site-packages\\joblib\\parallel.py\", line 859, in dispatch_one_batch\n",
      "    self._dispatch(tasks)\n",
      "  File \"d:\\pycharmprojects\\thesis\\lib\\site-packages\\joblib\\parallel.py\", line 777, in _dispatch\n",
      "    job = self._backend.apply_async(batch, callback=cb)\n",
      "  File \"d:\\pycharmprojects\\thesis\\lib\\site-packages\\joblib\\_parallel_backends.py\", line 208, in apply_async\n",
      "    result = ImmediateResult(func)\n",
      "  File \"d:\\pycharmprojects\\thesis\\lib\\site-packages\\joblib\\_parallel_backends.py\", line 572, in __init__\n",
      "    self.results = batch()\n",
      "  File \"d:\\pycharmprojects\\thesis\\lib\\site-packages\\joblib\\parallel.py\", line 262, in __call__\n",
      "    return [func(*args, **kwargs)\n",
      "  File \"d:\\pycharmprojects\\thesis\\lib\\site-packages\\joblib\\parallel.py\", line 262, in <listcomp>\n",
      "    return [func(*args, **kwargs)\n",
      "  File \"d:\\pycharmprojects\\thesis\\lib\\site-packages\\sklearn\\utils\\fixes.py\", line 222, in __call__\n",
      "    return self.function(*args, **kwargs)\n",
      "  File \"d:\\pycharmprojects\\thesis\\lib\\site-packages\\sklearn\\multioutput.py\", line 41, in _fit_estimator\n",
      "    estimator.fit(X, y, **fit_params)\n",
      "  File \"d:\\pycharmprojects\\thesis\\lib\\site-packages\\sklearn\\ensemble\\_gb.py\", line 423, in fit\n",
      "    y = self._validate_y(y, sample_weight)\n",
      "  File \"d:\\pycharmprojects\\thesis\\lib\\site-packages\\sklearn\\ensemble\\_gb.py\", line 1107, in _validate_y\n",
      "    raise ValueError(\"y contains %d class after sample_weight \"\n",
      "ValueError: y contains 1 class after sample_weight trimmed classes with zero weights, while a minimum of 2 classes are required.\n",
      "\n",
      "  warnings.warn(\"Estimator fit failed. The score on this train-test\"\n",
      "d:\\pycharmprojects\\thesis\\lib\\site-packages\\sklearn\\model_selection\\_validation.py:610: FitFailedWarning: Estimator fit failed. The score on this train-test partition for these parameters will be set to nan. Details: \n",
      "Traceback (most recent call last):\n",
      "  File \"d:\\pycharmprojects\\thesis\\lib\\site-packages\\sklearn\\model_selection\\_validation.py\", line 593, in _fit_and_score\n",
      "    estimator.fit(X_train, y_train, **fit_params)\n",
      "  File \"d:\\pycharmprojects\\thesis\\lib\\site-packages\\sklearn\\multioutput.py\", line 368, in fit\n",
      "    super().fit(X, Y, sample_weight, **fit_params)\n",
      "  File \"d:\\pycharmprojects\\thesis\\lib\\site-packages\\sklearn\\multioutput.py\", line 178, in fit\n",
      "    self.estimators_ = Parallel(n_jobs=self.n_jobs)(\n",
      "  File \"d:\\pycharmprojects\\thesis\\lib\\site-packages\\joblib\\parallel.py\", line 1044, in __call__\n",
      "    while self.dispatch_one_batch(iterator):\n",
      "  File \"d:\\pycharmprojects\\thesis\\lib\\site-packages\\joblib\\parallel.py\", line 859, in dispatch_one_batch\n",
      "    self._dispatch(tasks)\n",
      "  File \"d:\\pycharmprojects\\thesis\\lib\\site-packages\\joblib\\parallel.py\", line 777, in _dispatch\n",
      "    job = self._backend.apply_async(batch, callback=cb)\n",
      "  File \"d:\\pycharmprojects\\thesis\\lib\\site-packages\\joblib\\_parallel_backends.py\", line 208, in apply_async\n",
      "    result = ImmediateResult(func)\n",
      "  File \"d:\\pycharmprojects\\thesis\\lib\\site-packages\\joblib\\_parallel_backends.py\", line 572, in __init__\n",
      "    self.results = batch()\n",
      "  File \"d:\\pycharmprojects\\thesis\\lib\\site-packages\\joblib\\parallel.py\", line 262, in __call__\n",
      "    return [func(*args, **kwargs)\n",
      "  File \"d:\\pycharmprojects\\thesis\\lib\\site-packages\\joblib\\parallel.py\", line 262, in <listcomp>\n",
      "    return [func(*args, **kwargs)\n",
      "  File \"d:\\pycharmprojects\\thesis\\lib\\site-packages\\sklearn\\utils\\fixes.py\", line 222, in __call__\n",
      "    return self.function(*args, **kwargs)\n",
      "  File \"d:\\pycharmprojects\\thesis\\lib\\site-packages\\sklearn\\multioutput.py\", line 41, in _fit_estimator\n",
      "    estimator.fit(X, y, **fit_params)\n",
      "  File \"d:\\pycharmprojects\\thesis\\lib\\site-packages\\sklearn\\ensemble\\_gb.py\", line 423, in fit\n",
      "    y = self._validate_y(y, sample_weight)\n",
      "  File \"d:\\pycharmprojects\\thesis\\lib\\site-packages\\sklearn\\ensemble\\_gb.py\", line 1107, in _validate_y\n",
      "    raise ValueError(\"y contains %d class after sample_weight \"\n",
      "ValueError: y contains 1 class after sample_weight trimmed classes with zero weights, while a minimum of 2 classes are required.\n",
      "\n",
      "  warnings.warn(\"Estimator fit failed. The score on this train-test\"\n",
      "d:\\pycharmprojects\\thesis\\lib\\site-packages\\sklearn\\model_selection\\_validation.py:610: FitFailedWarning: Estimator fit failed. The score on this train-test partition for these parameters will be set to nan. Details: \n",
      "Traceback (most recent call last):\n",
      "  File \"d:\\pycharmprojects\\thesis\\lib\\site-packages\\sklearn\\model_selection\\_validation.py\", line 593, in _fit_and_score\n",
      "    estimator.fit(X_train, y_train, **fit_params)\n",
      "  File \"d:\\pycharmprojects\\thesis\\lib\\site-packages\\sklearn\\multioutput.py\", line 368, in fit\n",
      "    super().fit(X, Y, sample_weight, **fit_params)\n",
      "  File \"d:\\pycharmprojects\\thesis\\lib\\site-packages\\sklearn\\multioutput.py\", line 178, in fit\n",
      "    self.estimators_ = Parallel(n_jobs=self.n_jobs)(\n",
      "  File \"d:\\pycharmprojects\\thesis\\lib\\site-packages\\joblib\\parallel.py\", line 1041, in __call__\n",
      "    if self.dispatch_one_batch(iterator):\n",
      "  File \"d:\\pycharmprojects\\thesis\\lib\\site-packages\\joblib\\parallel.py\", line 859, in dispatch_one_batch\n",
      "    self._dispatch(tasks)\n",
      "  File \"d:\\pycharmprojects\\thesis\\lib\\site-packages\\joblib\\parallel.py\", line 777, in _dispatch\n",
      "    job = self._backend.apply_async(batch, callback=cb)\n",
      "  File \"d:\\pycharmprojects\\thesis\\lib\\site-packages\\joblib\\_parallel_backends.py\", line 208, in apply_async\n",
      "    result = ImmediateResult(func)\n",
      "  File \"d:\\pycharmprojects\\thesis\\lib\\site-packages\\joblib\\_parallel_backends.py\", line 572, in __init__\n",
      "    self.results = batch()\n",
      "  File \"d:\\pycharmprojects\\thesis\\lib\\site-packages\\joblib\\parallel.py\", line 262, in __call__\n",
      "    return [func(*args, **kwargs)\n",
      "  File \"d:\\pycharmprojects\\thesis\\lib\\site-packages\\joblib\\parallel.py\", line 262, in <listcomp>\n",
      "    return [func(*args, **kwargs)\n",
      "  File \"d:\\pycharmprojects\\thesis\\lib\\site-packages\\sklearn\\utils\\fixes.py\", line 222, in __call__\n",
      "    return self.function(*args, **kwargs)\n",
      "  File \"d:\\pycharmprojects\\thesis\\lib\\site-packages\\sklearn\\multioutput.py\", line 41, in _fit_estimator\n",
      "    estimator.fit(X, y, **fit_params)\n",
      "  File \"d:\\pycharmprojects\\thesis\\lib\\site-packages\\sklearn\\ensemble\\_gb.py\", line 423, in fit\n",
      "    y = self._validate_y(y, sample_weight)\n",
      "  File \"d:\\pycharmprojects\\thesis\\lib\\site-packages\\sklearn\\ensemble\\_gb.py\", line 1107, in _validate_y\n",
      "    raise ValueError(\"y contains %d class after sample_weight \"\n",
      "ValueError: y contains 1 class after sample_weight trimmed classes with zero weights, while a minimum of 2 classes are required.\n",
      "\n",
      "  warnings.warn(\"Estimator fit failed. The score on this train-test\"\n",
      "d:\\pycharmprojects\\thesis\\lib\\site-packages\\sklearn\\model_selection\\_validation.py:610: FitFailedWarning: Estimator fit failed. The score on this train-test partition for these parameters will be set to nan. Details: \n",
      "Traceback (most recent call last):\n",
      "  File \"d:\\pycharmprojects\\thesis\\lib\\site-packages\\sklearn\\model_selection\\_validation.py\", line 593, in _fit_and_score\n",
      "    estimator.fit(X_train, y_train, **fit_params)\n",
      "  File \"d:\\pycharmprojects\\thesis\\lib\\site-packages\\sklearn\\multioutput.py\", line 368, in fit\n",
      "    super().fit(X, Y, sample_weight, **fit_params)\n",
      "  File \"d:\\pycharmprojects\\thesis\\lib\\site-packages\\sklearn\\multioutput.py\", line 178, in fit\n",
      "    self.estimators_ = Parallel(n_jobs=self.n_jobs)(\n",
      "  File \"d:\\pycharmprojects\\thesis\\lib\\site-packages\\joblib\\parallel.py\", line 1044, in __call__\n",
      "    while self.dispatch_one_batch(iterator):\n",
      "  File \"d:\\pycharmprojects\\thesis\\lib\\site-packages\\joblib\\parallel.py\", line 859, in dispatch_one_batch\n",
      "    self._dispatch(tasks)\n",
      "  File \"d:\\pycharmprojects\\thesis\\lib\\site-packages\\joblib\\parallel.py\", line 777, in _dispatch\n",
      "    job = self._backend.apply_async(batch, callback=cb)\n",
      "  File \"d:\\pycharmprojects\\thesis\\lib\\site-packages\\joblib\\_parallel_backends.py\", line 208, in apply_async\n",
      "    result = ImmediateResult(func)\n",
      "  File \"d:\\pycharmprojects\\thesis\\lib\\site-packages\\joblib\\_parallel_backends.py\", line 572, in __init__\n",
      "    self.results = batch()\n",
      "  File \"d:\\pycharmprojects\\thesis\\lib\\site-packages\\joblib\\parallel.py\", line 262, in __call__\n",
      "    return [func(*args, **kwargs)\n",
      "  File \"d:\\pycharmprojects\\thesis\\lib\\site-packages\\joblib\\parallel.py\", line 262, in <listcomp>\n",
      "    return [func(*args, **kwargs)\n",
      "  File \"d:\\pycharmprojects\\thesis\\lib\\site-packages\\sklearn\\utils\\fixes.py\", line 222, in __call__\n",
      "    return self.function(*args, **kwargs)\n",
      "  File \"d:\\pycharmprojects\\thesis\\lib\\site-packages\\sklearn\\multioutput.py\", line 41, in _fit_estimator\n",
      "    estimator.fit(X, y, **fit_params)\n",
      "  File \"d:\\pycharmprojects\\thesis\\lib\\site-packages\\sklearn\\ensemble\\_gb.py\", line 423, in fit\n",
      "    y = self._validate_y(y, sample_weight)\n",
      "  File \"d:\\pycharmprojects\\thesis\\lib\\site-packages\\sklearn\\ensemble\\_gb.py\", line 1107, in _validate_y\n",
      "    raise ValueError(\"y contains %d class after sample_weight \"\n",
      "ValueError: y contains 1 class after sample_weight trimmed classes with zero weights, while a minimum of 2 classes are required.\n",
      "\n",
      "  warnings.warn(\"Estimator fit failed. The score on this train-test\"\n",
      "d:\\pycharmprojects\\thesis\\lib\\site-packages\\sklearn\\model_selection\\_validation.py:610: FitFailedWarning: Estimator fit failed. The score on this train-test partition for these parameters will be set to nan. Details: \n",
      "Traceback (most recent call last):\n",
      "  File \"d:\\pycharmprojects\\thesis\\lib\\site-packages\\sklearn\\model_selection\\_validation.py\", line 593, in _fit_and_score\n",
      "    estimator.fit(X_train, y_train, **fit_params)\n",
      "  File \"d:\\pycharmprojects\\thesis\\lib\\site-packages\\sklearn\\multioutput.py\", line 368, in fit\n",
      "    super().fit(X, Y, sample_weight, **fit_params)\n",
      "  File \"d:\\pycharmprojects\\thesis\\lib\\site-packages\\sklearn\\multioutput.py\", line 178, in fit\n",
      "    self.estimators_ = Parallel(n_jobs=self.n_jobs)(\n",
      "  File \"d:\\pycharmprojects\\thesis\\lib\\site-packages\\joblib\\parallel.py\", line 1041, in __call__\n",
      "    if self.dispatch_one_batch(iterator):\n",
      "  File \"d:\\pycharmprojects\\thesis\\lib\\site-packages\\joblib\\parallel.py\", line 859, in dispatch_one_batch\n",
      "    self._dispatch(tasks)\n",
      "  File \"d:\\pycharmprojects\\thesis\\lib\\site-packages\\joblib\\parallel.py\", line 777, in _dispatch\n",
      "    job = self._backend.apply_async(batch, callback=cb)\n",
      "  File \"d:\\pycharmprojects\\thesis\\lib\\site-packages\\joblib\\_parallel_backends.py\", line 208, in apply_async\n",
      "    result = ImmediateResult(func)\n",
      "  File \"d:\\pycharmprojects\\thesis\\lib\\site-packages\\joblib\\_parallel_backends.py\", line 572, in __init__\n",
      "    self.results = batch()\n",
      "  File \"d:\\pycharmprojects\\thesis\\lib\\site-packages\\joblib\\parallel.py\", line 262, in __call__\n",
      "    return [func(*args, **kwargs)\n",
      "  File \"d:\\pycharmprojects\\thesis\\lib\\site-packages\\joblib\\parallel.py\", line 262, in <listcomp>\n",
      "    return [func(*args, **kwargs)\n",
      "  File \"d:\\pycharmprojects\\thesis\\lib\\site-packages\\sklearn\\utils\\fixes.py\", line 222, in __call__\n",
      "    return self.function(*args, **kwargs)\n",
      "  File \"d:\\pycharmprojects\\thesis\\lib\\site-packages\\sklearn\\multioutput.py\", line 41, in _fit_estimator\n",
      "    estimator.fit(X, y, **fit_params)\n",
      "  File \"d:\\pycharmprojects\\thesis\\lib\\site-packages\\sklearn\\ensemble\\_gb.py\", line 423, in fit\n",
      "    y = self._validate_y(y, sample_weight)\n",
      "  File \"d:\\pycharmprojects\\thesis\\lib\\site-packages\\sklearn\\ensemble\\_gb.py\", line 1107, in _validate_y\n",
      "    raise ValueError(\"y contains %d class after sample_weight \"\n",
      "ValueError: y contains 1 class after sample_weight trimmed classes with zero weights, while a minimum of 2 classes are required.\n",
      "\n",
      "  warnings.warn(\"Estimator fit failed. The score on this train-test\"\n",
      "d:\\pycharmprojects\\thesis\\lib\\site-packages\\sklearn\\model_selection\\_validation.py:610: FitFailedWarning: Estimator fit failed. The score on this train-test partition for these parameters will be set to nan. Details: \n",
      "Traceback (most recent call last):\n",
      "  File \"d:\\pycharmprojects\\thesis\\lib\\site-packages\\sklearn\\model_selection\\_validation.py\", line 593, in _fit_and_score\n",
      "    estimator.fit(X_train, y_train, **fit_params)\n",
      "  File \"d:\\pycharmprojects\\thesis\\lib\\site-packages\\sklearn\\multioutput.py\", line 368, in fit\n",
      "    super().fit(X, Y, sample_weight, **fit_params)\n",
      "  File \"d:\\pycharmprojects\\thesis\\lib\\site-packages\\sklearn\\multioutput.py\", line 178, in fit\n",
      "    self.estimators_ = Parallel(n_jobs=self.n_jobs)(\n",
      "  File \"d:\\pycharmprojects\\thesis\\lib\\site-packages\\joblib\\parallel.py\", line 1044, in __call__\n",
      "    while self.dispatch_one_batch(iterator):\n",
      "  File \"d:\\pycharmprojects\\thesis\\lib\\site-packages\\joblib\\parallel.py\", line 859, in dispatch_one_batch\n",
      "    self._dispatch(tasks)\n",
      "  File \"d:\\pycharmprojects\\thesis\\lib\\site-packages\\joblib\\parallel.py\", line 777, in _dispatch\n",
      "    job = self._backend.apply_async(batch, callback=cb)\n",
      "  File \"d:\\pycharmprojects\\thesis\\lib\\site-packages\\joblib\\_parallel_backends.py\", line 208, in apply_async\n",
      "    result = ImmediateResult(func)\n",
      "  File \"d:\\pycharmprojects\\thesis\\lib\\site-packages\\joblib\\_parallel_backends.py\", line 572, in __init__\n",
      "    self.results = batch()\n",
      "  File \"d:\\pycharmprojects\\thesis\\lib\\site-packages\\joblib\\parallel.py\", line 262, in __call__\n",
      "    return [func(*args, **kwargs)\n",
      "  File \"d:\\pycharmprojects\\thesis\\lib\\site-packages\\joblib\\parallel.py\", line 262, in <listcomp>\n",
      "    return [func(*args, **kwargs)\n",
      "  File \"d:\\pycharmprojects\\thesis\\lib\\site-packages\\sklearn\\utils\\fixes.py\", line 222, in __call__\n",
      "    return self.function(*args, **kwargs)\n",
      "  File \"d:\\pycharmprojects\\thesis\\lib\\site-packages\\sklearn\\multioutput.py\", line 41, in _fit_estimator\n",
      "    estimator.fit(X, y, **fit_params)\n",
      "  File \"d:\\pycharmprojects\\thesis\\lib\\site-packages\\sklearn\\ensemble\\_gb.py\", line 423, in fit\n",
      "    y = self._validate_y(y, sample_weight)\n",
      "  File \"d:\\pycharmprojects\\thesis\\lib\\site-packages\\sklearn\\ensemble\\_gb.py\", line 1107, in _validate_y\n",
      "    raise ValueError(\"y contains %d class after sample_weight \"\n",
      "ValueError: y contains 1 class after sample_weight trimmed classes with zero weights, while a minimum of 2 classes are required.\n",
      "\n",
      "  warnings.warn(\"Estimator fit failed. The score on this train-test\"\n",
      "d:\\pycharmprojects\\thesis\\lib\\site-packages\\sklearn\\model_selection\\_validation.py:610: FitFailedWarning: Estimator fit failed. The score on this train-test partition for these parameters will be set to nan. Details: \n",
      "Traceback (most recent call last):\n",
      "  File \"d:\\pycharmprojects\\thesis\\lib\\site-packages\\sklearn\\model_selection\\_validation.py\", line 593, in _fit_and_score\n",
      "    estimator.fit(X_train, y_train, **fit_params)\n",
      "  File \"d:\\pycharmprojects\\thesis\\lib\\site-packages\\sklearn\\multioutput.py\", line 368, in fit\n",
      "    super().fit(X, Y, sample_weight, **fit_params)\n",
      "  File \"d:\\pycharmprojects\\thesis\\lib\\site-packages\\sklearn\\multioutput.py\", line 178, in fit\n",
      "    self.estimators_ = Parallel(n_jobs=self.n_jobs)(\n",
      "  File \"d:\\pycharmprojects\\thesis\\lib\\site-packages\\joblib\\parallel.py\", line 1041, in __call__\n",
      "    if self.dispatch_one_batch(iterator):\n",
      "  File \"d:\\pycharmprojects\\thesis\\lib\\site-packages\\joblib\\parallel.py\", line 859, in dispatch_one_batch\n",
      "    self._dispatch(tasks)\n",
      "  File \"d:\\pycharmprojects\\thesis\\lib\\site-packages\\joblib\\parallel.py\", line 777, in _dispatch\n",
      "    job = self._backend.apply_async(batch, callback=cb)\n",
      "  File \"d:\\pycharmprojects\\thesis\\lib\\site-packages\\joblib\\_parallel_backends.py\", line 208, in apply_async\n",
      "    result = ImmediateResult(func)\n",
      "  File \"d:\\pycharmprojects\\thesis\\lib\\site-packages\\joblib\\_parallel_backends.py\", line 572, in __init__\n",
      "    self.results = batch()\n",
      "  File \"d:\\pycharmprojects\\thesis\\lib\\site-packages\\joblib\\parallel.py\", line 262, in __call__\n",
      "    return [func(*args, **kwargs)\n",
      "  File \"d:\\pycharmprojects\\thesis\\lib\\site-packages\\joblib\\parallel.py\", line 262, in <listcomp>\n",
      "    return [func(*args, **kwargs)\n",
      "  File \"d:\\pycharmprojects\\thesis\\lib\\site-packages\\sklearn\\utils\\fixes.py\", line 222, in __call__\n",
      "    return self.function(*args, **kwargs)\n",
      "  File \"d:\\pycharmprojects\\thesis\\lib\\site-packages\\sklearn\\multioutput.py\", line 41, in _fit_estimator\n",
      "    estimator.fit(X, y, **fit_params)\n",
      "  File \"d:\\pycharmprojects\\thesis\\lib\\site-packages\\sklearn\\ensemble\\_gb.py\", line 423, in fit\n",
      "    y = self._validate_y(y, sample_weight)\n",
      "  File \"d:\\pycharmprojects\\thesis\\lib\\site-packages\\sklearn\\ensemble\\_gb.py\", line 1107, in _validate_y\n",
      "    raise ValueError(\"y contains %d class after sample_weight \"\n",
      "ValueError: y contains 1 class after sample_weight trimmed classes with zero weights, while a minimum of 2 classes are required.\n",
      "\n",
      "  warnings.warn(\"Estimator fit failed. The score on this train-test\"\n",
      "d:\\pycharmprojects\\thesis\\lib\\site-packages\\sklearn\\model_selection\\_validation.py:610: FitFailedWarning: Estimator fit failed. The score on this train-test partition for these parameters will be set to nan. Details: \n",
      "Traceback (most recent call last):\n",
      "  File \"d:\\pycharmprojects\\thesis\\lib\\site-packages\\sklearn\\model_selection\\_validation.py\", line 593, in _fit_and_score\n",
      "    estimator.fit(X_train, y_train, **fit_params)\n",
      "  File \"d:\\pycharmprojects\\thesis\\lib\\site-packages\\sklearn\\multioutput.py\", line 368, in fit\n",
      "    super().fit(X, Y, sample_weight, **fit_params)\n",
      "  File \"d:\\pycharmprojects\\thesis\\lib\\site-packages\\sklearn\\multioutput.py\", line 178, in fit\n",
      "    self.estimators_ = Parallel(n_jobs=self.n_jobs)(\n",
      "  File \"d:\\pycharmprojects\\thesis\\lib\\site-packages\\joblib\\parallel.py\", line 1044, in __call__\n",
      "    while self.dispatch_one_batch(iterator):\n",
      "  File \"d:\\pycharmprojects\\thesis\\lib\\site-packages\\joblib\\parallel.py\", line 859, in dispatch_one_batch\n",
      "    self._dispatch(tasks)\n",
      "  File \"d:\\pycharmprojects\\thesis\\lib\\site-packages\\joblib\\parallel.py\", line 777, in _dispatch\n",
      "    job = self._backend.apply_async(batch, callback=cb)\n",
      "  File \"d:\\pycharmprojects\\thesis\\lib\\site-packages\\joblib\\_parallel_backends.py\", line 208, in apply_async\n",
      "    result = ImmediateResult(func)\n",
      "  File \"d:\\pycharmprojects\\thesis\\lib\\site-packages\\joblib\\_parallel_backends.py\", line 572, in __init__\n",
      "    self.results = batch()\n",
      "  File \"d:\\pycharmprojects\\thesis\\lib\\site-packages\\joblib\\parallel.py\", line 262, in __call__\n",
      "    return [func(*args, **kwargs)\n",
      "  File \"d:\\pycharmprojects\\thesis\\lib\\site-packages\\joblib\\parallel.py\", line 262, in <listcomp>\n",
      "    return [func(*args, **kwargs)\n",
      "  File \"d:\\pycharmprojects\\thesis\\lib\\site-packages\\sklearn\\utils\\fixes.py\", line 222, in __call__\n",
      "    return self.function(*args, **kwargs)\n",
      "  File \"d:\\pycharmprojects\\thesis\\lib\\site-packages\\sklearn\\multioutput.py\", line 41, in _fit_estimator\n",
      "    estimator.fit(X, y, **fit_params)\n",
      "  File \"d:\\pycharmprojects\\thesis\\lib\\site-packages\\sklearn\\ensemble\\_gb.py\", line 423, in fit\n",
      "    y = self._validate_y(y, sample_weight)\n",
      "  File \"d:\\pycharmprojects\\thesis\\lib\\site-packages\\sklearn\\ensemble\\_gb.py\", line 1107, in _validate_y\n",
      "    raise ValueError(\"y contains %d class after sample_weight \"\n",
      "ValueError: y contains 1 class after sample_weight trimmed classes with zero weights, while a minimum of 2 classes are required.\n",
      "\n",
      "  warnings.warn(\"Estimator fit failed. The score on this train-test\"\n",
      "d:\\pycharmprojects\\thesis\\lib\\site-packages\\sklearn\\model_selection\\_validation.py:610: FitFailedWarning: Estimator fit failed. The score on this train-test partition for these parameters will be set to nan. Details: \n",
      "Traceback (most recent call last):\n",
      "  File \"d:\\pycharmprojects\\thesis\\lib\\site-packages\\sklearn\\model_selection\\_validation.py\", line 593, in _fit_and_score\n",
      "    estimator.fit(X_train, y_train, **fit_params)\n",
      "  File \"d:\\pycharmprojects\\thesis\\lib\\site-packages\\sklearn\\multioutput.py\", line 368, in fit\n",
      "    super().fit(X, Y, sample_weight, **fit_params)\n",
      "  File \"d:\\pycharmprojects\\thesis\\lib\\site-packages\\sklearn\\multioutput.py\", line 178, in fit\n",
      "    self.estimators_ = Parallel(n_jobs=self.n_jobs)(\n",
      "  File \"d:\\pycharmprojects\\thesis\\lib\\site-packages\\joblib\\parallel.py\", line 1041, in __call__\n",
      "    if self.dispatch_one_batch(iterator):\n",
      "  File \"d:\\pycharmprojects\\thesis\\lib\\site-packages\\joblib\\parallel.py\", line 859, in dispatch_one_batch\n",
      "    self._dispatch(tasks)\n",
      "  File \"d:\\pycharmprojects\\thesis\\lib\\site-packages\\joblib\\parallel.py\", line 777, in _dispatch\n",
      "    job = self._backend.apply_async(batch, callback=cb)\n",
      "  File \"d:\\pycharmprojects\\thesis\\lib\\site-packages\\joblib\\_parallel_backends.py\", line 208, in apply_async\n",
      "    result = ImmediateResult(func)\n",
      "  File \"d:\\pycharmprojects\\thesis\\lib\\site-packages\\joblib\\_parallel_backends.py\", line 572, in __init__\n",
      "    self.results = batch()\n",
      "  File \"d:\\pycharmprojects\\thesis\\lib\\site-packages\\joblib\\parallel.py\", line 262, in __call__\n",
      "    return [func(*args, **kwargs)\n",
      "  File \"d:\\pycharmprojects\\thesis\\lib\\site-packages\\joblib\\parallel.py\", line 262, in <listcomp>\n",
      "    return [func(*args, **kwargs)\n",
      "  File \"d:\\pycharmprojects\\thesis\\lib\\site-packages\\sklearn\\utils\\fixes.py\", line 222, in __call__\n",
      "    return self.function(*args, **kwargs)\n",
      "  File \"d:\\pycharmprojects\\thesis\\lib\\site-packages\\sklearn\\multioutput.py\", line 41, in _fit_estimator\n",
      "    estimator.fit(X, y, **fit_params)\n",
      "  File \"d:\\pycharmprojects\\thesis\\lib\\site-packages\\sklearn\\ensemble\\_gb.py\", line 423, in fit\n",
      "    y = self._validate_y(y, sample_weight)\n",
      "  File \"d:\\pycharmprojects\\thesis\\lib\\site-packages\\sklearn\\ensemble\\_gb.py\", line 1107, in _validate_y\n",
      "    raise ValueError(\"y contains %d class after sample_weight \"\n",
      "ValueError: y contains 1 class after sample_weight trimmed classes with zero weights, while a minimum of 2 classes are required.\n",
      "\n",
      "  warnings.warn(\"Estimator fit failed. The score on this train-test\"\n",
      "d:\\pycharmprojects\\thesis\\lib\\site-packages\\sklearn\\model_selection\\_validation.py:610: FitFailedWarning: Estimator fit failed. The score on this train-test partition for these parameters will be set to nan. Details: \n",
      "Traceback (most recent call last):\n",
      "  File \"d:\\pycharmprojects\\thesis\\lib\\site-packages\\sklearn\\model_selection\\_validation.py\", line 593, in _fit_and_score\n",
      "    estimator.fit(X_train, y_train, **fit_params)\n",
      "  File \"d:\\pycharmprojects\\thesis\\lib\\site-packages\\sklearn\\multioutput.py\", line 368, in fit\n",
      "    super().fit(X, Y, sample_weight, **fit_params)\n",
      "  File \"d:\\pycharmprojects\\thesis\\lib\\site-packages\\sklearn\\multioutput.py\", line 178, in fit\n",
      "    self.estimators_ = Parallel(n_jobs=self.n_jobs)(\n",
      "  File \"d:\\pycharmprojects\\thesis\\lib\\site-packages\\joblib\\parallel.py\", line 1044, in __call__\n",
      "    while self.dispatch_one_batch(iterator):\n",
      "  File \"d:\\pycharmprojects\\thesis\\lib\\site-packages\\joblib\\parallel.py\", line 859, in dispatch_one_batch\n",
      "    self._dispatch(tasks)\n",
      "  File \"d:\\pycharmprojects\\thesis\\lib\\site-packages\\joblib\\parallel.py\", line 777, in _dispatch\n",
      "    job = self._backend.apply_async(batch, callback=cb)\n",
      "  File \"d:\\pycharmprojects\\thesis\\lib\\site-packages\\joblib\\_parallel_backends.py\", line 208, in apply_async\n",
      "    result = ImmediateResult(func)\n",
      "  File \"d:\\pycharmprojects\\thesis\\lib\\site-packages\\joblib\\_parallel_backends.py\", line 572, in __init__\n",
      "    self.results = batch()\n",
      "  File \"d:\\pycharmprojects\\thesis\\lib\\site-packages\\joblib\\parallel.py\", line 262, in __call__\n",
      "    return [func(*args, **kwargs)\n",
      "  File \"d:\\pycharmprojects\\thesis\\lib\\site-packages\\joblib\\parallel.py\", line 262, in <listcomp>\n",
      "    return [func(*args, **kwargs)\n",
      "  File \"d:\\pycharmprojects\\thesis\\lib\\site-packages\\sklearn\\utils\\fixes.py\", line 222, in __call__\n",
      "    return self.function(*args, **kwargs)\n",
      "  File \"d:\\pycharmprojects\\thesis\\lib\\site-packages\\sklearn\\multioutput.py\", line 41, in _fit_estimator\n",
      "    estimator.fit(X, y, **fit_params)\n",
      "  File \"d:\\pycharmprojects\\thesis\\lib\\site-packages\\sklearn\\ensemble\\_gb.py\", line 423, in fit\n",
      "    y = self._validate_y(y, sample_weight)\n",
      "  File \"d:\\pycharmprojects\\thesis\\lib\\site-packages\\sklearn\\ensemble\\_gb.py\", line 1107, in _validate_y\n",
      "    raise ValueError(\"y contains %d class after sample_weight \"\n",
      "ValueError: y contains 1 class after sample_weight trimmed classes with zero weights, while a minimum of 2 classes are required.\n",
      "\n",
      "  warnings.warn(\"Estimator fit failed. The score on this train-test\"\n",
      "d:\\pycharmprojects\\thesis\\lib\\site-packages\\sklearn\\model_selection\\_validation.py:610: FitFailedWarning: Estimator fit failed. The score on this train-test partition for these parameters will be set to nan. Details: \n",
      "Traceback (most recent call last):\n",
      "  File \"d:\\pycharmprojects\\thesis\\lib\\site-packages\\sklearn\\model_selection\\_validation.py\", line 593, in _fit_and_score\n",
      "    estimator.fit(X_train, y_train, **fit_params)\n",
      "  File \"d:\\pycharmprojects\\thesis\\lib\\site-packages\\sklearn\\multioutput.py\", line 368, in fit\n",
      "    super().fit(X, Y, sample_weight, **fit_params)\n",
      "  File \"d:\\pycharmprojects\\thesis\\lib\\site-packages\\sklearn\\multioutput.py\", line 178, in fit\n",
      "    self.estimators_ = Parallel(n_jobs=self.n_jobs)(\n",
      "  File \"d:\\pycharmprojects\\thesis\\lib\\site-packages\\joblib\\parallel.py\", line 1041, in __call__\n",
      "    if self.dispatch_one_batch(iterator):\n",
      "  File \"d:\\pycharmprojects\\thesis\\lib\\site-packages\\joblib\\parallel.py\", line 859, in dispatch_one_batch\n",
      "    self._dispatch(tasks)\n",
      "  File \"d:\\pycharmprojects\\thesis\\lib\\site-packages\\joblib\\parallel.py\", line 777, in _dispatch\n",
      "    job = self._backend.apply_async(batch, callback=cb)\n",
      "  File \"d:\\pycharmprojects\\thesis\\lib\\site-packages\\joblib\\_parallel_backends.py\", line 208, in apply_async\n",
      "    result = ImmediateResult(func)\n",
      "  File \"d:\\pycharmprojects\\thesis\\lib\\site-packages\\joblib\\_parallel_backends.py\", line 572, in __init__\n",
      "    self.results = batch()\n",
      "  File \"d:\\pycharmprojects\\thesis\\lib\\site-packages\\joblib\\parallel.py\", line 262, in __call__\n",
      "    return [func(*args, **kwargs)\n",
      "  File \"d:\\pycharmprojects\\thesis\\lib\\site-packages\\joblib\\parallel.py\", line 262, in <listcomp>\n",
      "    return [func(*args, **kwargs)\n",
      "  File \"d:\\pycharmprojects\\thesis\\lib\\site-packages\\sklearn\\utils\\fixes.py\", line 222, in __call__\n",
      "    return self.function(*args, **kwargs)\n",
      "  File \"d:\\pycharmprojects\\thesis\\lib\\site-packages\\sklearn\\multioutput.py\", line 41, in _fit_estimator\n",
      "    estimator.fit(X, y, **fit_params)\n",
      "  File \"d:\\pycharmprojects\\thesis\\lib\\site-packages\\sklearn\\ensemble\\_gb.py\", line 423, in fit\n",
      "    y = self._validate_y(y, sample_weight)\n",
      "  File \"d:\\pycharmprojects\\thesis\\lib\\site-packages\\sklearn\\ensemble\\_gb.py\", line 1107, in _validate_y\n",
      "    raise ValueError(\"y contains %d class after sample_weight \"\n",
      "ValueError: y contains 1 class after sample_weight trimmed classes with zero weights, while a minimum of 2 classes are required.\n",
      "\n",
      "  warnings.warn(\"Estimator fit failed. The score on this train-test\"\n",
      "d:\\pycharmprojects\\thesis\\lib\\site-packages\\sklearn\\model_selection\\_validation.py:610: FitFailedWarning: Estimator fit failed. The score on this train-test partition for these parameters will be set to nan. Details: \n",
      "Traceback (most recent call last):\n",
      "  File \"d:\\pycharmprojects\\thesis\\lib\\site-packages\\sklearn\\model_selection\\_validation.py\", line 593, in _fit_and_score\n",
      "    estimator.fit(X_train, y_train, **fit_params)\n",
      "  File \"d:\\pycharmprojects\\thesis\\lib\\site-packages\\sklearn\\multioutput.py\", line 368, in fit\n",
      "    super().fit(X, Y, sample_weight, **fit_params)\n",
      "  File \"d:\\pycharmprojects\\thesis\\lib\\site-packages\\sklearn\\multioutput.py\", line 178, in fit\n",
      "    self.estimators_ = Parallel(n_jobs=self.n_jobs)(\n",
      "  File \"d:\\pycharmprojects\\thesis\\lib\\site-packages\\joblib\\parallel.py\", line 1044, in __call__\n",
      "    while self.dispatch_one_batch(iterator):\n",
      "  File \"d:\\pycharmprojects\\thesis\\lib\\site-packages\\joblib\\parallel.py\", line 859, in dispatch_one_batch\n",
      "    self._dispatch(tasks)\n",
      "  File \"d:\\pycharmprojects\\thesis\\lib\\site-packages\\joblib\\parallel.py\", line 777, in _dispatch\n",
      "    job = self._backend.apply_async(batch, callback=cb)\n",
      "  File \"d:\\pycharmprojects\\thesis\\lib\\site-packages\\joblib\\_parallel_backends.py\", line 208, in apply_async\n",
      "    result = ImmediateResult(func)\n",
      "  File \"d:\\pycharmprojects\\thesis\\lib\\site-packages\\joblib\\_parallel_backends.py\", line 572, in __init__\n",
      "    self.results = batch()\n",
      "  File \"d:\\pycharmprojects\\thesis\\lib\\site-packages\\joblib\\parallel.py\", line 262, in __call__\n",
      "    return [func(*args, **kwargs)\n",
      "  File \"d:\\pycharmprojects\\thesis\\lib\\site-packages\\joblib\\parallel.py\", line 262, in <listcomp>\n",
      "    return [func(*args, **kwargs)\n",
      "  File \"d:\\pycharmprojects\\thesis\\lib\\site-packages\\sklearn\\utils\\fixes.py\", line 222, in __call__\n",
      "    return self.function(*args, **kwargs)\n",
      "  File \"d:\\pycharmprojects\\thesis\\lib\\site-packages\\sklearn\\multioutput.py\", line 41, in _fit_estimator\n",
      "    estimator.fit(X, y, **fit_params)\n",
      "  File \"d:\\pycharmprojects\\thesis\\lib\\site-packages\\sklearn\\ensemble\\_gb.py\", line 423, in fit\n",
      "    y = self._validate_y(y, sample_weight)\n",
      "  File \"d:\\pycharmprojects\\thesis\\lib\\site-packages\\sklearn\\ensemble\\_gb.py\", line 1107, in _validate_y\n",
      "    raise ValueError(\"y contains %d class after sample_weight \"\n",
      "ValueError: y contains 1 class after sample_weight trimmed classes with zero weights, while a minimum of 2 classes are required.\n",
      "\n",
      "  warnings.warn(\"Estimator fit failed. The score on this train-test\"\n",
      "d:\\pycharmprojects\\thesis\\lib\\site-packages\\sklearn\\model_selection\\_validation.py:610: FitFailedWarning: Estimator fit failed. The score on this train-test partition for these parameters will be set to nan. Details: \n",
      "Traceback (most recent call last):\n",
      "  File \"d:\\pycharmprojects\\thesis\\lib\\site-packages\\sklearn\\model_selection\\_validation.py\", line 593, in _fit_and_score\n",
      "    estimator.fit(X_train, y_train, **fit_params)\n",
      "  File \"d:\\pycharmprojects\\thesis\\lib\\site-packages\\sklearn\\multioutput.py\", line 368, in fit\n",
      "    super().fit(X, Y, sample_weight, **fit_params)\n",
      "  File \"d:\\pycharmprojects\\thesis\\lib\\site-packages\\sklearn\\multioutput.py\", line 178, in fit\n",
      "    self.estimators_ = Parallel(n_jobs=self.n_jobs)(\n",
      "  File \"d:\\pycharmprojects\\thesis\\lib\\site-packages\\joblib\\parallel.py\", line 1041, in __call__\n",
      "    if self.dispatch_one_batch(iterator):\n",
      "  File \"d:\\pycharmprojects\\thesis\\lib\\site-packages\\joblib\\parallel.py\", line 859, in dispatch_one_batch\n",
      "    self._dispatch(tasks)\n",
      "  File \"d:\\pycharmprojects\\thesis\\lib\\site-packages\\joblib\\parallel.py\", line 777, in _dispatch\n",
      "    job = self._backend.apply_async(batch, callback=cb)\n",
      "  File \"d:\\pycharmprojects\\thesis\\lib\\site-packages\\joblib\\_parallel_backends.py\", line 208, in apply_async\n",
      "    result = ImmediateResult(func)\n",
      "  File \"d:\\pycharmprojects\\thesis\\lib\\site-packages\\joblib\\_parallel_backends.py\", line 572, in __init__\n",
      "    self.results = batch()\n",
      "  File \"d:\\pycharmprojects\\thesis\\lib\\site-packages\\joblib\\parallel.py\", line 262, in __call__\n",
      "    return [func(*args, **kwargs)\n",
      "  File \"d:\\pycharmprojects\\thesis\\lib\\site-packages\\joblib\\parallel.py\", line 262, in <listcomp>\n",
      "    return [func(*args, **kwargs)\n",
      "  File \"d:\\pycharmprojects\\thesis\\lib\\site-packages\\sklearn\\utils\\fixes.py\", line 222, in __call__\n",
      "    return self.function(*args, **kwargs)\n",
      "  File \"d:\\pycharmprojects\\thesis\\lib\\site-packages\\sklearn\\multioutput.py\", line 41, in _fit_estimator\n",
      "    estimator.fit(X, y, **fit_params)\n",
      "  File \"d:\\pycharmprojects\\thesis\\lib\\site-packages\\sklearn\\ensemble\\_gb.py\", line 423, in fit\n",
      "    y = self._validate_y(y, sample_weight)\n",
      "  File \"d:\\pycharmprojects\\thesis\\lib\\site-packages\\sklearn\\ensemble\\_gb.py\", line 1107, in _validate_y\n",
      "    raise ValueError(\"y contains %d class after sample_weight \"\n",
      "ValueError: y contains 1 class after sample_weight trimmed classes with zero weights, while a minimum of 2 classes are required.\n",
      "\n",
      "  warnings.warn(\"Estimator fit failed. The score on this train-test\"\n",
      "d:\\pycharmprojects\\thesis\\lib\\site-packages\\sklearn\\model_selection\\_validation.py:610: FitFailedWarning: Estimator fit failed. The score on this train-test partition for these parameters will be set to nan. Details: \n",
      "Traceback (most recent call last):\n",
      "  File \"d:\\pycharmprojects\\thesis\\lib\\site-packages\\sklearn\\model_selection\\_validation.py\", line 593, in _fit_and_score\n",
      "    estimator.fit(X_train, y_train, **fit_params)\n",
      "  File \"d:\\pycharmprojects\\thesis\\lib\\site-packages\\sklearn\\multioutput.py\", line 368, in fit\n",
      "    super().fit(X, Y, sample_weight, **fit_params)\n",
      "  File \"d:\\pycharmprojects\\thesis\\lib\\site-packages\\sklearn\\multioutput.py\", line 178, in fit\n",
      "    self.estimators_ = Parallel(n_jobs=self.n_jobs)(\n",
      "  File \"d:\\pycharmprojects\\thesis\\lib\\site-packages\\joblib\\parallel.py\", line 1044, in __call__\n",
      "    while self.dispatch_one_batch(iterator):\n",
      "  File \"d:\\pycharmprojects\\thesis\\lib\\site-packages\\joblib\\parallel.py\", line 859, in dispatch_one_batch\n",
      "    self._dispatch(tasks)\n",
      "  File \"d:\\pycharmprojects\\thesis\\lib\\site-packages\\joblib\\parallel.py\", line 777, in _dispatch\n",
      "    job = self._backend.apply_async(batch, callback=cb)\n",
      "  File \"d:\\pycharmprojects\\thesis\\lib\\site-packages\\joblib\\_parallel_backends.py\", line 208, in apply_async\n",
      "    result = ImmediateResult(func)\n",
      "  File \"d:\\pycharmprojects\\thesis\\lib\\site-packages\\joblib\\_parallel_backends.py\", line 572, in __init__\n",
      "    self.results = batch()\n",
      "  File \"d:\\pycharmprojects\\thesis\\lib\\site-packages\\joblib\\parallel.py\", line 262, in __call__\n",
      "    return [func(*args, **kwargs)\n",
      "  File \"d:\\pycharmprojects\\thesis\\lib\\site-packages\\joblib\\parallel.py\", line 262, in <listcomp>\n",
      "    return [func(*args, **kwargs)\n",
      "  File \"d:\\pycharmprojects\\thesis\\lib\\site-packages\\sklearn\\utils\\fixes.py\", line 222, in __call__\n",
      "    return self.function(*args, **kwargs)\n",
      "  File \"d:\\pycharmprojects\\thesis\\lib\\site-packages\\sklearn\\multioutput.py\", line 41, in _fit_estimator\n",
      "    estimator.fit(X, y, **fit_params)\n",
      "  File \"d:\\pycharmprojects\\thesis\\lib\\site-packages\\sklearn\\ensemble\\_gb.py\", line 423, in fit\n",
      "    y = self._validate_y(y, sample_weight)\n",
      "  File \"d:\\pycharmprojects\\thesis\\lib\\site-packages\\sklearn\\ensemble\\_gb.py\", line 1107, in _validate_y\n",
      "    raise ValueError(\"y contains %d class after sample_weight \"\n",
      "ValueError: y contains 1 class after sample_weight trimmed classes with zero weights, while a minimum of 2 classes are required.\n",
      "\n",
      "  warnings.warn(\"Estimator fit failed. The score on this train-test\"\n",
      "d:\\pycharmprojects\\thesis\\lib\\site-packages\\sklearn\\model_selection\\_validation.py:610: FitFailedWarning: Estimator fit failed. The score on this train-test partition for these parameters will be set to nan. Details: \n",
      "Traceback (most recent call last):\n",
      "  File \"d:\\pycharmprojects\\thesis\\lib\\site-packages\\sklearn\\model_selection\\_validation.py\", line 593, in _fit_and_score\n",
      "    estimator.fit(X_train, y_train, **fit_params)\n",
      "  File \"d:\\pycharmprojects\\thesis\\lib\\site-packages\\sklearn\\multioutput.py\", line 368, in fit\n",
      "    super().fit(X, Y, sample_weight, **fit_params)\n",
      "  File \"d:\\pycharmprojects\\thesis\\lib\\site-packages\\sklearn\\multioutput.py\", line 178, in fit\n",
      "    self.estimators_ = Parallel(n_jobs=self.n_jobs)(\n",
      "  File \"d:\\pycharmprojects\\thesis\\lib\\site-packages\\joblib\\parallel.py\", line 1041, in __call__\n",
      "    if self.dispatch_one_batch(iterator):\n",
      "  File \"d:\\pycharmprojects\\thesis\\lib\\site-packages\\joblib\\parallel.py\", line 859, in dispatch_one_batch\n",
      "    self._dispatch(tasks)\n",
      "  File \"d:\\pycharmprojects\\thesis\\lib\\site-packages\\joblib\\parallel.py\", line 777, in _dispatch\n",
      "    job = self._backend.apply_async(batch, callback=cb)\n",
      "  File \"d:\\pycharmprojects\\thesis\\lib\\site-packages\\joblib\\_parallel_backends.py\", line 208, in apply_async\n",
      "    result = ImmediateResult(func)\n",
      "  File \"d:\\pycharmprojects\\thesis\\lib\\site-packages\\joblib\\_parallel_backends.py\", line 572, in __init__\n",
      "    self.results = batch()\n",
      "  File \"d:\\pycharmprojects\\thesis\\lib\\site-packages\\joblib\\parallel.py\", line 262, in __call__\n",
      "    return [func(*args, **kwargs)\n",
      "  File \"d:\\pycharmprojects\\thesis\\lib\\site-packages\\joblib\\parallel.py\", line 262, in <listcomp>\n",
      "    return [func(*args, **kwargs)\n",
      "  File \"d:\\pycharmprojects\\thesis\\lib\\site-packages\\sklearn\\utils\\fixes.py\", line 222, in __call__\n",
      "    return self.function(*args, **kwargs)\n",
      "  File \"d:\\pycharmprojects\\thesis\\lib\\site-packages\\sklearn\\multioutput.py\", line 41, in _fit_estimator\n",
      "    estimator.fit(X, y, **fit_params)\n",
      "  File \"d:\\pycharmprojects\\thesis\\lib\\site-packages\\sklearn\\ensemble\\_gb.py\", line 423, in fit\n",
      "    y = self._validate_y(y, sample_weight)\n",
      "  File \"d:\\pycharmprojects\\thesis\\lib\\site-packages\\sklearn\\ensemble\\_gb.py\", line 1107, in _validate_y\n",
      "    raise ValueError(\"y contains %d class after sample_weight \"\n",
      "ValueError: y contains 1 class after sample_weight trimmed classes with zero weights, while a minimum of 2 classes are required.\n",
      "\n",
      "  warnings.warn(\"Estimator fit failed. The score on this train-test\"\n",
      "d:\\pycharmprojects\\thesis\\lib\\site-packages\\sklearn\\model_selection\\_validation.py:610: FitFailedWarning: Estimator fit failed. The score on this train-test partition for these parameters will be set to nan. Details: \n",
      "Traceback (most recent call last):\n",
      "  File \"d:\\pycharmprojects\\thesis\\lib\\site-packages\\sklearn\\model_selection\\_validation.py\", line 593, in _fit_and_score\n",
      "    estimator.fit(X_train, y_train, **fit_params)\n",
      "  File \"d:\\pycharmprojects\\thesis\\lib\\site-packages\\sklearn\\multioutput.py\", line 368, in fit\n",
      "    super().fit(X, Y, sample_weight, **fit_params)\n",
      "  File \"d:\\pycharmprojects\\thesis\\lib\\site-packages\\sklearn\\multioutput.py\", line 178, in fit\n",
      "    self.estimators_ = Parallel(n_jobs=self.n_jobs)(\n",
      "  File \"d:\\pycharmprojects\\thesis\\lib\\site-packages\\joblib\\parallel.py\", line 1044, in __call__\n",
      "    while self.dispatch_one_batch(iterator):\n",
      "  File \"d:\\pycharmprojects\\thesis\\lib\\site-packages\\joblib\\parallel.py\", line 859, in dispatch_one_batch\n",
      "    self._dispatch(tasks)\n",
      "  File \"d:\\pycharmprojects\\thesis\\lib\\site-packages\\joblib\\parallel.py\", line 777, in _dispatch\n",
      "    job = self._backend.apply_async(batch, callback=cb)\n",
      "  File \"d:\\pycharmprojects\\thesis\\lib\\site-packages\\joblib\\_parallel_backends.py\", line 208, in apply_async\n",
      "    result = ImmediateResult(func)\n",
      "  File \"d:\\pycharmprojects\\thesis\\lib\\site-packages\\joblib\\_parallel_backends.py\", line 572, in __init__\n",
      "    self.results = batch()\n",
      "  File \"d:\\pycharmprojects\\thesis\\lib\\site-packages\\joblib\\parallel.py\", line 262, in __call__\n",
      "    return [func(*args, **kwargs)\n",
      "  File \"d:\\pycharmprojects\\thesis\\lib\\site-packages\\joblib\\parallel.py\", line 262, in <listcomp>\n",
      "    return [func(*args, **kwargs)\n",
      "  File \"d:\\pycharmprojects\\thesis\\lib\\site-packages\\sklearn\\utils\\fixes.py\", line 222, in __call__\n",
      "    return self.function(*args, **kwargs)\n",
      "  File \"d:\\pycharmprojects\\thesis\\lib\\site-packages\\sklearn\\multioutput.py\", line 41, in _fit_estimator\n",
      "    estimator.fit(X, y, **fit_params)\n",
      "  File \"d:\\pycharmprojects\\thesis\\lib\\site-packages\\sklearn\\ensemble\\_gb.py\", line 423, in fit\n",
      "    y = self._validate_y(y, sample_weight)\n",
      "  File \"d:\\pycharmprojects\\thesis\\lib\\site-packages\\sklearn\\ensemble\\_gb.py\", line 1107, in _validate_y\n",
      "    raise ValueError(\"y contains %d class after sample_weight \"\n",
      "ValueError: y contains 1 class after sample_weight trimmed classes with zero weights, while a minimum of 2 classes are required.\n",
      "\n",
      "  warnings.warn(\"Estimator fit failed. The score on this train-test\"\n",
      "d:\\pycharmprojects\\thesis\\lib\\site-packages\\sklearn\\model_selection\\_validation.py:610: FitFailedWarning: Estimator fit failed. The score on this train-test partition for these parameters will be set to nan. Details: \n",
      "Traceback (most recent call last):\n",
      "  File \"d:\\pycharmprojects\\thesis\\lib\\site-packages\\sklearn\\model_selection\\_validation.py\", line 593, in _fit_and_score\n",
      "    estimator.fit(X_train, y_train, **fit_params)\n",
      "  File \"d:\\pycharmprojects\\thesis\\lib\\site-packages\\sklearn\\multioutput.py\", line 368, in fit\n",
      "    super().fit(X, Y, sample_weight, **fit_params)\n",
      "  File \"d:\\pycharmprojects\\thesis\\lib\\site-packages\\sklearn\\multioutput.py\", line 178, in fit\n",
      "    self.estimators_ = Parallel(n_jobs=self.n_jobs)(\n",
      "  File \"d:\\pycharmprojects\\thesis\\lib\\site-packages\\joblib\\parallel.py\", line 1041, in __call__\n",
      "    if self.dispatch_one_batch(iterator):\n",
      "  File \"d:\\pycharmprojects\\thesis\\lib\\site-packages\\joblib\\parallel.py\", line 859, in dispatch_one_batch\n",
      "    self._dispatch(tasks)\n",
      "  File \"d:\\pycharmprojects\\thesis\\lib\\site-packages\\joblib\\parallel.py\", line 777, in _dispatch\n",
      "    job = self._backend.apply_async(batch, callback=cb)\n",
      "  File \"d:\\pycharmprojects\\thesis\\lib\\site-packages\\joblib\\_parallel_backends.py\", line 208, in apply_async\n",
      "    result = ImmediateResult(func)\n",
      "  File \"d:\\pycharmprojects\\thesis\\lib\\site-packages\\joblib\\_parallel_backends.py\", line 572, in __init__\n",
      "    self.results = batch()\n",
      "  File \"d:\\pycharmprojects\\thesis\\lib\\site-packages\\joblib\\parallel.py\", line 262, in __call__\n",
      "    return [func(*args, **kwargs)\n",
      "  File \"d:\\pycharmprojects\\thesis\\lib\\site-packages\\joblib\\parallel.py\", line 262, in <listcomp>\n",
      "    return [func(*args, **kwargs)\n",
      "  File \"d:\\pycharmprojects\\thesis\\lib\\site-packages\\sklearn\\utils\\fixes.py\", line 222, in __call__\n",
      "    return self.function(*args, **kwargs)\n",
      "  File \"d:\\pycharmprojects\\thesis\\lib\\site-packages\\sklearn\\multioutput.py\", line 41, in _fit_estimator\n",
      "    estimator.fit(X, y, **fit_params)\n",
      "  File \"d:\\pycharmprojects\\thesis\\lib\\site-packages\\sklearn\\ensemble\\_gb.py\", line 423, in fit\n",
      "    y = self._validate_y(y, sample_weight)\n",
      "  File \"d:\\pycharmprojects\\thesis\\lib\\site-packages\\sklearn\\ensemble\\_gb.py\", line 1107, in _validate_y\n",
      "    raise ValueError(\"y contains %d class after sample_weight \"\n",
      "ValueError: y contains 1 class after sample_weight trimmed classes with zero weights, while a minimum of 2 classes are required.\n",
      "\n",
      "  warnings.warn(\"Estimator fit failed. The score on this train-test\"\n",
      "d:\\pycharmprojects\\thesis\\lib\\site-packages\\sklearn\\model_selection\\_validation.py:610: FitFailedWarning: Estimator fit failed. The score on this train-test partition for these parameters will be set to nan. Details: \n",
      "Traceback (most recent call last):\n",
      "  File \"d:\\pycharmprojects\\thesis\\lib\\site-packages\\sklearn\\model_selection\\_validation.py\", line 593, in _fit_and_score\n",
      "    estimator.fit(X_train, y_train, **fit_params)\n",
      "  File \"d:\\pycharmprojects\\thesis\\lib\\site-packages\\sklearn\\multioutput.py\", line 368, in fit\n",
      "    super().fit(X, Y, sample_weight, **fit_params)\n",
      "  File \"d:\\pycharmprojects\\thesis\\lib\\site-packages\\sklearn\\multioutput.py\", line 178, in fit\n",
      "    self.estimators_ = Parallel(n_jobs=self.n_jobs)(\n",
      "  File \"d:\\pycharmprojects\\thesis\\lib\\site-packages\\joblib\\parallel.py\", line 1044, in __call__\n",
      "    while self.dispatch_one_batch(iterator):\n",
      "  File \"d:\\pycharmprojects\\thesis\\lib\\site-packages\\joblib\\parallel.py\", line 859, in dispatch_one_batch\n",
      "    self._dispatch(tasks)\n",
      "  File \"d:\\pycharmprojects\\thesis\\lib\\site-packages\\joblib\\parallel.py\", line 777, in _dispatch\n",
      "    job = self._backend.apply_async(batch, callback=cb)\n",
      "  File \"d:\\pycharmprojects\\thesis\\lib\\site-packages\\joblib\\_parallel_backends.py\", line 208, in apply_async\n",
      "    result = ImmediateResult(func)\n",
      "  File \"d:\\pycharmprojects\\thesis\\lib\\site-packages\\joblib\\_parallel_backends.py\", line 572, in __init__\n",
      "    self.results = batch()\n",
      "  File \"d:\\pycharmprojects\\thesis\\lib\\site-packages\\joblib\\parallel.py\", line 262, in __call__\n",
      "    return [func(*args, **kwargs)\n",
      "  File \"d:\\pycharmprojects\\thesis\\lib\\site-packages\\joblib\\parallel.py\", line 262, in <listcomp>\n",
      "    return [func(*args, **kwargs)\n",
      "  File \"d:\\pycharmprojects\\thesis\\lib\\site-packages\\sklearn\\utils\\fixes.py\", line 222, in __call__\n",
      "    return self.function(*args, **kwargs)\n",
      "  File \"d:\\pycharmprojects\\thesis\\lib\\site-packages\\sklearn\\multioutput.py\", line 41, in _fit_estimator\n",
      "    estimator.fit(X, y, **fit_params)\n",
      "  File \"d:\\pycharmprojects\\thesis\\lib\\site-packages\\sklearn\\ensemble\\_gb.py\", line 423, in fit\n",
      "    y = self._validate_y(y, sample_weight)\n",
      "  File \"d:\\pycharmprojects\\thesis\\lib\\site-packages\\sklearn\\ensemble\\_gb.py\", line 1107, in _validate_y\n",
      "    raise ValueError(\"y contains %d class after sample_weight \"\n",
      "ValueError: y contains 1 class after sample_weight trimmed classes with zero weights, while a minimum of 2 classes are required.\n",
      "\n",
      "  warnings.warn(\"Estimator fit failed. The score on this train-test\"\n",
      "d:\\pycharmprojects\\thesis\\lib\\site-packages\\sklearn\\model_selection\\_validation.py:610: FitFailedWarning: Estimator fit failed. The score on this train-test partition for these parameters will be set to nan. Details: \n",
      "Traceback (most recent call last):\n",
      "  File \"d:\\pycharmprojects\\thesis\\lib\\site-packages\\sklearn\\model_selection\\_validation.py\", line 593, in _fit_and_score\n",
      "    estimator.fit(X_train, y_train, **fit_params)\n",
      "  File \"d:\\pycharmprojects\\thesis\\lib\\site-packages\\sklearn\\multioutput.py\", line 368, in fit\n",
      "    super().fit(X, Y, sample_weight, **fit_params)\n",
      "  File \"d:\\pycharmprojects\\thesis\\lib\\site-packages\\sklearn\\multioutput.py\", line 178, in fit\n",
      "    self.estimators_ = Parallel(n_jobs=self.n_jobs)(\n",
      "  File \"d:\\pycharmprojects\\thesis\\lib\\site-packages\\joblib\\parallel.py\", line 1041, in __call__\n",
      "    if self.dispatch_one_batch(iterator):\n",
      "  File \"d:\\pycharmprojects\\thesis\\lib\\site-packages\\joblib\\parallel.py\", line 859, in dispatch_one_batch\n",
      "    self._dispatch(tasks)\n",
      "  File \"d:\\pycharmprojects\\thesis\\lib\\site-packages\\joblib\\parallel.py\", line 777, in _dispatch\n",
      "    job = self._backend.apply_async(batch, callback=cb)\n",
      "  File \"d:\\pycharmprojects\\thesis\\lib\\site-packages\\joblib\\_parallel_backends.py\", line 208, in apply_async\n",
      "    result = ImmediateResult(func)\n",
      "  File \"d:\\pycharmprojects\\thesis\\lib\\site-packages\\joblib\\_parallel_backends.py\", line 572, in __init__\n",
      "    self.results = batch()\n",
      "  File \"d:\\pycharmprojects\\thesis\\lib\\site-packages\\joblib\\parallel.py\", line 262, in __call__\n",
      "    return [func(*args, **kwargs)\n",
      "  File \"d:\\pycharmprojects\\thesis\\lib\\site-packages\\joblib\\parallel.py\", line 262, in <listcomp>\n",
      "    return [func(*args, **kwargs)\n",
      "  File \"d:\\pycharmprojects\\thesis\\lib\\site-packages\\sklearn\\utils\\fixes.py\", line 222, in __call__\n",
      "    return self.function(*args, **kwargs)\n",
      "  File \"d:\\pycharmprojects\\thesis\\lib\\site-packages\\sklearn\\multioutput.py\", line 41, in _fit_estimator\n",
      "    estimator.fit(X, y, **fit_params)\n",
      "  File \"d:\\pycharmprojects\\thesis\\lib\\site-packages\\sklearn\\ensemble\\_gb.py\", line 423, in fit\n",
      "    y = self._validate_y(y, sample_weight)\n",
      "  File \"d:\\pycharmprojects\\thesis\\lib\\site-packages\\sklearn\\ensemble\\_gb.py\", line 1107, in _validate_y\n",
      "    raise ValueError(\"y contains %d class after sample_weight \"\n",
      "ValueError: y contains 1 class after sample_weight trimmed classes with zero weights, while a minimum of 2 classes are required.\n",
      "\n",
      "  warnings.warn(\"Estimator fit failed. The score on this train-test\"\n",
      "d:\\pycharmprojects\\thesis\\lib\\site-packages\\sklearn\\model_selection\\_validation.py:610: FitFailedWarning: Estimator fit failed. The score on this train-test partition for these parameters will be set to nan. Details: \n",
      "Traceback (most recent call last):\n",
      "  File \"d:\\pycharmprojects\\thesis\\lib\\site-packages\\sklearn\\model_selection\\_validation.py\", line 593, in _fit_and_score\n",
      "    estimator.fit(X_train, y_train, **fit_params)\n",
      "  File \"d:\\pycharmprojects\\thesis\\lib\\site-packages\\sklearn\\multioutput.py\", line 368, in fit\n",
      "    super().fit(X, Y, sample_weight, **fit_params)\n",
      "  File \"d:\\pycharmprojects\\thesis\\lib\\site-packages\\sklearn\\multioutput.py\", line 178, in fit\n",
      "    self.estimators_ = Parallel(n_jobs=self.n_jobs)(\n",
      "  File \"d:\\pycharmprojects\\thesis\\lib\\site-packages\\joblib\\parallel.py\", line 1044, in __call__\n",
      "    while self.dispatch_one_batch(iterator):\n",
      "  File \"d:\\pycharmprojects\\thesis\\lib\\site-packages\\joblib\\parallel.py\", line 859, in dispatch_one_batch\n",
      "    self._dispatch(tasks)\n",
      "  File \"d:\\pycharmprojects\\thesis\\lib\\site-packages\\joblib\\parallel.py\", line 777, in _dispatch\n",
      "    job = self._backend.apply_async(batch, callback=cb)\n",
      "  File \"d:\\pycharmprojects\\thesis\\lib\\site-packages\\joblib\\_parallel_backends.py\", line 208, in apply_async\n",
      "    result = ImmediateResult(func)\n",
      "  File \"d:\\pycharmprojects\\thesis\\lib\\site-packages\\joblib\\_parallel_backends.py\", line 572, in __init__\n",
      "    self.results = batch()\n",
      "  File \"d:\\pycharmprojects\\thesis\\lib\\site-packages\\joblib\\parallel.py\", line 262, in __call__\n",
      "    return [func(*args, **kwargs)\n",
      "  File \"d:\\pycharmprojects\\thesis\\lib\\site-packages\\joblib\\parallel.py\", line 262, in <listcomp>\n",
      "    return [func(*args, **kwargs)\n",
      "  File \"d:\\pycharmprojects\\thesis\\lib\\site-packages\\sklearn\\utils\\fixes.py\", line 222, in __call__\n",
      "    return self.function(*args, **kwargs)\n",
      "  File \"d:\\pycharmprojects\\thesis\\lib\\site-packages\\sklearn\\multioutput.py\", line 41, in _fit_estimator\n",
      "    estimator.fit(X, y, **fit_params)\n",
      "  File \"d:\\pycharmprojects\\thesis\\lib\\site-packages\\sklearn\\ensemble\\_gb.py\", line 423, in fit\n",
      "    y = self._validate_y(y, sample_weight)\n",
      "  File \"d:\\pycharmprojects\\thesis\\lib\\site-packages\\sklearn\\ensemble\\_gb.py\", line 1107, in _validate_y\n",
      "    raise ValueError(\"y contains %d class after sample_weight \"\n",
      "ValueError: y contains 1 class after sample_weight trimmed classes with zero weights, while a minimum of 2 classes are required.\n",
      "\n",
      "  warnings.warn(\"Estimator fit failed. The score on this train-test\"\n",
      "d:\\pycharmprojects\\thesis\\lib\\site-packages\\sklearn\\model_selection\\_search.py:918: UserWarning: One or more of the test scores are non-finite: [nan nan nan nan nan nan nan nan nan nan nan nan]\n",
      "  warnings.warn(\n"
     ]
    },
    {
     "name": "stdout",
     "output_type": "stream",
     "text": [
      "    mean_fit_time  std_fit_time  mean_score_time  std_score_time  \\\n",
      "0       59.135624     29.927876         0.070327        0.061790   \n",
      "1      114.347067     57.906527         0.098699        0.080603   \n",
      "2      223.752795    113.333648         0.203791        0.166400   \n",
      "3      538.774498    272.079843         0.511077        0.417478   \n",
      "4      646.289796    326.261464         0.704478        0.601648   \n",
      "5      637.544571    320.173366         0.678305        0.573692   \n",
      "6       62.519360     31.633167         0.063335        0.051841   \n",
      "7      122.451493     61.849692         0.099799        0.081530   \n",
      "8      241.872070    122.733748         0.209288        0.170991   \n",
      "9      584.192732    294.766545         0.534658        0.436798   \n",
      "10     664.680953    333.331205         0.732554        0.626760   \n",
      "11     613.505655    308.120380         0.663624        0.565305   \n",
      "\n",
      "   param_estimator__loss param_estimator__max_depth  \\\n",
      "0               deviance                          2   \n",
      "1               deviance                          4   \n",
      "2               deviance                          8   \n",
      "3               deviance                         16   \n",
      "4               deviance                         30   \n",
      "5               deviance                         40   \n",
      "6            exponential                          2   \n",
      "7            exponential                          4   \n",
      "8            exponential                          8   \n",
      "9            exponential                         16   \n",
      "10           exponential                         30   \n",
      "11           exponential                         40   \n",
      "\n",
      "                                               params  split0_test_score  \\\n",
      "0   {'estimator__loss': 'deviance', 'estimator__ma...                NaN   \n",
      "1   {'estimator__loss': 'deviance', 'estimator__ma...                NaN   \n",
      "2   {'estimator__loss': 'deviance', 'estimator__ma...                NaN   \n",
      "3   {'estimator__loss': 'deviance', 'estimator__ma...                NaN   \n",
      "4   {'estimator__loss': 'deviance', 'estimator__ma...                NaN   \n",
      "5   {'estimator__loss': 'deviance', 'estimator__ma...                NaN   \n",
      "6   {'estimator__loss': 'exponential', 'estimator_...                NaN   \n",
      "7   {'estimator__loss': 'exponential', 'estimator_...                NaN   \n",
      "8   {'estimator__loss': 'exponential', 'estimator_...                NaN   \n",
      "9   {'estimator__loss': 'exponential', 'estimator_...                NaN   \n",
      "10  {'estimator__loss': 'exponential', 'estimator_...                NaN   \n",
      "11  {'estimator__loss': 'exponential', 'estimator_...                NaN   \n",
      "\n",
      "    split1_test_score  split2_test_score  split3_test_score  \\\n",
      "0            0.013662           0.005405           0.008158   \n",
      "1            0.017966           0.019819           0.020019   \n",
      "2            0.025823           0.060908           0.043091   \n",
      "3            0.035782           0.131375           0.047195   \n",
      "4            0.030578           0.110905           0.045443   \n",
      "5            0.030778           0.145488           0.044342   \n",
      "6            0.012261           0.000701           0.008608   \n",
      "7            0.015414           0.002152           0.018618   \n",
      "8            0.023121           0.011261           0.033932   \n",
      "9            0.032029           0.067564           0.041439   \n",
      "10           0.029527           0.136129           0.044592   \n",
      "11           0.029276           0.128472           0.043842   \n",
      "\n",
      "    split4_test_score  mean_test_score  std_test_score  rank_test_score  \n",
      "0                 NaN              NaN             NaN                1  \n",
      "1                 NaN              NaN             NaN                2  \n",
      "2                 NaN              NaN             NaN                3  \n",
      "3                 NaN              NaN             NaN                4  \n",
      "4                 NaN              NaN             NaN                5  \n",
      "5                 NaN              NaN             NaN                6  \n",
      "6                 NaN              NaN             NaN                7  \n",
      "7                 NaN              NaN             NaN                8  \n",
      "8                 NaN              NaN             NaN                9  \n",
      "9                 NaN              NaN             NaN               10  \n",
      "10                NaN              NaN             NaN               11  \n",
      "11                NaN              NaN             NaN               12  \n",
      "Best test set score: nan with {'estimator__loss': 'deviance', 'estimator__max_depth': 2} parameters.\n"
     ]
    }
   ]
  },
  {
   "cell_type": "markdown",
   "source": [
    "### Multi-Layered Perceptron (MLP)"
   ],
   "metadata": {
    "collapsed": false,
    "pycharm": {
     "name": "#%% md\n"
    }
   }
  },
  {
   "cell_type": "code",
   "source": [
    "from sklearn.neural_network import MLPClassifier\n",
    "from sklearn.model_selection import GridSearchCV\n",
    "\n",
    "param_grid = {\n",
    "    'hidden_layer_sizes': [(5, 10, 5), (15, 30, 15), (5, 10, 10, 5), (15, 30, 5)],\n",
    "    'activation': ['tanh', 'relu'],\n",
    "    'solver': ['adam'],\n",
    "    'alpha': [0.0001, 0.05],\n",
    "    'learning_rate': ['constant']\n",
    "}\n",
    "\n",
    "grid_search = GridSearchCV(MLPClassifier(max_iter=10000), param_grid, cv=5)\n",
    "\n",
    "grid_search.fit(X_train, y_train)\n",
    "MLP_ResultsDf = pd.DataFrame(grid_search.cv_results_)\n",
    "\n",
    "print(MLP_ResultsDf)\n",
    "print(f\"Best test set score: {grid_search.best_score_} with {grid_search.best_params_} parameters.\")\n",
    "\n",
    "y_true, y_pred = y_test , grid_search.predict(X_test)\n",
    "\n",
    "from sklearn.metrics import classification_report\n",
    "print('Results on the test set:')\n",
    "print(classification_report(y_true, y_pred))\n"
   ],
   "metadata": {
    "collapsed": false,
    "pycharm": {
     "name": "#%%\n"
    }
   },
   "execution_count": 41,
   "outputs": [
    {
     "name": "stdout",
     "output_type": "stream",
     "text": [
      "    mean_fit_time  std_fit_time  mean_score_time  std_score_time  \\\n",
      "0       85.797714     28.986871         0.023576        0.015184   \n",
      "1      181.307874     45.027119         0.033765        0.000748   \n",
      "2       85.922184     27.049607         0.019580        0.001019   \n",
      "3      216.627694     60.491852         0.029969        0.000632   \n",
      "4       95.460813     44.428334         0.015984        0.000894   \n",
      "5      191.549783     16.293880         0.033366        0.000489   \n",
      "6      110.734967     21.939530         0.019380        0.000489   \n",
      "7      189.392893     19.869432         0.029569        0.001742   \n",
      "8       69.917379     10.783156         0.015983        0.002605   \n",
      "9      179.152282     48.206057         0.038161        0.005149   \n",
      "10      67.214547     31.321487         0.020180        0.001719   \n",
      "11     146.388644     33.351295         0.029969        0.005686   \n",
      "12      69.442867     15.095035         0.016583        0.001019   \n",
      "13     174.761180     33.914592         0.039759        0.007131   \n",
      "14      69.399909     14.333846         0.019780        0.000748   \n",
      "15     170.103351     49.366071         0.030569        0.004837   \n",
      "\n",
      "   param_activation param_alpha param_hidden_layer_sizes param_learning_rate  \\\n",
      "0              tanh      0.0001               (5, 10, 5)            constant   \n",
      "1              tanh      0.0001             (15, 30, 15)            constant   \n",
      "2              tanh      0.0001           (5, 10, 10, 5)            constant   \n",
      "3              tanh      0.0001              (15, 30, 5)            constant   \n",
      "4              tanh        0.05               (5, 10, 5)            constant   \n",
      "5              tanh        0.05             (15, 30, 15)            constant   \n",
      "6              tanh        0.05           (5, 10, 10, 5)            constant   \n",
      "7              tanh        0.05              (15, 30, 5)            constant   \n",
      "8              relu      0.0001               (5, 10, 5)            constant   \n",
      "9              relu      0.0001             (15, 30, 15)            constant   \n",
      "10             relu      0.0001           (5, 10, 10, 5)            constant   \n",
      "11             relu      0.0001              (15, 30, 5)            constant   \n",
      "12             relu        0.05               (5, 10, 5)            constant   \n",
      "13             relu        0.05             (15, 30, 15)            constant   \n",
      "14             relu        0.05           (5, 10, 10, 5)            constant   \n",
      "15             relu        0.05              (15, 30, 5)            constant   \n",
      "\n",
      "   param_solver                                             params  \\\n",
      "0          adam  {'activation': 'tanh', 'alpha': 0.0001, 'hidde...   \n",
      "1          adam  {'activation': 'tanh', 'alpha': 0.0001, 'hidde...   \n",
      "2          adam  {'activation': 'tanh', 'alpha': 0.0001, 'hidde...   \n",
      "3          adam  {'activation': 'tanh', 'alpha': 0.0001, 'hidde...   \n",
      "4          adam  {'activation': 'tanh', 'alpha': 0.05, 'hidden_...   \n",
      "5          adam  {'activation': 'tanh', 'alpha': 0.05, 'hidden_...   \n",
      "6          adam  {'activation': 'tanh', 'alpha': 0.05, 'hidden_...   \n",
      "7          adam  {'activation': 'tanh', 'alpha': 0.05, 'hidden_...   \n",
      "8          adam  {'activation': 'relu', 'alpha': 0.0001, 'hidde...   \n",
      "9          adam  {'activation': 'relu', 'alpha': 0.0001, 'hidde...   \n",
      "10         adam  {'activation': 'relu', 'alpha': 0.0001, 'hidde...   \n",
      "11         adam  {'activation': 'relu', 'alpha': 0.0001, 'hidde...   \n",
      "12         adam  {'activation': 'relu', 'alpha': 0.05, 'hidden_...   \n",
      "13         adam  {'activation': 'relu', 'alpha': 0.05, 'hidden_...   \n",
      "14         adam  {'activation': 'relu', 'alpha': 0.05, 'hidden_...   \n",
      "15         adam  {'activation': 'relu', 'alpha': 0.05, 'hidden_...   \n",
      "\n",
      "    split0_test_score  split1_test_score  split2_test_score  \\\n",
      "0                 0.0           0.011761           0.002602   \n",
      "1                 0.0           0.019017           0.002402   \n",
      "2                 0.0           0.015464           0.002502   \n",
      "3                 0.0           0.022120           0.002853   \n",
      "4                 0.0           0.014213           0.002302   \n",
      "5                 0.0           0.017215           0.002602   \n",
      "6                 0.0           0.015014           0.002052   \n",
      "7                 0.0           0.018617           0.002252   \n",
      "8                 0.0           0.015114           0.002552   \n",
      "9                 0.0           0.014313           0.002452   \n",
      "10                0.0           0.011460           0.002302   \n",
      "11                0.0           0.012361           0.002552   \n",
      "12                0.0           0.009358           0.002202   \n",
      "13                0.0           0.017616           0.002552   \n",
      "14                0.0           0.011260           0.002202   \n",
      "15                0.0           0.017215           0.002252   \n",
      "\n",
      "    split3_test_score  split4_test_score  mean_test_score  std_test_score  \\\n",
      "0            0.020670           0.008108         0.008628        0.007292   \n",
      "1            0.031330           0.008208         0.012191        0.011603   \n",
      "2            0.021020           0.008208         0.009439        0.007863   \n",
      "3            0.029728           0.008058         0.012552        0.011475   \n",
      "4            0.024273           0.007958         0.009749        0.008770   \n",
      "5            0.026425           0.008258         0.010900        0.009752   \n",
      "6            0.016666           0.008058         0.008358        0.006679   \n",
      "7            0.028978           0.008158         0.011601        0.010817   \n",
      "8            0.019569           0.007908         0.009028        0.007387   \n",
      "9            0.028577           0.008008         0.010670        0.010222   \n",
      "10           0.019268           0.008058         0.008218        0.006858   \n",
      "11           0.027526           0.008158         0.010119        0.009711   \n",
      "12           0.018317           0.007908         0.007557        0.006402   \n",
      "13           0.026675           0.008158         0.011000        0.009899   \n",
      "14           0.000000           0.008158         0.004324        0.004576   \n",
      "15           0.025074           0.008008         0.010510        0.009402   \n",
      "\n",
      "    rank_test_score  \n",
      "0                12  \n",
      "1                 2  \n",
      "2                10  \n",
      "3                 1  \n",
      "4                 9  \n",
      "5                 5  \n",
      "6                13  \n",
      "7                 3  \n",
      "8                11  \n",
      "9                 6  \n",
      "10               14  \n",
      "11                8  \n",
      "12               15  \n",
      "13                4  \n",
      "14               16  \n",
      "15                7  \n",
      "Best test set score: 0.012551702918693588 with {'activation': 'tanh', 'alpha': 0.0001, 'hidden_layer_sizes': (15, 30, 5), 'learning_rate': 'constant', 'solver': 'adam'} parameters.\n",
      "Results on the test set:\n",
      "              precision    recall  f1-score   support\n",
      "\n",
      "           0       0.87      0.19      0.32      2422\n",
      "           1       0.23      0.14      0.17       776\n",
      "           2       0.04      0.17      0.07       102\n",
      "           3       0.03      0.30      0.06        40\n",
      "           4       0.33      0.35      0.34       135\n",
      "           5       0.70      0.66      0.68       250\n",
      "\n",
      "   micro avg       0.38      0.22      0.28      3725\n",
      "   macro avg       0.37      0.30      0.27      3725\n",
      "weighted avg       0.67      0.22      0.30      3725\n",
      " samples avg       0.22      0.22      0.22      3725\n",
      "\n"
     ]
    },
    {
     "name": "stderr",
     "output_type": "stream",
     "text": [
      "d:\\pycharmprojects\\thesis\\lib\\site-packages\\sklearn\\metrics\\_classification.py:1245: UndefinedMetricWarning: Precision and F-score are ill-defined and being set to 0.0 in samples with no predicted labels. Use `zero_division` parameter to control this behavior.\n",
      "  _warn_prf(average, modifier, msg_start, len(result))\n"
     ]
    }
   ]
  },
  {
   "cell_type": "code",
   "execution_count": null,
   "outputs": [
    {
     "name": "stderr",
     "output_type": "stream",
     "text": [
      "d:\\pycharmprojects\\thesis\\lib\\site-packages\\sklearn\\neural_network\\_multilayer_perceptron.py:619: UserWarning: Training interrupted by user.\n",
      "  warnings.warn(\"Training interrupted by user.\")\n"
     ]
    }
   ],
   "source": [
    "from sklearn.neural_network import MLPClassifier\n",
    "from sklearn.model_selection import GridSearchCV\n",
    "\n",
    "param_grid = {\n",
    "    'hidden_layer_sizes': [(5, 10, 5), (15, 30, 15), (5, 10, 10, 5), (15, 30, 5)],\n",
    "    'activation': ['tanh', 'relu'],\n",
    "    'solver': ['adam'],\n",
    "    'alpha': [0.0001, 0.05],\n",
    "    'learning_rate': ['constant']\n",
    "}\n",
    "\n",
    "grid_search = GridSearchCV(MLPClassifier(max_iter=10000), param_grid, cv=5)\n",
    "\n",
    "grid_search.fit(X_train, y_train)\n",
    "scores = grid_search.cv_results_['mean_test_score']\n",
    "print(scores)\n",
    "\n",
    "y_true, y_pred = y_test , grid_search.predict(X_test)\n",
    "\n",
    "from sklearn.metrics import classification_report\n",
    "print('Results on the test set:')\n",
    "print(classification_report(y_true, y_pred))\n",
    "\n",
    "print('Best parameters found:\\n', grid_search.best_params_)\n",
    "print(\"Test set score: {:.2f}\".format(grid_search.score(X_test, y_test)))\n"
   ],
   "metadata": {
    "collapsed": false,
    "pycharm": {
     "name": "#%%\n",
     "is_executing": true
    }
   }
  }
 ],
 "metadata": {
  "kernelspec": {
   "display_name": "Python 3",
   "language": "python",
   "name": "python3"
  },
  "language_info": {
   "codemirror_mode": {
    "name": "ipython",
    "version": 2
   },
   "file_extension": ".py",
   "mimetype": "text/x-python",
   "name": "python",
   "nbconvert_exporter": "python",
   "pygments_lexer": "ipython2",
   "version": "2.7.6"
  }
 },
 "nbformat": 4,
 "nbformat_minor": 0
}