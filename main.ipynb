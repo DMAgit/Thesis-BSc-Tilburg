{
 "cells": [
  {
   "cell_type": "markdown",
   "metadata": {
    "collapsed": true,
    "pycharm": {
     "name": "#%% md\n"
    }
   },
   "source": [
    "Title\n",
    "\n",
    "Description"
   ]
  },
  {
   "cell_type": "markdown",
   "source": [
    "Importing packages."
   ],
   "metadata": {
    "collapsed": false,
    "pycharm": {
     "name": "#%% md\n"
    }
   }
  },
  {
   "cell_type": "code",
   "execution_count": 35,
   "outputs": [],
   "source": [
    "import sklearn\n",
    "import pandas as pd"
   ],
   "metadata": {
    "collapsed": false,
    "pycharm": {
     "name": "#%%\n"
    }
   }
  },
  {
   "cell_type": "markdown",
   "source": [
    "Importing data into pandas DataFrame."
   ],
   "metadata": {
    "collapsed": false,
    "pycharm": {
     "name": "#%% md\n"
    }
   }
  },
  {
   "cell_type": "code",
   "execution_count": 36,
   "outputs": [
    {
     "data": {
      "text/plain": "      fire_size_class   latitude   longitude discovery_month  weekday  \\\n25392               B  39.737500  -75.004170             Jul    False   \n5351                B  39.126700 -108.814400             Jul    False   \n13530               B  33.570052  -89.871081             Sep    False   \n27735               C  46.383300 -100.600400             Oct     True   \n578                 B  31.454550  -89.729667             Feb     True   \n\n                                Vegetation  remoteness  elevation       Temp  \\\n25392                                  NaN    0.070021       49.0  24.817927   \n5351                                   NaN    0.382645     1708.0  27.340425   \n13530  Tropical Evergreen Broadleaf Forest    0.205944      123.0  25.266219   \n27735                            Grassland    0.300536      523.0  10.804491   \n578                         Open Shrubland    0.206151      117.0   5.217080   \n\n           Wind   Humidity  Precipitation  \n25392  3.656831  60.464483       6.633333  \n5351   4.011823  15.937390       8.466667  \n13530  1.939801  71.056621      20.733333  \n27735  4.717110  74.859650     311.166667  \n578    3.030035  71.746032       0.000000  ",
      "text/html": "<div>\n<style scoped>\n    .dataframe tbody tr th:only-of-type {\n        vertical-align: middle;\n    }\n\n    .dataframe tbody tr th {\n        vertical-align: top;\n    }\n\n    .dataframe thead th {\n        text-align: right;\n    }\n</style>\n<table border=\"1\" class=\"dataframe\">\n  <thead>\n    <tr style=\"text-align: right;\">\n      <th></th>\n      <th>fire_size_class</th>\n      <th>latitude</th>\n      <th>longitude</th>\n      <th>discovery_month</th>\n      <th>weekday</th>\n      <th>Vegetation</th>\n      <th>remoteness</th>\n      <th>elevation</th>\n      <th>Temp</th>\n      <th>Wind</th>\n      <th>Humidity</th>\n      <th>Precipitation</th>\n    </tr>\n  </thead>\n  <tbody>\n    <tr>\n      <th>25392</th>\n      <td>B</td>\n      <td>39.737500</td>\n      <td>-75.004170</td>\n      <td>Jul</td>\n      <td>False</td>\n      <td>NaN</td>\n      <td>0.070021</td>\n      <td>49.0</td>\n      <td>24.817927</td>\n      <td>3.656831</td>\n      <td>60.464483</td>\n      <td>6.633333</td>\n    </tr>\n    <tr>\n      <th>5351</th>\n      <td>B</td>\n      <td>39.126700</td>\n      <td>-108.814400</td>\n      <td>Jul</td>\n      <td>False</td>\n      <td>NaN</td>\n      <td>0.382645</td>\n      <td>1708.0</td>\n      <td>27.340425</td>\n      <td>4.011823</td>\n      <td>15.937390</td>\n      <td>8.466667</td>\n    </tr>\n    <tr>\n      <th>13530</th>\n      <td>B</td>\n      <td>33.570052</td>\n      <td>-89.871081</td>\n      <td>Sep</td>\n      <td>False</td>\n      <td>Tropical Evergreen Broadleaf Forest</td>\n      <td>0.205944</td>\n      <td>123.0</td>\n      <td>25.266219</td>\n      <td>1.939801</td>\n      <td>71.056621</td>\n      <td>20.733333</td>\n    </tr>\n    <tr>\n      <th>27735</th>\n      <td>C</td>\n      <td>46.383300</td>\n      <td>-100.600400</td>\n      <td>Oct</td>\n      <td>True</td>\n      <td>Grassland</td>\n      <td>0.300536</td>\n      <td>523.0</td>\n      <td>10.804491</td>\n      <td>4.717110</td>\n      <td>74.859650</td>\n      <td>311.166667</td>\n    </tr>\n    <tr>\n      <th>578</th>\n      <td>B</td>\n      <td>31.454550</td>\n      <td>-89.729667</td>\n      <td>Feb</td>\n      <td>True</td>\n      <td>Open Shrubland</td>\n      <td>0.206151</td>\n      <td>117.0</td>\n      <td>5.217080</td>\n      <td>3.030035</td>\n      <td>71.746032</td>\n      <td>0.000000</td>\n    </tr>\n  </tbody>\n</table>\n</div>"
     },
     "execution_count": 36,
     "metadata": {},
     "output_type": "execute_result"
    }
   ],
   "source": [
    "from sklearn.preprocessing import MinMaxScaler\n",
    "df = pd.read_csv(r\"fullDataFinal.csv\", index_col=0)\n",
    "df.columns = df.columns.str.strip()\n",
    "df.sample(5)"
   ],
   "metadata": {
    "collapsed": false,
    "pycharm": {
     "name": "#%%\n"
    }
   }
  },
  {
   "cell_type": "markdown",
   "source": [
    "Separate target variable (fire_size_class) from predictor variables."
   ],
   "metadata": {
    "collapsed": false,
    "pycharm": {
     "name": "#%% md\n"
    }
   }
  },
  {
   "cell_type": "code",
   "execution_count": 37,
   "outputs": [],
   "source": [
    "dfTarget = df[\"fire_size_class\"]\n",
    "dfPredictor = df[[\"latitude\", \"longitude\", \"discovery_month\", \"weekday\", \"Vegetation\", \"remoteness\", \"elevation\", \"Temp\", \"Wind\", \"Humidity\", \"Precipitation\"]]"
   ],
   "metadata": {
    "collapsed": false,
    "pycharm": {
     "name": "#%%\n"
    }
   }
  },
  {
   "cell_type": "markdown",
   "source": [
    "Changing categorical variables into one-hot encoded ones."
   ],
   "metadata": {
    "collapsed": false,
    "pycharm": {
     "name": "#%% md\n"
    }
   }
  },
  {
   "cell_type": "code",
   "source": [
    "# First let's do fire_size_class\n",
    "dfTarget = pd.concat([dfTarget, pd.get_dummies(dfTarget)], axis=1)  # use get_dummies and concatenate the result to dfTarget\n",
    "dfTarget.drop([\"fire_size_class\"], axis=1, inplace=True)  # and remove the old column\n",
    "dfTarget.sample(5)"
   ],
   "metadata": {
    "collapsed": false,
    "pycharm": {
     "name": "#%%\n"
    }
   },
   "execution_count": 38,
   "outputs": [
    {
     "data": {
      "text/plain": "       B  C  D  E  F  G\n16465  1  0  0  0  0  0\n27875  1  0  0  0  0  0\n20477  0  1  0  0  0  0\n2504   1  0  0  0  0  0\n10323  0  1  0  0  0  0",
      "text/html": "<div>\n<style scoped>\n    .dataframe tbody tr th:only-of-type {\n        vertical-align: middle;\n    }\n\n    .dataframe tbody tr th {\n        vertical-align: top;\n    }\n\n    .dataframe thead th {\n        text-align: right;\n    }\n</style>\n<table border=\"1\" class=\"dataframe\">\n  <thead>\n    <tr style=\"text-align: right;\">\n      <th></th>\n      <th>B</th>\n      <th>C</th>\n      <th>D</th>\n      <th>E</th>\n      <th>F</th>\n      <th>G</th>\n    </tr>\n  </thead>\n  <tbody>\n    <tr>\n      <th>16465</th>\n      <td>1</td>\n      <td>0</td>\n      <td>0</td>\n      <td>0</td>\n      <td>0</td>\n      <td>0</td>\n    </tr>\n    <tr>\n      <th>27875</th>\n      <td>1</td>\n      <td>0</td>\n      <td>0</td>\n      <td>0</td>\n      <td>0</td>\n      <td>0</td>\n    </tr>\n    <tr>\n      <th>20477</th>\n      <td>0</td>\n      <td>1</td>\n      <td>0</td>\n      <td>0</td>\n      <td>0</td>\n      <td>0</td>\n    </tr>\n    <tr>\n      <th>2504</th>\n      <td>1</td>\n      <td>0</td>\n      <td>0</td>\n      <td>0</td>\n      <td>0</td>\n      <td>0</td>\n    </tr>\n    <tr>\n      <th>10323</th>\n      <td>0</td>\n      <td>1</td>\n      <td>0</td>\n      <td>0</td>\n      <td>0</td>\n      <td>0</td>\n    </tr>\n  </tbody>\n</table>\n</div>"
     },
     "execution_count": 38,
     "metadata": {},
     "output_type": "execute_result"
    }
   ]
  },
  {
   "cell_type": "code",
   "execution_count": 39,
   "outputs": [
    {
     "data": {
      "text/plain": "        latitude   longitude  weekday  remoteness  elevation       Temp  \\\n16471  37.629200  -83.134700     True    0.142536      396.0   6.189898   \n31344  33.976400  -86.420300     True    0.174248      243.0   3.167168   \n31153  33.534722 -108.351389     True    0.381327     2385.0  25.130067   \n29063  34.714850  -79.233467     True    0.109654       50.0  24.210963   \n5114   42.825900  -97.656780    False    0.273630      398.0   0.607046   \n\n           Wind   Humidity  Precipitation  Veg Desert  ...  Dec  Feb  Jan  \\\n16471  3.342445  65.963780      52.066667           0  ...    0    1    0   \n31344  2.375233  57.119083       0.000000           0  ...    0    0    0   \n31153  3.470250  58.607297       0.000000           0  ...    0    0    0   \n29063  1.848069  68.489001      21.133333           0  ...    0    0    0   \n5114   5.329186  67.440378       4.200000           0  ...    0    0    0   \n\n       Jul  Jun  Mar  May  Nov  Oct  Sep  \n16471    0    0    0    0    0    0    0  \n31344    0    0    1    0    0    0    0  \n31153    1    0    0    0    0    0    0  \n29063    0    0    0    0    0    0    1  \n5114     0    0    1    0    0    0    0  \n\n[5 rows x 27 columns]",
      "text/html": "<div>\n<style scoped>\n    .dataframe tbody tr th:only-of-type {\n        vertical-align: middle;\n    }\n\n    .dataframe tbody tr th {\n        vertical-align: top;\n    }\n\n    .dataframe thead th {\n        text-align: right;\n    }\n</style>\n<table border=\"1\" class=\"dataframe\">\n  <thead>\n    <tr style=\"text-align: right;\">\n      <th></th>\n      <th>latitude</th>\n      <th>longitude</th>\n      <th>weekday</th>\n      <th>remoteness</th>\n      <th>elevation</th>\n      <th>Temp</th>\n      <th>Wind</th>\n      <th>Humidity</th>\n      <th>Precipitation</th>\n      <th>Veg Desert</th>\n      <th>...</th>\n      <th>Dec</th>\n      <th>Feb</th>\n      <th>Jan</th>\n      <th>Jul</th>\n      <th>Jun</th>\n      <th>Mar</th>\n      <th>May</th>\n      <th>Nov</th>\n      <th>Oct</th>\n      <th>Sep</th>\n    </tr>\n  </thead>\n  <tbody>\n    <tr>\n      <th>16471</th>\n      <td>37.629200</td>\n      <td>-83.134700</td>\n      <td>True</td>\n      <td>0.142536</td>\n      <td>396.0</td>\n      <td>6.189898</td>\n      <td>3.342445</td>\n      <td>65.963780</td>\n      <td>52.066667</td>\n      <td>0</td>\n      <td>...</td>\n      <td>0</td>\n      <td>1</td>\n      <td>0</td>\n      <td>0</td>\n      <td>0</td>\n      <td>0</td>\n      <td>0</td>\n      <td>0</td>\n      <td>0</td>\n      <td>0</td>\n    </tr>\n    <tr>\n      <th>31344</th>\n      <td>33.976400</td>\n      <td>-86.420300</td>\n      <td>True</td>\n      <td>0.174248</td>\n      <td>243.0</td>\n      <td>3.167168</td>\n      <td>2.375233</td>\n      <td>57.119083</td>\n      <td>0.000000</td>\n      <td>0</td>\n      <td>...</td>\n      <td>0</td>\n      <td>0</td>\n      <td>0</td>\n      <td>0</td>\n      <td>0</td>\n      <td>1</td>\n      <td>0</td>\n      <td>0</td>\n      <td>0</td>\n      <td>0</td>\n    </tr>\n    <tr>\n      <th>31153</th>\n      <td>33.534722</td>\n      <td>-108.351389</td>\n      <td>True</td>\n      <td>0.381327</td>\n      <td>2385.0</td>\n      <td>25.130067</td>\n      <td>3.470250</td>\n      <td>58.607297</td>\n      <td>0.000000</td>\n      <td>0</td>\n      <td>...</td>\n      <td>0</td>\n      <td>0</td>\n      <td>0</td>\n      <td>1</td>\n      <td>0</td>\n      <td>0</td>\n      <td>0</td>\n      <td>0</td>\n      <td>0</td>\n      <td>0</td>\n    </tr>\n    <tr>\n      <th>29063</th>\n      <td>34.714850</td>\n      <td>-79.233467</td>\n      <td>True</td>\n      <td>0.109654</td>\n      <td>50.0</td>\n      <td>24.210963</td>\n      <td>1.848069</td>\n      <td>68.489001</td>\n      <td>21.133333</td>\n      <td>0</td>\n      <td>...</td>\n      <td>0</td>\n      <td>0</td>\n      <td>0</td>\n      <td>0</td>\n      <td>0</td>\n      <td>0</td>\n      <td>0</td>\n      <td>0</td>\n      <td>0</td>\n      <td>1</td>\n    </tr>\n    <tr>\n      <th>5114</th>\n      <td>42.825900</td>\n      <td>-97.656780</td>\n      <td>False</td>\n      <td>0.273630</td>\n      <td>398.0</td>\n      <td>0.607046</td>\n      <td>5.329186</td>\n      <td>67.440378</td>\n      <td>4.200000</td>\n      <td>0</td>\n      <td>...</td>\n      <td>0</td>\n      <td>0</td>\n      <td>0</td>\n      <td>0</td>\n      <td>0</td>\n      <td>1</td>\n      <td>0</td>\n      <td>0</td>\n      <td>0</td>\n      <td>0</td>\n    </tr>\n  </tbody>\n</table>\n<p>5 rows × 27 columns</p>\n</div>"
     },
     "execution_count": 39,
     "metadata": {},
     "output_type": "execute_result"
    }
   ],
   "source": [
    "# Now Vegetation\n",
    "dfPredictor = pd.concat([dfPredictor, pd.get_dummies(dfPredictor[\"Vegetation\"], prefix=\"Veg\", prefix_sep=\" \")], axis=1)\n",
    "dfPredictor.drop([\"Vegetation\"], axis=1, inplace=True)\n",
    "\n",
    "# And discovery_month\n",
    "dfPredictor = pd.concat([dfPredictor, pd.get_dummies(dfPredictor[\"discovery_month\"])], axis=1)\n",
    "dfPredictor.drop([\"discovery_month\"], axis=1, inplace=True)\n",
    "dfPredictor.sample(5)"
   ],
   "metadata": {
    "collapsed": false,
    "pycharm": {
     "name": "#%%\n"
    }
   }
  },
  {
   "cell_type": "markdown",
   "source": [
    "Scaling numerical data to 0-1 range."
   ],
   "metadata": {
    "collapsed": false,
    "pycharm": {
     "name": "#%% md\n"
    }
   }
  },
  {
   "cell_type": "code",
   "execution_count": 43,
   "outputs": [
    {
     "data": {
      "text/plain": "       latitude  longitude  weekday  remoteness  elevation      Temp  \\\n17359  0.264738   0.754443     True    0.207686   0.049918  0.440764   \n35222  0.338484   0.651091    False    0.355252   0.212836  0.341919   \n17156  0.317832   0.812124     True    0.153645   0.115743  0.393722   \n31557  0.546079   0.716051    False    0.235906   0.118486  0.308130   \n4929   0.275754   0.840816     True    0.129617   0.020570  0.724705   \n\n           Wind  Humidity  Precipitation  Veg Desert  ...  Dec  Feb  Jan  Jul  \\\n17359  0.089561  0.766898       0.000000           0  ...    0    1    0    0   \n35222  0.092510  0.571448       0.000000           0  ...    0    0    1    0   \n17156  0.081288  0.615580       0.000000           0  ...    0    0    0    0   \n31557  0.094648  0.743761       0.000000           0  ...    0    0    0    0   \n4929   0.080981  0.667642       0.006163           0  ...    0    0    0    0   \n\n       Jun  Mar  May  Nov  Oct  Sep  \n17359    0    0    0    0    0    0  \n35222    0    0    0    0    0    0  \n17156    0    1    0    0    0    0  \n31557    0    0    0    0    0    0  \n4929     0    0    0    0    0    0  \n\n[5 rows x 27 columns]",
      "text/html": "<div>\n<style scoped>\n    .dataframe tbody tr th:only-of-type {\n        vertical-align: middle;\n    }\n\n    .dataframe tbody tr th {\n        vertical-align: top;\n    }\n\n    .dataframe thead th {\n        text-align: right;\n    }\n</style>\n<table border=\"1\" class=\"dataframe\">\n  <thead>\n    <tr style=\"text-align: right;\">\n      <th></th>\n      <th>latitude</th>\n      <th>longitude</th>\n      <th>weekday</th>\n      <th>remoteness</th>\n      <th>elevation</th>\n      <th>Temp</th>\n      <th>Wind</th>\n      <th>Humidity</th>\n      <th>Precipitation</th>\n      <th>Veg Desert</th>\n      <th>...</th>\n      <th>Dec</th>\n      <th>Feb</th>\n      <th>Jan</th>\n      <th>Jul</th>\n      <th>Jun</th>\n      <th>Mar</th>\n      <th>May</th>\n      <th>Nov</th>\n      <th>Oct</th>\n      <th>Sep</th>\n    </tr>\n  </thead>\n  <tbody>\n    <tr>\n      <th>17359</th>\n      <td>0.264738</td>\n      <td>0.754443</td>\n      <td>True</td>\n      <td>0.207686</td>\n      <td>0.049918</td>\n      <td>0.440764</td>\n      <td>0.089561</td>\n      <td>0.766898</td>\n      <td>0.000000</td>\n      <td>0</td>\n      <td>...</td>\n      <td>0</td>\n      <td>1</td>\n      <td>0</td>\n      <td>0</td>\n      <td>0</td>\n      <td>0</td>\n      <td>0</td>\n      <td>0</td>\n      <td>0</td>\n      <td>0</td>\n    </tr>\n    <tr>\n      <th>35222</th>\n      <td>0.338484</td>\n      <td>0.651091</td>\n      <td>False</td>\n      <td>0.355252</td>\n      <td>0.212836</td>\n      <td>0.341919</td>\n      <td>0.092510</td>\n      <td>0.571448</td>\n      <td>0.000000</td>\n      <td>0</td>\n      <td>...</td>\n      <td>0</td>\n      <td>0</td>\n      <td>1</td>\n      <td>0</td>\n      <td>0</td>\n      <td>0</td>\n      <td>0</td>\n      <td>0</td>\n      <td>0</td>\n      <td>0</td>\n    </tr>\n    <tr>\n      <th>17156</th>\n      <td>0.317832</td>\n      <td>0.812124</td>\n      <td>True</td>\n      <td>0.153645</td>\n      <td>0.115743</td>\n      <td>0.393722</td>\n      <td>0.081288</td>\n      <td>0.615580</td>\n      <td>0.000000</td>\n      <td>0</td>\n      <td>...</td>\n      <td>0</td>\n      <td>0</td>\n      <td>0</td>\n      <td>0</td>\n      <td>0</td>\n      <td>1</td>\n      <td>0</td>\n      <td>0</td>\n      <td>0</td>\n      <td>0</td>\n    </tr>\n    <tr>\n      <th>31557</th>\n      <td>0.546079</td>\n      <td>0.716051</td>\n      <td>False</td>\n      <td>0.235906</td>\n      <td>0.118486</td>\n      <td>0.308130</td>\n      <td>0.094648</td>\n      <td>0.743761</td>\n      <td>0.000000</td>\n      <td>0</td>\n      <td>...</td>\n      <td>0</td>\n      <td>0</td>\n      <td>0</td>\n      <td>0</td>\n      <td>0</td>\n      <td>0</td>\n      <td>0</td>\n      <td>0</td>\n      <td>0</td>\n      <td>0</td>\n    </tr>\n    <tr>\n      <th>4929</th>\n      <td>0.275754</td>\n      <td>0.840816</td>\n      <td>True</td>\n      <td>0.129617</td>\n      <td>0.020570</td>\n      <td>0.724705</td>\n      <td>0.080981</td>\n      <td>0.667642</td>\n      <td>0.006163</td>\n      <td>0</td>\n      <td>...</td>\n      <td>0</td>\n      <td>0</td>\n      <td>0</td>\n      <td>0</td>\n      <td>0</td>\n      <td>0</td>\n      <td>0</td>\n      <td>0</td>\n      <td>0</td>\n      <td>0</td>\n    </tr>\n  </tbody>\n</table>\n<p>5 rows × 27 columns</p>\n</div>"
     },
     "execution_count": 43,
     "metadata": {},
     "output_type": "execute_result"
    }
   ],
   "source": [
    "from sklearn.preprocessing import MinMaxScaler\n",
    "\n",
    "dfPredictorScaled = pd.DataFrame(MinMaxScaler().fit_transform(dfPredictor[[\"latitude\", \"longitude\", \"remoteness\", \"elevation\", \"Temp\", \"Wind\", \"Humidity\", \"Precipitation\"]]), columns=[\"latitude\", \"longitude\", \"remoteness\", \"elevation\", \"Temp\", \"Wind\", \"Humidity\", \"Precipitation\"])\n",
    "# dfPredictorScaled.sample(5)\n",
    "\n",
    "dfPredictor = dfPredictor.assign(**dfPredictorScaled.to_dict(orient=\"series\"))  # replace the columns of the old df with the ones from the new one\n",
    "dfPredictor.sample(5)\n"
   ],
   "metadata": {
    "collapsed": false,
    "pycharm": {
     "name": "#%%\n"
    }
   }
  },
  {
   "cell_type": "markdown",
   "source": [
    "Training models, each in a cell (?)\n",
    "\n",
    "* K-Nearest Neighbour (KNN)\n",
    "* Naïve Bayes (NB)\n",
    "* Support Vector Machine (SVM)\n",
    "* Decision Tree (DT)\n",
    "* Random Forest (RF)\n",
    "* Gradient Boosted Trees (GBT)\n",
    "* Multi-Layered Perceptron (MLP)\n",
    "* Artificial Neural Network (ANN)"
   ],
   "metadata": {
    "collapsed": false,
    "pycharm": {
     "name": "#%% md\n"
    }
   }
  },
  {
   "cell_type": "code",
   "execution_count": null,
   "outputs": [],
   "source": [],
   "metadata": {
    "collapsed": false,
    "pycharm": {
     "name": "#%%\n"
    }
   }
  }
 ],
 "metadata": {
  "kernelspec": {
   "display_name": "Python 3",
   "language": "python",
   "name": "python3"
  },
  "language_info": {
   "codemirror_mode": {
    "name": "ipython",
    "version": 2
   },
   "file_extension": ".py",
   "mimetype": "text/x-python",
   "name": "python",
   "nbconvert_exporter": "python",
   "pygments_lexer": "ipython2",
   "version": "2.7.6"
  }
 },
 "nbformat": 4,
 "nbformat_minor": 0
}