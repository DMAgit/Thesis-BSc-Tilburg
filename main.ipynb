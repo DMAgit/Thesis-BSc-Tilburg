{
 "cells": [
  {
   "cell_type": "markdown",
   "metadata": {
    "collapsed": true,
    "pycharm": {
     "name": "#%% md\n"
    }
   },
   "source": [
    "Title\n",
    "\n",
    "Description"
   ]
  },
  {
   "cell_type": "markdown",
   "source": [
    "Importing packages."
   ],
   "metadata": {
    "collapsed": false,
    "pycharm": {
     "name": "#%% md\n"
    }
   }
  },
  {
   "cell_type": "code",
   "execution_count": 1,
   "outputs": [],
   "source": [
    "import pandas as pd\n",
    "import matplotlib.pyplot as plt"
   ],
   "metadata": {
    "collapsed": false,
    "pycharm": {
     "name": "#%%\n"
    }
   }
  },
  {
   "cell_type": "markdown",
   "source": [
    "Importing data into pandas DataFrame."
   ],
   "metadata": {
    "collapsed": false,
    "pycharm": {
     "name": "#%% md\n"
    }
   }
  },
  {
   "cell_type": "code",
   "execution_count": 2,
   "outputs": [
    {
     "data": {
      "text/plain": "      fire_size_class   latitude  longitude discovery_month  weekday  \\\n29533               D  37.034444 -83.468056             Sep    False   \n31554               B  45.441111 -93.750000             Apr     True   \n13334               B  33.492650 -88.093230             Mar     True   \n31248               B  34.226700 -80.691100             Mar     True   \n17257               B  32.972500 -83.403600             Aug     True   \n\n             Vegetation  remoteness  elevation       Temp      Wind  \\\n29533               NaN    0.145839      503.0  22.279011  1.749785   \n31554         Grassland    0.236224      296.0   7.733612  3.621442   \n13334  Broadleaf Forest    0.189754      109.0  10.097468  3.621008   \n31248  Broadleaf Forest    0.122826       84.0  15.422120  3.613102   \n17257         Shrubland    0.147795      132.0  26.574855  2.176120   \n\n        Humidity  Precipitation  \n29533  61.922705      21.166667  \n31554  63.573397       0.000000  \n13334  55.280689       0.000000  \n31248  57.192751       0.000000  \n17257  74.708121      72.433333  ",
      "text/html": "<div>\n<style scoped>\n    .dataframe tbody tr th:only-of-type {\n        vertical-align: middle;\n    }\n\n    .dataframe tbody tr th {\n        vertical-align: top;\n    }\n\n    .dataframe thead th {\n        text-align: right;\n    }\n</style>\n<table border=\"1\" class=\"dataframe\">\n  <thead>\n    <tr style=\"text-align: right;\">\n      <th></th>\n      <th>fire_size_class</th>\n      <th>latitude</th>\n      <th>longitude</th>\n      <th>discovery_month</th>\n      <th>weekday</th>\n      <th>Vegetation</th>\n      <th>remoteness</th>\n      <th>elevation</th>\n      <th>Temp</th>\n      <th>Wind</th>\n      <th>Humidity</th>\n      <th>Precipitation</th>\n    </tr>\n  </thead>\n  <tbody>\n    <tr>\n      <th>29533</th>\n      <td>D</td>\n      <td>37.034444</td>\n      <td>-83.468056</td>\n      <td>Sep</td>\n      <td>False</td>\n      <td>NaN</td>\n      <td>0.145839</td>\n      <td>503.0</td>\n      <td>22.279011</td>\n      <td>1.749785</td>\n      <td>61.922705</td>\n      <td>21.166667</td>\n    </tr>\n    <tr>\n      <th>31554</th>\n      <td>B</td>\n      <td>45.441111</td>\n      <td>-93.750000</td>\n      <td>Apr</td>\n      <td>True</td>\n      <td>Grassland</td>\n      <td>0.236224</td>\n      <td>296.0</td>\n      <td>7.733612</td>\n      <td>3.621442</td>\n      <td>63.573397</td>\n      <td>0.000000</td>\n    </tr>\n    <tr>\n      <th>13334</th>\n      <td>B</td>\n      <td>33.492650</td>\n      <td>-88.093230</td>\n      <td>Mar</td>\n      <td>True</td>\n      <td>Broadleaf Forest</td>\n      <td>0.189754</td>\n      <td>109.0</td>\n      <td>10.097468</td>\n      <td>3.621008</td>\n      <td>55.280689</td>\n      <td>0.000000</td>\n    </tr>\n    <tr>\n      <th>31248</th>\n      <td>B</td>\n      <td>34.226700</td>\n      <td>-80.691100</td>\n      <td>Mar</td>\n      <td>True</td>\n      <td>Broadleaf Forest</td>\n      <td>0.122826</td>\n      <td>84.0</td>\n      <td>15.422120</td>\n      <td>3.613102</td>\n      <td>57.192751</td>\n      <td>0.000000</td>\n    </tr>\n    <tr>\n      <th>17257</th>\n      <td>B</td>\n      <td>32.972500</td>\n      <td>-83.403600</td>\n      <td>Aug</td>\n      <td>True</td>\n      <td>Shrubland</td>\n      <td>0.147795</td>\n      <td>132.0</td>\n      <td>26.574855</td>\n      <td>2.176120</td>\n      <td>74.708121</td>\n      <td>72.433333</td>\n    </tr>\n  </tbody>\n</table>\n</div>"
     },
     "execution_count": 2,
     "metadata": {},
     "output_type": "execute_result"
    }
   ],
   "source": [
    "from sklearn.preprocessing import MinMaxScaler\n",
    "df = pd.read_csv(r\"fullDataFinal.csv\", index_col=0)\n",
    "df.columns = df.columns.str.strip()\n",
    "df.sample(5)"
   ],
   "metadata": {
    "collapsed": false,
    "pycharm": {
     "name": "#%%\n"
    }
   }
  },
  {
   "cell_type": "markdown",
   "source": [
    "Separate target variable (fire_size_class) from predictor variables."
   ],
   "metadata": {
    "collapsed": false,
    "pycharm": {
     "name": "#%% md\n"
    }
   }
  },
  {
   "cell_type": "code",
   "execution_count": 3,
   "outputs": [],
   "source": [
    "dfTarget = df[\"fire_size_class\"]\n",
    "dfPredictor = df[[\"latitude\", \"longitude\", \"discovery_month\", \"weekday\", \"Vegetation\", \"remoteness\", \"elevation\", \"Temp\", \"Wind\", \"Humidity\", \"Precipitation\"]]"
   ],
   "metadata": {
    "collapsed": false,
    "pycharm": {
     "name": "#%%\n"
    }
   }
  },
  {
   "cell_type": "markdown",
   "source": [
    "Changing categorical variables into one-hot encoded ones."
   ],
   "metadata": {
    "collapsed": false,
    "pycharm": {
     "name": "#%% md\n"
    }
   }
  },
  {
   "cell_type": "code",
   "source": [
    "# First let's do fire_size_class\n",
    "dfTarget = pd.concat([dfTarget, pd.get_dummies(dfTarget)], axis=1)  # use get_dummies and concatenate the result to dfTarget\n",
    "dfTarget.drop([\"fire_size_class\"], axis=1, inplace=True)  # and remove the old column\n",
    "dfTarget.sample(5)"
   ],
   "metadata": {
    "collapsed": false,
    "pycharm": {
     "name": "#%%\n"
    }
   },
   "execution_count": 4,
   "outputs": [
    {
     "data": {
      "text/plain": "       B  C  D  E  F  G\n25507  1  0  0  0  0  0\n14285  1  0  0  0  0  0\n27938  1  0  0  0  0  0\n6264   0  1  0  0  0  0\n34617  0  0  0  0  0  1",
      "text/html": "<div>\n<style scoped>\n    .dataframe tbody tr th:only-of-type {\n        vertical-align: middle;\n    }\n\n    .dataframe tbody tr th {\n        vertical-align: top;\n    }\n\n    .dataframe thead th {\n        text-align: right;\n    }\n</style>\n<table border=\"1\" class=\"dataframe\">\n  <thead>\n    <tr style=\"text-align: right;\">\n      <th></th>\n      <th>B</th>\n      <th>C</th>\n      <th>D</th>\n      <th>E</th>\n      <th>F</th>\n      <th>G</th>\n    </tr>\n  </thead>\n  <tbody>\n    <tr>\n      <th>25507</th>\n      <td>1</td>\n      <td>0</td>\n      <td>0</td>\n      <td>0</td>\n      <td>0</td>\n      <td>0</td>\n    </tr>\n    <tr>\n      <th>14285</th>\n      <td>1</td>\n      <td>0</td>\n      <td>0</td>\n      <td>0</td>\n      <td>0</td>\n      <td>0</td>\n    </tr>\n    <tr>\n      <th>27938</th>\n      <td>1</td>\n      <td>0</td>\n      <td>0</td>\n      <td>0</td>\n      <td>0</td>\n      <td>0</td>\n    </tr>\n    <tr>\n      <th>6264</th>\n      <td>0</td>\n      <td>1</td>\n      <td>0</td>\n      <td>0</td>\n      <td>0</td>\n      <td>0</td>\n    </tr>\n    <tr>\n      <th>34617</th>\n      <td>0</td>\n      <td>0</td>\n      <td>0</td>\n      <td>0</td>\n      <td>0</td>\n      <td>1</td>\n    </tr>\n  </tbody>\n</table>\n</div>"
     },
     "execution_count": 4,
     "metadata": {},
     "output_type": "execute_result"
    }
   ]
  },
  {
   "cell_type": "code",
   "execution_count": 5,
   "outputs": [
    {
     "data": {
      "text/plain": "        latitude   longitude  remoteness  elevation       Temp      Wind  \\\n9921   39.811410  -94.252810    0.242921      298.0  -1.926829  1.468769   \n14027  33.793758 -117.254336    0.469882      531.0   2.744305  0.433333   \n12081  43.833333  -97.975000    0.276299      386.0  13.373291  4.036380   \n16247  35.569200 -113.384700    0.429850     1522.0  27.292155  5.244370   \n34817  39.562800 -108.428300    0.157791     1923.0  21.899968  2.876660   \n\n        Humidity  Precipitation  Veg Broadleaf Forest  Veg Desert  ...  Jan  \\\n9921   21.442424            0.0                     0           0  ...    1   \n14027  16.207108            0.0                     1           0  ...    1   \n12081  64.338268            5.3                     0           0  ...    0   \n16247  22.766203            0.0                     0           0  ...    0   \n34817  28.957149            1.7                     0           0  ...    0   \n\n       Jul  Jun  Mar  May  Nov  Oct  Sep  is_weekend  is_weekday  \n9921     0    0    0    0    0    0    0           1           0  \n14027    0    0    0    0    0    0    0           0           1  \n12081    0    0    0    0    0    1    0           0           1  \n16247    1    0    0    0    0    0    0           1           0  \n34817    1    0    0    0    0    0    0           0           1  \n\n[5 rows x 28 columns]",
      "text/html": "<div>\n<style scoped>\n    .dataframe tbody tr th:only-of-type {\n        vertical-align: middle;\n    }\n\n    .dataframe tbody tr th {\n        vertical-align: top;\n    }\n\n    .dataframe thead th {\n        text-align: right;\n    }\n</style>\n<table border=\"1\" class=\"dataframe\">\n  <thead>\n    <tr style=\"text-align: right;\">\n      <th></th>\n      <th>latitude</th>\n      <th>longitude</th>\n      <th>remoteness</th>\n      <th>elevation</th>\n      <th>Temp</th>\n      <th>Wind</th>\n      <th>Humidity</th>\n      <th>Precipitation</th>\n      <th>Veg Broadleaf Forest</th>\n      <th>Veg Desert</th>\n      <th>...</th>\n      <th>Jan</th>\n      <th>Jul</th>\n      <th>Jun</th>\n      <th>Mar</th>\n      <th>May</th>\n      <th>Nov</th>\n      <th>Oct</th>\n      <th>Sep</th>\n      <th>is_weekend</th>\n      <th>is_weekday</th>\n    </tr>\n  </thead>\n  <tbody>\n    <tr>\n      <th>9921</th>\n      <td>39.811410</td>\n      <td>-94.252810</td>\n      <td>0.242921</td>\n      <td>298.0</td>\n      <td>-1.926829</td>\n      <td>1.468769</td>\n      <td>21.442424</td>\n      <td>0.0</td>\n      <td>0</td>\n      <td>0</td>\n      <td>...</td>\n      <td>1</td>\n      <td>0</td>\n      <td>0</td>\n      <td>0</td>\n      <td>0</td>\n      <td>0</td>\n      <td>0</td>\n      <td>0</td>\n      <td>1</td>\n      <td>0</td>\n    </tr>\n    <tr>\n      <th>14027</th>\n      <td>33.793758</td>\n      <td>-117.254336</td>\n      <td>0.469882</td>\n      <td>531.0</td>\n      <td>2.744305</td>\n      <td>0.433333</td>\n      <td>16.207108</td>\n      <td>0.0</td>\n      <td>1</td>\n      <td>0</td>\n      <td>...</td>\n      <td>1</td>\n      <td>0</td>\n      <td>0</td>\n      <td>0</td>\n      <td>0</td>\n      <td>0</td>\n      <td>0</td>\n      <td>0</td>\n      <td>0</td>\n      <td>1</td>\n    </tr>\n    <tr>\n      <th>12081</th>\n      <td>43.833333</td>\n      <td>-97.975000</td>\n      <td>0.276299</td>\n      <td>386.0</td>\n      <td>13.373291</td>\n      <td>4.036380</td>\n      <td>64.338268</td>\n      <td>5.3</td>\n      <td>0</td>\n      <td>0</td>\n      <td>...</td>\n      <td>0</td>\n      <td>0</td>\n      <td>0</td>\n      <td>0</td>\n      <td>0</td>\n      <td>0</td>\n      <td>1</td>\n      <td>0</td>\n      <td>0</td>\n      <td>1</td>\n    </tr>\n    <tr>\n      <th>16247</th>\n      <td>35.569200</td>\n      <td>-113.384700</td>\n      <td>0.429850</td>\n      <td>1522.0</td>\n      <td>27.292155</td>\n      <td>5.244370</td>\n      <td>22.766203</td>\n      <td>0.0</td>\n      <td>0</td>\n      <td>0</td>\n      <td>...</td>\n      <td>0</td>\n      <td>1</td>\n      <td>0</td>\n      <td>0</td>\n      <td>0</td>\n      <td>0</td>\n      <td>0</td>\n      <td>0</td>\n      <td>1</td>\n      <td>0</td>\n    </tr>\n    <tr>\n      <th>34817</th>\n      <td>39.562800</td>\n      <td>-108.428300</td>\n      <td>0.157791</td>\n      <td>1923.0</td>\n      <td>21.899968</td>\n      <td>2.876660</td>\n      <td>28.957149</td>\n      <td>1.7</td>\n      <td>0</td>\n      <td>0</td>\n      <td>...</td>\n      <td>0</td>\n      <td>1</td>\n      <td>0</td>\n      <td>0</td>\n      <td>0</td>\n      <td>0</td>\n      <td>0</td>\n      <td>0</td>\n      <td>0</td>\n      <td>1</td>\n    </tr>\n  </tbody>\n</table>\n<p>5 rows × 28 columns</p>\n</div>"
     },
     "execution_count": 5,
     "metadata": {},
     "output_type": "execute_result"
    }
   ],
   "source": [
    "# Now Vegetation\n",
    "dfPredictor = pd.concat([dfPredictor, pd.get_dummies(dfPredictor[\"Vegetation\"], prefix=\"Veg\", prefix_sep=\" \")], axis=1)\n",
    "dfPredictor.drop([\"Vegetation\"], axis=1, inplace=True)\n",
    "\n",
    "# And discovery_month\n",
    "dfPredictor = pd.concat([dfPredictor, pd.get_dummies(dfPredictor[\"discovery_month\"])], axis=1)\n",
    "dfPredictor.drop([\"discovery_month\"], axis=1, inplace=True)\n",
    "\n",
    "# And weekday\n",
    "dfPredictor = pd.concat([dfPredictor, pd.get_dummies(dfPredictor[\"weekday\"])], axis=1)\n",
    "dfPredictor.drop([\"weekday\"], axis=1, inplace=True)\n",
    "dfPredictor.rename(columns={False:\"is_weekend\", True:\"is_weekday\"}, inplace=True)\n",
    "dfPredictor.sample(5)"
   ],
   "metadata": {
    "collapsed": false,
    "pycharm": {
     "name": "#%%\n"
    }
   }
  },
  {
   "cell_type": "markdown",
   "source": [
    "Scaling numerical data to 0-1 range."
   ],
   "metadata": {
    "collapsed": false,
    "pycharm": {
     "name": "#%% md\n"
    }
   }
  },
  {
   "cell_type": "code",
   "execution_count": 6,
   "outputs": [
    {
     "data": {
      "text/plain": "       latitude  longitude  remoteness  elevation      Temp      Wind  \\\n2725   0.280757   0.800182    0.165643   0.057049  0.632186  0.121574   \n7854   0.315007   0.553825    0.396227   0.619857  0.631569  0.190013   \n5795   0.485557   0.873235    0.095350   0.146736  0.363661  0.134670   \n29634  0.481938   0.799774    0.160472   0.099013  0.435790  0.159395   \n165    0.360947   0.853678    0.115441   0.070488  0.320908  0.063497   \n\n       Humidity  Precipitation  Veg Broadleaf Forest  Veg Desert  ...  Jan  \\\n2725   0.679149       0.002900                     0           0  ...    0   \n7854   0.412385       0.002936                     1           0  ...    0   \n5795   0.719244       0.005300                     0           0  ...    0   \n29634  0.634692       0.004249                     0           0  ...    0   \n165    0.717311       0.000000                     0           0  ...    0   \n\n       Jul  Jun  Mar  May  Nov  Oct  Sep  is_weekend  is_weekday  \n2725     0    0    0    1    0    0    0           0           1  \n7854     0    0    0    0    0    0    0           0           1  \n5795     0    0    0    0    1    0    0           0           1  \n29634    0    0    0    0    0    0    0           0           1  \n165      0    0    0    0    0    0    0           0           1  \n\n[5 rows x 28 columns]",
      "text/html": "<div>\n<style scoped>\n    .dataframe tbody tr th:only-of-type {\n        vertical-align: middle;\n    }\n\n    .dataframe tbody tr th {\n        vertical-align: top;\n    }\n\n    .dataframe thead th {\n        text-align: right;\n    }\n</style>\n<table border=\"1\" class=\"dataframe\">\n  <thead>\n    <tr style=\"text-align: right;\">\n      <th></th>\n      <th>latitude</th>\n      <th>longitude</th>\n      <th>remoteness</th>\n      <th>elevation</th>\n      <th>Temp</th>\n      <th>Wind</th>\n      <th>Humidity</th>\n      <th>Precipitation</th>\n      <th>Veg Broadleaf Forest</th>\n      <th>Veg Desert</th>\n      <th>...</th>\n      <th>Jan</th>\n      <th>Jul</th>\n      <th>Jun</th>\n      <th>Mar</th>\n      <th>May</th>\n      <th>Nov</th>\n      <th>Oct</th>\n      <th>Sep</th>\n      <th>is_weekend</th>\n      <th>is_weekday</th>\n    </tr>\n  </thead>\n  <tbody>\n    <tr>\n      <th>2725</th>\n      <td>0.280757</td>\n      <td>0.800182</td>\n      <td>0.165643</td>\n      <td>0.057049</td>\n      <td>0.632186</td>\n      <td>0.121574</td>\n      <td>0.679149</td>\n      <td>0.002900</td>\n      <td>0</td>\n      <td>0</td>\n      <td>...</td>\n      <td>0</td>\n      <td>0</td>\n      <td>0</td>\n      <td>0</td>\n      <td>1</td>\n      <td>0</td>\n      <td>0</td>\n      <td>0</td>\n      <td>0</td>\n      <td>1</td>\n    </tr>\n    <tr>\n      <th>7854</th>\n      <td>0.315007</td>\n      <td>0.553825</td>\n      <td>0.396227</td>\n      <td>0.619857</td>\n      <td>0.631569</td>\n      <td>0.190013</td>\n      <td>0.412385</td>\n      <td>0.002936</td>\n      <td>1</td>\n      <td>0</td>\n      <td>...</td>\n      <td>0</td>\n      <td>0</td>\n      <td>0</td>\n      <td>0</td>\n      <td>0</td>\n      <td>0</td>\n      <td>0</td>\n      <td>0</td>\n      <td>0</td>\n      <td>1</td>\n    </tr>\n    <tr>\n      <th>5795</th>\n      <td>0.485557</td>\n      <td>0.873235</td>\n      <td>0.095350</td>\n      <td>0.146736</td>\n      <td>0.363661</td>\n      <td>0.134670</td>\n      <td>0.719244</td>\n      <td>0.005300</td>\n      <td>0</td>\n      <td>0</td>\n      <td>...</td>\n      <td>0</td>\n      <td>0</td>\n      <td>0</td>\n      <td>0</td>\n      <td>0</td>\n      <td>1</td>\n      <td>0</td>\n      <td>0</td>\n      <td>0</td>\n      <td>1</td>\n    </tr>\n    <tr>\n      <th>29634</th>\n      <td>0.481938</td>\n      <td>0.799774</td>\n      <td>0.160472</td>\n      <td>0.099013</td>\n      <td>0.435790</td>\n      <td>0.159395</td>\n      <td>0.634692</td>\n      <td>0.004249</td>\n      <td>0</td>\n      <td>0</td>\n      <td>...</td>\n      <td>0</td>\n      <td>0</td>\n      <td>0</td>\n      <td>0</td>\n      <td>0</td>\n      <td>0</td>\n      <td>0</td>\n      <td>0</td>\n      <td>0</td>\n      <td>1</td>\n    </tr>\n    <tr>\n      <th>165</th>\n      <td>0.360947</td>\n      <td>0.853678</td>\n      <td>0.115441</td>\n      <td>0.070488</td>\n      <td>0.320908</td>\n      <td>0.063497</td>\n      <td>0.717311</td>\n      <td>0.000000</td>\n      <td>0</td>\n      <td>0</td>\n      <td>...</td>\n      <td>0</td>\n      <td>0</td>\n      <td>0</td>\n      <td>0</td>\n      <td>0</td>\n      <td>0</td>\n      <td>0</td>\n      <td>0</td>\n      <td>0</td>\n      <td>1</td>\n    </tr>\n  </tbody>\n</table>\n<p>5 rows × 28 columns</p>\n</div>"
     },
     "execution_count": 6,
     "metadata": {},
     "output_type": "execute_result"
    }
   ],
   "source": [
    "from sklearn.preprocessing import MinMaxScaler\n",
    "\n",
    "dfPredictorScaled = pd.DataFrame(MinMaxScaler().fit_transform(dfPredictor[[\"latitude\", \"longitude\", \"remoteness\", \"elevation\", \"Temp\", \"Wind\", \"Humidity\", \"Precipitation\"]]), columns=[\"latitude\", \"longitude\", \"remoteness\", \"elevation\", \"Temp\", \"Wind\", \"Humidity\", \"Precipitation\"])\n",
    "# dfPredictorScaled.sample(5)\n",
    "\n",
    "dfPredictor = dfPredictor.assign(**dfPredictorScaled.to_dict(orient=\"series\"))  # replace the columns of the old df with the ones from the new one\n",
    "dfPredictor.sample(5)"
   ],
   "metadata": {
    "collapsed": false,
    "pycharm": {
     "name": "#%%\n"
    }
   }
  },
  {
   "cell_type": "markdown",
   "source": [
    "Train-test split"
   ],
   "metadata": {
    "collapsed": false,
    "pycharm": {
     "name": "#%% md\n"
    }
   }
  },
  {
   "cell_type": "code",
   "execution_count": 7,
   "outputs": [],
   "source": [
    "from sklearn.model_selection import train_test_split\n",
    "\n",
    "X_train, X_test, y_train, y_test = train_test_split(dfPredictor, dfTarget, test_size=0.1, random_state=42)"
   ],
   "metadata": {
    "collapsed": false,
    "pycharm": {
     "name": "#%%\n"
    }
   }
  },
  {
   "cell_type": "markdown",
   "source": [
    "Training models, each in a cell (?)\n",
    "\n",
    "* K-Nearest Neighbour (KNN)\n",
    "* Naïve Bayes (NB)\n",
    "* Support Vector Machine (SVM)\n",
    "* Decision Tree (DT)\n",
    "* Random Forest (RF)\n",
    "* Gradient Boosted Trees (GBT)\n",
    "* Multi-Layered Perceptron (MLP)\n",
    "* Artificial Neural Network (ANN)"
   ],
   "metadata": {
    "collapsed": false,
    "pycharm": {
     "name": "#%% md\n"
    }
   }
  },
  {
   "cell_type": "markdown",
   "source": [
    "KNN"
   ],
   "metadata": {
    "collapsed": false,
    "pycharm": {
     "name": "#%% md\n"
    }
   }
  },
  {
   "cell_type": "code",
   "execution_count": 33,
   "outputs": [
    {
     "name": "stdout",
     "output_type": "stream",
     "text": [
      "Trained in in 164.1297 seconds\n"
     ]
    },
    {
     "data": {
      "text/plain": "<matplotlib.legend.Legend at 0x27b8c9f3610>"
     },
     "execution_count": 33,
     "metadata": {},
     "output_type": "execute_result"
    },
    {
     "data": {
      "text/plain": "<Figure size 432x288 with 1 Axes>",
      "image/png": "[encoded data removed]"
     },
     "metadata": {
      "needs_background": "light"
     },
     "output_type": "display_data"
    }
   ],
   "source": [
    "from sklearn.neighbors import KNeighborsClassifier\n",
    "import time  # optional for timing the code\n",
    "\n",
    "training_accuracy = []\n",
    "test_accuracy = []\n",
    "nNeighbors = range(5, 15, 2)\n",
    "\n",
    "tic = time.perf_counter()  # timing start\n",
    "for nNeighbor in nNeighbors:\n",
    "    # build the model\n",
    "    clf = KNeighborsClassifier(n_neighbors=nNeighbor, n_jobs=-1)\n",
    "    clf.fit(X_train, y_train)\n",
    "    # record training set accuracy\n",
    "    training_accuracy.append(clf.score(X_train, y_train))\n",
    "    # record generalization accuracy\n",
    "    test_accuracy.append(clf.score(X_test, y_test))\n",
    "toc = time.perf_counter()  # timing end\n",
    "print(f\"Trained in in {toc - tic:0.4f} seconds\")  # print the time elapsed\n",
    "\n",
    "plt.plot(nNeighbors, training_accuracy, label=\"training accuracy\")\n",
    "plt.plot(nNeighbors, test_accuracy, label=\"test accuracy\")\n",
    "plt.ylabel(\"Accuracy\")\n",
    "plt.xlabel(\"n_neighbors\")\n",
    "plt.legend()"
   ],
   "metadata": {
    "collapsed": false,
    "pycharm": {
     "name": "#%%\n"
    }
   }
  },
  {
   "cell_type": "markdown",
   "source": [
    "9 seems to be the best on our test set. Let's train that model and save it."
   ],
   "metadata": {
    "collapsed": false,
    "pycharm": {
     "name": "#%% md\n"
    }
   }
  },
  {
   "cell_type": "code",
   "source": [
    "clf = KNeighborsClassifier(n_neighbors=9, n_jobs=-1)\n",
    "clf.fit(X_train, y_train)\n",
    "\n",
    "training_accuracy = clf.score(X_train, y_train)\n",
    "test_accuracy = clf.score(X_test, y_test)\n",
    "print(f\"Number of neighbors: 9\")\n",
    "print(\"\\nTraining accuracy: {training_accuracy}\")  # 0.7298490543523656\n",
    "print(\"\\nTest accuracy: {test_accuracy}\")  # 0.6934228187919463"
   ],
   "metadata": {
    "collapsed": false,
    "pycharm": {
     "name": "#%%\n"
    }
   },
   "execution_count": 34,
   "outputs": [
    {
     "name": "stdout",
     "output_type": "stream",
     "text": [
      "Number of neighbors: 9 \n",
      "Training accuracy: 0.7298490543523656 \n",
      "Test accuracy: 0.6934228187919463\n"
     ]
    }
   ]
  },
  {
   "cell_type": "markdown",
   "source": [
    "Naive Bayes"
   ],
   "metadata": {
    "collapsed": false
   }
  },
  {
   "cell_type": "code",
   "execution_count": 15,
   "outputs": [
    {
     "name": "stdout",
     "output_type": "stream",
     "text": [
      "BernoulliNB train score: 0.593162699122964\n",
      "BernoulliNB test score: 0.5884563758389262\n",
      "\n",
      "\n",
      "GaussianNB train score: 0.21296462024938845\n",
      "GaussianNB test score: 0.21986577181208053\n",
      "\n",
      "\n",
      "MultinomialNB train score: 0.6040809020941471\n",
      "MultinomialNB test score: 0.5978523489932885\n",
      "\n",
      "\n"
     ]
    }
   ],
   "source": [
    "from sklearn.multioutput import MultiOutputClassifier  # (https://sklearn.org/modules/multiclass.html#multioutput-classification)\n",
    "\n",
    "# train a Bernoulli Naive Bayes\n",
    "from sklearn.naive_bayes import BernoulliNB\n",
    "\n",
    "bnb = BernoulliNB(binarize=0.0)\n",
    "multi_bnb = MultiOutputClassifier(bnb, n_jobs=-1)\n",
    "multi_bnb.fit(X_train,y_train)\n",
    "print(f\"BernoulliNB train score: {multi_bnb.score(X_train, y_train)}\")  # 0.593162699122964\n",
    "print(f\"BernoulliNB test score: {multi_bnb.score(X_test, y_test)}\")  # 0.5884563758389262\n",
    "print(\"\\n\")\n",
    "\n",
    "# train a Gaussian Naive Bayes\n",
    "from sklearn.naive_bayes import GaussianNB\n",
    "\n",
    "gnb = GaussianNB()\n",
    "multi_gnb = MultiOutputClassifier(gnb, n_jobs=-1)\n",
    "multi_gnb.fit(X_train, y_train)\n",
    "print(f\"GaussianNB train score: {multi_gnb.score(X_train, y_train)}\")  # 0.21296462024938845\n",
    "print(f\"GaussianNB test score: {multi_gnb.score(X_test, y_test)}\")  # 0.21986577181208053\n",
    "print(\"\\n\")\n",
    "\n",
    "# train a Multinomial Naive Bayes\n",
    "from sklearn.naive_bayes import MultinomialNB\n",
    "\n",
    "mnb = MultinomialNB()\n",
    "multi_mnb = MultiOutputClassifier(mnb, n_jobs=-1)\n",
    "multi_mnb.fit(X_train,y_train)\n",
    "print(f\"MultinomialNB train score: {multi_mnb.score(X_train, y_train)}\")  # 0.6040809020941471\n",
    "print(f\"MultinomialNB test score: {multi_mnb.score(X_test, y_test)}\")  # 0.5978523489932885\n",
    "print(\"\\n\")\n"
   ],
   "metadata": {
    "collapsed": false,
    "pycharm": {
     "name": "#%%\n"
    }
   }
  },
  {
   "cell_type": "markdown",
   "source": [
    "Support Vector Machine"
   ],
   "metadata": {
    "collapsed": false,
    "pycharm": {
     "name": "#%% md\n"
    }
   }
  },
  {
   "cell_type": "code",
   "execution_count": 20,
   "outputs": [
    {
     "name": "stdout",
     "output_type": "stream",
     "text": [
      "Trained in in 963.3759 seconds\n"
     ]
    },
    {
     "data": {
      "text/plain": "<matplotlib.legend.Legend at 0x181a4c5ca90>"
     },
     "execution_count": 20,
     "metadata": {},
     "output_type": "execute_result"
    },
    {
     "data": {
      "text/plain": "<Figure size 432x288 with 1 Axes>",
      "image/png": "[encoded data removed]"
     },
     "metadata": {
      "needs_background": "light"
     },
     "output_type": "display_data"
    }
   ],
   "source": [
    "import time  # optional for timing the code\n",
    "from sklearn.svm import SVC\n",
    "from sklearn.multioutput import MultiOutputClassifier  # (https://sklearn.org/modules/multiclass.html#multioutput-classification)\n",
    "\n",
    "training_accuracy = []\n",
    "test_accuracy = []\n",
    "C = [0.01, 0.1, 0.25, 0.5, 0.75, 1]\n",
    "\n",
    "tic = time.perf_counter()  # timing start\n",
    "for c in C:\n",
    "    svm = SVC(C = c)\n",
    "    multi_svm = MultiOutputClassifier(svm, n_jobs=-1)\n",
    "    multi_svm.fit(X_train, y_train)\n",
    "    # record training set accuracy\n",
    "    training_accuracy.append(multi_svm.score(X_train, y_train))\n",
    "    # record generalization accuracy\n",
    "    test_accuracy.append(multi_svm.score(X_test, y_test))\n",
    "toc = time.perf_counter()  # timing end\n",
    "print(f\"Trained in in {toc - tic:0.4f} seconds\")  # print the time elapsed\n",
    "\n",
    "plt.plot(C, training_accuracy, label=\"training accuracy\")\n",
    "plt.plot(C, test_accuracy, label=\"test accuracy\")\n",
    "plt.ylabel(\"Accuracy\")\n",
    "plt.xlabel(\"Value of C\")\n",
    "plt.legend()"
   ],
   "metadata": {
    "collapsed": false,
    "pycharm": {
     "name": "#%%\n"
    }
   }
  },
  {
   "cell_type": "markdown",
   "source": [
    "Best seems to be with C = 0.25\n",
    "\n",
    "Now lets train the final SVM"
   ],
   "metadata": {
    "collapsed": false,
    "pycharm": {
     "name": "#%% md\n"
    }
   }
  },
  {
   "cell_type": "code",
   "execution_count": 21,
   "outputs": [
    {
     "name": "stdout",
     "output_type": "stream",
     "text": [
      "MultinomialNB train score: 0.7018077680329335\n",
      "MultinomialNB test score: 0.6977181208053691\n",
      "\n",
      "\n"
     ]
    }
   ],
   "source": [
    "svm = SVC(C = 0.25)\n",
    "multi_svm = MultiOutputClassifier(svm, n_jobs=-1)\n",
    "multi_svm.fit(X_train, y_train)\n",
    "\n",
    "print(f\"MultinomialNB train score: {multi_svm.score(X_train, y_train)}\")  # 0.7018077680329335\n",
    "print(f\"MultinomialNB test score: {multi_svm.score(X_test, y_test)}\")  # 0.6977181208053691\n",
    "print(\"\\n\")"
   ],
   "metadata": {
    "collapsed": false,
    "pycharm": {
     "name": "#%%\n"
    }
   }
  },
  {
   "cell_type": "markdown",
   "source": [
    "Decision Tree"
   ],
   "metadata": {
    "collapsed": false,
    "pycharm": {
     "name": "#%% md\n"
    }
   }
  },
  {
   "cell_type": "code",
   "execution_count": 23,
   "outputs": [
    {
     "name": "stdout",
     "output_type": "stream",
     "text": [
      "[0.51807742 0.70696852 0.71884132 0.69375329 0.72060144 0.71335242\n",
      " 0.70974302 0.70598446 0.69810846 0.6907105  0.68265638 0.67755487\n",
      " 0.66970914 0.66305709]\n",
      "Test set score: 0.71\n"
     ]
    }
   ],
   "source": [
    "from sklearn.tree import DecisionTreeClassifier\n",
    "from sklearn.model_selection import GridSearchCV\n",
    "\n",
    "param_grid = {'max_depth': [1, 2, 3, 4, 5, 6, 7, 8, 9, 10, 11, 12, 13, 14]}\n",
    "\n",
    "grid_search = GridSearchCV(DecisionTreeClassifier(), param_grid, cv=5, )\n",
    "grid_search.fit(X_train, y_train)\n",
    "scores = grid_search.cv_results_['mean_test_score']\n",
    "print(scores)\n",
    "\n",
    "print(\"Test set score: {:.2f}\".format(grid_search.score(X_test, y_test)))"
   ],
   "metadata": {
    "collapsed": false,
    "pycharm": {
     "name": "#%%\n"
    }
   }
  },
  {
   "cell_type": "markdown",
   "source": [
    "Best max_depth is 5 -->  0.72060144"
   ],
   "metadata": {
    "collapsed": false,
    "pycharm": {
     "name": "#%% md\n"
    }
   }
  },
  {
   "cell_type": "code",
   "execution_count": null,
   "outputs": [],
   "source": [
    "\n"
   ],
   "metadata": {
    "collapsed": false,
    "pycharm": {
     "name": "#%%\n"
    }
   }
  }
 ],
 "metadata": {
  "kernelspec": {
   "display_name": "Python 3",
   "language": "python",
   "name": "python3"
  },
  "language_info": {
   "codemirror_mode": {
    "name": "ipython",
    "version": 2
   },
   "file_extension": ".py",
   "mimetype": "text/x-python",
   "name": "python",
   "nbconvert_exporter": "python",
   "pygments_lexer": "ipython2",
   "version": "2.7.6"
  }
 },
 "nbformat": 4,
 "nbformat_minor": 0
}