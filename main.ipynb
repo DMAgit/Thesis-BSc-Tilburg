{
 "cells": [
  {
   "cell_type": "markdown",
   "metadata": {
    "collapsed": true,
    "pycharm": {
     "name": "#%% md\n"
    }
   },
   "source": [
    "Title\n",
    "\n",
    "Description"
   ]
  },
  {
   "cell_type": "markdown",
   "source": [
    "Importing packages."
   ],
   "metadata": {
    "collapsed": false,
    "pycharm": {
     "name": "#%% md\n"
    }
   }
  },
  {
   "cell_type": "code",
   "execution_count": 38,
   "outputs": [],
   "source": [
    "import pandas as pd\n",
    "import numpy as np\n",
    "import matplotlib.pyplot as plt\n",
    "%matplotlib inline"
   ],
   "metadata": {
    "collapsed": false,
    "pycharm": {
     "name": "#%%\n"
    }
   }
  },
  {
   "cell_type": "markdown",
   "source": [
    "Importing data into pandas DataFrame."
   ],
   "metadata": {
    "collapsed": false,
    "pycharm": {
     "name": "#%% md\n"
    }
   }
  },
  {
   "cell_type": "code",
   "execution_count": 41,
   "outputs": [
    {
     "name": "stdout",
     "output_type": "stream",
     "text": [
      "['fire_size_class', 'latitude', 'longitude', 'discovery_month', 'weekday', 'Vegetation', 'remoteness', 'elevation', 'Temp', 'Wind', 'Humidity', 'Precipitation']\n"
     ]
    }
   ],
   "source": [
    "df = pd.read_csv(r\"fullDataFinal.csv\", index_col=0)\n",
    "df.columns = df.columns.str.strip()\n",
    "df.sample(5)"
   ],
   "metadata": {
    "collapsed": false,
    "pycharm": {
     "name": "#%%\n"
    }
   }
  },
  {
   "cell_type": "markdown",
   "source": [
    "Run the block below to get the dataset with spaciotemporal *(SPT)* data only.\n",
    "\n",
    "    | Latitude | Longitude | Remoteness | Discovery month | Weekend |"
   ],
   "metadata": {
    "collapsed": false
   }
  },
  {
   "cell_type": "code",
   "execution_count": 71,
   "outputs": [
    {
     "data": {
      "text/plain": "       latitude  longitude  remoteness  Apr  Aug  Dec  Feb  Jan  Jul  Jun  \\\n8395   0.288267   0.816184    0.151041    0    0    0    0    0    0    0   \n36892  0.229640   0.711888    0.549112    0    0    0    0    0    0    1   \n27408  0.267127   0.814832    0.153029    0    0    0    0    0    0    0   \n15507  0.568127   0.972929    0.008872    1    0    0    0    0    0    0   \n16041  0.267401   0.670103    0.285907    0    0    1    0    0    0    0   \n\n       Mar  May  Nov  Oct  Sep  is_weekend  is_weekday  \n8395     0    1    0    0    0           0           1  \n36892    0    0    0    0    0           0           1  \n27408    0    0    1    0    0           1           0  \n15507    0    0    0    0    0           0           1  \n16041    0    0    0    0    0           0           1  ",
      "text/html": "<div>\n<style scoped>\n    .dataframe tbody tr th:only-of-type {\n        vertical-align: middle;\n    }\n\n    .dataframe tbody tr th {\n        vertical-align: top;\n    }\n\n    .dataframe thead th {\n        text-align: right;\n    }\n</style>\n<table border=\"1\" class=\"dataframe\">\n  <thead>\n    <tr style=\"text-align: right;\">\n      <th></th>\n      <th>latitude</th>\n      <th>longitude</th>\n      <th>remoteness</th>\n      <th>Apr</th>\n      <th>Aug</th>\n      <th>Dec</th>\n      <th>Feb</th>\n      <th>Jan</th>\n      <th>Jul</th>\n      <th>Jun</th>\n      <th>Mar</th>\n      <th>May</th>\n      <th>Nov</th>\n      <th>Oct</th>\n      <th>Sep</th>\n      <th>is_weekend</th>\n      <th>is_weekday</th>\n    </tr>\n  </thead>\n  <tbody>\n    <tr>\n      <th>8395</th>\n      <td>0.288267</td>\n      <td>0.816184</td>\n      <td>0.151041</td>\n      <td>0</td>\n      <td>0</td>\n      <td>0</td>\n      <td>0</td>\n      <td>0</td>\n      <td>0</td>\n      <td>0</td>\n      <td>0</td>\n      <td>1</td>\n      <td>0</td>\n      <td>0</td>\n      <td>0</td>\n      <td>0</td>\n      <td>1</td>\n    </tr>\n    <tr>\n      <th>36892</th>\n      <td>0.229640</td>\n      <td>0.711888</td>\n      <td>0.549112</td>\n      <td>0</td>\n      <td>0</td>\n      <td>0</td>\n      <td>0</td>\n      <td>0</td>\n      <td>0</td>\n      <td>1</td>\n      <td>0</td>\n      <td>0</td>\n      <td>0</td>\n      <td>0</td>\n      <td>0</td>\n      <td>0</td>\n      <td>1</td>\n    </tr>\n    <tr>\n      <th>27408</th>\n      <td>0.267127</td>\n      <td>0.814832</td>\n      <td>0.153029</td>\n      <td>0</td>\n      <td>0</td>\n      <td>0</td>\n      <td>0</td>\n      <td>0</td>\n      <td>0</td>\n      <td>0</td>\n      <td>0</td>\n      <td>0</td>\n      <td>1</td>\n      <td>0</td>\n      <td>0</td>\n      <td>1</td>\n      <td>0</td>\n    </tr>\n    <tr>\n      <th>15507</th>\n      <td>0.568127</td>\n      <td>0.972929</td>\n      <td>0.008872</td>\n      <td>1</td>\n      <td>0</td>\n      <td>0</td>\n      <td>0</td>\n      <td>0</td>\n      <td>0</td>\n      <td>0</td>\n      <td>0</td>\n      <td>0</td>\n      <td>0</td>\n      <td>0</td>\n      <td>0</td>\n      <td>0</td>\n      <td>1</td>\n    </tr>\n    <tr>\n      <th>16041</th>\n      <td>0.267401</td>\n      <td>0.670103</td>\n      <td>0.285907</td>\n      <td>0</td>\n      <td>0</td>\n      <td>1</td>\n      <td>0</td>\n      <td>0</td>\n      <td>0</td>\n      <td>0</td>\n      <td>0</td>\n      <td>0</td>\n      <td>0</td>\n      <td>0</td>\n      <td>0</td>\n      <td>0</td>\n      <td>1</td>\n    </tr>\n  </tbody>\n</table>\n</div>"
     },
     "execution_count": 71,
     "metadata": {},
     "output_type": "execute_result"
    }
   ],
   "source": [
    "# Separate target variable (fire_size_class) from predictor variables.\n",
    "dfTarget = df[\"fire_size_class\"]\n",
    "dfPredictor = df[[\"latitude\", \"longitude\", \"discovery_month\", \"weekday\", \"remoteness\"]]\n",
    "\n",
    "# First we one-hot encode the target class\n",
    "dfTarget = pd.concat([dfTarget, pd.get_dummies(dfTarget)], axis=1)  # use get_dummies and concatenate the result to dfTarget\n",
    "dfTarget.drop([\"fire_size_class\"], axis=1, inplace=True)  # and remove the old column\n",
    "# print(dfTarget.sample(5))\n",
    "\n",
    "# We want to make it binary classification between B and the larger fires\n",
    "# To do this we can drop all classes other than B\n",
    "# If B is 0 -> it's larger\n",
    "dfTarget.drop([\"C\", \"D\", \"E\", \"F\", \"G\"], axis=1, inplace=True)\n",
    "\n",
    "\n",
    "# Discovery_month\n",
    "dfPredictor = pd.concat([dfPredictor, pd.get_dummies(dfPredictor[\"discovery_month\"])], axis=1)\n",
    "dfPredictor.drop([\"discovery_month\"], axis=1, inplace=True)\n",
    "# Weekday\n",
    "dfPredictor = pd.concat([dfPredictor, pd.get_dummies(dfPredictor[\"weekday\"])], axis=1)\n",
    "dfPredictor.drop([\"weekday\"], axis=1, inplace=True)\n",
    "dfPredictor.rename(columns={False:\"is_weekend\", True:\"is_weekday\"}, inplace=True)  # Rename the column to is_weekday. Just preference\n",
    "\n",
    "\n",
    "# Scaling numerical data to 0-1 range.\n",
    "from sklearn.preprocessing import MinMaxScaler\n",
    "\n",
    "dfPredictorScaled = pd.DataFrame(MinMaxScaler().fit_transform(dfPredictor[[\"latitude\", \"longitude\", \"remoteness\"]]), columns=[\"latitude\", \"longitude\", \"remoteness\"])\n",
    "\n",
    "dfPredictor = dfPredictor.assign(**dfPredictorScaled.to_dict(orient=\"series\"))  # replace the columns of the old df with the ones from the new one\n",
    "dfPredictor.sample(5)"
   ],
   "metadata": {
    "collapsed": false,
    "pycharm": {
     "name": "#%%\n"
    }
   }
  },
  {
   "cell_type": "markdown",
   "source": [
    "Run this block to get the dataset with the meteorological *(M)* features only.\n",
    "\n",
    "    | Temperature | Wind speed | Humidity | Precipitation |"
   ],
   "metadata": {
    "collapsed": false
   }
  },
  {
   "cell_type": "code",
   "execution_count": 31,
   "outputs": [
    {
     "ename": "KeyError",
     "evalue": "\"['latitude', 'remoteness', 'longitude', 'elevation'] not in index\"",
     "output_type": "error",
     "traceback": [
      "\u001B[1;31m---------------------------------------------------------------------------\u001B[0m",
      "\u001B[1;31mKeyError\u001B[0m                                  Traceback (most recent call last)",
      "\u001B[1;32m<ipython-input-31-8d99c6496912>\u001B[0m in \u001B[0;36m<module>\u001B[1;34m\u001B[0m\n\u001B[0;32m     17\u001B[0m \u001B[1;32mfrom\u001B[0m \u001B[0msklearn\u001B[0m\u001B[1;33m.\u001B[0m\u001B[0mpreprocessing\u001B[0m \u001B[1;32mimport\u001B[0m \u001B[0mMinMaxScaler\u001B[0m\u001B[1;33m\u001B[0m\u001B[1;33m\u001B[0m\u001B[0m\n\u001B[0;32m     18\u001B[0m \u001B[1;33m\u001B[0m\u001B[0m\n\u001B[1;32m---> 19\u001B[1;33m \u001B[0mdfPredictorScaled\u001B[0m \u001B[1;33m=\u001B[0m \u001B[0mpd\u001B[0m\u001B[1;33m.\u001B[0m\u001B[0mDataFrame\u001B[0m\u001B[1;33m(\u001B[0m\u001B[0mMinMaxScaler\u001B[0m\u001B[1;33m(\u001B[0m\u001B[1;33m)\u001B[0m\u001B[1;33m.\u001B[0m\u001B[0mfit_transform\u001B[0m\u001B[1;33m(\u001B[0m\u001B[0mdfPredictor\u001B[0m\u001B[1;33m[\u001B[0m\u001B[1;33m[\u001B[0m\u001B[1;34m\"latitude\"\u001B[0m\u001B[1;33m,\u001B[0m \u001B[1;34m\"longitude\"\u001B[0m\u001B[1;33m,\u001B[0m \u001B[1;34m\"remoteness\"\u001B[0m\u001B[1;33m,\u001B[0m \u001B[1;34m\"elevation\"\u001B[0m\u001B[1;33m,\u001B[0m \u001B[1;34m\"Temp\"\u001B[0m\u001B[1;33m,\u001B[0m \u001B[1;34m\"Wind\"\u001B[0m\u001B[1;33m,\u001B[0m \u001B[1;34m\"Humidity\"\u001B[0m\u001B[1;33m,\u001B[0m \u001B[1;34m\"Precipitation\"\u001B[0m\u001B[1;33m]\u001B[0m\u001B[1;33m]\u001B[0m\u001B[1;33m)\u001B[0m\u001B[1;33m,\u001B[0m \u001B[0mcolumns\u001B[0m\u001B[1;33m=\u001B[0m\u001B[1;33m[\u001B[0m\u001B[1;34m\"latitude\"\u001B[0m\u001B[1;33m,\u001B[0m \u001B[1;34m\"longitude\"\u001B[0m\u001B[1;33m,\u001B[0m \u001B[1;34m\"remoteness\"\u001B[0m\u001B[1;33m,\u001B[0m \u001B[1;34m\"elevation\"\u001B[0m\u001B[1;33m,\u001B[0m \u001B[1;34m\"Temp\"\u001B[0m\u001B[1;33m,\u001B[0m \u001B[1;34m\"Wind\"\u001B[0m\u001B[1;33m,\u001B[0m \u001B[1;34m\"Humidity\"\u001B[0m\u001B[1;33m,\u001B[0m \u001B[1;34m\"Precipitation\"\u001B[0m\u001B[1;33m]\u001B[0m\u001B[1;33m)\u001B[0m\u001B[1;33m\u001B[0m\u001B[1;33m\u001B[0m\u001B[0m\n\u001B[0m\u001B[0;32m     20\u001B[0m \u001B[0mdfPredictor\u001B[0m \u001B[1;33m=\u001B[0m \u001B[0mdfPredictor\u001B[0m\u001B[1;33m.\u001B[0m\u001B[0massign\u001B[0m\u001B[1;33m(\u001B[0m\u001B[1;33m**\u001B[0m\u001B[0mdfPredictorScaled\u001B[0m\u001B[1;33m.\u001B[0m\u001B[0mto_dict\u001B[0m\u001B[1;33m(\u001B[0m\u001B[0morient\u001B[0m\u001B[1;33m=\u001B[0m\u001B[1;34m\"series\"\u001B[0m\u001B[1;33m)\u001B[0m\u001B[1;33m)\u001B[0m  \u001B[1;31m# replace the columns of the old df with the ones from the new one\u001B[0m\u001B[1;33m\u001B[0m\u001B[1;33m\u001B[0m\u001B[0m\n\u001B[0;32m     21\u001B[0m \u001B[1;33m\u001B[0m\u001B[0m\n",
      "\u001B[1;32md:\\pycharmprojects\\thesis\\lib\\site-packages\\pandas\\core\\frame.py\u001B[0m in \u001B[0;36m__getitem__\u001B[1;34m(self, key)\u001B[0m\n\u001B[0;32m   3028\u001B[0m             \u001B[1;32mif\u001B[0m \u001B[0mis_iterator\u001B[0m\u001B[1;33m(\u001B[0m\u001B[0mkey\u001B[0m\u001B[1;33m)\u001B[0m\u001B[1;33m:\u001B[0m\u001B[1;33m\u001B[0m\u001B[1;33m\u001B[0m\u001B[0m\n\u001B[0;32m   3029\u001B[0m                 \u001B[0mkey\u001B[0m \u001B[1;33m=\u001B[0m \u001B[0mlist\u001B[0m\u001B[1;33m(\u001B[0m\u001B[0mkey\u001B[0m\u001B[1;33m)\u001B[0m\u001B[1;33m\u001B[0m\u001B[1;33m\u001B[0m\u001B[0m\n\u001B[1;32m-> 3030\u001B[1;33m             \u001B[0mindexer\u001B[0m \u001B[1;33m=\u001B[0m \u001B[0mself\u001B[0m\u001B[1;33m.\u001B[0m\u001B[0mloc\u001B[0m\u001B[1;33m.\u001B[0m\u001B[0m_get_listlike_indexer\u001B[0m\u001B[1;33m(\u001B[0m\u001B[0mkey\u001B[0m\u001B[1;33m,\u001B[0m \u001B[0maxis\u001B[0m\u001B[1;33m=\u001B[0m\u001B[1;36m1\u001B[0m\u001B[1;33m,\u001B[0m \u001B[0mraise_missing\u001B[0m\u001B[1;33m=\u001B[0m\u001B[1;32mTrue\u001B[0m\u001B[1;33m)\u001B[0m\u001B[1;33m[\u001B[0m\u001B[1;36m1\u001B[0m\u001B[1;33m]\u001B[0m\u001B[1;33m\u001B[0m\u001B[1;33m\u001B[0m\u001B[0m\n\u001B[0m\u001B[0;32m   3031\u001B[0m \u001B[1;33m\u001B[0m\u001B[0m\n\u001B[0;32m   3032\u001B[0m         \u001B[1;31m# take() does not accept boolean indexers\u001B[0m\u001B[1;33m\u001B[0m\u001B[1;33m\u001B[0m\u001B[1;33m\u001B[0m\u001B[0m\n",
      "\u001B[1;32md:\\pycharmprojects\\thesis\\lib\\site-packages\\pandas\\core\\indexing.py\u001B[0m in \u001B[0;36m_get_listlike_indexer\u001B[1;34m(self, key, axis, raise_missing)\u001B[0m\n\u001B[0;32m   1264\u001B[0m             \u001B[0mkeyarr\u001B[0m\u001B[1;33m,\u001B[0m \u001B[0mindexer\u001B[0m\u001B[1;33m,\u001B[0m \u001B[0mnew_indexer\u001B[0m \u001B[1;33m=\u001B[0m \u001B[0max\u001B[0m\u001B[1;33m.\u001B[0m\u001B[0m_reindex_non_unique\u001B[0m\u001B[1;33m(\u001B[0m\u001B[0mkeyarr\u001B[0m\u001B[1;33m)\u001B[0m\u001B[1;33m\u001B[0m\u001B[1;33m\u001B[0m\u001B[0m\n\u001B[0;32m   1265\u001B[0m \u001B[1;33m\u001B[0m\u001B[0m\n\u001B[1;32m-> 1266\u001B[1;33m         \u001B[0mself\u001B[0m\u001B[1;33m.\u001B[0m\u001B[0m_validate_read_indexer\u001B[0m\u001B[1;33m(\u001B[0m\u001B[0mkeyarr\u001B[0m\u001B[1;33m,\u001B[0m \u001B[0mindexer\u001B[0m\u001B[1;33m,\u001B[0m \u001B[0maxis\u001B[0m\u001B[1;33m,\u001B[0m \u001B[0mraise_missing\u001B[0m\u001B[1;33m=\u001B[0m\u001B[0mraise_missing\u001B[0m\u001B[1;33m)\u001B[0m\u001B[1;33m\u001B[0m\u001B[1;33m\u001B[0m\u001B[0m\n\u001B[0m\u001B[0;32m   1267\u001B[0m         \u001B[1;32mreturn\u001B[0m \u001B[0mkeyarr\u001B[0m\u001B[1;33m,\u001B[0m \u001B[0mindexer\u001B[0m\u001B[1;33m\u001B[0m\u001B[1;33m\u001B[0m\u001B[0m\n\u001B[0;32m   1268\u001B[0m \u001B[1;33m\u001B[0m\u001B[0m\n",
      "\u001B[1;32md:\\pycharmprojects\\thesis\\lib\\site-packages\\pandas\\core\\indexing.py\u001B[0m in \u001B[0;36m_validate_read_indexer\u001B[1;34m(self, key, indexer, axis, raise_missing)\u001B[0m\n\u001B[0;32m   1314\u001B[0m             \u001B[1;32mif\u001B[0m \u001B[0mraise_missing\u001B[0m\u001B[1;33m:\u001B[0m\u001B[1;33m\u001B[0m\u001B[1;33m\u001B[0m\u001B[0m\n\u001B[0;32m   1315\u001B[0m                 \u001B[0mnot_found\u001B[0m \u001B[1;33m=\u001B[0m \u001B[0mlist\u001B[0m\u001B[1;33m(\u001B[0m\u001B[0mset\u001B[0m\u001B[1;33m(\u001B[0m\u001B[0mkey\u001B[0m\u001B[1;33m)\u001B[0m \u001B[1;33m-\u001B[0m \u001B[0mset\u001B[0m\u001B[1;33m(\u001B[0m\u001B[0max\u001B[0m\u001B[1;33m)\u001B[0m\u001B[1;33m)\u001B[0m\u001B[1;33m\u001B[0m\u001B[1;33m\u001B[0m\u001B[0m\n\u001B[1;32m-> 1316\u001B[1;33m                 \u001B[1;32mraise\u001B[0m \u001B[0mKeyError\u001B[0m\u001B[1;33m(\u001B[0m\u001B[1;34mf\"{not_found} not in index\"\u001B[0m\u001B[1;33m)\u001B[0m\u001B[1;33m\u001B[0m\u001B[1;33m\u001B[0m\u001B[0m\n\u001B[0m\u001B[0;32m   1317\u001B[0m \u001B[1;33m\u001B[0m\u001B[0m\n\u001B[0;32m   1318\u001B[0m             \u001B[0mnot_found\u001B[0m \u001B[1;33m=\u001B[0m \u001B[0mkey\u001B[0m\u001B[1;33m[\u001B[0m\u001B[0mmissing_mask\u001B[0m\u001B[1;33m]\u001B[0m\u001B[1;33m\u001B[0m\u001B[1;33m\u001B[0m\u001B[0m\n",
      "\u001B[1;31mKeyError\u001B[0m: \"['latitude', 'remoteness', 'longitude', 'elevation'] not in index\""
     ]
    }
   ],
   "source": [
    "# Separate target variable (fire_size_class) from predictor variables.\n",
    "\n",
    "dfTarget = df[\"fire_size_class\"]\n",
    "dfPredictor = df[[\"Temp\", \"Wind\", \"Humidity\", \"Precipitation\"]]\n",
    "\n",
    "# First we one-hot encode all of the classes\n",
    "dfTarget = pd.concat([dfTarget, pd.get_dummies(dfTarget)], axis=1)  # use get_dummies and concatenate the result to dfTarget\n",
    "dfTarget.drop([\"fire_size_class\"], axis=1, inplace=True)  # and remove the old column\n",
    "\n",
    "# We want to make it binary classification between B and the larger fires\n",
    "# To do this we can drop all classes other than B\n",
    "# If B is 0 -> it's larger\n",
    "dfTarget.drop([\"C\", \"D\", \"E\", \"F\", \"G\"], axis=1, inplace=True)\n",
    "\n",
    "\n",
    "# Scaling numerical data to 0-1 range.\n",
    "from sklearn.preprocessing import MinMaxScaler\n",
    "\n",
    "dfPredictorScaled = pd.DataFrame(MinMaxScaler().fit_transform(dfPredictor[[\"Temp\", \"Wind\", \"Humidity\", \"Precipitation\"]]), columns=[\"Temp\", \"Wind\", \"Humidity\", \"Precipitation\"])\n",
    "dfPredictor = dfPredictor.assign(**dfPredictorScaled.to_dict(orient=\"series\"))  # replace the columns of the old df with the ones from the new one"
   ],
   "metadata": {
    "collapsed": false,
    "pycharm": {
     "name": "#%%\n"
    }
   }
  },
  {
   "cell_type": "markdown",
   "source": [
    "Run this block to get the dataset with the topographic *(T)* features only.\n",
    "\n",
    "    | Vegetation type | Elevation |"
   ],
   "metadata": {
    "collapsed": false
   }
  },
  {
   "cell_type": "code",
   "execution_count": 80,
   "outputs": [],
   "source": [
    "# Separate target variable (fire_size_class) from predictor variables.\n",
    "\n",
    "dfTarget = df[\"fire_size_class\"]\n",
    "dfPredictor = df[[\"Vegetation\", \"elevation\"]]\n",
    "\n",
    "# First we one-hot encode all of the classes\n",
    "dfTarget = pd.concat([dfTarget, pd.get_dummies(dfTarget)], axis=1)  # use get_dummies and concatenate the result to dfTarget\n",
    "dfTarget.drop([\"fire_size_class\"], axis=1, inplace=True)  # and remove the old column\n",
    "\n",
    "# We want to make it binary classification between B and the larger fires\n",
    "# To do this we can drop all classes other than B\n",
    "# If B is 0 -> it's larger\n",
    "dfTarget.drop([\"C\", \"D\", \"E\", \"F\", \"G\"], axis=1, inplace=True)\n",
    "\n",
    "\n",
    "# Changing categorical variables into one-hot encoded ones.\n",
    "# Vegetation\n",
    "dfPredictor = pd.concat([dfPredictor, pd.get_dummies(dfPredictor[\"Vegetation\"], prefix=\"Veg\", prefix_sep=\" \")], axis=1)\n",
    "dfPredictor.drop([\"Vegetation\"], axis=1, inplace=True)"
   ],
   "metadata": {
    "collapsed": false,
    "pycharm": {
     "name": "#%%\n"
    }
   }
  },
  {
   "cell_type": "markdown",
   "source": [
    "Run this block to get the dataset with the all the features.\n",
    "\n",
    "    | Latitude | Longitude | Remoteness | Discovery month | Weekend | Temperature | Wind speed | Humidity | Precipitation | Vegetation type | Elevation |"
   ],
   "metadata": {
    "collapsed": false,
    "pycharm": {
     "name": "#%% md\n"
    }
   }
  },
  {
   "cell_type": "code",
   "source": [
    "# Separate target variable (fire_size_class) from predictor variables.\n",
    "\n",
    "dfTarget = df[\"fire_size_class\"]\n",
    "dfPredictor = df[[\"latitude\", \"longitude\", \"discovery_month\", \"weekday\", \"Vegetation\", \"remoteness\", \"elevation\", \"Temp\", \"Wind\", \"Humidity\", \"Precipitation\"]]\n",
    "\n",
    "# First we one-hot encode all of the classes\n",
    "dfTarget = pd.concat([dfTarget, pd.get_dummies(dfTarget)], axis=1)  # use get_dummies and concatenate the result to dfTarget\n",
    "dfTarget.drop([\"fire_size_class\"], axis=1, inplace=True)  # and remove the old column\n",
    "\n",
    "# We want to make it binary classification between B and the larger fires\n",
    "# To do this we can drop all classes other than B\n",
    "# If B is 0 -> it's larger\n",
    "dfTarget.drop([\"C\", \"D\", \"E\", \"F\", \"G\"], axis=1, inplace=True)\n",
    "\n",
    "\n",
    "# Changing categorical variables into one-hot encoded ones.\n",
    "# Vegetation\n",
    "dfPredictor = pd.concat([dfPredictor, pd.get_dummies(dfPredictor[\"Vegetation\"], prefix=\"Veg\", prefix_sep=\" \")], axis=1)\n",
    "dfPredictor.drop([\"Vegetation\"], axis=1, inplace=True)\n",
    "\n",
    "# Discovery_month\n",
    "dfPredictor = pd.concat([dfPredictor, pd.get_dummies(dfPredictor[\"discovery_month\"])], axis=1)\n",
    "dfPredictor.drop([\"discovery_month\"], axis=1, inplace=True)\n",
    "\n",
    "# Weekday\n",
    "dfPredictor = pd.concat([dfPredictor, pd.get_dummies(dfPredictor[\"weekday\"])], axis=1)\n",
    "dfPredictor.drop([\"weekday\"], axis=1, inplace=True)\n",
    "dfPredictor.rename(columns={False:\"is_weekend\", True:\"is_weekday\"}, inplace=True) # Rename the column to is_weekday. Just preference\n",
    "\n",
    "\n",
    "# Scaling numerical data to 0-1 range.\n",
    "from sklearn.preprocessing import MinMaxScaler\n",
    "\n",
    "dfPredictorScaled = pd.DataFrame(MinMaxScaler().fit_transform(dfPredictor[[\"latitude\", \"longitude\", \"remoteness\", \"elevation\", \"Temp\", \"Wind\", \"Humidity\", \"Precipitation\"]]), columns=[\"latitude\", \"longitude\", \"remoteness\", \"elevation\", \"Temp\", \"Wind\", \"Humidity\", \"Precipitation\"])\n",
    "dfPredictor = dfPredictor.assign(**dfPredictorScaled.to_dict(orient=\"series\"))  # replace the columns of the old df with the ones from the new one"
   ],
   "metadata": {
    "collapsed": false,
    "pycharm": {
     "name": "#%%\n"
    }
   },
   "execution_count": 97,
   "outputs": []
  },
  {
   "cell_type": "markdown",
   "source": [
    "Train-test split"
   ],
   "metadata": {
    "collapsed": false,
    "pycharm": {
     "name": "#%% md\n"
    }
   }
  },
  {
   "cell_type": "code",
   "execution_count": 100,
   "outputs": [
    {
     "name": "stdout",
     "output_type": "stream",
     "text": [
      "(33522, 28)\n",
      "(33522, 1) \n",
      "\n",
      "(3725, 28)\n",
      "(3725, 1)\n"
     ]
    }
   ],
   "source": [
    "from sklearn.model_selection import train_test_split\n",
    "\n",
    "X_train, X_test, y_train, y_test = train_test_split(dfPredictor, dfTarget, test_size=0.1, random_state=42, stratify=dfTarget)\n",
    "\n",
    "print(X_train.shape)\n",
    "print(y_train.shape, \"\\n\")\n",
    "\n",
    "print(X_test.shape)\n",
    "print(y_test.shape)"
   ],
   "metadata": {
    "collapsed": false,
    "pycharm": {
     "name": "#%%\n"
    }
   }
  },
  {
   "cell_type": "markdown",
   "source": [
    "Before SMOTEEN"
   ],
   "metadata": {
    "collapsed": false
   }
  },
  {
   "cell_type": "code",
   "execution_count": 82,
   "outputs": [
    {
     "data": {
      "text/plain": "array([[<AxesSubplot:title={'center':'B'}>]], dtype=object)"
     },
     "execution_count": 82,
     "metadata": {},
     "output_type": "execute_result"
    },
    {
     "data": {
      "text/plain": "<Figure size 432x288 with 1 Axes>",
      "image/png": "[encoded data removed]"
     },
     "metadata": {
      "needs_background": "light"
     },
     "output_type": "display_data"
    }
   ],
   "source": [
    "y_train.hist()"
   ],
   "metadata": {
    "collapsed": false,
    "pycharm": {
     "name": "#%%\n"
    }
   }
  },
  {
   "cell_type": "markdown",
   "source": [
    "In order to fix the distribution of the data when training, we want to change it (in the training set only though).\n",
    "\n",
    "First, I tried randomly undersampling the data, however that made the training set too small (down to 2.6k samples total). The results were abysmal, with basically every model getting around a 2% accuracy on the test set.\n",
    "\n",
    "This is the code to do this, in case you want to (but you shouldn't)."
   ],
   "metadata": {
    "collapsed": false,
    "pycharm": {
     "name": "#%% md\n"
    }
   }
  },
  {
   "cell_type": "code",
   "execution_count": 83,
   "outputs": [
    {
     "name": "stdout",
     "output_type": "stream",
     "text": [
      "(23236, 7)\n",
      "(23236, 1)\n"
     ]
    }
   ],
   "source": [
    "from imblearn.under_sampling import RandomUnderSampler\n",
    "\n",
    "rus = RandomUnderSampler()\n",
    "X_train, y_train = rus.fit_resample(X_train, y_train)\n",
    "\n",
    "print(X_train.shape)\n",
    "print(y_train.shape)"
   ],
   "metadata": {
    "collapsed": false,
    "pycharm": {
     "name": "#%%\n"
    }
   }
  },
  {
   "cell_type": "markdown",
   "source": [
    "We want to convert the y_train dataset from a Pandas DataFrame to a (n, ) Numpy array."
   ],
   "metadata": {
    "collapsed": false,
    "pycharm": {
     "name": "#%% md\n"
    }
   }
  },
  {
   "cell_type": "code",
   "execution_count": 84,
   "outputs": [
    {
     "data": {
      "text/plain": "array([[<AxesSubplot:title={'center':'B'}>]], dtype=object)"
     },
     "execution_count": 84,
     "metadata": {},
     "output_type": "execute_result"
    },
    {
     "data": {
      "text/plain": "<Figure size 432x288 with 1 Axes>",
      "image/png": "[encoded data removed]"
     },
     "metadata": {
      "needs_background": "light"
     },
     "output_type": "display_data"
    }
   ],
   "source": [
    "y_train.hist()"
   ],
   "metadata": {
    "collapsed": false,
    "pycharm": {
     "name": "#%%\n"
    }
   }
  },
  {
   "cell_type": "code",
   "execution_count": 85,
   "outputs": [],
   "source": [
    "y_train = y_train.values.ravel()"
   ],
   "metadata": {
    "collapsed": false,
    "pycharm": {
     "name": "#%%\n"
    }
   }
  },
  {
   "cell_type": "markdown",
   "source": [
    "Make a correlation matrix"
   ],
   "metadata": {
    "collapsed": false,
    "pycharm": {
     "name": "#%% md\n"
    }
   }
  },
  {
   "cell_type": "code",
   "execution_count": 86,
   "outputs": [
    {
     "data": {
      "text/plain": "<Figure size 432x288 with 2 Axes>",
      "image/png": "[encoded data removed]"
     },
     "metadata": {
      "needs_background": "light"
     },
     "output_type": "display_data"
    }
   ],
   "source": [
    "import seaborn as sn\n",
    "\n",
    "corrMatrix = X_train.corr()\n",
    "sn.heatmap(corrMatrix)\n",
    "plt.show()"
   ],
   "metadata": {
    "collapsed": false,
    "pycharm": {
     "name": "#%%\n"
    }
   }
  },
  {
   "cell_type": "markdown",
   "source": [
    "Training models, each in a cell (?)\n",
    "\n",
    "* Dummy classifier\n",
    "* K-Nearest Neighbour (KNN)\n",
    "* Naïve Bayes (NB)\n",
    "* Support Vector Machine (SVM)\n",
    "* Decision Tree (DT)\n",
    "* Random Forest (RF)\n",
    "* Gradient Boosted Trees (GBT)\n",
    "* Multi-Layered Perceptron (MLP)\n",
    "* Artificial Neural Network (ANN)"
   ],
   "metadata": {
    "collapsed": false,
    "pycharm": {
     "name": "#%% md\n"
    }
   }
  },
  {
   "cell_type": "markdown",
   "source": [
    "Evaluation with confusion matrix, F1 score, etc"
   ],
   "metadata": {
    "collapsed": false,
    "pycharm": {
     "name": "#%% md\n"
    }
   }
  },
  {
   "cell_type": "markdown",
   "source": [
    "### Dummy classifier"
   ],
   "metadata": {
    "collapsed": false,
    "pycharm": {
     "name": "#%% md\n"
    }
   }
  },
  {
   "cell_type": "code",
   "source": [
    "from sklearn.dummy import DummyClassifier\n",
    "\n",
    "dummy_clf = DummyClassifier(strategy=\"stratified\")\n",
    "\n",
    "dummy_clf.fit(X_train, y_train)\n",
    "training_accuracy = dummy_clf.score(X_train, y_train)\n",
    "test_accuracy = dummy_clf.score(X_test, y_test)\n",
    "print(f\"Training accuracy: {training_accuracy}\")  # 0.6537796074219915\n",
    "print(f\"Test accuracy: {test_accuracy}\")  # 0.6502013422818792\n",
    "\n",
    "\n",
    "y_true, y_pred = y_test , dummy_clf.predict(X_test)\n",
    "from sklearn.metrics import classification_report\n",
    "print('Results on the test set:')\n",
    "print(classification_report(y_true, y_pred))"
   ],
   "metadata": {
    "collapsed": false,
    "pycharm": {
     "name": "#%%\n"
    }
   },
   "execution_count": 87,
   "outputs": [
    {
     "name": "stdout",
     "output_type": "stream",
     "text": [
      "Training accuracy: 0.5\n",
      "Test accuracy: 0.3465771812080537\n",
      "Results on the test set:\n",
      "              precision    recall  f1-score   support\n",
      "\n",
      "           0       0.35      1.00      0.51      1291\n",
      "           1       0.00      0.00      0.00      2434\n",
      "\n",
      "    accuracy                           0.35      3725\n",
      "   macro avg       0.17      0.50      0.26      3725\n",
      "weighted avg       0.12      0.35      0.18      3725\n",
      "\n"
     ]
    },
    {
     "name": "stderr",
     "output_type": "stream",
     "text": [
      "d:\\pycharmprojects\\thesis\\lib\\site-packages\\sklearn\\metrics\\_classification.py:1248: UndefinedMetricWarning: Precision and F-score are ill-defined and being set to 0.0 in labels with no predicted samples. Use `zero_division` parameter to control this behavior.\n",
      "  _warn_prf(average, modifier, msg_start, len(result))\n",
      "d:\\pycharmprojects\\thesis\\lib\\site-packages\\sklearn\\metrics\\_classification.py:1248: UndefinedMetricWarning: Precision and F-score are ill-defined and being set to 0.0 in labels with no predicted samples. Use `zero_division` parameter to control this behavior.\n",
      "  _warn_prf(average, modifier, msg_start, len(result))\n",
      "d:\\pycharmprojects\\thesis\\lib\\site-packages\\sklearn\\metrics\\_classification.py:1248: UndefinedMetricWarning: Precision and F-score are ill-defined and being set to 0.0 in labels with no predicted samples. Use `zero_division` parameter to control this behavior.\n",
      "  _warn_prf(average, modifier, msg_start, len(result))\n"
     ]
    }
   ]
  },
  {
   "cell_type": "markdown",
   "source": [
    "### KNN"
   ],
   "metadata": {
    "collapsed": false,
    "pycharm": {
     "name": "#%% md\n"
    }
   }
  },
  {
   "cell_type": "code",
   "source": [
    "from sklearn.model_selection import GridSearchCV\n",
    "from sklearn.neighbors import KNeighborsClassifier\n",
    "\n",
    "param_grid = {'n_neighbors': range(2, 30, 2), 'weights': {'uniform', 'distance'}}\n",
    "\n",
    "grid_searchKNN = GridSearchCV(KNeighborsClassifier(), param_grid, cv=5, n_jobs=-1)\n",
    "grid_searchKNN.fit(X_train, y_train)\n",
    "\n",
    "print(\"Test set score: {:.2f}\".format(grid_searchKNN.score(X_test, y_test)))\n",
    "\n",
    "\n",
    "y_true, y_pred = y_test , grid_searchKNN.predict(X_test)\n",
    "from sklearn.metrics import classification_report\n",
    "print('Results on the test set:')\n",
    "print(classification_report(y_true, y_pred))\n",
    "\n",
    "print(f\"Best test set score: {grid_searchKNN.best_score_} with {grid_searchKNN.best_params_} parameters.\")  # 0.6436993848306627 with {'n_neighbors': 25}"
   ],
   "metadata": {
    "collapsed": false,
    "pycharm": {
     "name": "#%%\n"
    }
   },
   "execution_count": 1,
   "outputs": [
    {
     "ename": "ValueError",
     "evalue": "Parameter grid for parameter (weights) needs to be a list or numpy array, but got (<class 'set'>). Single values need to be wrapped in a list with one element.",
     "output_type": "error",
     "traceback": [
      "\u001B[1;31m---------------------------------------------------------------------------\u001B[0m",
      "\u001B[1;31mValueError\u001B[0m                                Traceback (most recent call last)",
      "\u001B[1;32m<ipython-input-1-31f84f2fa7b9>\u001B[0m in \u001B[0;36m<module>\u001B[1;34m\u001B[0m\n\u001B[0;32m      4\u001B[0m \u001B[0mparam_grid\u001B[0m \u001B[1;33m=\u001B[0m \u001B[1;33m{\u001B[0m\u001B[1;34m'n_neighbors'\u001B[0m\u001B[1;33m:\u001B[0m \u001B[0mrange\u001B[0m\u001B[1;33m(\u001B[0m\u001B[1;36m2\u001B[0m\u001B[1;33m,\u001B[0m \u001B[1;36m30\u001B[0m\u001B[1;33m,\u001B[0m \u001B[1;36m2\u001B[0m\u001B[1;33m)\u001B[0m\u001B[1;33m,\u001B[0m \u001B[1;34m'weights'\u001B[0m\u001B[1;33m:\u001B[0m \u001B[1;33m{\u001B[0m\u001B[1;34m'uniform'\u001B[0m\u001B[1;33m,\u001B[0m \u001B[1;34m'distance'\u001B[0m\u001B[1;33m}\u001B[0m\u001B[1;33m}\u001B[0m\u001B[1;33m\u001B[0m\u001B[1;33m\u001B[0m\u001B[0m\n\u001B[0;32m      5\u001B[0m \u001B[1;33m\u001B[0m\u001B[0m\n\u001B[1;32m----> 6\u001B[1;33m \u001B[0mgrid_searchKNN\u001B[0m \u001B[1;33m=\u001B[0m \u001B[0mGridSearchCV\u001B[0m\u001B[1;33m(\u001B[0m\u001B[0mKNeighborsClassifier\u001B[0m\u001B[1;33m(\u001B[0m\u001B[1;33m)\u001B[0m\u001B[1;33m,\u001B[0m \u001B[0mparam_grid\u001B[0m\u001B[1;33m,\u001B[0m \u001B[0mcv\u001B[0m\u001B[1;33m=\u001B[0m\u001B[1;36m5\u001B[0m\u001B[1;33m,\u001B[0m \u001B[0mn_jobs\u001B[0m\u001B[1;33m=\u001B[0m\u001B[1;33m-\u001B[0m\u001B[1;36m1\u001B[0m\u001B[1;33m)\u001B[0m\u001B[1;33m\u001B[0m\u001B[1;33m\u001B[0m\u001B[0m\n\u001B[0m\u001B[0;32m      7\u001B[0m \u001B[0mgrid_searchKNN\u001B[0m\u001B[1;33m.\u001B[0m\u001B[0mfit\u001B[0m\u001B[1;33m(\u001B[0m\u001B[0mX_train\u001B[0m\u001B[1;33m,\u001B[0m \u001B[0my_train\u001B[0m\u001B[1;33m)\u001B[0m\u001B[1;33m\u001B[0m\u001B[1;33m\u001B[0m\u001B[0m\n\u001B[0;32m      8\u001B[0m \u001B[1;33m\u001B[0m\u001B[0m\n",
      "\u001B[1;32md:\\pycharmprojects\\thesis\\lib\\site-packages\\sklearn\\utils\\validation.py\u001B[0m in \u001B[0;36minner_f\u001B[1;34m(*args, **kwargs)\u001B[0m\n\u001B[0;32m     61\u001B[0m             \u001B[0mextra_args\u001B[0m \u001B[1;33m=\u001B[0m \u001B[0mlen\u001B[0m\u001B[1;33m(\u001B[0m\u001B[0margs\u001B[0m\u001B[1;33m)\u001B[0m \u001B[1;33m-\u001B[0m \u001B[0mlen\u001B[0m\u001B[1;33m(\u001B[0m\u001B[0mall_args\u001B[0m\u001B[1;33m)\u001B[0m\u001B[1;33m\u001B[0m\u001B[1;33m\u001B[0m\u001B[0m\n\u001B[0;32m     62\u001B[0m             \u001B[1;32mif\u001B[0m \u001B[0mextra_args\u001B[0m \u001B[1;33m<=\u001B[0m \u001B[1;36m0\u001B[0m\u001B[1;33m:\u001B[0m\u001B[1;33m\u001B[0m\u001B[1;33m\u001B[0m\u001B[0m\n\u001B[1;32m---> 63\u001B[1;33m                 \u001B[1;32mreturn\u001B[0m \u001B[0mf\u001B[0m\u001B[1;33m(\u001B[0m\u001B[1;33m*\u001B[0m\u001B[0margs\u001B[0m\u001B[1;33m,\u001B[0m \u001B[1;33m**\u001B[0m\u001B[0mkwargs\u001B[0m\u001B[1;33m)\u001B[0m\u001B[1;33m\u001B[0m\u001B[1;33m\u001B[0m\u001B[0m\n\u001B[0m\u001B[0;32m     64\u001B[0m \u001B[1;33m\u001B[0m\u001B[0m\n\u001B[0;32m     65\u001B[0m             \u001B[1;31m# extra_args > 0\u001B[0m\u001B[1;33m\u001B[0m\u001B[1;33m\u001B[0m\u001B[1;33m\u001B[0m\u001B[0m\n",
      "\u001B[1;32md:\\pycharmprojects\\thesis\\lib\\site-packages\\sklearn\\model_selection\\_search.py\u001B[0m in \u001B[0;36m__init__\u001B[1;34m(self, estimator, param_grid, scoring, n_jobs, refit, cv, verbose, pre_dispatch, error_score, return_train_score)\u001B[0m\n\u001B[0;32m   1290\u001B[0m             return_train_score=return_train_score)\n\u001B[0;32m   1291\u001B[0m         \u001B[0mself\u001B[0m\u001B[1;33m.\u001B[0m\u001B[0mparam_grid\u001B[0m \u001B[1;33m=\u001B[0m \u001B[0mparam_grid\u001B[0m\u001B[1;33m\u001B[0m\u001B[1;33m\u001B[0m\u001B[0m\n\u001B[1;32m-> 1292\u001B[1;33m         \u001B[0m_check_param_grid\u001B[0m\u001B[1;33m(\u001B[0m\u001B[0mparam_grid\u001B[0m\u001B[1;33m)\u001B[0m\u001B[1;33m\u001B[0m\u001B[1;33m\u001B[0m\u001B[0m\n\u001B[0m\u001B[0;32m   1293\u001B[0m \u001B[1;33m\u001B[0m\u001B[0m\n\u001B[0;32m   1294\u001B[0m     \u001B[1;32mdef\u001B[0m \u001B[0m_run_search\u001B[0m\u001B[1;33m(\u001B[0m\u001B[0mself\u001B[0m\u001B[1;33m,\u001B[0m \u001B[0mevaluate_candidates\u001B[0m\u001B[1;33m)\u001B[0m\u001B[1;33m:\u001B[0m\u001B[1;33m\u001B[0m\u001B[1;33m\u001B[0m\u001B[0m\n",
      "\u001B[1;32md:\\pycharmprojects\\thesis\\lib\\site-packages\\sklearn\\model_selection\\_search.py\u001B[0m in \u001B[0;36m_check_param_grid\u001B[1;34m(param_grid)\u001B[0m\n\u001B[0;32m    398\u001B[0m             if (isinstance(v, str) or\n\u001B[0;32m    399\u001B[0m                     not isinstance(v, (np.ndarray, Sequence))):\n\u001B[1;32m--> 400\u001B[1;33m                 raise ValueError(\"Parameter grid for parameter ({0}) needs to\"\n\u001B[0m\u001B[0;32m    401\u001B[0m                                  \u001B[1;34m\" be a list or numpy array, but got ({1}).\"\u001B[0m\u001B[1;33m\u001B[0m\u001B[1;33m\u001B[0m\u001B[0m\n\u001B[0;32m    402\u001B[0m                                  \u001B[1;34m\" Single values need to be wrapped in a list\"\u001B[0m\u001B[1;33m\u001B[0m\u001B[1;33m\u001B[0m\u001B[0m\n",
      "\u001B[1;31mValueError\u001B[0m: Parameter grid for parameter (weights) needs to be a list or numpy array, but got (<class 'set'>). Single values need to be wrapped in a list with one element."
     ]
    }
   ]
  },
  {
   "cell_type": "markdown",
   "source": [
    "### Naive Bayes"
   ],
   "metadata": {
    "collapsed": false,
    "pycharm": {
     "name": "#%% md\n"
    }
   }
  },
  {
   "cell_type": "code",
   "source": [
    "from sklearn.naive_bayes import GaussianNB\n",
    "\n",
    "gnb = GaussianNB()\n",
    "gnb.fit(X_train, y_train)\n",
    "print(f\"GaussianNB train score: {gnb.score(X_train, y_train)}\")  # 0.21296462024938845\n",
    "print(f\"GaussianNB test score: {gnb.score(X_test, y_test)}\")  # 0.21986577181208053\n",
    "print(\"\\n\")\n",
    "\n",
    "y_true, y_pred = y_test , gnb.predict(X_test)\n",
    "from sklearn.metrics import classification_report\n",
    "print('Results on the test set:')\n",
    "print(classification_report(y_true, y_pred))"
   ],
   "metadata": {
    "collapsed": false,
    "pycharm": {
     "name": "#%%\n"
    }
   },
   "execution_count": 89,
   "outputs": [
    {
     "name": "stdout",
     "output_type": "stream",
     "text": [
      "GaussianNB train score: 0.571828197624376\n",
      "GaussianNB test score: 0.6703355704697986\n",
      "\n",
      "\n",
      "Results on the test set:\n",
      "              precision    recall  f1-score   support\n",
      "\n",
      "           0       0.54      0.32      0.41      1291\n",
      "           1       0.70      0.85      0.77      2434\n",
      "\n",
      "    accuracy                           0.67      3725\n",
      "   macro avg       0.62      0.59      0.59      3725\n",
      "weighted avg       0.65      0.67      0.64      3725\n",
      "\n"
     ]
    }
   ]
  },
  {
   "cell_type": "markdown",
   "source": [
    "### Support Vector Machine"
   ],
   "metadata": {
    "collapsed": false,
    "pycharm": {
     "name": "#%% md\n"
    }
   }
  },
  {
   "cell_type": "code",
   "source": [
    "from sklearn.model_selection import GridSearchCV\n",
    "from sklearn.svm import SVC\n",
    "\n",
    "param_grid = {'kernel': ['poly', 'rbf', 'sigmoid'],'C': [0.01, 0.1, 0.25, 0.5, 1, 2]}\n",
    "\n",
    "grid_searchSVC = GridSearchCV(SVC(), param_grid, cv=5, n_jobs=-1)\n",
    "grid_searchSVC.fit(X_train, y_train)\n",
    "\n",
    "print(\"Test set score: {:.2f}\".format(grid_searchSVC.score(X_test, y_test)))\n",
    "\n",
    "y_true, y_pred = y_test , grid_searchSVC.predict(X_test)\n",
    "from sklearn.metrics import classification_report\n",
    "print('Results on the test set:')\n",
    "print(classification_report(y_true, y_pred))"
   ],
   "metadata": {
    "collapsed": false,
    "pycharm": {
     "name": "#%%\n"
    }
   },
   "execution_count": 90,
   "outputs": [
    {
     "name": "stdout",
     "output_type": "stream",
     "text": [
      "Test set score: 0.69\n",
      "Results on the test set:\n",
      "              precision    recall  f1-score   support\n",
      "\n",
      "           0       0.57      0.40      0.47      1291\n",
      "           1       0.72      0.84      0.78      2434\n",
      "\n",
      "    accuracy                           0.69      3725\n",
      "   macro avg       0.65      0.62      0.62      3725\n",
      "weighted avg       0.67      0.69      0.67      3725\n",
      "\n"
     ]
    }
   ]
  },
  {
   "cell_type": "markdown",
   "source": [
    "### Decision Tree"
   ],
   "metadata": {
    "collapsed": false,
    "pycharm": {
     "name": "#%% md\n"
    }
   }
  },
  {
   "cell_type": "code",
   "source": [
    "from sklearn.tree import DecisionTreeClassifier\n",
    "from sklearn.model_selection import GridSearchCV\n",
    "\n",
    "param_grid = {'max_depth': [2, 4, 16, 64, 128, 256, None], 'criterion': ['gini', 'entropy']}\n",
    "\n",
    "grid_searchDT = GridSearchCV(DecisionTreeClassifier(), param_grid, cv=5, n_jobs=-1)\n",
    "grid_searchDT.fit(X_train, y_train)\n",
    "DT_ResultsDf = pd.DataFrame(grid_searchDT.cv_results_)\n",
    "\n",
    "print(DT_ResultsDf)\n",
    "print(f\"Best test set score: {grid_searchDT.best_score_} with {grid_searchDT.best_params_} parameters.\")\n",
    "\n",
    "y_true, y_pred = y_test , grid_searchDT.predict(X_test)\n",
    "from sklearn.metrics import classification_report\n",
    "print('Results on the test set:')\n",
    "print(classification_report(y_true, y_pred))"
   ],
   "metadata": {
    "collapsed": false,
    "pycharm": {
     "name": "#%%\n"
    }
   },
   "execution_count": 91,
   "outputs": [
    {
     "name": "stdout",
     "output_type": "stream",
     "text": [
      "    mean_fit_time  std_fit_time  mean_score_time  std_score_time  \\\n",
      "0        0.033564      0.001853         0.004197        0.002398   \n",
      "1        0.032367      0.006524         0.003996        0.001547   \n",
      "2        0.043356      0.006081         0.003396        0.000800   \n",
      "3        0.044554      0.006243         0.004595        0.001355   \n",
      "4        0.043355      0.003874         0.004196        0.001937   \n",
      "5        0.044355      0.003005         0.003596        0.000490   \n",
      "6        0.042156      0.001598         0.004196        0.001937   \n",
      "7        0.047751      0.007297         0.004595        0.001019   \n",
      "8        0.017381      0.002573         0.003198        0.000399   \n",
      "9        0.028570      0.003606         0.003396        0.000798   \n",
      "10       0.042956      0.004512         0.003196        0.000400   \n",
      "11       0.049949      0.003095         0.002997        0.000632   \n",
      "12       0.048750      0.002479         0.003397        0.000799   \n",
      "13       0.050748      0.004869         0.003596        0.000799   \n",
      "14       0.050747      0.005664         0.002798        0.000400   \n",
      "15       0.045552      0.010954         0.002998        0.000632   \n",
      "\n",
      "   param_criterion param_max_depth  \\\n",
      "0             gini               4   \n",
      "1             gini               8   \n",
      "2             gini              16   \n",
      "3             gini              32   \n",
      "4             gini              64   \n",
      "5             gini             128   \n",
      "6             gini             256   \n",
      "7             gini             512   \n",
      "8          entropy               4   \n",
      "9          entropy               8   \n",
      "10         entropy              16   \n",
      "11         entropy              32   \n",
      "12         entropy              64   \n",
      "13         entropy             128   \n",
      "14         entropy             256   \n",
      "15         entropy             512   \n",
      "\n",
      "                                        params  split0_test_score  \\\n",
      "0        {'criterion': 'gini', 'max_depth': 4}           0.623494   \n",
      "1        {'criterion': 'gini', 'max_depth': 8}           0.623064   \n",
      "2       {'criterion': 'gini', 'max_depth': 16}           0.593373   \n",
      "3       {'criterion': 'gini', 'max_depth': 32}           0.561317   \n",
      "4       {'criterion': 'gini', 'max_depth': 64}           0.561102   \n",
      "5      {'criterion': 'gini', 'max_depth': 128}           0.561102   \n",
      "6      {'criterion': 'gini', 'max_depth': 256}           0.560886   \n",
      "7      {'criterion': 'gini', 'max_depth': 512}           0.561317   \n",
      "8     {'criterion': 'entropy', 'max_depth': 4}           0.623494   \n",
      "9     {'criterion': 'entropy', 'max_depth': 8}           0.621127   \n",
      "10   {'criterion': 'entropy', 'max_depth': 16}           0.597892   \n",
      "11   {'criterion': 'entropy', 'max_depth': 32}           0.561532   \n",
      "12   {'criterion': 'entropy', 'max_depth': 64}           0.559380   \n",
      "13  {'criterion': 'entropy', 'max_depth': 128}           0.559811   \n",
      "14  {'criterion': 'entropy', 'max_depth': 256}           0.558735   \n",
      "15  {'criterion': 'entropy', 'max_depth': 512}           0.560026   \n",
      "\n",
      "    split1_test_score  split2_test_score  split3_test_score  \\\n",
      "0            0.610932           0.611362           0.626426   \n",
      "1            0.623413           0.622337           0.629654   \n",
      "2            0.589413           0.596944           0.610932   \n",
      "3            0.568324           0.567463           0.576931   \n",
      "4            0.568324           0.565526           0.574349   \n",
      "5            0.567893           0.565526           0.573919   \n",
      "6            0.568108           0.565957           0.574134   \n",
      "7            0.568539           0.565526           0.573703   \n",
      "8            0.610932           0.614160           0.626426   \n",
      "9            0.624704           0.623198           0.626426   \n",
      "10           0.592856           0.596944           0.613514   \n",
      "11           0.570906           0.567893           0.582742   \n",
      "12           0.568539           0.564881           0.575640   \n",
      "13           0.568754           0.564881           0.574995   \n",
      "14           0.568754           0.564665           0.575640   \n",
      "15           0.568969           0.564881           0.575640   \n",
      "\n",
      "    split4_test_score  mean_test_score  std_test_score  rank_test_score  \n",
      "0            0.621691         0.618781        0.006415                4  \n",
      "1            0.625565         0.624806        0.002651                1  \n",
      "2            0.602109         0.598554        0.007468                6  \n",
      "3            0.571767         0.569160        0.005144                8  \n",
      "4            0.569615         0.567783        0.004393               14  \n",
      "5            0.569830         0.567654        0.004278               16  \n",
      "6            0.570476         0.567912        0.004439               10  \n",
      "7            0.570045         0.567826        0.004187               13  \n",
      "8            0.621691         0.619340        0.005840                3  \n",
      "9            0.627502         0.624591        0.002271                2  \n",
      "10           0.610071         0.602255        0.008043                5  \n",
      "11           0.574995         0.571613        0.007089                7  \n",
      "12           0.570691         0.567826        0.005473               12  \n",
      "13           0.570906         0.567869        0.005189               11  \n",
      "14           0.570691         0.567697        0.005704               15  \n",
      "15           0.570906         0.568084        0.005311                9  \n",
      "Best test set score: 0.6248064099985666 with {'criterion': 'gini', 'max_depth': 8} parameters.\n",
      "Results on the test set:\n",
      "              precision    recall  f1-score   support\n",
      "\n",
      "           0       0.56      0.51      0.54      1291\n",
      "           1       0.75      0.79      0.77      2434\n",
      "\n",
      "    accuracy                           0.69      3725\n",
      "   macro avg       0.66      0.65      0.65      3725\n",
      "weighted avg       0.69      0.69      0.69      3725\n",
      "\n"
     ]
    }
   ]
  },
  {
   "cell_type": "markdown",
   "source": [
    "### Random Forest"
   ],
   "metadata": {
    "collapsed": false,
    "pycharm": {
     "name": "#%% md\n"
    }
   }
  },
  {
   "cell_type": "code",
   "source": [
    "from sklearn.ensemble import RandomForestClassifier\n",
    "from sklearn.model_selection import GridSearchCV\n",
    "\n",
    "param_grid = {'max_depth': [4, 8, 16, 32, 64, 128, 256, 512], 'n_estimators': [100, 500, 1000], 'criterion': ['gini', 'entropy']}\n",
    "\n",
    "rf_cl = RandomForestClassifier()\n",
    "\n",
    "grid_searchRF = GridSearchCV(rf_cl, param_grid, cv=5, n_jobs=-1)\n",
    "grid_searchRF.fit(X_train, y_train)\n",
    "RF_ResultsDf = pd.DataFrame(grid_searchRF.cv_results_)\n",
    "\n",
    "print(RF_ResultsDf)\n",
    "print(f\"Best test set score: {grid_searchRF.best_score_} with {grid_searchRF.best_params_} parameters.\")\n",
    "\n",
    "\n",
    "y_true, y_pred = y_test , grid_searchRF.predict(X_test)\n",
    "from sklearn.metrics import classification_report\n",
    "print('Results on the test set:')\n",
    "print(classification_report(y_true, y_pred))"
   ],
   "metadata": {
    "collapsed": false,
    "pycharm": {
     "name": "#%%\n"
    }
   },
   "execution_count": 101,
   "outputs": [
    {
     "ename": "KeyboardInterrupt",
     "evalue": "",
     "output_type": "error",
     "traceback": [
      "\u001B[1;31m---------------------------------------------------------------------------\u001B[0m",
      "\u001B[1;31mKeyboardInterrupt\u001B[0m                         Traceback (most recent call last)",
      "\u001B[1;32m<ipython-input-101-741679bbd2b3>\u001B[0m in \u001B[0;36m<module>\u001B[1;34m\u001B[0m\n\u001B[0;32m      7\u001B[0m \u001B[1;33m\u001B[0m\u001B[0m\n\u001B[0;32m      8\u001B[0m \u001B[0mgrid_searchRF\u001B[0m \u001B[1;33m=\u001B[0m \u001B[0mGridSearchCV\u001B[0m\u001B[1;33m(\u001B[0m\u001B[0mrf_cl\u001B[0m\u001B[1;33m,\u001B[0m \u001B[0mparam_grid\u001B[0m\u001B[1;33m,\u001B[0m \u001B[0mcv\u001B[0m\u001B[1;33m=\u001B[0m\u001B[1;36m5\u001B[0m\u001B[1;33m,\u001B[0m \u001B[0mn_jobs\u001B[0m\u001B[1;33m=\u001B[0m\u001B[1;33m-\u001B[0m\u001B[1;36m1\u001B[0m\u001B[1;33m)\u001B[0m\u001B[1;33m\u001B[0m\u001B[1;33m\u001B[0m\u001B[0m\n\u001B[1;32m----> 9\u001B[1;33m \u001B[0mgrid_searchRF\u001B[0m\u001B[1;33m.\u001B[0m\u001B[0mfit\u001B[0m\u001B[1;33m(\u001B[0m\u001B[0mX_train\u001B[0m\u001B[1;33m,\u001B[0m \u001B[0my_train\u001B[0m\u001B[1;33m)\u001B[0m\u001B[1;33m\u001B[0m\u001B[1;33m\u001B[0m\u001B[0m\n\u001B[0m\u001B[0;32m     10\u001B[0m \u001B[0mRF_ResultsDf\u001B[0m \u001B[1;33m=\u001B[0m \u001B[0mpd\u001B[0m\u001B[1;33m.\u001B[0m\u001B[0mDataFrame\u001B[0m\u001B[1;33m(\u001B[0m\u001B[0mgrid_searchRF\u001B[0m\u001B[1;33m.\u001B[0m\u001B[0mcv_results_\u001B[0m\u001B[1;33m)\u001B[0m\u001B[1;33m\u001B[0m\u001B[1;33m\u001B[0m\u001B[0m\n\u001B[0;32m     11\u001B[0m \u001B[1;33m\u001B[0m\u001B[0m\n",
      "\u001B[1;32md:\\pycharmprojects\\thesis\\lib\\site-packages\\sklearn\\utils\\validation.py\u001B[0m in \u001B[0;36minner_f\u001B[1;34m(*args, **kwargs)\u001B[0m\n\u001B[0;32m     61\u001B[0m             \u001B[0mextra_args\u001B[0m \u001B[1;33m=\u001B[0m \u001B[0mlen\u001B[0m\u001B[1;33m(\u001B[0m\u001B[0margs\u001B[0m\u001B[1;33m)\u001B[0m \u001B[1;33m-\u001B[0m \u001B[0mlen\u001B[0m\u001B[1;33m(\u001B[0m\u001B[0mall_args\u001B[0m\u001B[1;33m)\u001B[0m\u001B[1;33m\u001B[0m\u001B[1;33m\u001B[0m\u001B[0m\n\u001B[0;32m     62\u001B[0m             \u001B[1;32mif\u001B[0m \u001B[0mextra_args\u001B[0m \u001B[1;33m<=\u001B[0m \u001B[1;36m0\u001B[0m\u001B[1;33m:\u001B[0m\u001B[1;33m\u001B[0m\u001B[1;33m\u001B[0m\u001B[0m\n\u001B[1;32m---> 63\u001B[1;33m                 \u001B[1;32mreturn\u001B[0m \u001B[0mf\u001B[0m\u001B[1;33m(\u001B[0m\u001B[1;33m*\u001B[0m\u001B[0margs\u001B[0m\u001B[1;33m,\u001B[0m \u001B[1;33m**\u001B[0m\u001B[0mkwargs\u001B[0m\u001B[1;33m)\u001B[0m\u001B[1;33m\u001B[0m\u001B[1;33m\u001B[0m\u001B[0m\n\u001B[0m\u001B[0;32m     64\u001B[0m \u001B[1;33m\u001B[0m\u001B[0m\n\u001B[0;32m     65\u001B[0m             \u001B[1;31m# extra_args > 0\u001B[0m\u001B[1;33m\u001B[0m\u001B[1;33m\u001B[0m\u001B[1;33m\u001B[0m\u001B[0m\n",
      "\u001B[1;32md:\\pycharmprojects\\thesis\\lib\\site-packages\\sklearn\\model_selection\\_search.py\u001B[0m in \u001B[0;36mfit\u001B[1;34m(self, X, y, groups, **fit_params)\u001B[0m\n\u001B[0;32m    839\u001B[0m                 \u001B[1;32mreturn\u001B[0m \u001B[0mresults\u001B[0m\u001B[1;33m\u001B[0m\u001B[1;33m\u001B[0m\u001B[0m\n\u001B[0;32m    840\u001B[0m \u001B[1;33m\u001B[0m\u001B[0m\n\u001B[1;32m--> 841\u001B[1;33m             \u001B[0mself\u001B[0m\u001B[1;33m.\u001B[0m\u001B[0m_run_search\u001B[0m\u001B[1;33m(\u001B[0m\u001B[0mevaluate_candidates\u001B[0m\u001B[1;33m)\u001B[0m\u001B[1;33m\u001B[0m\u001B[1;33m\u001B[0m\u001B[0m\n\u001B[0m\u001B[0;32m    842\u001B[0m \u001B[1;33m\u001B[0m\u001B[0m\n\u001B[0;32m    843\u001B[0m             \u001B[1;31m# multimetric is determined here because in the case of a callable\u001B[0m\u001B[1;33m\u001B[0m\u001B[1;33m\u001B[0m\u001B[1;33m\u001B[0m\u001B[0m\n",
      "\u001B[1;32md:\\pycharmprojects\\thesis\\lib\\site-packages\\sklearn\\model_selection\\_search.py\u001B[0m in \u001B[0;36m_run_search\u001B[1;34m(self, evaluate_candidates)\u001B[0m\n\u001B[0;32m   1294\u001B[0m     \u001B[1;32mdef\u001B[0m \u001B[0m_run_search\u001B[0m\u001B[1;33m(\u001B[0m\u001B[0mself\u001B[0m\u001B[1;33m,\u001B[0m \u001B[0mevaluate_candidates\u001B[0m\u001B[1;33m)\u001B[0m\u001B[1;33m:\u001B[0m\u001B[1;33m\u001B[0m\u001B[1;33m\u001B[0m\u001B[0m\n\u001B[0;32m   1295\u001B[0m         \u001B[1;34m\"\"\"Search all candidates in param_grid\"\"\"\u001B[0m\u001B[1;33m\u001B[0m\u001B[1;33m\u001B[0m\u001B[0m\n\u001B[1;32m-> 1296\u001B[1;33m         \u001B[0mevaluate_candidates\u001B[0m\u001B[1;33m(\u001B[0m\u001B[0mParameterGrid\u001B[0m\u001B[1;33m(\u001B[0m\u001B[0mself\u001B[0m\u001B[1;33m.\u001B[0m\u001B[0mparam_grid\u001B[0m\u001B[1;33m)\u001B[0m\u001B[1;33m)\u001B[0m\u001B[1;33m\u001B[0m\u001B[1;33m\u001B[0m\u001B[0m\n\u001B[0m\u001B[0;32m   1297\u001B[0m \u001B[1;33m\u001B[0m\u001B[0m\n\u001B[0;32m   1298\u001B[0m \u001B[1;33m\u001B[0m\u001B[0m\n",
      "\u001B[1;32md:\\pycharmprojects\\thesis\\lib\\site-packages\\sklearn\\model_selection\\_search.py\u001B[0m in \u001B[0;36mevaluate_candidates\u001B[1;34m(candidate_params, cv, more_results)\u001B[0m\n\u001B[0;32m    793\u001B[0m                               n_splits, n_candidates, n_candidates * n_splits))\n\u001B[0;32m    794\u001B[0m \u001B[1;33m\u001B[0m\u001B[0m\n\u001B[1;32m--> 795\u001B[1;33m                 out = parallel(delayed(_fit_and_score)(clone(base_estimator),\n\u001B[0m\u001B[0;32m    796\u001B[0m                                                        \u001B[0mX\u001B[0m\u001B[1;33m,\u001B[0m \u001B[0my\u001B[0m\u001B[1;33m,\u001B[0m\u001B[1;33m\u001B[0m\u001B[1;33m\u001B[0m\u001B[0m\n\u001B[0;32m    797\u001B[0m                                                        \u001B[0mtrain\u001B[0m\u001B[1;33m=\u001B[0m\u001B[0mtrain\u001B[0m\u001B[1;33m,\u001B[0m \u001B[0mtest\u001B[0m\u001B[1;33m=\u001B[0m\u001B[0mtest\u001B[0m\u001B[1;33m,\u001B[0m\u001B[1;33m\u001B[0m\u001B[1;33m\u001B[0m\u001B[0m\n",
      "\u001B[1;32md:\\pycharmprojects\\thesis\\lib\\site-packages\\joblib\\parallel.py\u001B[0m in \u001B[0;36m__call__\u001B[1;34m(self, iterable)\u001B[0m\n\u001B[0;32m   1052\u001B[0m \u001B[1;33m\u001B[0m\u001B[0m\n\u001B[0;32m   1053\u001B[0m             \u001B[1;32mwith\u001B[0m \u001B[0mself\u001B[0m\u001B[1;33m.\u001B[0m\u001B[0m_backend\u001B[0m\u001B[1;33m.\u001B[0m\u001B[0mretrieval_context\u001B[0m\u001B[1;33m(\u001B[0m\u001B[1;33m)\u001B[0m\u001B[1;33m:\u001B[0m\u001B[1;33m\u001B[0m\u001B[1;33m\u001B[0m\u001B[0m\n\u001B[1;32m-> 1054\u001B[1;33m                 \u001B[0mself\u001B[0m\u001B[1;33m.\u001B[0m\u001B[0mretrieve\u001B[0m\u001B[1;33m(\u001B[0m\u001B[1;33m)\u001B[0m\u001B[1;33m\u001B[0m\u001B[1;33m\u001B[0m\u001B[0m\n\u001B[0m\u001B[0;32m   1055\u001B[0m             \u001B[1;31m# Make sure that we get a last message telling us we are done\u001B[0m\u001B[1;33m\u001B[0m\u001B[1;33m\u001B[0m\u001B[1;33m\u001B[0m\u001B[0m\n\u001B[0;32m   1056\u001B[0m             \u001B[0melapsed_time\u001B[0m \u001B[1;33m=\u001B[0m \u001B[0mtime\u001B[0m\u001B[1;33m.\u001B[0m\u001B[0mtime\u001B[0m\u001B[1;33m(\u001B[0m\u001B[1;33m)\u001B[0m \u001B[1;33m-\u001B[0m \u001B[0mself\u001B[0m\u001B[1;33m.\u001B[0m\u001B[0m_start_time\u001B[0m\u001B[1;33m\u001B[0m\u001B[1;33m\u001B[0m\u001B[0m\n",
      "\u001B[1;32md:\\pycharmprojects\\thesis\\lib\\site-packages\\joblib\\parallel.py\u001B[0m in \u001B[0;36mretrieve\u001B[1;34m(self)\u001B[0m\n\u001B[0;32m    931\u001B[0m             \u001B[1;32mtry\u001B[0m\u001B[1;33m:\u001B[0m\u001B[1;33m\u001B[0m\u001B[1;33m\u001B[0m\u001B[0m\n\u001B[0;32m    932\u001B[0m                 \u001B[1;32mif\u001B[0m \u001B[0mgetattr\u001B[0m\u001B[1;33m(\u001B[0m\u001B[0mself\u001B[0m\u001B[1;33m.\u001B[0m\u001B[0m_backend\u001B[0m\u001B[1;33m,\u001B[0m \u001B[1;34m'supports_timeout'\u001B[0m\u001B[1;33m,\u001B[0m \u001B[1;32mFalse\u001B[0m\u001B[1;33m)\u001B[0m\u001B[1;33m:\u001B[0m\u001B[1;33m\u001B[0m\u001B[1;33m\u001B[0m\u001B[0m\n\u001B[1;32m--> 933\u001B[1;33m                     \u001B[0mself\u001B[0m\u001B[1;33m.\u001B[0m\u001B[0m_output\u001B[0m\u001B[1;33m.\u001B[0m\u001B[0mextend\u001B[0m\u001B[1;33m(\u001B[0m\u001B[0mjob\u001B[0m\u001B[1;33m.\u001B[0m\u001B[0mget\u001B[0m\u001B[1;33m(\u001B[0m\u001B[0mtimeout\u001B[0m\u001B[1;33m=\u001B[0m\u001B[0mself\u001B[0m\u001B[1;33m.\u001B[0m\u001B[0mtimeout\u001B[0m\u001B[1;33m)\u001B[0m\u001B[1;33m)\u001B[0m\u001B[1;33m\u001B[0m\u001B[1;33m\u001B[0m\u001B[0m\n\u001B[0m\u001B[0;32m    934\u001B[0m                 \u001B[1;32melse\u001B[0m\u001B[1;33m:\u001B[0m\u001B[1;33m\u001B[0m\u001B[1;33m\u001B[0m\u001B[0m\n\u001B[0;32m    935\u001B[0m                     \u001B[0mself\u001B[0m\u001B[1;33m.\u001B[0m\u001B[0m_output\u001B[0m\u001B[1;33m.\u001B[0m\u001B[0mextend\u001B[0m\u001B[1;33m(\u001B[0m\u001B[0mjob\u001B[0m\u001B[1;33m.\u001B[0m\u001B[0mget\u001B[0m\u001B[1;33m(\u001B[0m\u001B[1;33m)\u001B[0m\u001B[1;33m)\u001B[0m\u001B[1;33m\u001B[0m\u001B[1;33m\u001B[0m\u001B[0m\n",
      "\u001B[1;32md:\\pycharmprojects\\thesis\\lib\\site-packages\\joblib\\_parallel_backends.py\u001B[0m in \u001B[0;36mwrap_future_result\u001B[1;34m(future, timeout)\u001B[0m\n\u001B[0;32m    540\u001B[0m         AsyncResults.get from multiprocessing.\"\"\"\n\u001B[0;32m    541\u001B[0m         \u001B[1;32mtry\u001B[0m\u001B[1;33m:\u001B[0m\u001B[1;33m\u001B[0m\u001B[1;33m\u001B[0m\u001B[0m\n\u001B[1;32m--> 542\u001B[1;33m             \u001B[1;32mreturn\u001B[0m \u001B[0mfuture\u001B[0m\u001B[1;33m.\u001B[0m\u001B[0mresult\u001B[0m\u001B[1;33m(\u001B[0m\u001B[0mtimeout\u001B[0m\u001B[1;33m=\u001B[0m\u001B[0mtimeout\u001B[0m\u001B[1;33m)\u001B[0m\u001B[1;33m\u001B[0m\u001B[1;33m\u001B[0m\u001B[0m\n\u001B[0m\u001B[0;32m    543\u001B[0m         \u001B[1;32mexcept\u001B[0m \u001B[0mCfTimeoutError\u001B[0m \u001B[1;32mas\u001B[0m \u001B[0me\u001B[0m\u001B[1;33m:\u001B[0m\u001B[1;33m\u001B[0m\u001B[1;33m\u001B[0m\u001B[0m\n\u001B[0;32m    544\u001B[0m             \u001B[1;32mraise\u001B[0m \u001B[0mTimeoutError\u001B[0m \u001B[1;32mfrom\u001B[0m \u001B[0me\u001B[0m\u001B[1;33m\u001B[0m\u001B[1;33m\u001B[0m\u001B[0m\n",
      "\u001B[1;32m~\\AppData\\Local\\Programs\\Python\\Python39\\lib\\concurrent\\futures\\_base.py\u001B[0m in \u001B[0;36mresult\u001B[1;34m(self, timeout)\u001B[0m\n\u001B[0;32m    433\u001B[0m                 \u001B[1;32mreturn\u001B[0m \u001B[0mself\u001B[0m\u001B[1;33m.\u001B[0m\u001B[0m__get_result\u001B[0m\u001B[1;33m(\u001B[0m\u001B[1;33m)\u001B[0m\u001B[1;33m\u001B[0m\u001B[1;33m\u001B[0m\u001B[0m\n\u001B[0;32m    434\u001B[0m \u001B[1;33m\u001B[0m\u001B[0m\n\u001B[1;32m--> 435\u001B[1;33m             \u001B[0mself\u001B[0m\u001B[1;33m.\u001B[0m\u001B[0m_condition\u001B[0m\u001B[1;33m.\u001B[0m\u001B[0mwait\u001B[0m\u001B[1;33m(\u001B[0m\u001B[0mtimeout\u001B[0m\u001B[1;33m)\u001B[0m\u001B[1;33m\u001B[0m\u001B[1;33m\u001B[0m\u001B[0m\n\u001B[0m\u001B[0;32m    436\u001B[0m \u001B[1;33m\u001B[0m\u001B[0m\n\u001B[0;32m    437\u001B[0m             \u001B[1;32mif\u001B[0m \u001B[0mself\u001B[0m\u001B[1;33m.\u001B[0m\u001B[0m_state\u001B[0m \u001B[1;32min\u001B[0m \u001B[1;33m[\u001B[0m\u001B[0mCANCELLED\u001B[0m\u001B[1;33m,\u001B[0m \u001B[0mCANCELLED_AND_NOTIFIED\u001B[0m\u001B[1;33m]\u001B[0m\u001B[1;33m:\u001B[0m\u001B[1;33m\u001B[0m\u001B[1;33m\u001B[0m\u001B[0m\n",
      "\u001B[1;32m~\\AppData\\Local\\Programs\\Python\\Python39\\lib\\threading.py\u001B[0m in \u001B[0;36mwait\u001B[1;34m(self, timeout)\u001B[0m\n\u001B[0;32m    310\u001B[0m         \u001B[1;32mtry\u001B[0m\u001B[1;33m:\u001B[0m    \u001B[1;31m# restore state no matter what (e.g., KeyboardInterrupt)\u001B[0m\u001B[1;33m\u001B[0m\u001B[1;33m\u001B[0m\u001B[0m\n\u001B[0;32m    311\u001B[0m             \u001B[1;32mif\u001B[0m \u001B[0mtimeout\u001B[0m \u001B[1;32mis\u001B[0m \u001B[1;32mNone\u001B[0m\u001B[1;33m:\u001B[0m\u001B[1;33m\u001B[0m\u001B[1;33m\u001B[0m\u001B[0m\n\u001B[1;32m--> 312\u001B[1;33m                 \u001B[0mwaiter\u001B[0m\u001B[1;33m.\u001B[0m\u001B[0macquire\u001B[0m\u001B[1;33m(\u001B[0m\u001B[1;33m)\u001B[0m\u001B[1;33m\u001B[0m\u001B[1;33m\u001B[0m\u001B[0m\n\u001B[0m\u001B[0;32m    313\u001B[0m                 \u001B[0mgotit\u001B[0m \u001B[1;33m=\u001B[0m \u001B[1;32mTrue\u001B[0m\u001B[1;33m\u001B[0m\u001B[1;33m\u001B[0m\u001B[0m\n\u001B[0;32m    314\u001B[0m             \u001B[1;32melse\u001B[0m\u001B[1;33m:\u001B[0m\u001B[1;33m\u001B[0m\u001B[1;33m\u001B[0m\u001B[0m\n",
      "\u001B[1;31mKeyboardInterrupt\u001B[0m: "
     ]
    }
   ]
  },
  {
   "cell_type": "markdown",
   "source": [
    "Let's make a feature importance plot."
   ],
   "metadata": {
    "collapsed": false,
    "pycharm": {
     "name": "#%% md\n"
    }
   }
  },
  {
   "cell_type": "markdown",
   "source": [
    "Feature importance based on mean decrease in impurity\n",
    "use this"
   ],
   "metadata": {
    "collapsed": false,
    "pycharm": {
     "name": "#%% md\n"
    }
   }
  },
  {
   "cell_type": "code",
   "execution_count": 99,
   "outputs": [
    {
     "data": {
      "text/plain": "<Figure size 432x288 with 1 Axes>",
      "image/png": "[encoded data removed]"
     },
     "metadata": {
      "needs_background": "light"
     },
     "output_type": "display_data"
    }
   ],
   "source": [
    "importances = grid_searchRF.best_estimator_.feature_importances_\n",
    "std = np.std([\n",
    "    tree.feature_importances_ for tree in grid_searchRF.best_estimator_.estimators_], axis=0)\n",
    "\n",
    "forestImportances = pd.Series(importances, index=X_train.columns)\n",
    "\n",
    "fig, ax = plt.subplots()\n",
    "forestImportances.plot.bar(yerr=std, ax=ax)\n",
    "ax.set_title(\"Feature importances using MDI\")\n",
    "ax.set_ylabel(\"Mean decrease in impurity\")\n",
    "fig.tight_layout()"
   ],
   "metadata": {
    "collapsed": false,
    "pycharm": {
     "name": "#%%\n"
    }
   }
  },
  {
   "cell_type": "markdown",
   "source": [
    "Feature importance based on feature permutation"
   ],
   "metadata": {
    "collapsed": false
   }
  },
  {
   "cell_type": "code",
   "execution_count": 96,
   "outputs": [
    {
     "data": {
      "text/plain": "<Figure size 432x288 with 1 Axes>",
      "image/png": "[encoded data removed]"
     },
     "metadata": {
      "needs_background": "light"
     },
     "output_type": "display_data"
    }
   ],
   "source": [
    "from sklearn.inspection import permutation_importance\n",
    "\n",
    "importances = grid_searchRF.best_estimator_.feature_importances_\n",
    "result = permutation_importance(\n",
    "    grid_searchRF.best_estimator_, X_test, y_test, n_repeats=10, random_state=42, n_jobs=-1)\n",
    "\n",
    "forestImportances = pd.Series(result.importances_mean, index=X_train.columns)\n",
    "\n",
    "fig, ax = plt.subplots()\n",
    "forestImportances.plot.bar(yerr=std, ax=ax)\n",
    "ax.set_title(\"Feature importances using permutation on full model\")\n",
    "ax.set_ylabel(\"Mean accuracy decrease\")\n",
    "fig.tight_layout()\n"
   ],
   "metadata": {
    "collapsed": false,
    "pycharm": {
     "name": "#%%\n"
    }
   }
  },
  {
   "cell_type": "markdown",
   "source": [
    "### Gradient Boosted Trees (GBT)"
   ],
   "metadata": {
    "collapsed": false,
    "pycharm": {
     "name": "#%% md\n"
    }
   }
  },
  {
   "cell_type": "code",
   "source": [
    "from sklearn.ensemble import GradientBoostingClassifier\n",
    "from sklearn.model_selection import GridSearchCV\n",
    "\n",
    "param_grid = {'max_depth':[2,4,8,16,30,40], 'loss':['deviance', 'exponential']}\n",
    "\n",
    "grid_searchGBT = GridSearchCV(GradientBoostingClassifier(), param_grid, cv=5, n_jobs=-1)\n",
    "grid_searchGBT.fit(X_train, y_train)\n",
    "GBT_ResultsDf = pd.DataFrame(grid_searchGBT.cv_results_)\n",
    "\n",
    "# print(GBT_ResultsDf)\n",
    "print(f\"Best test set score: {grid_searchGBT.best_score_} with {grid_searchGBT.best_params_} parameters.\")\n",
    "\n",
    "y_true, y_pred = y_test , grid_searchGBT.predict(X_test)\n",
    "from sklearn.metrics import classification_report\n",
    "print('Results on the test set:')\n",
    "print(classification_report(y_true, y_pred))"
   ],
   "metadata": {
    "collapsed": false,
    "pycharm": {
     "name": "#%%\n"
    }
   },
   "execution_count": 93,
   "outputs": [
    {
     "name": "stdout",
     "output_type": "stream",
     "text": [
      "Best test set score: 0.6279478885754213 with {'loss': 'exponential', 'max_depth': 4} parameters.\n",
      "Results on the test set:\n",
      "              precision    recall  f1-score   support\n",
      "\n",
      "           0       0.54      0.52      0.53      1291\n",
      "           1       0.75      0.77      0.76      2434\n",
      "\n",
      "    accuracy                           0.68      3725\n",
      "   macro avg       0.65      0.64      0.64      3725\n",
      "weighted avg       0.68      0.68      0.68      3725\n",
      "\n"
     ]
    }
   ]
  },
  {
   "cell_type": "markdown",
   "source": [
    "### Multi-Layered Perceptron (MLP)"
   ],
   "metadata": {
    "collapsed": false,
    "pycharm": {
     "name": "#%% md\n"
    }
   }
  },
  {
   "cell_type": "code",
   "source": [
    "from sklearn.neural_network import MLPClassifier\n",
    "from sklearn.model_selection import GridSearchCV\n",
    "\n",
    "param_grid = {\n",
    "    'hidden_layer_sizes': [(5), (5, 5), (10), (10, 10), (10, 5), (5, 10, 5), (15, 30, 15), (5, 10, 10, 5), (15, 30, 5)],\n",
    "    'activation': ['tanh', 'relu'],\n",
    "    'solver': ['adam'],\n",
    "    'alpha': [0.0001, 0.05],\n",
    "    'learning_rate': ['constant']\n",
    "}\n",
    "\n",
    "grid_searchMLP = GridSearchCV(MLPClassifier(max_iter=10000), param_grid, cv=5, n_jobs=-1)\n",
    "\n",
    "grid_searchMLP.fit(X_train, y_train)\n",
    "MLP_ResultsDf = pd.DataFrame(grid_searchMLP.cv_results_)\n",
    "\n",
    "print(MLP_ResultsDf)\n",
    "print(f\"Best test set score: {grid_searchMLP.best_score_} with {grid_searchMLP.best_params_} parameters.\")\n",
    "\n",
    "y_true, y_pred = y_test , grid_searchMLP.predict(X_test)\n",
    "from sklearn.metrics import classification_report\n",
    "print('Results on the test set:')\n",
    "print(classification_report(y_true, y_pred))\n"
   ],
   "metadata": {
    "collapsed": false,
    "pycharm": {
     "name": "#%%\n"
    }
   },
   "execution_count": 94,
   "outputs": [
    {
     "name": "stdout",
     "output_type": "stream",
     "text": [
      "    mean_fit_time  std_fit_time  mean_score_time  std_score_time  \\\n",
      "0        2.525418      0.404725         0.003596    4.894343e-04   \n",
      "1        2.358588      1.043364         0.003597    4.891812e-04   \n",
      "2        2.717422      0.518356         0.003596    4.892396e-04   \n",
      "3        2.519824      0.537045         0.004995    6.317313e-04   \n",
      "4        2.026727      0.619818         0.004995    1.094365e-03   \n",
      "5        2.966967      0.283117         0.004995    6.318820e-04   \n",
      "6        4.646250      0.808069         0.009391    4.895316e-04   \n",
      "7        5.055032      1.696438         0.006394    4.894342e-04   \n",
      "8        5.555721      0.861562         0.008791    3.994227e-04   \n",
      "9        2.023531      0.625683         0.003197    3.995658e-04   \n",
      "10       2.742996      0.402133         0.003796    3.994704e-04   \n",
      "11       2.422542      0.399919         0.003996    1.784161e-07   \n",
      "12       2.394800      0.250780         0.004995    2.132481e-07   \n",
      "13       2.493860      0.772679         0.003996    2.132481e-07   \n",
      "14       2.964569      0.505574         0.004395    4.891422e-04   \n",
      "15       4.380521      1.694997         0.008791    3.996611e-04   \n",
      "16       4.638458      0.933578         0.005794    3.995896e-04   \n",
      "17       4.214492      1.348940         0.008392    4.889481e-04   \n",
      "18       2.657283      2.059191         0.003197    3.993512e-04   \n",
      "19       1.662700      0.326955         0.003397    4.893758e-04   \n",
      "20       1.506460      0.356980         0.003197    3.994465e-04   \n",
      "21       2.064489      0.586188         0.003796    3.995419e-04   \n",
      "22       1.737024      0.480557         0.003397    4.892785e-04   \n",
      "23       2.665475      1.100300         0.003597    4.892979e-04   \n",
      "24       2.358389      0.701403         0.005994    1.784161e-07   \n",
      "25       4.922568      2.017925         0.004196    3.993750e-04   \n",
      "26       4.574724      2.112371         0.005195    3.994227e-04   \n",
      "27       1.251720      0.107754         0.003197    7.474489e-04   \n",
      "28       2.444501      0.994082         0.002997    2.780415e-07   \n",
      "29       1.315255      0.309320         0.003397    4.892590e-04   \n",
      "30       2.057696      0.686914         0.003397    4.891617e-04   \n",
      "31       1.827132      0.832571         0.003397    4.889283e-04   \n",
      "32       2.948984      1.429803         0.003597    4.892591e-04   \n",
      "33       2.463680      0.482002         0.005795    3.994942e-04   \n",
      "34       4.844247      2.877121         0.003397    7.993221e-04   \n",
      "35       2.306841      0.545214         0.004396    1.198864e-03   \n",
      "\n",
      "   param_activation param_alpha param_hidden_layer_sizes param_learning_rate  \\\n",
      "0              tanh      0.0001                        5            constant   \n",
      "1              tanh      0.0001                   (5, 5)            constant   \n",
      "2              tanh      0.0001                       10            constant   \n",
      "3              tanh      0.0001                 (10, 10)            constant   \n",
      "4              tanh      0.0001                  (10, 5)            constant   \n",
      "5              tanh      0.0001               (5, 10, 5)            constant   \n",
      "6              tanh      0.0001             (15, 30, 15)            constant   \n",
      "7              tanh      0.0001           (5, 10, 10, 5)            constant   \n",
      "8              tanh      0.0001              (15, 30, 5)            constant   \n",
      "9              tanh        0.05                        5            constant   \n",
      "10             tanh        0.05                   (5, 5)            constant   \n",
      "11             tanh        0.05                       10            constant   \n",
      "12             tanh        0.05                 (10, 10)            constant   \n",
      "13             tanh        0.05                  (10, 5)            constant   \n",
      "14             tanh        0.05               (5, 10, 5)            constant   \n",
      "15             tanh        0.05             (15, 30, 15)            constant   \n",
      "16             tanh        0.05           (5, 10, 10, 5)            constant   \n",
      "17             tanh        0.05              (15, 30, 5)            constant   \n",
      "18             relu      0.0001                        5            constant   \n",
      "19             relu      0.0001                   (5, 5)            constant   \n",
      "20             relu      0.0001                       10            constant   \n",
      "21             relu      0.0001                 (10, 10)            constant   \n",
      "22             relu      0.0001                  (10, 5)            constant   \n",
      "23             relu      0.0001               (5, 10, 5)            constant   \n",
      "24             relu      0.0001             (15, 30, 15)            constant   \n",
      "25             relu      0.0001           (5, 10, 10, 5)            constant   \n",
      "26             relu      0.0001              (15, 30, 5)            constant   \n",
      "27             relu        0.05                        5            constant   \n",
      "28             relu        0.05                   (5, 5)            constant   \n",
      "29             relu        0.05                       10            constant   \n",
      "30             relu        0.05                 (10, 10)            constant   \n",
      "31             relu        0.05                  (10, 5)            constant   \n",
      "32             relu        0.05               (5, 10, 5)            constant   \n",
      "33             relu        0.05             (15, 30, 15)            constant   \n",
      "34             relu        0.05           (5, 10, 10, 5)            constant   \n",
      "35             relu        0.05              (15, 30, 5)            constant   \n",
      "\n",
      "   param_solver                                             params  \\\n",
      "0          adam  {'activation': 'tanh', 'alpha': 0.0001, 'hidde...   \n",
      "1          adam  {'activation': 'tanh', 'alpha': 0.0001, 'hidde...   \n",
      "2          adam  {'activation': 'tanh', 'alpha': 0.0001, 'hidde...   \n",
      "3          adam  {'activation': 'tanh', 'alpha': 0.0001, 'hidde...   \n",
      "4          adam  {'activation': 'tanh', 'alpha': 0.0001, 'hidde...   \n",
      "5          adam  {'activation': 'tanh', 'alpha': 0.0001, 'hidde...   \n",
      "6          adam  {'activation': 'tanh', 'alpha': 0.0001, 'hidde...   \n",
      "7          adam  {'activation': 'tanh', 'alpha': 0.0001, 'hidde...   \n",
      "8          adam  {'activation': 'tanh', 'alpha': 0.0001, 'hidde...   \n",
      "9          adam  {'activation': 'tanh', 'alpha': 0.05, 'hidden_...   \n",
      "10         adam  {'activation': 'tanh', 'alpha': 0.05, 'hidden_...   \n",
      "11         adam  {'activation': 'tanh', 'alpha': 0.05, 'hidden_...   \n",
      "12         adam  {'activation': 'tanh', 'alpha': 0.05, 'hidden_...   \n",
      "13         adam  {'activation': 'tanh', 'alpha': 0.05, 'hidden_...   \n",
      "14         adam  {'activation': 'tanh', 'alpha': 0.05, 'hidden_...   \n",
      "15         adam  {'activation': 'tanh', 'alpha': 0.05, 'hidden_...   \n",
      "16         adam  {'activation': 'tanh', 'alpha': 0.05, 'hidden_...   \n",
      "17         adam  {'activation': 'tanh', 'alpha': 0.05, 'hidden_...   \n",
      "18         adam  {'activation': 'relu', 'alpha': 0.0001, 'hidde...   \n",
      "19         adam  {'activation': 'relu', 'alpha': 0.0001, 'hidde...   \n",
      "20         adam  {'activation': 'relu', 'alpha': 0.0001, 'hidde...   \n",
      "21         adam  {'activation': 'relu', 'alpha': 0.0001, 'hidde...   \n",
      "22         adam  {'activation': 'relu', 'alpha': 0.0001, 'hidde...   \n",
      "23         adam  {'activation': 'relu', 'alpha': 0.0001, 'hidde...   \n",
      "24         adam  {'activation': 'relu', 'alpha': 0.0001, 'hidde...   \n",
      "25         adam  {'activation': 'relu', 'alpha': 0.0001, 'hidde...   \n",
      "26         adam  {'activation': 'relu', 'alpha': 0.0001, 'hidde...   \n",
      "27         adam  {'activation': 'relu', 'alpha': 0.05, 'hidden_...   \n",
      "28         adam  {'activation': 'relu', 'alpha': 0.05, 'hidden_...   \n",
      "29         adam  {'activation': 'relu', 'alpha': 0.05, 'hidden_...   \n",
      "30         adam  {'activation': 'relu', 'alpha': 0.05, 'hidden_...   \n",
      "31         adam  {'activation': 'relu', 'alpha': 0.05, 'hidden_...   \n",
      "32         adam  {'activation': 'relu', 'alpha': 0.05, 'hidden_...   \n",
      "33         adam  {'activation': 'relu', 'alpha': 0.05, 'hidden_...   \n",
      "34         adam  {'activation': 'relu', 'alpha': 0.05, 'hidden_...   \n",
      "35         adam  {'activation': 'relu', 'alpha': 0.05, 'hidden_...   \n",
      "\n",
      "    split0_test_score  split1_test_score  split2_test_score  \\\n",
      "0            0.629518           0.619970           0.602754   \n",
      "1            0.633176           0.625780           0.618679   \n",
      "2            0.633821           0.625780           0.617388   \n",
      "3            0.632100           0.628362           0.621691   \n",
      "4            0.631239           0.627071           0.622552   \n",
      "5            0.630164           0.524640           0.615236   \n",
      "6            0.627797           0.620615           0.621261   \n",
      "7            0.626721           0.620185           0.514310   \n",
      "8            0.628873           0.629654           0.622552   \n",
      "9            0.627367           0.523994           0.617388   \n",
      "10           0.627582           0.629223           0.621046   \n",
      "11           0.627367           0.629008           0.621691   \n",
      "12           0.620482           0.628578           0.616096   \n",
      "13           0.625430           0.626856           0.619970   \n",
      "14           0.629088           0.627502           0.618679   \n",
      "15           0.627367           0.621476           0.618033   \n",
      "16           0.629948           0.524209           0.623413   \n",
      "17           0.630594           0.623413           0.616957   \n",
      "18           0.631239           0.503766           0.513019   \n",
      "19           0.609294           0.613729           0.605122   \n",
      "20           0.626076           0.599311           0.623198   \n",
      "21           0.604991           0.629223           0.613084   \n",
      "22           0.500000           0.567893           0.512374   \n",
      "23           0.521299           0.610717           0.513450   \n",
      "24           0.625215           0.566817           0.605767   \n",
      "25           0.629948           0.620831           0.616742   \n",
      "26           0.522160           0.615451           0.613514   \n",
      "27           0.520439           0.621046           0.610286   \n",
      "28           0.627367           0.621046           0.614160   \n",
      "29           0.621343           0.616957           0.611793   \n",
      "30           0.627151           0.623628           0.609856   \n",
      "31           0.616824           0.612869           0.513234   \n",
      "32           0.521299           0.619324           0.615236   \n",
      "33           0.625861           0.587045           0.595653   \n",
      "34           0.623494           0.620615           0.605552   \n",
      "35           0.624785           0.623413           0.616742   \n",
      "\n",
      "    split3_test_score  split4_test_score  mean_test_score  std_test_score  \\\n",
      "0            0.636755           0.629654         0.623730        0.011767   \n",
      "1            0.629008           0.518399         0.605008        0.043564   \n",
      "2            0.632666           0.630084         0.627948        0.005959   \n",
      "3            0.631375           0.629869         0.628679        0.003723   \n",
      "4            0.637400           0.621261         0.627905        0.005912   \n",
      "5            0.629654           0.629438         0.605826        0.040981   \n",
      "6            0.631805           0.629869         0.626270        0.004538   \n",
      "7            0.630945           0.629654         0.604363        0.045179   \n",
      "8            0.629008           0.626426         0.627302        0.002617   \n",
      "9            0.629654           0.630299         0.605740        0.041136   \n",
      "10           0.628793           0.517323         0.604793        0.043834   \n",
      "11           0.634603           0.613514         0.625237        0.007162   \n",
      "12           0.630299           0.618464         0.622784        0.005634   \n",
      "13           0.634173           0.626641         0.626614        0.004533   \n",
      "14           0.630945           0.517969         0.604836        0.043637   \n",
      "15           0.631805           0.615666         0.622869        0.005955   \n",
      "16           0.635464           0.517753         0.586158        0.053392   \n",
      "17           0.634173           0.627071         0.626442        0.005942   \n",
      "18           0.635679           0.609856         0.578712        0.058149   \n",
      "19           0.629869           0.619324         0.615468        0.008607   \n",
      "20           0.630945           0.625995         0.621105        0.011178   \n",
      "21           0.616527           0.619324         0.616630        0.007923   \n",
      "22           0.630730           0.578653         0.557930        0.047455   \n",
      "23           0.521842           0.613944         0.556250        0.045897   \n",
      "24           0.635033           0.621476         0.610862        0.023953   \n",
      "25           0.628147           0.630730         0.625280        0.005521   \n",
      "26           0.631160           0.519260         0.580309        0.049054   \n",
      "27           0.630945           0.517969         0.580137        0.050185   \n",
      "28           0.630514           0.620185         0.622654        0.005742   \n",
      "29           0.630514           0.583602         0.612842        0.015859   \n",
      "30           0.623413           0.623198         0.621449        0.005976   \n",
      "31           0.634173           0.607489         0.596918        0.042786   \n",
      "32           0.606413           0.519690         0.576392        0.045833   \n",
      "33           0.629223           0.566172         0.600791        0.023878   \n",
      "34           0.630299           0.626426         0.621277        0.008492   \n",
      "35           0.633312           0.519260         0.603502        0.042450   \n",
      "\n",
      "    rank_test_score  \n",
      "0                10  \n",
      "1                23  \n",
      "2                 2  \n",
      "3                 1  \n",
      "4                 3  \n",
      "5                21  \n",
      "6                 7  \n",
      "7                26  \n",
      "8                 4  \n",
      "9                22  \n",
      "10               25  \n",
      "11                9  \n",
      "12               12  \n",
      "13                5  \n",
      "14               24  \n",
      "15               11  \n",
      "16               30  \n",
      "17                6  \n",
      "18               33  \n",
      "19               18  \n",
      "20               16  \n",
      "21               17  \n",
      "22               35  \n",
      "23               36  \n",
      "24               20  \n",
      "25                8  \n",
      "26               31  \n",
      "27               32  \n",
      "28               13  \n",
      "29               19  \n",
      "30               14  \n",
      "31               29  \n",
      "32               34  \n",
      "33               28  \n",
      "34               15  \n",
      "35               27  \n",
      "Best test set score: 0.6286794878490259 with {'activation': 'tanh', 'alpha': 0.0001, 'hidden_layer_sizes': (10, 10), 'learning_rate': 'constant', 'solver': 'adam'} parameters.\n",
      "Results on the test set:\n",
      "              precision    recall  f1-score   support\n",
      "\n",
      "           0       0.54      0.53      0.53      1291\n",
      "           1       0.75      0.76      0.76      2434\n",
      "\n",
      "    accuracy                           0.68      3725\n",
      "   macro avg       0.65      0.65      0.65      3725\n",
      "weighted avg       0.68      0.68      0.68      3725\n",
      "\n"
     ]
    }
   ]
  }
 ],
 "metadata": {
  "kernelspec": {
   "display_name": "Python 3",
   "language": "python",
   "name": "python3"
  },
  "language_info": {
   "codemirror_mode": {
    "name": "ipython",
    "version": 2
   },
   "file_extension": ".py",
   "mimetype": "text/x-python",
   "name": "python",
   "nbconvert_exporter": "python",
   "pygments_lexer": "ipython2",
   "version": "2.7.6"
  }
 },
 "nbformat": 4,
 "nbformat_minor": 0
}