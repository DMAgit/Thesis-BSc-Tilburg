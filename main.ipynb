{
 "cells": [
  {
   "cell_type": "markdown",
   "metadata": {
    "collapsed": true,
    "pycharm": {
     "name": "#%% md\n"
    }
   },
   "source": [
    "Title\n",
    "\n",
    "Description"
   ]
  },
  {
   "cell_type": "markdown",
   "source": [
    "Importing packages."
   ],
   "metadata": {
    "collapsed": false,
    "pycharm": {
     "name": "#%% md\n"
    }
   }
  },
  {
   "cell_type": "code",
   "execution_count": 1,
   "outputs": [],
   "source": [
    "import pandas as pd\n",
    "import matplotlib.pyplot as plt\n",
    "%matplotlib inline"
   ],
   "metadata": {
    "collapsed": false,
    "pycharm": {
     "name": "#%%\n"
    }
   }
  },
  {
   "cell_type": "markdown",
   "source": [
    "Importing data into pandas DataFrame."
   ],
   "metadata": {
    "collapsed": false,
    "pycharm": {
     "name": "#%% md\n"
    }
   }
  },
  {
   "cell_type": "code",
   "execution_count": 2,
   "outputs": [
    {
     "data": {
      "text/plain": "      fire_size_class   latitude   longitude discovery_month  weekday  \\\n15946               B  32.770278  -86.742387             Mar    False   \n31139               B  37.352122  -92.425174             Dec     True   \n14531               B  31.668321  -90.763406             Oct    False   \n28001               B  36.511944 -121.753056             Oct    False   \n32788               B  43.052747  -77.814553             Apr     True   \n\n      Vegetation  remoteness  elevation       Temp      Wind   Humidity  \\\n15946  Shrubland    0.177984      185.0  -5.363234  4.511118  90.639094   \n31139        NaN    0.227173      377.0  26.244431  3.519702  73.528442   \n14531  Shrubland    0.215482      145.0  22.165292  1.913154  66.364661   \n28001        NaN    0.514087      189.0  15.758033  2.210244  76.442574   \n32788  Grassland    0.093136      175.0   1.647412  4.464063  74.371568   \n\n       Precipitation  \n15946       0.000000  \n31139       0.000000  \n14531       0.266667  \n28001       0.000000  \n32788      69.933333  ",
      "text/html": "<div>\n<style scoped>\n    .dataframe tbody tr th:only-of-type {\n        vertical-align: middle;\n    }\n\n    .dataframe tbody tr th {\n        vertical-align: top;\n    }\n\n    .dataframe thead th {\n        text-align: right;\n    }\n</style>\n<table border=\"1\" class=\"dataframe\">\n  <thead>\n    <tr style=\"text-align: right;\">\n      <th></th>\n      <th>fire_size_class</th>\n      <th>latitude</th>\n      <th>longitude</th>\n      <th>discovery_month</th>\n      <th>weekday</th>\n      <th>Vegetation</th>\n      <th>remoteness</th>\n      <th>elevation</th>\n      <th>Temp</th>\n      <th>Wind</th>\n      <th>Humidity</th>\n      <th>Precipitation</th>\n    </tr>\n  </thead>\n  <tbody>\n    <tr>\n      <th>15946</th>\n      <td>B</td>\n      <td>32.770278</td>\n      <td>-86.742387</td>\n      <td>Mar</td>\n      <td>False</td>\n      <td>Shrubland</td>\n      <td>0.177984</td>\n      <td>185.0</td>\n      <td>-5.363234</td>\n      <td>4.511118</td>\n      <td>90.639094</td>\n      <td>0.000000</td>\n    </tr>\n    <tr>\n      <th>31139</th>\n      <td>B</td>\n      <td>37.352122</td>\n      <td>-92.425174</td>\n      <td>Dec</td>\n      <td>True</td>\n      <td>NaN</td>\n      <td>0.227173</td>\n      <td>377.0</td>\n      <td>26.244431</td>\n      <td>3.519702</td>\n      <td>73.528442</td>\n      <td>0.000000</td>\n    </tr>\n    <tr>\n      <th>14531</th>\n      <td>B</td>\n      <td>31.668321</td>\n      <td>-90.763406</td>\n      <td>Oct</td>\n      <td>False</td>\n      <td>Shrubland</td>\n      <td>0.215482</td>\n      <td>145.0</td>\n      <td>22.165292</td>\n      <td>1.913154</td>\n      <td>66.364661</td>\n      <td>0.266667</td>\n    </tr>\n    <tr>\n      <th>28001</th>\n      <td>B</td>\n      <td>36.511944</td>\n      <td>-121.753056</td>\n      <td>Oct</td>\n      <td>False</td>\n      <td>NaN</td>\n      <td>0.514087</td>\n      <td>189.0</td>\n      <td>15.758033</td>\n      <td>2.210244</td>\n      <td>76.442574</td>\n      <td>0.000000</td>\n    </tr>\n    <tr>\n      <th>32788</th>\n      <td>B</td>\n      <td>43.052747</td>\n      <td>-77.814553</td>\n      <td>Apr</td>\n      <td>True</td>\n      <td>Grassland</td>\n      <td>0.093136</td>\n      <td>175.0</td>\n      <td>1.647412</td>\n      <td>4.464063</td>\n      <td>74.371568</td>\n      <td>69.933333</td>\n    </tr>\n  </tbody>\n</table>\n</div>"
     },
     "execution_count": 2,
     "metadata": {},
     "output_type": "execute_result"
    }
   ],
   "source": [
    "from sklearn.preprocessing import MinMaxScaler\n",
    "df = pd.read_csv(r\"fullDataFinal.csv\", index_col=0)\n",
    "df.columns = df.columns.str.strip()\n",
    "df.sample(5)"
   ],
   "metadata": {
    "collapsed": false,
    "pycharm": {
     "name": "#%%\n"
    }
   }
  },
  {
   "cell_type": "markdown",
   "source": [
    "Separate target variable (fire_size_class) from predictor variables."
   ],
   "metadata": {
    "collapsed": false,
    "pycharm": {
     "name": "#%% md\n"
    }
   }
  },
  {
   "cell_type": "code",
   "execution_count": 3,
   "outputs": [],
   "source": [
    "dfTarget = df[\"fire_size_class\"]\n",
    "dfPredictor = df[[\"latitude\", \"longitude\", \"discovery_month\", \"weekday\", \"Vegetation\", \"remoteness\", \"elevation\", \"Temp\", \"Wind\", \"Humidity\", \"Precipitation\"]]"
   ],
   "metadata": {
    "collapsed": false,
    "pycharm": {
     "name": "#%%\n"
    }
   }
  },
  {
   "cell_type": "markdown",
   "source": [
    "Before doing anything, let's check the distribution of our data by plotting a histogram"
   ],
   "metadata": {
    "collapsed": false,
    "pycharm": {
     "name": "#%% md\n"
    }
   }
  },
  {
   "cell_type": "code",
   "execution_count": 4,
   "outputs": [
    {
     "name": "stderr",
     "output_type": "stream",
     "text": [
      "d:\\pycharmprojects\\thesis\\lib\\site-packages\\pandas\\plotting\\_matplotlib\\tools.py:400: MatplotlibDeprecationWarning: \n",
      "The is_first_col function was deprecated in Matplotlib 3.4 and will be removed two minor releases later. Use ax.get_subplotspec().is_first_col() instead.\n",
      "  if ax.is_first_col():\n"
     ]
    },
    {
     "data": {
      "text/plain": "array([[<AxesSubplot:title={'center':'latitude'}>,\n        <AxesSubplot:title={'center':'longitude'}>,\n        <AxesSubplot:title={'center':'remoteness'}>],\n       [<AxesSubplot:title={'center':'elevation'}>,\n        <AxesSubplot:title={'center':'Temp'}>,\n        <AxesSubplot:title={'center':'Wind'}>],\n       [<AxesSubplot:title={'center':'Humidity'}>,\n        <AxesSubplot:title={'center':'Precipitation'}>, <AxesSubplot:>]],\n      dtype=object)"
     },
     "execution_count": 4,
     "metadata": {},
     "output_type": "execute_result"
    },
    {
     "data": {
      "text/plain": "<Figure size 432x288 with 1 Axes>",
      "image/png": "[encoded data removed]"
     },
     "metadata": {
      "needs_background": "light"
     },
     "output_type": "display_data"
    },
    {
     "data": {
      "text/plain": "<Figure size 432x288 with 9 Axes>",
      "image/png": "[encoded data removed]"
     },
     "metadata": {
      "needs_background": "light"
     },
     "output_type": "display_data"
    }
   ],
   "source": [
    "dfTarget.hist()\n",
    "dfPredictor.hist()"
   ],
   "metadata": {
    "collapsed": false,
    "pycharm": {
     "name": "#%%\n"
    }
   }
  },
  {
   "cell_type": "markdown",
   "source": [
    "Changing categorical variables into one-hot encoded ones."
   ],
   "metadata": {
    "collapsed": false,
    "pycharm": {
     "name": "#%% md\n"
    }
   }
  },
  {
   "cell_type": "code",
   "source": [
    "# First let's do fire_size_class\n",
    "dfTarget = pd.concat([dfTarget, pd.get_dummies(dfTarget)], axis=1)  # use get_dummies and concatenate the result to dfTarget\n",
    "dfTarget.drop([\"fire_size_class\"], axis=1, inplace=True)  # and remove the old column\n",
    "dfTarget.sample(5)"
   ],
   "metadata": {
    "collapsed": false,
    "pycharm": {
     "name": "#%%\n"
    }
   },
   "execution_count": 5,
   "outputs": [
    {
     "data": {
      "text/plain": "       B  C  D  E  F  G\n13816  0  1  0  0  0  0\n35859  0  0  0  0  1  0\n22859  1  0  0  0  0  0\n13760  1  0  0  0  0  0\n28489  1  0  0  0  0  0",
      "text/html": "<div>\n<style scoped>\n    .dataframe tbody tr th:only-of-type {\n        vertical-align: middle;\n    }\n\n    .dataframe tbody tr th {\n        vertical-align: top;\n    }\n\n    .dataframe thead th {\n        text-align: right;\n    }\n</style>\n<table border=\"1\" class=\"dataframe\">\n  <thead>\n    <tr style=\"text-align: right;\">\n      <th></th>\n      <th>B</th>\n      <th>C</th>\n      <th>D</th>\n      <th>E</th>\n      <th>F</th>\n      <th>G</th>\n    </tr>\n  </thead>\n  <tbody>\n    <tr>\n      <th>13816</th>\n      <td>0</td>\n      <td>1</td>\n      <td>0</td>\n      <td>0</td>\n      <td>0</td>\n      <td>0</td>\n    </tr>\n    <tr>\n      <th>35859</th>\n      <td>0</td>\n      <td>0</td>\n      <td>0</td>\n      <td>0</td>\n      <td>1</td>\n      <td>0</td>\n    </tr>\n    <tr>\n      <th>22859</th>\n      <td>1</td>\n      <td>0</td>\n      <td>0</td>\n      <td>0</td>\n      <td>0</td>\n      <td>0</td>\n    </tr>\n    <tr>\n      <th>13760</th>\n      <td>1</td>\n      <td>0</td>\n      <td>0</td>\n      <td>0</td>\n      <td>0</td>\n      <td>0</td>\n    </tr>\n    <tr>\n      <th>28489</th>\n      <td>1</td>\n      <td>0</td>\n      <td>0</td>\n      <td>0</td>\n      <td>0</td>\n      <td>0</td>\n    </tr>\n  </tbody>\n</table>\n</div>"
     },
     "execution_count": 5,
     "metadata": {},
     "output_type": "execute_result"
    }
   ]
  },
  {
   "cell_type": "code",
   "execution_count": 6,
   "outputs": [
    {
     "data": {
      "text/plain": "        latitude   longitude  remoteness  elevation       Temp      Wind  \\\n9974   32.560704 -102.621231    0.326355      977.0  17.205043  4.754336   \n18932  35.173300  -87.838300    0.186347      264.0  14.466626  2.191625   \n25909  43.716667  -70.600000    0.030720       89.0   8.061461  3.093580   \n6773   18.008820  -66.739410    0.017926       50.0  25.415864  4.557511   \n15866  39.864440  -78.500280    0.100413      451.0   9.746936  4.244891   \n\n        Humidity  Precipitation  Veg Broadleaf Forest  Veg Desert  ...  Jan  \\\n9974   31.537839            0.0                     0           0  ...    0   \n18932  66.138267           61.9                     0           0  ...    0   \n25909  60.141530            0.0                     0           0  ...    0   \n6773   71.558232            0.0                     0           0  ...    0   \n15866  67.710424           40.3                     0           0  ...    0   \n\n       Jul  Jun  Mar  May  Nov  Oct  Sep  is_weekend  is_weekday  \n9974     0    0    0    0    0    0    0           0           1  \n18932    0    0    0    0    1    0    0           0           1  \n25909    0    0    0    1    0    0    0           0           1  \n6773     0    0    0    0    0    0    0           0           1  \n15866    0    0    0    0    0    1    0           1           0  \n\n[5 rows x 28 columns]",
      "text/html": "<div>\n<style scoped>\n    .dataframe tbody tr th:only-of-type {\n        vertical-align: middle;\n    }\n\n    .dataframe tbody tr th {\n        vertical-align: top;\n    }\n\n    .dataframe thead th {\n        text-align: right;\n    }\n</style>\n<table border=\"1\" class=\"dataframe\">\n  <thead>\n    <tr style=\"text-align: right;\">\n      <th></th>\n      <th>latitude</th>\n      <th>longitude</th>\n      <th>remoteness</th>\n      <th>elevation</th>\n      <th>Temp</th>\n      <th>Wind</th>\n      <th>Humidity</th>\n      <th>Precipitation</th>\n      <th>Veg Broadleaf Forest</th>\n      <th>Veg Desert</th>\n      <th>...</th>\n      <th>Jan</th>\n      <th>Jul</th>\n      <th>Jun</th>\n      <th>Mar</th>\n      <th>May</th>\n      <th>Nov</th>\n      <th>Oct</th>\n      <th>Sep</th>\n      <th>is_weekend</th>\n      <th>is_weekday</th>\n    </tr>\n  </thead>\n  <tbody>\n    <tr>\n      <th>9974</th>\n      <td>32.560704</td>\n      <td>-102.621231</td>\n      <td>0.326355</td>\n      <td>977.0</td>\n      <td>17.205043</td>\n      <td>4.754336</td>\n      <td>31.537839</td>\n      <td>0.0</td>\n      <td>0</td>\n      <td>0</td>\n      <td>...</td>\n      <td>0</td>\n      <td>0</td>\n      <td>0</td>\n      <td>0</td>\n      <td>0</td>\n      <td>0</td>\n      <td>0</td>\n      <td>0</td>\n      <td>0</td>\n      <td>1</td>\n    </tr>\n    <tr>\n      <th>18932</th>\n      <td>35.173300</td>\n      <td>-87.838300</td>\n      <td>0.186347</td>\n      <td>264.0</td>\n      <td>14.466626</td>\n      <td>2.191625</td>\n      <td>66.138267</td>\n      <td>61.9</td>\n      <td>0</td>\n      <td>0</td>\n      <td>...</td>\n      <td>0</td>\n      <td>0</td>\n      <td>0</td>\n      <td>0</td>\n      <td>0</td>\n      <td>1</td>\n      <td>0</td>\n      <td>0</td>\n      <td>0</td>\n      <td>1</td>\n    </tr>\n    <tr>\n      <th>25909</th>\n      <td>43.716667</td>\n      <td>-70.600000</td>\n      <td>0.030720</td>\n      <td>89.0</td>\n      <td>8.061461</td>\n      <td>3.093580</td>\n      <td>60.141530</td>\n      <td>0.0</td>\n      <td>0</td>\n      <td>0</td>\n      <td>...</td>\n      <td>0</td>\n      <td>0</td>\n      <td>0</td>\n      <td>0</td>\n      <td>1</td>\n      <td>0</td>\n      <td>0</td>\n      <td>0</td>\n      <td>0</td>\n      <td>1</td>\n    </tr>\n    <tr>\n      <th>6773</th>\n      <td>18.008820</td>\n      <td>-66.739410</td>\n      <td>0.017926</td>\n      <td>50.0</td>\n      <td>25.415864</td>\n      <td>4.557511</td>\n      <td>71.558232</td>\n      <td>0.0</td>\n      <td>0</td>\n      <td>0</td>\n      <td>...</td>\n      <td>0</td>\n      <td>0</td>\n      <td>0</td>\n      <td>0</td>\n      <td>0</td>\n      <td>0</td>\n      <td>0</td>\n      <td>0</td>\n      <td>0</td>\n      <td>1</td>\n    </tr>\n    <tr>\n      <th>15866</th>\n      <td>39.864440</td>\n      <td>-78.500280</td>\n      <td>0.100413</td>\n      <td>451.0</td>\n      <td>9.746936</td>\n      <td>4.244891</td>\n      <td>67.710424</td>\n      <td>40.3</td>\n      <td>0</td>\n      <td>0</td>\n      <td>...</td>\n      <td>0</td>\n      <td>0</td>\n      <td>0</td>\n      <td>0</td>\n      <td>0</td>\n      <td>0</td>\n      <td>1</td>\n      <td>0</td>\n      <td>1</td>\n      <td>0</td>\n    </tr>\n  </tbody>\n</table>\n<p>5 rows × 28 columns</p>\n</div>"
     },
     "execution_count": 6,
     "metadata": {},
     "output_type": "execute_result"
    }
   ],
   "source": [
    "# Now Vegetation\n",
    "dfPredictor = pd.concat([dfPredictor, pd.get_dummies(dfPredictor[\"Vegetation\"], prefix=\"Veg\", prefix_sep=\" \")], axis=1)\n",
    "dfPredictor.drop([\"Vegetation\"], axis=1, inplace=True)\n",
    "\n",
    "# And discovery_month\n",
    "dfPredictor = pd.concat([dfPredictor, pd.get_dummies(dfPredictor[\"discovery_month\"])], axis=1)\n",
    "dfPredictor.drop([\"discovery_month\"], axis=1, inplace=True)\n",
    "\n",
    "# And weekday\n",
    "dfPredictor = pd.concat([dfPredictor, pd.get_dummies(dfPredictor[\"weekday\"])], axis=1)\n",
    "dfPredictor.drop([\"weekday\"], axis=1, inplace=True)\n",
    "dfPredictor.rename(columns={False:\"is_weekend\", True:\"is_weekday\"}, inplace=True)\n",
    "dfPredictor.sample(5)"
   ],
   "metadata": {
    "collapsed": false,
    "pycharm": {
     "name": "#%%\n"
    }
   }
  },
  {
   "cell_type": "markdown",
   "source": [
    "Scaling numerical data to 0-1 range."
   ],
   "metadata": {
    "collapsed": false,
    "pycharm": {
     "name": "#%% md\n"
    }
   }
  },
  {
   "cell_type": "code",
   "execution_count": 7,
   "outputs": [
    {
     "data": {
      "text/plain": "       latitude  longitude  remoteness  elevation      Temp      Wind  \\\n12487  0.418388   0.568037    0.379302   0.568020  0.683444  0.160645   \n29630  0.281523   0.643557    0.310542   0.194185  0.385643  0.209722   \n26172  0.460012   0.422995    0.523959   0.467636  0.656020  0.089544   \n36220  0.388500   0.597909    0.231454   0.751783  0.486761  0.174028   \n7467   0.277559   0.673984    0.281868   0.119035  0.473614  0.103910   \n\n       Humidity  Precipitation  Veg Broadleaf Forest  Veg Desert  ...  Jan  \\\n12487  0.219659       0.000000                     0           0  ...    0   \n29630  0.327565       0.000000                     0           0  ...    0   \n26172  0.409438       0.000609                     0           0  ...    0   \n36220  0.373066       0.000000                     0           0  ...    0   \n7467   0.575730       0.000000                     0           0  ...    0   \n\n       Jul  Jun  Mar  May  Nov  Oct  Sep  is_weekend  is_weekday  \n12487    1    0    0    0    0    0    0           1           0  \n29630    0    0    0    0    0    0    0           1           0  \n26172    1    0    0    0    0    0    0           0           1  \n36220    0    1    0    0    0    0    0           1           0  \n7467     0    0    0    0    1    0    0           0           1  \n\n[5 rows x 28 columns]",
      "text/html": "<div>\n<style scoped>\n    .dataframe tbody tr th:only-of-type {\n        vertical-align: middle;\n    }\n\n    .dataframe tbody tr th {\n        vertical-align: top;\n    }\n\n    .dataframe thead th {\n        text-align: right;\n    }\n</style>\n<table border=\"1\" class=\"dataframe\">\n  <thead>\n    <tr style=\"text-align: right;\">\n      <th></th>\n      <th>latitude</th>\n      <th>longitude</th>\n      <th>remoteness</th>\n      <th>elevation</th>\n      <th>Temp</th>\n      <th>Wind</th>\n      <th>Humidity</th>\n      <th>Precipitation</th>\n      <th>Veg Broadleaf Forest</th>\n      <th>Veg Desert</th>\n      <th>...</th>\n      <th>Jan</th>\n      <th>Jul</th>\n      <th>Jun</th>\n      <th>Mar</th>\n      <th>May</th>\n      <th>Nov</th>\n      <th>Oct</th>\n      <th>Sep</th>\n      <th>is_weekend</th>\n      <th>is_weekday</th>\n    </tr>\n  </thead>\n  <tbody>\n    <tr>\n      <th>12487</th>\n      <td>0.418388</td>\n      <td>0.568037</td>\n      <td>0.379302</td>\n      <td>0.568020</td>\n      <td>0.683444</td>\n      <td>0.160645</td>\n      <td>0.219659</td>\n      <td>0.000000</td>\n      <td>0</td>\n      <td>0</td>\n      <td>...</td>\n      <td>0</td>\n      <td>1</td>\n      <td>0</td>\n      <td>0</td>\n      <td>0</td>\n      <td>0</td>\n      <td>0</td>\n      <td>0</td>\n      <td>1</td>\n      <td>0</td>\n    </tr>\n    <tr>\n      <th>29630</th>\n      <td>0.281523</td>\n      <td>0.643557</td>\n      <td>0.310542</td>\n      <td>0.194185</td>\n      <td>0.385643</td>\n      <td>0.209722</td>\n      <td>0.327565</td>\n      <td>0.000000</td>\n      <td>0</td>\n      <td>0</td>\n      <td>...</td>\n      <td>0</td>\n      <td>0</td>\n      <td>0</td>\n      <td>0</td>\n      <td>0</td>\n      <td>0</td>\n      <td>0</td>\n      <td>0</td>\n      <td>1</td>\n      <td>0</td>\n    </tr>\n    <tr>\n      <th>26172</th>\n      <td>0.460012</td>\n      <td>0.422995</td>\n      <td>0.523959</td>\n      <td>0.467636</td>\n      <td>0.656020</td>\n      <td>0.089544</td>\n      <td>0.409438</td>\n      <td>0.000609</td>\n      <td>0</td>\n      <td>0</td>\n      <td>...</td>\n      <td>0</td>\n      <td>1</td>\n      <td>0</td>\n      <td>0</td>\n      <td>0</td>\n      <td>0</td>\n      <td>0</td>\n      <td>0</td>\n      <td>0</td>\n      <td>1</td>\n    </tr>\n    <tr>\n      <th>36220</th>\n      <td>0.388500</td>\n      <td>0.597909</td>\n      <td>0.231454</td>\n      <td>0.751783</td>\n      <td>0.486761</td>\n      <td>0.174028</td>\n      <td>0.373066</td>\n      <td>0.000000</td>\n      <td>0</td>\n      <td>0</td>\n      <td>...</td>\n      <td>0</td>\n      <td>0</td>\n      <td>1</td>\n      <td>0</td>\n      <td>0</td>\n      <td>0</td>\n      <td>0</td>\n      <td>0</td>\n      <td>1</td>\n      <td>0</td>\n    </tr>\n    <tr>\n      <th>7467</th>\n      <td>0.277559</td>\n      <td>0.673984</td>\n      <td>0.281868</td>\n      <td>0.119035</td>\n      <td>0.473614</td>\n      <td>0.103910</td>\n      <td>0.575730</td>\n      <td>0.000000</td>\n      <td>0</td>\n      <td>0</td>\n      <td>...</td>\n      <td>0</td>\n      <td>0</td>\n      <td>0</td>\n      <td>0</td>\n      <td>0</td>\n      <td>1</td>\n      <td>0</td>\n      <td>0</td>\n      <td>0</td>\n      <td>1</td>\n    </tr>\n  </tbody>\n</table>\n<p>5 rows × 28 columns</p>\n</div>"
     },
     "execution_count": 7,
     "metadata": {},
     "output_type": "execute_result"
    }
   ],
   "source": [
    "from sklearn.preprocessing import MinMaxScaler\n",
    "\n",
    "dfPredictorScaled = pd.DataFrame(MinMaxScaler().fit_transform(dfPredictor[[\"latitude\", \"longitude\", \"remoteness\", \"elevation\", \"Temp\", \"Wind\", \"Humidity\", \"Precipitation\"]]), columns=[\"latitude\", \"longitude\", \"remoteness\", \"elevation\", \"Temp\", \"Wind\", \"Humidity\", \"Precipitation\"])\n",
    "# dfPredictorScaled.sample(5)\n",
    "\n",
    "dfPredictor = dfPredictor.assign(**dfPredictorScaled.to_dict(orient=\"series\"))  # replace the columns of the old df with the ones from the new one\n",
    "dfPredictor.sample(5)"
   ],
   "metadata": {
    "collapsed": false,
    "pycharm": {
     "name": "#%%\n"
    }
   }
  },
  {
   "cell_type": "markdown",
   "source": [
    "Make a correlation matrix"
   ],
   "metadata": {
    "collapsed": false,
    "pycharm": {
     "name": "#%% md\n"
    }
   }
  },
  {
   "cell_type": "code",
   "execution_count": 8,
   "outputs": [
    {
     "data": {
      "text/plain": "<Figure size 432x288 with 2 Axes>",
      "image/png": "[encoded data removed]"
     },
     "metadata": {
      "needs_background": "light"
     },
     "output_type": "display_data"
    }
   ],
   "source": [
    "import seaborn as sn\n",
    "\n",
    "corrMatrix = dfPredictor.corr()\n",
    "sn.heatmap(corrMatrix)\n",
    "plt.show()"
   ],
   "metadata": {
    "collapsed": false,
    "pycharm": {
     "name": "#%%\n"
    }
   }
  },
  {
   "cell_type": "markdown",
   "source": [
    "Make a histogram distribution thing"
   ],
   "metadata": {
    "collapsed": false
   }
  },
  {
   "cell_type": "markdown",
   "source": [
    "Train-test split"
   ],
   "metadata": {
    "collapsed": false,
    "pycharm": {
     "name": "#%% md\n"
    }
   }
  },
  {
   "cell_type": "code",
   "execution_count": 9,
   "outputs": [],
   "source": [
    "from sklearn.model_selection import train_test_split\n",
    "\n",
    "X_train, X_test, y_train, y_test = train_test_split(dfPredictor, dfTarget, test_size=0.1, random_state=42)"
   ],
   "metadata": {
    "collapsed": false,
    "pycharm": {
     "name": "#%%\n"
    }
   }
  },
  {
   "cell_type": "markdown",
   "source": [
    "Training models, each in a cell (?)\n",
    "\n",
    "* Dummy classifier\n",
    "* K-Nearest Neighbour (KNN)\n",
    "* Naïve Bayes (NB)\n",
    "* Support Vector Machine (SVM)\n",
    "* Decision Tree (DT)\n",
    "* Random Forest (RF)\n",
    "* Gradient Boosted Trees (GBT)\n",
    "* Multi-Layered Perceptron (MLP)\n",
    "* Artificial Neural Network (ANN)"
   ],
   "metadata": {
    "collapsed": false,
    "pycharm": {
     "name": "#%% md\n"
    }
   }
  },
  {
   "cell_type": "markdown",
   "source": [
    "Evaluation with confusion matrix, F1 score, etc"
   ],
   "metadata": {
    "collapsed": false,
    "pycharm": {
     "name": "#%% md\n"
    }
   }
  },
  {
   "cell_type": "markdown",
   "source": [
    "Dummy classifier"
   ],
   "metadata": {
    "collapsed": false,
    "pycharm": {
     "name": "#%% md\n"
    }
   }
  },
  {
   "cell_type": "code",
   "execution_count": null,
   "outputs": [],
   "source": [],
   "metadata": {
    "collapsed": false,
    "pycharm": {
     "name": "#%%\n"
    }
   }
  },
  {
   "cell_type": "markdown",
   "source": [
    "KNN"
   ],
   "metadata": {
    "collapsed": false,
    "pycharm": {
     "name": "#%% md\n"
    }
   }
  },
  {
   "cell_type": "code",
   "execution_count": 33,
   "outputs": [
    {
     "name": "stdout",
     "output_type": "stream",
     "text": [
      "Trained in in 164.1297 seconds\n"
     ]
    },
    {
     "data": {
      "text/plain": "<matplotlib.legend.Legend at 0x27b8c9f3610>"
     },
     "execution_count": 33,
     "metadata": {},
     "output_type": "execute_result"
    },
    {
     "data": {
      "text/plain": "<Figure size 432x288 with 1 Axes>",
      "image/png": "[encoded data removed]"
     },
     "metadata": {
      "needs_background": "light"
     },
     "output_type": "display_data"
    }
   ],
   "source": [
    "from sklearn.neighbors import KNeighborsClassifier\n",
    "import time  # optional for timing the code\n",
    "\n",
    "training_accuracy = []\n",
    "test_accuracy = []\n",
    "nNeighbors = range(5, 15, 2)\n",
    "\n",
    "tic = time.perf_counter()  # timing start\n",
    "for nNeighbor in nNeighbors:\n",
    "    # build the model\n",
    "    clf = KNeighborsClassifier(n_neighbors=nNeighbor, n_jobs=-1)\n",
    "    clf.fit(X_train, y_train)\n",
    "    # record training set accuracy\n",
    "    training_accuracy.append(clf.score(X_train, y_train))\n",
    "    # record generalization accuracy\n",
    "    test_accuracy.append(clf.score(X_test, y_test))\n",
    "toc = time.perf_counter()  # timing end\n",
    "print(f\"Trained in in {toc - tic:0.4f} seconds\")  # print the time elapsed\n",
    "\n",
    "plt.plot(nNeighbors, training_accuracy, label=\"training accuracy\")\n",
    "plt.plot(nNeighbors, test_accuracy, label=\"test accuracy\")\n",
    "plt.ylabel(\"Accuracy\")\n",
    "plt.xlabel(\"n_neighbors\")\n",
    "plt.legend()"
   ],
   "metadata": {
    "collapsed": false,
    "pycharm": {
     "name": "#%%\n"
    }
   }
  },
  {
   "cell_type": "markdown",
   "source": [
    "9 seems to be the best on our test set. Let's train that model and save it."
   ],
   "metadata": {
    "collapsed": false,
    "pycharm": {
     "name": "#%% md\n"
    }
   }
  },
  {
   "cell_type": "code",
   "source": [
    "clf = KNeighborsClassifier(n_neighbors=9, n_jobs=-1)\n",
    "clf.fit(X_train, y_train)\n",
    "\n",
    "training_accuracy = clf.score(X_train, y_train)\n",
    "test_accuracy = clf.score(X_test, y_test)\n",
    "print(f\"Number of neighbors: 9\")\n",
    "print(\"\\nTraining accuracy: {training_accuracy}\")  # 0.7298490543523656\n",
    "print(\"\\nTest accuracy: {test_accuracy}\")  # 0.6934228187919463"
   ],
   "metadata": {
    "collapsed": false,
    "pycharm": {
     "name": "#%%\n"
    }
   },
   "execution_count": 34,
   "outputs": [
    {
     "name": "stdout",
     "output_type": "stream",
     "text": [
      "Number of neighbors: 9 \n",
      "Training accuracy: 0.7298490543523656 \n",
      "Test accuracy: 0.6934228187919463\n"
     ]
    }
   ]
  },
  {
   "cell_type": "markdown",
   "source": [
    "Naive Bayes"
   ],
   "metadata": {
    "collapsed": false
   }
  },
  {
   "cell_type": "code",
   "execution_count": 15,
   "outputs": [
    {
     "name": "stdout",
     "output_type": "stream",
     "text": [
      "BernoulliNB train score: 0.593162699122964\n",
      "BernoulliNB test score: 0.5884563758389262\n",
      "\n",
      "\n",
      "GaussianNB train score: 0.21296462024938845\n",
      "GaussianNB test score: 0.21986577181208053\n",
      "\n",
      "\n",
      "MultinomialNB train score: 0.6040809020941471\n",
      "MultinomialNB test score: 0.5978523489932885\n",
      "\n",
      "\n"
     ]
    }
   ],
   "source": [
    "from sklearn.multioutput import MultiOutputClassifier  # (https://sklearn.org/modules/multiclass.html#multioutput-classification)\n",
    "\n",
    "# train a Bernoulli Naive Bayes\n",
    "from sklearn.naive_bayes import BernoulliNB\n",
    "\n",
    "bnb = BernoulliNB(binarize=0.0)\n",
    "multi_bnb = MultiOutputClassifier(bnb, n_jobs=-1)\n",
    "multi_bnb.fit(X_train,y_train)\n",
    "print(f\"BernoulliNB train score: {multi_bnb.score(X_train, y_train)}\")  # 0.593162699122964\n",
    "print(f\"BernoulliNB test score: {multi_bnb.score(X_test, y_test)}\")  # 0.5884563758389262\n",
    "print(\"\\n\")\n",
    "\n",
    "# train a Gaussian Naive Bayes\n",
    "from sklearn.naive_bayes import GaussianNB\n",
    "\n",
    "gnb = GaussianNB()\n",
    "multi_gnb = MultiOutputClassifier(gnb, n_jobs=-1)\n",
    "multi_gnb.fit(X_train, y_train)\n",
    "print(f\"GaussianNB train score: {multi_gnb.score(X_train, y_train)}\")  # 0.21296462024938845\n",
    "print(f\"GaussianNB test score: {multi_gnb.score(X_test, y_test)}\")  # 0.21986577181208053\n",
    "print(\"\\n\")\n",
    "\n",
    "# train a Multinomial Naive Bayes\n",
    "from sklearn.naive_bayes import MultinomialNB\n",
    "\n",
    "mnb = MultinomialNB()\n",
    "multi_mnb = MultiOutputClassifier(mnb, n_jobs=-1)\n",
    "multi_mnb.fit(X_train,y_train)\n",
    "print(f\"MultinomialNB train score: {multi_mnb.score(X_train, y_train)}\")  # 0.6040809020941471\n",
    "print(f\"MultinomialNB test score: {multi_mnb.score(X_test, y_test)}\")  # 0.5978523489932885\n",
    "print(\"\\n\")\n"
   ],
   "metadata": {
    "collapsed": false,
    "pycharm": {
     "name": "#%%\n"
    }
   }
  },
  {
   "cell_type": "markdown",
   "source": [
    "Support Vector Machine"
   ],
   "metadata": {
    "collapsed": false,
    "pycharm": {
     "name": "#%% md\n"
    }
   }
  },
  {
   "cell_type": "code",
   "execution_count": 20,
   "outputs": [
    {
     "name": "stdout",
     "output_type": "stream",
     "text": [
      "Trained in in 963.3759 seconds\n"
     ]
    },
    {
     "data": {
      "text/plain": "<matplotlib.legend.Legend at 0x181a4c5ca90>"
     },
     "execution_count": 20,
     "metadata": {},
     "output_type": "execute_result"
    },
    {
     "data": {
      "text/plain": "<Figure size 432x288 with 1 Axes>",
      "image/png": "[encoded data removed]"
     },
     "metadata": {
      "needs_background": "light"
     },
     "output_type": "display_data"
    }
   ],
   "source": [
    "import time  # optional for timing the code\n",
    "from sklearn.svm import SVC\n",
    "from sklearn.multioutput import MultiOutputClassifier  # (https://sklearn.org/modules/multiclass.html#multioutput-classification)\n",
    "\n",
    "training_accuracy = []\n",
    "test_accuracy = []\n",
    "C = [0.01, 0.1, 0.25, 0.5, 0.75, 1]\n",
    "\n",
    "tic = time.perf_counter()  # timing start\n",
    "for c in C:\n",
    "    svm = SVC(C = c)\n",
    "    multi_svm = MultiOutputClassifier(svm, n_jobs=-1)\n",
    "    multi_svm.fit(X_train, y_train)\n",
    "    # record training set accuracy\n",
    "    training_accuracy.append(multi_svm.score(X_train, y_train))\n",
    "    # record generalization accuracy\n",
    "    test_accuracy.append(multi_svm.score(X_test, y_test))\n",
    "toc = time.perf_counter()  # timing end\n",
    "print(f\"Trained in in {toc - tic:0.4f} seconds\")  # print the time elapsed\n",
    "\n",
    "plt.plot(C, training_accuracy, label=\"training accuracy\")\n",
    "plt.plot(C, test_accuracy, label=\"test accuracy\")\n",
    "plt.ylabel(\"Accuracy\")\n",
    "plt.xlabel(\"Value of C\")\n",
    "plt.legend()"
   ],
   "metadata": {
    "collapsed": false,
    "pycharm": {
     "name": "#%%\n"
    }
   }
  },
  {
   "cell_type": "markdown",
   "source": [
    "Best seems to be with C = 0.25\n",
    "\n",
    "Now lets train the final SVM"
   ],
   "metadata": {
    "collapsed": false,
    "pycharm": {
     "name": "#%% md\n"
    }
   }
  },
  {
   "cell_type": "code",
   "execution_count": 21,
   "outputs": [
    {
     "name": "stdout",
     "output_type": "stream",
     "text": [
      "MultinomialNB train score: 0.7018077680329335\n",
      "MultinomialNB test score: 0.6977181208053691\n",
      "\n",
      "\n"
     ]
    }
   ],
   "source": [
    "svm = SVC(C = 0.25)\n",
    "multi_svm = MultiOutputClassifier(svm, n_jobs=-1)\n",
    "multi_svm.fit(X_train, y_train)\n",
    "\n",
    "print(f\"Kernel SVM train score: {multi_svm.score(X_train, y_train)}\")  # 0.7018077680329335\n",
    "print(f\"Kernel SVM test score: {multi_svm.score(X_test, y_test)}\")  # 0.6977181208053691\n",
    "print(\"\\n\")"
   ],
   "metadata": {
    "collapsed": false,
    "pycharm": {
     "name": "#%%\n"
    }
   }
  },
  {
   "cell_type": "markdown",
   "source": [
    "Decision Tree"
   ],
   "metadata": {
    "collapsed": false,
    "pycharm": {
     "name": "#%% md\n"
    }
   }
  },
  {
   "cell_type": "code",
   "execution_count": 25,
   "outputs": [
    {
     "name": "stdout",
     "output_type": "stream",
     "text": [
      "[0.51807742 0.70696852 0.71884132 0.69375329 0.72057161 0.71335242\n",
      " 0.70989217 0.70634242 0.69825763 0.69014371 0.68277573 0.67782339\n",
      " 0.66938098 0.66171467 0.63182408 0.60235061]\n",
      "Test set score: 0.71\n"
     ]
    }
   ],
   "source": [
    "from sklearn.tree import DecisionTreeClassifier\n",
    "from sklearn.model_selection import GridSearchCV\n",
    "\n",
    "param_grid = {'max_depth': [1, 2, 3, 4, 5, 6, 7, 8, 9, 10, 11, 12, 13, 14, 20, 40]}\n",
    "\n",
    "grid_search = GridSearchCV(DecisionTreeClassifier(), param_grid, cv=5, )\n",
    "grid_search.fit(X_train, y_train)\n",
    "scores = grid_search.cv_results_['mean_test_score']\n",
    "print(scores)\n",
    "\n",
    "print(\"Test set score: {:.2f}\".format(grid_search.score(X_test, y_test)))"
   ],
   "metadata": {
    "collapsed": false,
    "pycharm": {
     "name": "#%%\n"
    }
   }
  },
  {
   "cell_type": "markdown",
   "source": [
    "Best max_depth is 5 -->  0.72060144"
   ],
   "metadata": {
    "collapsed": false,
    "pycharm": {
     "name": "#%% md\n"
    }
   }
  },
  {
   "cell_type": "code",
   "execution_count": 24,
   "outputs": [
    {
     "name": "stdout",
     "output_type": "stream",
     "text": [
      "Decision Tree train score: 0.7240618101545254\n",
      "Decision Tree test score: 0.7103355704697987\n",
      "\n",
      "\n"
     ]
    }
   ],
   "source": [
    "dt = DecisionTreeClassifier(max_depth=5)\n",
    "dt.fit(X_train, y_train)\n",
    "\n",
    "print(f\"Decision Tree train score: {dt.score(X_train, y_train)}\")  # 0.7240618101545254\n",
    "print(f\"Decision Tree test score: {dt.score(X_test, y_test)}\")  # 0.7103355704697987\n",
    "print(\"\\n\")"
   ],
   "metadata": {
    "collapsed": false,
    "pycharm": {
     "name": "#%%\n"
    }
   }
  },
  {
   "cell_type": "markdown",
   "source": [
    "Random Forest"
   ],
   "metadata": {
    "collapsed": false,
    "pycharm": {
     "name": "#%% md\n"
    }
   }
  },
  {
   "cell_type": "code",
   "execution_count": 27,
   "outputs": [
    {
     "name": "stdout",
     "output_type": "stream",
     "text": [
      "[0.69458851 0.69515544 0.69610995 0.69596085 0.69554323 0.69393231]\n",
      "Test set score: 0.69\n"
     ]
    }
   ],
   "source": [
    "from sklearn.ensemble import RandomForestClassifier\n",
    "from sklearn.model_selection import GridSearchCV\n",
    "\n",
    "param_grid = {'max_depth':[2,4,8,10,11,12,13,14,15,16,20,30,40]}\n",
    "\n",
    "grid_search = GridSearchCV(RandomForestClassifier(n_jobs=-1),param_grid, cv=5)\n",
    "grid_search.fit(X_train, y_train)\n",
    "scores = grid_search.cv_results_['mean_test_score']\n",
    "print(scores)\n",
    "\n",
    "print(\"Test set score: {:.2f}\".format(grid_search.score(X_test, y_test)))"
   ],
   "metadata": {
    "collapsed": false,
    "pycharm": {
     "name": "#%%\n"
    }
   }
  },
  {
   "cell_type": "markdown",
   "source": [
    "Best seems to be with max_depth=12"
   ],
   "metadata": {
    "collapsed": false,
    "pycharm": {
     "name": "#%% md\n"
    }
   }
  },
  {
   "cell_type": "code",
   "execution_count": 30,
   "outputs": [
    {
     "name": "stdout",
     "output_type": "stream",
     "text": [
      "Random Forest train score: 0.7210786945886284\n",
      "Random Forest test score: 0.6877852348993289\n",
      "\n",
      "\n"
     ]
    }
   ],
   "source": [
    "rf = RandomForestClassifier(max_depth=12, n_jobs=-1)\n",
    "rf.fit(X_train, y_train)\n",
    "\n",
    "print(f\"Random Forest train score: {rf.score(X_train, y_train)}\")  # 0.7210786945886284\n",
    "print(f\"Random Forest test score: {rf.score(X_test, y_test)}\")  # 0.6877852348993289\n",
    "print(\"\\n\")\n"
   ],
   "metadata": {
    "collapsed": false,
    "pycharm": {
     "name": "#%%\n"
    }
   }
  },
  {
   "cell_type": "markdown",
   "source": [
    "\n"
   ],
   "metadata": {
    "collapsed": false,
    "pycharm": {
     "name": "#%% md\n"
    }
   }
  }
 ],
 "metadata": {
  "kernelspec": {
   "display_name": "Python 3",
   "language": "python",
   "name": "python3"
  },
  "language_info": {
   "codemirror_mode": {
    "name": "ipython",
    "version": 2
   },
   "file_extension": ".py",
   "mimetype": "text/x-python",
   "name": "python",
   "nbconvert_exporter": "python",
   "pygments_lexer": "ipython2",
   "version": "2.7.6"
  }
 },
 "nbformat": 4,
 "nbformat_minor": 0
}