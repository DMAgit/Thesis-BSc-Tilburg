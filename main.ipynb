{
 "cells": [
  {
   "cell_type": "markdown",
   "metadata": {
    "collapsed": true,
    "pycharm": {
     "name": "#%% md\n"
    }
   },
   "source": [
    "Title\n",
    "\n",
    "Description"
   ]
  },
  {
   "cell_type": "markdown",
   "source": [
    "Importing packages."
   ],
   "metadata": {
    "collapsed": false,
    "pycharm": {
     "name": "#%% md\n"
    }
   }
  },
  {
   "cell_type": "code",
   "execution_count": 2,
   "outputs": [],
   "source": [
    "import pandas as pd\n",
    "import matplotlib.pyplot as plt"
   ],
   "metadata": {
    "collapsed": false,
    "pycharm": {
     "name": "#%%\n"
    }
   }
  },
  {
   "cell_type": "markdown",
   "source": [
    "Importing data into pandas DataFrame."
   ],
   "metadata": {
    "collapsed": false,
    "pycharm": {
     "name": "#%% md\n"
    }
   }
  },
  {
   "cell_type": "code",
   "execution_count": 20,
   "outputs": [
    {
     "data": {
      "text/plain": "      fire_size_class   latitude  longitude discovery_month  weekday  \\\n26355               B  34.558300 -95.436096             Apr     True   \n21750               B  35.345000 -79.231666             May     True   \n13382               B  35.916700 -77.283300             Feb     True   \n1347                B  38.677780 -75.983610             Jun     True   \n5532                B  41.221674 -73.708792             Aug    False   \n\n             Vegetation  remoteness  elevation       Temp      Wind  \\\n26355  Broadleaf Forest    0.256849      171.0  11.973671  4.575608   \n21750              Rock    0.109246      119.0  19.041953  1.884228   \n13382              Rock    0.091830       26.0   8.848082  2.856043   \n1347                NaN    0.079015        9.0  21.009840  2.059761   \n5532               Rock    0.058205      161.0  22.595147  2.470767   \n\n        Humidity  Precipitation  \n26355  55.258984      56.000000  \n21750  71.300060      25.633333  \n13382  54.896172       0.000000  \n1347   75.557838       0.000000  \n5532   72.336829      78.933333  ",
      "text/html": "<div>\n<style scoped>\n    .dataframe tbody tr th:only-of-type {\n        vertical-align: middle;\n    }\n\n    .dataframe tbody tr th {\n        vertical-align: top;\n    }\n\n    .dataframe thead th {\n        text-align: right;\n    }\n</style>\n<table border=\"1\" class=\"dataframe\">\n  <thead>\n    <tr style=\"text-align: right;\">\n      <th></th>\n      <th>fire_size_class</th>\n      <th>latitude</th>\n      <th>longitude</th>\n      <th>discovery_month</th>\n      <th>weekday</th>\n      <th>Vegetation</th>\n      <th>remoteness</th>\n      <th>elevation</th>\n      <th>Temp</th>\n      <th>Wind</th>\n      <th>Humidity</th>\n      <th>Precipitation</th>\n    </tr>\n  </thead>\n  <tbody>\n    <tr>\n      <th>26355</th>\n      <td>B</td>\n      <td>34.558300</td>\n      <td>-95.436096</td>\n      <td>Apr</td>\n      <td>True</td>\n      <td>Broadleaf Forest</td>\n      <td>0.256849</td>\n      <td>171.0</td>\n      <td>11.973671</td>\n      <td>4.575608</td>\n      <td>55.258984</td>\n      <td>56.000000</td>\n    </tr>\n    <tr>\n      <th>21750</th>\n      <td>B</td>\n      <td>35.345000</td>\n      <td>-79.231666</td>\n      <td>May</td>\n      <td>True</td>\n      <td>Rock</td>\n      <td>0.109246</td>\n      <td>119.0</td>\n      <td>19.041953</td>\n      <td>1.884228</td>\n      <td>71.300060</td>\n      <td>25.633333</td>\n    </tr>\n    <tr>\n      <th>13382</th>\n      <td>B</td>\n      <td>35.916700</td>\n      <td>-77.283300</td>\n      <td>Feb</td>\n      <td>True</td>\n      <td>Rock</td>\n      <td>0.091830</td>\n      <td>26.0</td>\n      <td>8.848082</td>\n      <td>2.856043</td>\n      <td>54.896172</td>\n      <td>0.000000</td>\n    </tr>\n    <tr>\n      <th>1347</th>\n      <td>B</td>\n      <td>38.677780</td>\n      <td>-75.983610</td>\n      <td>Jun</td>\n      <td>True</td>\n      <td>NaN</td>\n      <td>0.079015</td>\n      <td>9.0</td>\n      <td>21.009840</td>\n      <td>2.059761</td>\n      <td>75.557838</td>\n      <td>0.000000</td>\n    </tr>\n    <tr>\n      <th>5532</th>\n      <td>B</td>\n      <td>41.221674</td>\n      <td>-73.708792</td>\n      <td>Aug</td>\n      <td>False</td>\n      <td>Rock</td>\n      <td>0.058205</td>\n      <td>161.0</td>\n      <td>22.595147</td>\n      <td>2.470767</td>\n      <td>72.336829</td>\n      <td>78.933333</td>\n    </tr>\n  </tbody>\n</table>\n</div>"
     },
     "execution_count": 20,
     "metadata": {},
     "output_type": "execute_result"
    }
   ],
   "source": [
    "from sklearn.preprocessing import MinMaxScaler\n",
    "df = pd.read_csv(r\"fullDataFinal.csv\", index_col=0)\n",
    "df.columns = df.columns.str.strip()\n",
    "df.sample(5)"
   ],
   "metadata": {
    "collapsed": false,
    "pycharm": {
     "name": "#%%\n"
    }
   }
  },
  {
   "cell_type": "markdown",
   "source": [
    "Separate target variable (fire_size_class) from predictor variables."
   ],
   "metadata": {
    "collapsed": false,
    "pycharm": {
     "name": "#%% md\n"
    }
   }
  },
  {
   "cell_type": "code",
   "execution_count": 28,
   "outputs": [],
   "source": [
    "dfTarget = df[\"fire_size_class\"]\n",
    "dfPredictor = df[[\"latitude\", \"longitude\", \"discovery_month\", \"weekday\", \"Vegetation\", \"remoteness\", \"elevation\", \"Temp\", \"Wind\", \"Humidity\", \"Precipitation\"]]"
   ],
   "metadata": {
    "collapsed": false,
    "pycharm": {
     "name": "#%%\n"
    }
   }
  },
  {
   "cell_type": "markdown",
   "source": [
    "Changing categorical variables into one-hot encoded ones."
   ],
   "metadata": {
    "collapsed": false,
    "pycharm": {
     "name": "#%% md\n"
    }
   }
  },
  {
   "cell_type": "code",
   "source": [
    "# First let's do fire_size_class\n",
    "dfTarget = pd.concat([dfTarget, pd.get_dummies(dfTarget)], axis=1)  # use get_dummies and concatenate the result to dfTarget\n",
    "dfTarget.drop([\"fire_size_class\"], axis=1, inplace=True)  # and remove the old column\n",
    "dfTarget.sample(5)"
   ],
   "metadata": {
    "collapsed": false,
    "pycharm": {
     "name": "#%%\n"
    }
   },
   "execution_count": 25,
   "outputs": [
    {
     "data": {
      "text/plain": "       B  C  D  E  F  G\n3805   1  0  0  0  0  0\n21623  1  0  0  0  0  0\n11211  1  0  0  0  0  0\n5831   1  0  0  0  0  0\n11141  1  0  0  0  0  0",
      "text/html": "<div>\n<style scoped>\n    .dataframe tbody tr th:only-of-type {\n        vertical-align: middle;\n    }\n\n    .dataframe tbody tr th {\n        vertical-align: top;\n    }\n\n    .dataframe thead th {\n        text-align: right;\n    }\n</style>\n<table border=\"1\" class=\"dataframe\">\n  <thead>\n    <tr style=\"text-align: right;\">\n      <th></th>\n      <th>B</th>\n      <th>C</th>\n      <th>D</th>\n      <th>E</th>\n      <th>F</th>\n      <th>G</th>\n    </tr>\n  </thead>\n  <tbody>\n    <tr>\n      <th>3805</th>\n      <td>1</td>\n      <td>0</td>\n      <td>0</td>\n      <td>0</td>\n      <td>0</td>\n      <td>0</td>\n    </tr>\n    <tr>\n      <th>21623</th>\n      <td>1</td>\n      <td>0</td>\n      <td>0</td>\n      <td>0</td>\n      <td>0</td>\n      <td>0</td>\n    </tr>\n    <tr>\n      <th>11211</th>\n      <td>1</td>\n      <td>0</td>\n      <td>0</td>\n      <td>0</td>\n      <td>0</td>\n      <td>0</td>\n    </tr>\n    <tr>\n      <th>5831</th>\n      <td>1</td>\n      <td>0</td>\n      <td>0</td>\n      <td>0</td>\n      <td>0</td>\n      <td>0</td>\n    </tr>\n    <tr>\n      <th>11141</th>\n      <td>1</td>\n      <td>0</td>\n      <td>0</td>\n      <td>0</td>\n      <td>0</td>\n      <td>0</td>\n    </tr>\n  </tbody>\n</table>\n</div>"
     },
     "execution_count": 25,
     "metadata": {},
     "output_type": "execute_result"
    }
   ]
  },
  {
   "cell_type": "code",
   "execution_count": 29,
   "outputs": [
    {
     "data": {
      "text/plain": "        latitude   longitude  remoteness  elevation       Temp      Wind  \\\n6808   36.158300  -89.375000    0.199774      114.0  25.201349  2.250595   \n26506  47.870000  -94.979400    0.247158      377.0   4.079034  4.346316   \n34095  63.583000 -142.468900    0.541358        0.0  12.450442  3.435411   \n35684  43.121110 -115.353340    0.044249     1138.0  27.254121  4.519601   \n19788  34.226111 -109.958333    0.396680     2095.0  22.805297  4.828272   \n\n        Humidity  Precipitation  Veg Broadleaf Forest  Veg Desert  ...  Jan  \\\n6808   62.566236       4.066667                     0           0  ...    0   \n26506  68.541329       0.000000                     0           0  ...    0   \n34095  46.540814       0.000000                     0           0  ...    0   \n35684  34.656949       0.800000                     0           0  ...    0   \n19788  23.526771       0.000000                     1           0  ...    0   \n\n       Jul  Jun  Mar  May  Nov  Oct  Sep  is_weekend  is_weekday  \n6808     0    0    0    0    0    0    0           0           1  \n26506    0    0    0    0    0    0    0           0           1  \n34095    0    1    0    0    0    0    0           1           0  \n35684    0    0    0    0    0    0    0           0           1  \n19788    0    1    0    0    0    0    0           0           1  \n\n[5 rows x 28 columns]",
      "text/html": "<div>\n<style scoped>\n    .dataframe tbody tr th:only-of-type {\n        vertical-align: middle;\n    }\n\n    .dataframe tbody tr th {\n        vertical-align: top;\n    }\n\n    .dataframe thead th {\n        text-align: right;\n    }\n</style>\n<table border=\"1\" class=\"dataframe\">\n  <thead>\n    <tr style=\"text-align: right;\">\n      <th></th>\n      <th>latitude</th>\n      <th>longitude</th>\n      <th>remoteness</th>\n      <th>elevation</th>\n      <th>Temp</th>\n      <th>Wind</th>\n      <th>Humidity</th>\n      <th>Precipitation</th>\n      <th>Veg Broadleaf Forest</th>\n      <th>Veg Desert</th>\n      <th>...</th>\n      <th>Jan</th>\n      <th>Jul</th>\n      <th>Jun</th>\n      <th>Mar</th>\n      <th>May</th>\n      <th>Nov</th>\n      <th>Oct</th>\n      <th>Sep</th>\n      <th>is_weekend</th>\n      <th>is_weekday</th>\n    </tr>\n  </thead>\n  <tbody>\n    <tr>\n      <th>6808</th>\n      <td>36.158300</td>\n      <td>-89.375000</td>\n      <td>0.199774</td>\n      <td>114.0</td>\n      <td>25.201349</td>\n      <td>2.250595</td>\n      <td>62.566236</td>\n      <td>4.066667</td>\n      <td>0</td>\n      <td>0</td>\n      <td>...</td>\n      <td>0</td>\n      <td>0</td>\n      <td>0</td>\n      <td>0</td>\n      <td>0</td>\n      <td>0</td>\n      <td>0</td>\n      <td>0</td>\n      <td>0</td>\n      <td>1</td>\n    </tr>\n    <tr>\n      <th>26506</th>\n      <td>47.870000</td>\n      <td>-94.979400</td>\n      <td>0.247158</td>\n      <td>377.0</td>\n      <td>4.079034</td>\n      <td>4.346316</td>\n      <td>68.541329</td>\n      <td>0.000000</td>\n      <td>0</td>\n      <td>0</td>\n      <td>...</td>\n      <td>0</td>\n      <td>0</td>\n      <td>0</td>\n      <td>0</td>\n      <td>0</td>\n      <td>0</td>\n      <td>0</td>\n      <td>0</td>\n      <td>0</td>\n      <td>1</td>\n    </tr>\n    <tr>\n      <th>34095</th>\n      <td>63.583000</td>\n      <td>-142.468900</td>\n      <td>0.541358</td>\n      <td>0.0</td>\n      <td>12.450442</td>\n      <td>3.435411</td>\n      <td>46.540814</td>\n      <td>0.000000</td>\n      <td>0</td>\n      <td>0</td>\n      <td>...</td>\n      <td>0</td>\n      <td>0</td>\n      <td>1</td>\n      <td>0</td>\n      <td>0</td>\n      <td>0</td>\n      <td>0</td>\n      <td>0</td>\n      <td>1</td>\n      <td>0</td>\n    </tr>\n    <tr>\n      <th>35684</th>\n      <td>43.121110</td>\n      <td>-115.353340</td>\n      <td>0.044249</td>\n      <td>1138.0</td>\n      <td>27.254121</td>\n      <td>4.519601</td>\n      <td>34.656949</td>\n      <td>0.800000</td>\n      <td>0</td>\n      <td>0</td>\n      <td>...</td>\n      <td>0</td>\n      <td>0</td>\n      <td>0</td>\n      <td>0</td>\n      <td>0</td>\n      <td>0</td>\n      <td>0</td>\n      <td>0</td>\n      <td>0</td>\n      <td>1</td>\n    </tr>\n    <tr>\n      <th>19788</th>\n      <td>34.226111</td>\n      <td>-109.958333</td>\n      <td>0.396680</td>\n      <td>2095.0</td>\n      <td>22.805297</td>\n      <td>4.828272</td>\n      <td>23.526771</td>\n      <td>0.000000</td>\n      <td>1</td>\n      <td>0</td>\n      <td>...</td>\n      <td>0</td>\n      <td>0</td>\n      <td>1</td>\n      <td>0</td>\n      <td>0</td>\n      <td>0</td>\n      <td>0</td>\n      <td>0</td>\n      <td>0</td>\n      <td>1</td>\n    </tr>\n  </tbody>\n</table>\n<p>5 rows × 28 columns</p>\n</div>"
     },
     "execution_count": 29,
     "metadata": {},
     "output_type": "execute_result"
    }
   ],
   "source": [
    "# Now Vegetation\n",
    "dfPredictor = pd.concat([dfPredictor, pd.get_dummies(dfPredictor[\"Vegetation\"], prefix=\"Veg\", prefix_sep=\" \")], axis=1)\n",
    "dfPredictor.drop([\"Vegetation\"], axis=1, inplace=True)\n",
    "\n",
    "# And discovery_month\n",
    "dfPredictor = pd.concat([dfPredictor, pd.get_dummies(dfPredictor[\"discovery_month\"])], axis=1)\n",
    "dfPredictor.drop([\"discovery_month\"], axis=1, inplace=True)\n",
    "\n",
    "# And weekday\n",
    "dfPredictor = pd.concat([dfPredictor, pd.get_dummies(dfPredictor[\"weekday\"])], axis=1)\n",
    "dfPredictor.drop([\"weekday\"], axis=1, inplace=True)\n",
    "dfPredictor.rename(columns={False:\"is_weekend\", True:\"is_weekday\"}, inplace=True)\n",
    "dfPredictor.sample(5)"
   ],
   "metadata": {
    "collapsed": false,
    "pycharm": {
     "name": "#%%\n"
    }
   }
  },
  {
   "cell_type": "markdown",
   "source": [
    "Scaling numerical data to 0-1 range."
   ],
   "metadata": {
    "collapsed": false,
    "pycharm": {
     "name": "#%% md\n"
    }
   }
  },
  {
   "cell_type": "code",
   "execution_count": 30,
   "outputs": [
    {
     "data": {
      "text/plain": "       latitude  longitude  remoteness  elevation      Temp      Wind  \\\n31326  0.279640   0.840855    0.129439   0.024685  0.615659  0.113919   \n33674  0.558453   0.576295    0.053794   0.298409  0.613024  0.113936   \n17355  0.305251   0.788459    0.175325   0.081733  0.455078  0.131285   \n6610   0.304535   0.836853    0.132092   0.059517  0.685959  0.090158   \n6615   0.370797   0.448066    0.500453   0.030444  0.605677  0.136471   \n\n       Humidity  Precipitation  Veg Broadleaf Forest  Veg Desert  ...  Jan  \\\n31326  0.827520       0.004082                     0           0  ...    0   \n33674  0.429780       0.000000                     0           0  ...    0   \n17355  0.724636       0.012173                     1           0  ...    0   \n6610   0.774746       0.002277                     1           0  ...    0   \n6615   0.499210       0.001972                     0           0  ...    0   \n\n       Jul  Jun  Mar  May  Nov  Oct  Sep  is_weekend  is_weekday  \n31326    0    0    0    0    0    0    1           1           0  \n33674    0    0    0    0    0    0    0           0           1  \n17355    0    0    0    0    0    0    0           0           1  \n6610     1    0    0    0    0    0    0           0           1  \n6615     0    1    0    0    0    0    0           0           1  \n\n[5 rows x 28 columns]",
      "text/html": "<div>\n<style scoped>\n    .dataframe tbody tr th:only-of-type {\n        vertical-align: middle;\n    }\n\n    .dataframe tbody tr th {\n        vertical-align: top;\n    }\n\n    .dataframe thead th {\n        text-align: right;\n    }\n</style>\n<table border=\"1\" class=\"dataframe\">\n  <thead>\n    <tr style=\"text-align: right;\">\n      <th></th>\n      <th>latitude</th>\n      <th>longitude</th>\n      <th>remoteness</th>\n      <th>elevation</th>\n      <th>Temp</th>\n      <th>Wind</th>\n      <th>Humidity</th>\n      <th>Precipitation</th>\n      <th>Veg Broadleaf Forest</th>\n      <th>Veg Desert</th>\n      <th>...</th>\n      <th>Jan</th>\n      <th>Jul</th>\n      <th>Jun</th>\n      <th>Mar</th>\n      <th>May</th>\n      <th>Nov</th>\n      <th>Oct</th>\n      <th>Sep</th>\n      <th>is_weekend</th>\n      <th>is_weekday</th>\n    </tr>\n  </thead>\n  <tbody>\n    <tr>\n      <th>31326</th>\n      <td>0.279640</td>\n      <td>0.840855</td>\n      <td>0.129439</td>\n      <td>0.024685</td>\n      <td>0.615659</td>\n      <td>0.113919</td>\n      <td>0.827520</td>\n      <td>0.004082</td>\n      <td>0</td>\n      <td>0</td>\n      <td>...</td>\n      <td>0</td>\n      <td>0</td>\n      <td>0</td>\n      <td>0</td>\n      <td>0</td>\n      <td>0</td>\n      <td>0</td>\n      <td>1</td>\n      <td>1</td>\n      <td>0</td>\n    </tr>\n    <tr>\n      <th>33674</th>\n      <td>0.558453</td>\n      <td>0.576295</td>\n      <td>0.053794</td>\n      <td>0.298409</td>\n      <td>0.613024</td>\n      <td>0.113936</td>\n      <td>0.429780</td>\n      <td>0.000000</td>\n      <td>0</td>\n      <td>0</td>\n      <td>...</td>\n      <td>0</td>\n      <td>0</td>\n      <td>0</td>\n      <td>0</td>\n      <td>0</td>\n      <td>0</td>\n      <td>0</td>\n      <td>0</td>\n      <td>0</td>\n      <td>1</td>\n    </tr>\n    <tr>\n      <th>17355</th>\n      <td>0.305251</td>\n      <td>0.788459</td>\n      <td>0.175325</td>\n      <td>0.081733</td>\n      <td>0.455078</td>\n      <td>0.131285</td>\n      <td>0.724636</td>\n      <td>0.012173</td>\n      <td>1</td>\n      <td>0</td>\n      <td>...</td>\n      <td>0</td>\n      <td>0</td>\n      <td>0</td>\n      <td>0</td>\n      <td>0</td>\n      <td>0</td>\n      <td>0</td>\n      <td>0</td>\n      <td>0</td>\n      <td>1</td>\n    </tr>\n    <tr>\n      <th>6610</th>\n      <td>0.304535</td>\n      <td>0.836853</td>\n      <td>0.132092</td>\n      <td>0.059517</td>\n      <td>0.685959</td>\n      <td>0.090158</td>\n      <td>0.774746</td>\n      <td>0.002277</td>\n      <td>1</td>\n      <td>0</td>\n      <td>...</td>\n      <td>0</td>\n      <td>1</td>\n      <td>0</td>\n      <td>0</td>\n      <td>0</td>\n      <td>0</td>\n      <td>0</td>\n      <td>0</td>\n      <td>0</td>\n      <td>1</td>\n    </tr>\n    <tr>\n      <th>6615</th>\n      <td>0.370797</td>\n      <td>0.448066</td>\n      <td>0.500453</td>\n      <td>0.030444</td>\n      <td>0.605677</td>\n      <td>0.136471</td>\n      <td>0.499210</td>\n      <td>0.001972</td>\n      <td>0</td>\n      <td>0</td>\n      <td>...</td>\n      <td>0</td>\n      <td>0</td>\n      <td>1</td>\n      <td>0</td>\n      <td>0</td>\n      <td>0</td>\n      <td>0</td>\n      <td>0</td>\n      <td>0</td>\n      <td>1</td>\n    </tr>\n  </tbody>\n</table>\n<p>5 rows × 28 columns</p>\n</div>"
     },
     "execution_count": 30,
     "metadata": {},
     "output_type": "execute_result"
    }
   ],
   "source": [
    "from sklearn.preprocessing import MinMaxScaler\n",
    "\n",
    "dfPredictorScaled = pd.DataFrame(MinMaxScaler().fit_transform(dfPredictor[[\"latitude\", \"longitude\", \"remoteness\", \"elevation\", \"Temp\", \"Wind\", \"Humidity\", \"Precipitation\"]]), columns=[\"latitude\", \"longitude\", \"remoteness\", \"elevation\", \"Temp\", \"Wind\", \"Humidity\", \"Precipitation\"])\n",
    "# dfPredictorScaled.sample(5)\n",
    "\n",
    "dfPredictor = dfPredictor.assign(**dfPredictorScaled.to_dict(orient=\"series\"))  # replace the columns of the old df with the ones from the new one\n",
    "dfPredictor.sample(5)"
   ],
   "metadata": {
    "collapsed": false,
    "pycharm": {
     "name": "#%%\n"
    }
   }
  },
  {
   "cell_type": "markdown",
   "source": [
    "Train-test split"
   ],
   "metadata": {
    "collapsed": false,
    "pycharm": {
     "name": "#%% md\n"
    }
   }
  },
  {
   "cell_type": "code",
   "execution_count": 31,
   "outputs": [],
   "source": [
    "from sklearn.model_selection import train_test_split\n",
    "\n",
    "X_train, X_test, y_train, y_test = train_test_split(dfPredictor, dfTarget, test_size=0.1, random_state=42)"
   ],
   "metadata": {
    "collapsed": false,
    "pycharm": {
     "name": "#%%\n"
    }
   }
  },
  {
   "cell_type": "markdown",
   "source": [
    "Training models, each in a cell (?)\n",
    "\n",
    "* K-Nearest Neighbour (KNN)\n",
    "* Naïve Bayes (NB)\n",
    "* Support Vector Machine (SVM)\n",
    "* Decision Tree (DT)\n",
    "* Random Forest (RF)\n",
    "* Gradient Boosted Trees (GBT)\n",
    "* Multi-Layered Perceptron (MLP)\n",
    "* Artificial Neural Network (ANN)"
   ],
   "metadata": {
    "collapsed": false,
    "pycharm": {
     "name": "#%% md\n"
    }
   }
  },
  {
   "cell_type": "markdown",
   "source": [
    "KNN"
   ],
   "metadata": {
    "collapsed": false,
    "pycharm": {
     "name": "#%% md\n"
    }
   }
  },
  {
   "cell_type": "code",
   "execution_count": null,
   "outputs": [],
   "source": [
    "from sklearn.neighbors import KNeighborsClassifier\n",
    "import time  # optional for timing the code\n",
    "\n",
    "training_accuracy = []\n",
    "test_accuracy = []\n",
    "nNeighbors = range(1, 11, 2)\n",
    "\n",
    "tic = time.perf_counter()  # timing start\n",
    "for nNeighbor in nNeighbors:\n",
    "    # build the model\n",
    "    clf = KNeighborsClassifier(n_neighbors=nNeighbor, n_jobs=-1)\n",
    "    clf.fit(X_train, y_train)\n",
    "    # record training set accuracy\n",
    "    training_accuracy.append(clf.score(X_train, y_train))\n",
    "    # record generalization accuracy\n",
    "    test_accuracy.append(clf.score(X_test, y_test))\n",
    "toc = time.perf_counter()  # timing end\n",
    "print(f\"Trained in in {toc - tic:0.4f} seconds\")  # print the time elapsed\n",
    "\n",
    "plt.plot(nNeighbors, training_accuracy, label=\"training accuracy\")\n",
    "plt.plot(nNeighbors, test_accuracy, label=\"test accuracy\")\n",
    "plt.ylabel(\"Accuracy\")\n",
    "plt.xlabel(\"n_neighbors\")\n",
    "plt.legend()"
   ],
   "metadata": {
    "collapsed": false,
    "pycharm": {
     "name": "#%%\n",
     "is_executing": true
    }
   }
  },
  {
   "cell_type": "markdown",
   "source": [
    "\n"
   ],
   "metadata": {
    "collapsed": false,
    "pycharm": {
     "name": "#%% md\n"
    }
   }
  }
 ],
 "metadata": {
  "kernelspec": {
   "display_name": "Python 3",
   "language": "python",
   "name": "python3"
  },
  "language_info": {
   "codemirror_mode": {
    "name": "ipython",
    "version": 2
   },
   "file_extension": ".py",
   "mimetype": "text/x-python",
   "name": "python",
   "nbconvert_exporter": "python",
   "pygments_lexer": "ipython2",
   "version": "2.7.6"
  }
 },
 "nbformat": 4,
 "nbformat_minor": 0
}