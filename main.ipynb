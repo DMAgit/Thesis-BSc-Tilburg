{
 "cells": [
  {
   "cell_type": "markdown",
   "metadata": {
    "collapsed": true,
    "pycharm": {
     "name": "#%% md\n"
    }
   },
   "source": [
    "Title\n",
    "\n",
    "Description"
   ]
  },
  {
   "cell_type": "markdown",
   "source": [
    "Importing packages."
   ],
   "metadata": {
    "collapsed": false,
    "pycharm": {
     "name": "#%% md\n"
    }
   }
  },
  {
   "cell_type": "code",
   "execution_count": 38,
   "outputs": [],
   "source": [
    "import pandas as pd\n",
    "import numpy as np\n",
    "import matplotlib.pyplot as plt\n",
    "%matplotlib inline"
   ],
   "metadata": {
    "collapsed": false,
    "pycharm": {
     "name": "#%%\n"
    }
   }
  },
  {
   "cell_type": "markdown",
   "source": [
    "Importing data into pandas DataFrame."
   ],
   "metadata": {
    "collapsed": false,
    "pycharm": {
     "name": "#%% md\n"
    }
   }
  },
  {
   "cell_type": "code",
   "execution_count": 41,
   "outputs": [
    {
     "name": "stdout",
     "output_type": "stream",
     "text": [
      "['fire_size_class', 'latitude', 'longitude', 'discovery_month', 'weekday', 'Vegetation', 'remoteness', 'elevation', 'Temp', 'Wind', 'Humidity', 'Precipitation']\n"
     ]
    }
   ],
   "source": [
    "df = pd.read_csv(r\"fullDataFinal.csv\", index_col=0)\n",
    "df.columns = df.columns.str.strip()\n",
    "df.sample(5)"
   ],
   "metadata": {
    "collapsed": false,
    "pycharm": {
     "name": "#%%\n"
    }
   }
  },
  {
   "cell_type": "markdown",
   "source": [
    "Run the block below to get the dataset with spaciotemporal *(SPT)* data only.\n",
    "\n",
    "    | Latitude | Longitude | Remoteness | Discovery month | Weekend |"
   ],
   "metadata": {
    "collapsed": false
   }
  },
  {
   "cell_type": "code",
   "execution_count": 43,
   "outputs": [
    {
     "data": {
      "text/plain": "       latitude  longitude  remoteness  Apr  Aug  Dec  Feb  Jan  Jul  Jun  \\\n34606  0.282171   0.546713    0.252862    0    0    0    0    0    0    0   \n33795  0.490844   0.427103    0.176046    0    1    0    0    0    0    0   \n21942  0.430941   0.538055    0.408502    0    1    0    0    0    0    0   \n8486   0.541050   0.680716    0.268954    0    1    0    0    0    0    0   \n23906  0.385026   0.820473    0.144160    1    0    0    0    0    0    0   \n\n       Mar  May  Nov  Oct  Sep  is_weekend  is_weekday  \n34606    0    1    0    0    0           0           1  \n33795    0    0    0    0    0           0           1  \n21942    0    0    0    0    0           0           1  \n8486     0    0    0    0    0           0           1  \n23906    0    0    0    0    0           0           1  ",
      "text/html": "<div>\n<style scoped>\n    .dataframe tbody tr th:only-of-type {\n        vertical-align: middle;\n    }\n\n    .dataframe tbody tr th {\n        vertical-align: top;\n    }\n\n    .dataframe thead th {\n        text-align: right;\n    }\n</style>\n<table border=\"1\" class=\"dataframe\">\n  <thead>\n    <tr style=\"text-align: right;\">\n      <th></th>\n      <th>latitude</th>\n      <th>longitude</th>\n      <th>remoteness</th>\n      <th>Apr</th>\n      <th>Aug</th>\n      <th>Dec</th>\n      <th>Feb</th>\n      <th>Jan</th>\n      <th>Jul</th>\n      <th>Jun</th>\n      <th>Mar</th>\n      <th>May</th>\n      <th>Nov</th>\n      <th>Oct</th>\n      <th>Sep</th>\n      <th>is_weekend</th>\n      <th>is_weekday</th>\n    </tr>\n  </thead>\n  <tbody>\n    <tr>\n      <th>34606</th>\n      <td>0.282171</td>\n      <td>0.546713</td>\n      <td>0.252862</td>\n      <td>0</td>\n      <td>0</td>\n      <td>0</td>\n      <td>0</td>\n      <td>0</td>\n      <td>0</td>\n      <td>0</td>\n      <td>0</td>\n      <td>1</td>\n      <td>0</td>\n      <td>0</td>\n      <td>0</td>\n      <td>0</td>\n      <td>1</td>\n    </tr>\n    <tr>\n      <th>33795</th>\n      <td>0.490844</td>\n      <td>0.427103</td>\n      <td>0.176046</td>\n      <td>0</td>\n      <td>1</td>\n      <td>0</td>\n      <td>0</td>\n      <td>0</td>\n      <td>0</td>\n      <td>0</td>\n      <td>0</td>\n      <td>0</td>\n      <td>0</td>\n      <td>0</td>\n      <td>0</td>\n      <td>0</td>\n      <td>1</td>\n    </tr>\n    <tr>\n      <th>21942</th>\n      <td>0.430941</td>\n      <td>0.538055</td>\n      <td>0.408502</td>\n      <td>0</td>\n      <td>1</td>\n      <td>0</td>\n      <td>0</td>\n      <td>0</td>\n      <td>0</td>\n      <td>0</td>\n      <td>0</td>\n      <td>0</td>\n      <td>0</td>\n      <td>0</td>\n      <td>0</td>\n      <td>0</td>\n      <td>1</td>\n    </tr>\n    <tr>\n      <th>8486</th>\n      <td>0.541050</td>\n      <td>0.680716</td>\n      <td>0.268954</td>\n      <td>0</td>\n      <td>1</td>\n      <td>0</td>\n      <td>0</td>\n      <td>0</td>\n      <td>0</td>\n      <td>0</td>\n      <td>0</td>\n      <td>0</td>\n      <td>0</td>\n      <td>0</td>\n      <td>0</td>\n      <td>0</td>\n      <td>1</td>\n    </tr>\n    <tr>\n      <th>23906</th>\n      <td>0.385026</td>\n      <td>0.820473</td>\n      <td>0.144160</td>\n      <td>1</td>\n      <td>0</td>\n      <td>0</td>\n      <td>0</td>\n      <td>0</td>\n      <td>0</td>\n      <td>0</td>\n      <td>0</td>\n      <td>0</td>\n      <td>0</td>\n      <td>0</td>\n      <td>0</td>\n      <td>0</td>\n      <td>1</td>\n    </tr>\n  </tbody>\n</table>\n</div>"
     },
     "execution_count": 43,
     "metadata": {},
     "output_type": "execute_result"
    }
   ],
   "source": [
    "# Separate target variable (fire_size_class) from predictor variables.\n",
    "dfTarget = df[\"fire_size_class\"]\n",
    "dfPredictor = df[[\"latitude\", \"longitude\", \"discovery_month\", \"weekday\", \"remoteness\"]]\n",
    "\n",
    "# First we one-hot encode the target class\n",
    "dfTarget = pd.concat([dfTarget, pd.get_dummies(dfTarget)], axis=1)  # use get_dummies and concatenate the result to dfTarget\n",
    "dfTarget.drop([\"fire_size_class\"], axis=1, inplace=True)  # and remove the old column\n",
    "# print(dfTarget.sample(5))\n",
    "\n",
    "# We want to make it binary classification between B and the larger fires\n",
    "# To do this we can drop all classes other than B\n",
    "# If B is 0 -> it's larger\n",
    "dfTarget.drop([\"C\", \"D\", \"E\", \"F\", \"G\"], axis=1, inplace=True)\n",
    "\n",
    "\n",
    "# Discovery_month\n",
    "dfPredictor = pd.concat([dfPredictor, pd.get_dummies(dfPredictor[\"discovery_month\"])], axis=1)\n",
    "dfPredictor.drop([\"discovery_month\"], axis=1, inplace=True)\n",
    "# Weekday\n",
    "dfPredictor = pd.concat([dfPredictor, pd.get_dummies(dfPredictor[\"weekday\"])], axis=1)\n",
    "dfPredictor.drop([\"weekday\"], axis=1, inplace=True)\n",
    "dfPredictor.rename(columns={False:\"is_weekend\", True:\"is_weekday\"}, inplace=True)  # Rename the column to is_weekday. Just preference\n",
    "\n",
    "\n",
    "# Scaling numerical data to 0-1 range.\n",
    "from sklearn.preprocessing import MinMaxScaler\n",
    "\n",
    "dfPredictorScaled = pd.DataFrame(MinMaxScaler().fit_transform(dfPredictor[[\"latitude\", \"longitude\", \"remoteness\"]]), columns=[\"latitude\", \"longitude\", \"remoteness\"])\n",
    "\n",
    "dfPredictor = dfPredictor.assign(**dfPredictorScaled.to_dict(orient=\"series\"))  # replace the columns of the old df with the ones from the new one\n",
    "dfPredictor.sample(5)"
   ],
   "metadata": {
    "collapsed": false,
    "pycharm": {
     "name": "#%%\n"
    }
   }
  },
  {
   "cell_type": "markdown",
   "source": [
    "Run this block to get the dataset with the meteorological features only.\n",
    "\n",
    "    | Temperature | Wind speed | Humidity | Precipitation |"
   ],
   "metadata": {
    "collapsed": false
   }
  },
  {
   "cell_type": "code",
   "execution_count": 31,
   "outputs": [
    {
     "ename": "KeyError",
     "evalue": "\"['latitude', 'remoteness', 'longitude', 'elevation'] not in index\"",
     "output_type": "error",
     "traceback": [
      "\u001B[1;31m---------------------------------------------------------------------------\u001B[0m",
      "\u001B[1;31mKeyError\u001B[0m                                  Traceback (most recent call last)",
      "\u001B[1;32m<ipython-input-31-8d99c6496912>\u001B[0m in \u001B[0;36m<module>\u001B[1;34m\u001B[0m\n\u001B[0;32m     17\u001B[0m \u001B[1;32mfrom\u001B[0m \u001B[0msklearn\u001B[0m\u001B[1;33m.\u001B[0m\u001B[0mpreprocessing\u001B[0m \u001B[1;32mimport\u001B[0m \u001B[0mMinMaxScaler\u001B[0m\u001B[1;33m\u001B[0m\u001B[1;33m\u001B[0m\u001B[0m\n\u001B[0;32m     18\u001B[0m \u001B[1;33m\u001B[0m\u001B[0m\n\u001B[1;32m---> 19\u001B[1;33m \u001B[0mdfPredictorScaled\u001B[0m \u001B[1;33m=\u001B[0m \u001B[0mpd\u001B[0m\u001B[1;33m.\u001B[0m\u001B[0mDataFrame\u001B[0m\u001B[1;33m(\u001B[0m\u001B[0mMinMaxScaler\u001B[0m\u001B[1;33m(\u001B[0m\u001B[1;33m)\u001B[0m\u001B[1;33m.\u001B[0m\u001B[0mfit_transform\u001B[0m\u001B[1;33m(\u001B[0m\u001B[0mdfPredictor\u001B[0m\u001B[1;33m[\u001B[0m\u001B[1;33m[\u001B[0m\u001B[1;34m\"latitude\"\u001B[0m\u001B[1;33m,\u001B[0m \u001B[1;34m\"longitude\"\u001B[0m\u001B[1;33m,\u001B[0m \u001B[1;34m\"remoteness\"\u001B[0m\u001B[1;33m,\u001B[0m \u001B[1;34m\"elevation\"\u001B[0m\u001B[1;33m,\u001B[0m \u001B[1;34m\"Temp\"\u001B[0m\u001B[1;33m,\u001B[0m \u001B[1;34m\"Wind\"\u001B[0m\u001B[1;33m,\u001B[0m \u001B[1;34m\"Humidity\"\u001B[0m\u001B[1;33m,\u001B[0m \u001B[1;34m\"Precipitation\"\u001B[0m\u001B[1;33m]\u001B[0m\u001B[1;33m]\u001B[0m\u001B[1;33m)\u001B[0m\u001B[1;33m,\u001B[0m \u001B[0mcolumns\u001B[0m\u001B[1;33m=\u001B[0m\u001B[1;33m[\u001B[0m\u001B[1;34m\"latitude\"\u001B[0m\u001B[1;33m,\u001B[0m \u001B[1;34m\"longitude\"\u001B[0m\u001B[1;33m,\u001B[0m \u001B[1;34m\"remoteness\"\u001B[0m\u001B[1;33m,\u001B[0m \u001B[1;34m\"elevation\"\u001B[0m\u001B[1;33m,\u001B[0m \u001B[1;34m\"Temp\"\u001B[0m\u001B[1;33m,\u001B[0m \u001B[1;34m\"Wind\"\u001B[0m\u001B[1;33m,\u001B[0m \u001B[1;34m\"Humidity\"\u001B[0m\u001B[1;33m,\u001B[0m \u001B[1;34m\"Precipitation\"\u001B[0m\u001B[1;33m]\u001B[0m\u001B[1;33m)\u001B[0m\u001B[1;33m\u001B[0m\u001B[1;33m\u001B[0m\u001B[0m\n\u001B[0m\u001B[0;32m     20\u001B[0m \u001B[0mdfPredictor\u001B[0m \u001B[1;33m=\u001B[0m \u001B[0mdfPredictor\u001B[0m\u001B[1;33m.\u001B[0m\u001B[0massign\u001B[0m\u001B[1;33m(\u001B[0m\u001B[1;33m**\u001B[0m\u001B[0mdfPredictorScaled\u001B[0m\u001B[1;33m.\u001B[0m\u001B[0mto_dict\u001B[0m\u001B[1;33m(\u001B[0m\u001B[0morient\u001B[0m\u001B[1;33m=\u001B[0m\u001B[1;34m\"series\"\u001B[0m\u001B[1;33m)\u001B[0m\u001B[1;33m)\u001B[0m  \u001B[1;31m# replace the columns of the old df with the ones from the new one\u001B[0m\u001B[1;33m\u001B[0m\u001B[1;33m\u001B[0m\u001B[0m\n\u001B[0;32m     21\u001B[0m \u001B[1;33m\u001B[0m\u001B[0m\n",
      "\u001B[1;32md:\\pycharmprojects\\thesis\\lib\\site-packages\\pandas\\core\\frame.py\u001B[0m in \u001B[0;36m__getitem__\u001B[1;34m(self, key)\u001B[0m\n\u001B[0;32m   3028\u001B[0m             \u001B[1;32mif\u001B[0m \u001B[0mis_iterator\u001B[0m\u001B[1;33m(\u001B[0m\u001B[0mkey\u001B[0m\u001B[1;33m)\u001B[0m\u001B[1;33m:\u001B[0m\u001B[1;33m\u001B[0m\u001B[1;33m\u001B[0m\u001B[0m\n\u001B[0;32m   3029\u001B[0m                 \u001B[0mkey\u001B[0m \u001B[1;33m=\u001B[0m \u001B[0mlist\u001B[0m\u001B[1;33m(\u001B[0m\u001B[0mkey\u001B[0m\u001B[1;33m)\u001B[0m\u001B[1;33m\u001B[0m\u001B[1;33m\u001B[0m\u001B[0m\n\u001B[1;32m-> 3030\u001B[1;33m             \u001B[0mindexer\u001B[0m \u001B[1;33m=\u001B[0m \u001B[0mself\u001B[0m\u001B[1;33m.\u001B[0m\u001B[0mloc\u001B[0m\u001B[1;33m.\u001B[0m\u001B[0m_get_listlike_indexer\u001B[0m\u001B[1;33m(\u001B[0m\u001B[0mkey\u001B[0m\u001B[1;33m,\u001B[0m \u001B[0maxis\u001B[0m\u001B[1;33m=\u001B[0m\u001B[1;36m1\u001B[0m\u001B[1;33m,\u001B[0m \u001B[0mraise_missing\u001B[0m\u001B[1;33m=\u001B[0m\u001B[1;32mTrue\u001B[0m\u001B[1;33m)\u001B[0m\u001B[1;33m[\u001B[0m\u001B[1;36m1\u001B[0m\u001B[1;33m]\u001B[0m\u001B[1;33m\u001B[0m\u001B[1;33m\u001B[0m\u001B[0m\n\u001B[0m\u001B[0;32m   3031\u001B[0m \u001B[1;33m\u001B[0m\u001B[0m\n\u001B[0;32m   3032\u001B[0m         \u001B[1;31m# take() does not accept boolean indexers\u001B[0m\u001B[1;33m\u001B[0m\u001B[1;33m\u001B[0m\u001B[1;33m\u001B[0m\u001B[0m\n",
      "\u001B[1;32md:\\pycharmprojects\\thesis\\lib\\site-packages\\pandas\\core\\indexing.py\u001B[0m in \u001B[0;36m_get_listlike_indexer\u001B[1;34m(self, key, axis, raise_missing)\u001B[0m\n\u001B[0;32m   1264\u001B[0m             \u001B[0mkeyarr\u001B[0m\u001B[1;33m,\u001B[0m \u001B[0mindexer\u001B[0m\u001B[1;33m,\u001B[0m \u001B[0mnew_indexer\u001B[0m \u001B[1;33m=\u001B[0m \u001B[0max\u001B[0m\u001B[1;33m.\u001B[0m\u001B[0m_reindex_non_unique\u001B[0m\u001B[1;33m(\u001B[0m\u001B[0mkeyarr\u001B[0m\u001B[1;33m)\u001B[0m\u001B[1;33m\u001B[0m\u001B[1;33m\u001B[0m\u001B[0m\n\u001B[0;32m   1265\u001B[0m \u001B[1;33m\u001B[0m\u001B[0m\n\u001B[1;32m-> 1266\u001B[1;33m         \u001B[0mself\u001B[0m\u001B[1;33m.\u001B[0m\u001B[0m_validate_read_indexer\u001B[0m\u001B[1;33m(\u001B[0m\u001B[0mkeyarr\u001B[0m\u001B[1;33m,\u001B[0m \u001B[0mindexer\u001B[0m\u001B[1;33m,\u001B[0m \u001B[0maxis\u001B[0m\u001B[1;33m,\u001B[0m \u001B[0mraise_missing\u001B[0m\u001B[1;33m=\u001B[0m\u001B[0mraise_missing\u001B[0m\u001B[1;33m)\u001B[0m\u001B[1;33m\u001B[0m\u001B[1;33m\u001B[0m\u001B[0m\n\u001B[0m\u001B[0;32m   1267\u001B[0m         \u001B[1;32mreturn\u001B[0m \u001B[0mkeyarr\u001B[0m\u001B[1;33m,\u001B[0m \u001B[0mindexer\u001B[0m\u001B[1;33m\u001B[0m\u001B[1;33m\u001B[0m\u001B[0m\n\u001B[0;32m   1268\u001B[0m \u001B[1;33m\u001B[0m\u001B[0m\n",
      "\u001B[1;32md:\\pycharmprojects\\thesis\\lib\\site-packages\\pandas\\core\\indexing.py\u001B[0m in \u001B[0;36m_validate_read_indexer\u001B[1;34m(self, key, indexer, axis, raise_missing)\u001B[0m\n\u001B[0;32m   1314\u001B[0m             \u001B[1;32mif\u001B[0m \u001B[0mraise_missing\u001B[0m\u001B[1;33m:\u001B[0m\u001B[1;33m\u001B[0m\u001B[1;33m\u001B[0m\u001B[0m\n\u001B[0;32m   1315\u001B[0m                 \u001B[0mnot_found\u001B[0m \u001B[1;33m=\u001B[0m \u001B[0mlist\u001B[0m\u001B[1;33m(\u001B[0m\u001B[0mset\u001B[0m\u001B[1;33m(\u001B[0m\u001B[0mkey\u001B[0m\u001B[1;33m)\u001B[0m \u001B[1;33m-\u001B[0m \u001B[0mset\u001B[0m\u001B[1;33m(\u001B[0m\u001B[0max\u001B[0m\u001B[1;33m)\u001B[0m\u001B[1;33m)\u001B[0m\u001B[1;33m\u001B[0m\u001B[1;33m\u001B[0m\u001B[0m\n\u001B[1;32m-> 1316\u001B[1;33m                 \u001B[1;32mraise\u001B[0m \u001B[0mKeyError\u001B[0m\u001B[1;33m(\u001B[0m\u001B[1;34mf\"{not_found} not in index\"\u001B[0m\u001B[1;33m)\u001B[0m\u001B[1;33m\u001B[0m\u001B[1;33m\u001B[0m\u001B[0m\n\u001B[0m\u001B[0;32m   1317\u001B[0m \u001B[1;33m\u001B[0m\u001B[0m\n\u001B[0;32m   1318\u001B[0m             \u001B[0mnot_found\u001B[0m \u001B[1;33m=\u001B[0m \u001B[0mkey\u001B[0m\u001B[1;33m[\u001B[0m\u001B[0mmissing_mask\u001B[0m\u001B[1;33m]\u001B[0m\u001B[1;33m\u001B[0m\u001B[1;33m\u001B[0m\u001B[0m\n",
      "\u001B[1;31mKeyError\u001B[0m: \"['latitude', 'remoteness', 'longitude', 'elevation'] not in index\""
     ]
    }
   ],
   "source": [
    "# Separate target variable (fire_size_class) from predictor variables.\n",
    "\n",
    "dfTarget = df[\"fire_size_class\"]\n",
    "dfPredictor = df[[\"Temp\", \"Wind\", \"Humidity\", \"Precipitation\"]]\n",
    "\n",
    "# First we one-hot encode all of the classes\n",
    "dfTarget = pd.concat([dfTarget, pd.get_dummies(dfTarget)], axis=1)  # use get_dummies and concatenate the result to dfTarget\n",
    "dfTarget.drop([\"fire_size_class\"], axis=1, inplace=True)  # and remove the old column\n",
    "\n",
    "# We want to make it binary classification between B and the larger fires\n",
    "# To do this we can drop all classes other than B\n",
    "# If B is 0 -> it's larger\n",
    "dfTarget.drop([\"C\", \"D\", \"E\", \"F\", \"G\"], axis=1, inplace=True)\n",
    "\n",
    "\n",
    "# Scaling numerical data to 0-1 range.\n",
    "from sklearn.preprocessing import MinMaxScaler\n",
    "\n",
    "dfPredictorScaled = pd.DataFrame(MinMaxScaler().fit_transform(dfPredictor[[\"Temp\", \"Wind\", \"Humidity\", \"Precipitation\"]]), columns=[\"Temp\", \"Wind\", \"Humidity\", \"Precipitation\"])\n",
    "dfPredictor = dfPredictor.assign(**dfPredictorScaled.to_dict(orient=\"series\"))  # replace the columns of the old df with the ones from the new one"
   ],
   "metadata": {
    "collapsed": false,
    "pycharm": {
     "name": "#%%\n"
    }
   }
  },
  {
   "cell_type": "markdown",
   "source": [
    "Run this block to get the dataset with the all the features.\n",
    "\n",
    "    | Latitude | Longitude | Remoteness | Discovery month | Weekend | Temperature | Wind speed | Humidity | Precipitation | Vegetation type | Remoteness | Elevation |"
   ],
   "metadata": {
    "collapsed": false,
    "pycharm": {
     "name": "#%% md\n"
    }
   }
  },
  {
   "cell_type": "code",
   "source": [
    "# Separate target variable (fire_size_class) from predictor variables.\n",
    "\n",
    "dfTarget = df[\"fire_size_class\"]\n",
    "dfPredictor = df[[\"latitude\", \"longitude\", \"discovery_month\", \"weekday\", \"Vegetation\", \"remoteness\", \"elevation\", \"Temp\", \"Wind\", \"Humidity\", \"Precipitation\"]]\n",
    "\n",
    "# First we one-hot encode all of the classes\n",
    "dfTarget = pd.concat([dfTarget, pd.get_dummies(dfTarget)], axis=1)  # use get_dummies and concatenate the result to dfTarget\n",
    "dfTarget.drop([\"fire_size_class\"], axis=1, inplace=True)  # and remove the old column\n",
    "\n",
    "# We want to make it binary classification between B and the larger fires\n",
    "# To do this we can drop all classes other than B\n",
    "# If B is 0 -> it's larger\n",
    "dfTarget.drop([\"C\", \"D\", \"E\", \"F\", \"G\"], axis=1, inplace=True)\n",
    "\n",
    "\n",
    "# Changing categorical variables into one-hot encoded ones.\n",
    "# Vegetation\n",
    "dfPredictor = pd.concat([dfPredictor, pd.get_dummies(dfPredictor[\"Vegetation\"], prefix=\"Veg\", prefix_sep=\" \")], axis=1)\n",
    "dfPredictor.drop([\"Vegetation\"], axis=1, inplace=True)\n",
    "\n",
    "# Discovery_month\n",
    "dfPredictor = pd.concat([dfPredictor, pd.get_dummies(dfPredictor[\"discovery_month\"])], axis=1)\n",
    "dfPredictor.drop([\"discovery_month\"], axis=1, inplace=True)\n",
    "\n",
    "# Weekday\n",
    "dfPredictor = pd.concat([dfPredictor, pd.get_dummies(dfPredictor[\"weekday\"])], axis=1)\n",
    "dfPredictor.drop([\"weekday\"], axis=1, inplace=True)\n",
    "dfPredictor.rename(columns={False:\"is_weekend\", True:\"is_weekday\"}, inplace=True) # Rename the column to is_weekday. Just preference\n",
    "\n",
    "\n",
    "# Scaling numerical data to 0-1 range.\n",
    "from sklearn.preprocessing import MinMaxScaler\n",
    "\n",
    "dfPredictorScaled = pd.DataFrame(MinMaxScaler().fit_transform(dfPredictor[[\"latitude\", \"longitude\", \"remoteness\", \"elevation\", \"Temp\", \"Wind\", \"Humidity\", \"Precipitation\"]]), columns=[\"latitude\", \"longitude\", \"remoteness\", \"elevation\", \"Temp\", \"Wind\", \"Humidity\", \"Precipitation\"])\n",
    "dfPredictor = dfPredictor.assign(**dfPredictorScaled.to_dict(orient=\"series\"))  # replace the columns of the old df with the ones from the new one"
   ],
   "metadata": {
    "collapsed": false,
    "pycharm": {
     "name": "#%%\n"
    }
   },
   "execution_count": 3,
   "outputs": [
    {
     "name": "stdout",
     "output_type": "stream",
     "text": [
      "       B\n",
      "4383   1\n",
      "22933  1\n",
      "29329  1\n",
      "32304  1\n",
      "32757  1\n"
     ]
    },
    {
     "data": {
      "text/plain": "       latitude  longitude  remoteness  elevation      Temp      Wind  \\\n10526  0.306819   0.556602    0.393775   0.637959  0.658387  0.171923   \n24352  0.345365   0.617026    0.333782   0.379046  0.610613  0.192897   \n10637  0.548874   0.735205    0.218173   0.113001  0.365695  0.108686   \n28209  0.246498   0.709280    0.250031   0.029347  0.647721  0.058739   \n13762  0.413675   0.608293    0.340302   0.593527  0.459877  0.158538   \n\n       Humidity  Precipitation  Veg Broadleaf Forest  Veg Desert  ...  Jan  \\\n10526  0.364388       0.000218                     1           0  ...    0   \n24352  0.416765       0.002980                     0           0  ...    0   \n10637  0.682875       0.009121                     0           0  ...    0   \n28209  0.765311       0.002255                     0           0  ...    0   \n13762  0.389081       0.000747                     0           0  ...    0   \n\n       Jul  Jun  Mar  May  Nov  Oct  Sep  is_weekend  is_weekday  \n10526    0    0    0    0    0    0    0           1           0  \n24352    0    1    0    0    0    0    0           0           1  \n10637    0    0    0    0    0    0    0           1           0  \n28209    0    0    0    0    0    1    0           0           1  \n13762    0    0    0    0    0    1    0           1           0  \n\n[5 rows x 28 columns]",
      "text/html": "<div>\n<style scoped>\n    .dataframe tbody tr th:only-of-type {\n        vertical-align: middle;\n    }\n\n    .dataframe tbody tr th {\n        vertical-align: top;\n    }\n\n    .dataframe thead th {\n        text-align: right;\n    }\n</style>\n<table border=\"1\" class=\"dataframe\">\n  <thead>\n    <tr style=\"text-align: right;\">\n      <th></th>\n      <th>latitude</th>\n      <th>longitude</th>\n      <th>remoteness</th>\n      <th>elevation</th>\n      <th>Temp</th>\n      <th>Wind</th>\n      <th>Humidity</th>\n      <th>Precipitation</th>\n      <th>Veg Broadleaf Forest</th>\n      <th>Veg Desert</th>\n      <th>...</th>\n      <th>Jan</th>\n      <th>Jul</th>\n      <th>Jun</th>\n      <th>Mar</th>\n      <th>May</th>\n      <th>Nov</th>\n      <th>Oct</th>\n      <th>Sep</th>\n      <th>is_weekend</th>\n      <th>is_weekday</th>\n    </tr>\n  </thead>\n  <tbody>\n    <tr>\n      <th>10526</th>\n      <td>0.306819</td>\n      <td>0.556602</td>\n      <td>0.393775</td>\n      <td>0.637959</td>\n      <td>0.658387</td>\n      <td>0.171923</td>\n      <td>0.364388</td>\n      <td>0.000218</td>\n      <td>1</td>\n      <td>0</td>\n      <td>...</td>\n      <td>0</td>\n      <td>0</td>\n      <td>0</td>\n      <td>0</td>\n      <td>0</td>\n      <td>0</td>\n      <td>0</td>\n      <td>0</td>\n      <td>1</td>\n      <td>0</td>\n    </tr>\n    <tr>\n      <th>24352</th>\n      <td>0.345365</td>\n      <td>0.617026</td>\n      <td>0.333782</td>\n      <td>0.379046</td>\n      <td>0.610613</td>\n      <td>0.192897</td>\n      <td>0.416765</td>\n      <td>0.002980</td>\n      <td>0</td>\n      <td>0</td>\n      <td>...</td>\n      <td>0</td>\n      <td>0</td>\n      <td>1</td>\n      <td>0</td>\n      <td>0</td>\n      <td>0</td>\n      <td>0</td>\n      <td>0</td>\n      <td>0</td>\n      <td>1</td>\n    </tr>\n    <tr>\n      <th>10637</th>\n      <td>0.548874</td>\n      <td>0.735205</td>\n      <td>0.218173</td>\n      <td>0.113001</td>\n      <td>0.365695</td>\n      <td>0.108686</td>\n      <td>0.682875</td>\n      <td>0.009121</td>\n      <td>0</td>\n      <td>0</td>\n      <td>...</td>\n      <td>0</td>\n      <td>0</td>\n      <td>0</td>\n      <td>0</td>\n      <td>0</td>\n      <td>0</td>\n      <td>0</td>\n      <td>0</td>\n      <td>1</td>\n      <td>0</td>\n    </tr>\n    <tr>\n      <th>28209</th>\n      <td>0.246498</td>\n      <td>0.709280</td>\n      <td>0.250031</td>\n      <td>0.029347</td>\n      <td>0.647721</td>\n      <td>0.058739</td>\n      <td>0.765311</td>\n      <td>0.002255</td>\n      <td>0</td>\n      <td>0</td>\n      <td>...</td>\n      <td>0</td>\n      <td>0</td>\n      <td>0</td>\n      <td>0</td>\n      <td>0</td>\n      <td>0</td>\n      <td>1</td>\n      <td>0</td>\n      <td>0</td>\n      <td>1</td>\n    </tr>\n    <tr>\n      <th>13762</th>\n      <td>0.413675</td>\n      <td>0.608293</td>\n      <td>0.340302</td>\n      <td>0.593527</td>\n      <td>0.459877</td>\n      <td>0.158538</td>\n      <td>0.389081</td>\n      <td>0.000747</td>\n      <td>0</td>\n      <td>0</td>\n      <td>...</td>\n      <td>0</td>\n      <td>0</td>\n      <td>0</td>\n      <td>0</td>\n      <td>0</td>\n      <td>0</td>\n      <td>1</td>\n      <td>0</td>\n      <td>1</td>\n      <td>0</td>\n    </tr>\n  </tbody>\n</table>\n<p>5 rows × 28 columns</p>\n</div>"
     },
     "execution_count": 3,
     "metadata": {},
     "output_type": "execute_result"
    }
   ]
  },
  {
   "cell_type": "markdown",
   "source": [
    "Train-test split"
   ],
   "metadata": {
    "collapsed": false,
    "pycharm": {
     "name": "#%% md\n"
    }
   }
  },
  {
   "cell_type": "code",
   "execution_count": 44,
   "outputs": [
    {
     "name": "stdout",
     "output_type": "stream",
     "text": [
      "(33522, 17)\n",
      "(33522, 1) \n",
      "\n",
      "(3725, 17)\n",
      "(3725, 1)\n"
     ]
    }
   ],
   "source": [
    "from sklearn.model_selection import train_test_split\n",
    "\n",
    "X_train, X_test, y_train, y_test = train_test_split(dfPredictor, dfTarget, test_size=0.1, random_state=42, stratify=dfTarget)\n",
    "\n",
    "print(X_train.shape)\n",
    "print(y_train.shape, \"\\n\")\n",
    "\n",
    "print(X_test.shape)\n",
    "print(y_test.shape)"
   ],
   "metadata": {
    "collapsed": false,
    "pycharm": {
     "name": "#%%\n"
    }
   }
  },
  {
   "cell_type": "markdown",
   "source": [
    "Before SMOTEEN"
   ],
   "metadata": {
    "collapsed": false
   }
  },
  {
   "cell_type": "code",
   "execution_count": 45,
   "outputs": [
    {
     "data": {
      "text/plain": "array([[<AxesSubplot:title={'center':'B'}>]], dtype=object)"
     },
     "execution_count": 45,
     "metadata": {},
     "output_type": "execute_result"
    },
    {
     "data": {
      "text/plain": "<Figure size 432x288 with 1 Axes>",
      "image/png": "[encoded data removed]"
     },
     "metadata": {
      "needs_background": "light"
     },
     "output_type": "display_data"
    }
   ],
   "source": [
    "y_train.hist()"
   ],
   "metadata": {
    "collapsed": false,
    "pycharm": {
     "name": "#%%\n"
    }
   }
  },
  {
   "cell_type": "markdown",
   "source": [
    "In order to fix the distribution of the data when training, we want to change it (in the training set only though).\n",
    "\n",
    "First, I tried randomly undersampling the data, however that made the training set too small (down to 2.6k samples total). The results were abysmal, with basically every model getting around a 2% accuracy on the test set.\n",
    "\n",
    "This is the code to do this, in case you want to (but you shouldn't)."
   ],
   "metadata": {
    "collapsed": false,
    "pycharm": {
     "name": "#%% md\n"
    }
   }
  },
  {
   "cell_type": "code",
   "execution_count": 46,
   "outputs": [
    {
     "name": "stdout",
     "output_type": "stream",
     "text": [
      "(23236, 17)\n",
      "(23236, 1)\n"
     ]
    }
   ],
   "source": [
    "from imblearn.under_sampling import RandomUnderSampler\n",
    "\n",
    "rus = RandomUnderSampler()\n",
    "X_train, y_train = rus.fit_resample(X_train, y_train)\n",
    "\n",
    "print(X_train.shape)\n",
    "print(y_train.shape)"
   ],
   "metadata": {
    "collapsed": false,
    "pycharm": {
     "name": "#%%\n"
    }
   }
  },
  {
   "cell_type": "markdown",
   "source": [
    "We want to convert the y_train dataset from a Pandas DataFrame to a (n, ) Numpy array."
   ],
   "metadata": {
    "collapsed": false,
    "pycharm": {
     "name": "#%% md\n"
    }
   }
  },
  {
   "cell_type": "code",
   "execution_count": 47,
   "outputs": [
    {
     "data": {
      "text/plain": "array([[<AxesSubplot:title={'center':'B'}>]], dtype=object)"
     },
     "execution_count": 47,
     "metadata": {},
     "output_type": "execute_result"
    },
    {
     "data": {
      "text/plain": "<Figure size 432x288 with 1 Axes>",
      "image/png": "[encoded data removed]"
     },
     "metadata": {
      "needs_background": "light"
     },
     "output_type": "display_data"
    }
   ],
   "source": [
    "y_train.hist()"
   ],
   "metadata": {
    "collapsed": false,
    "pycharm": {
     "name": "#%%\n"
    }
   }
  },
  {
   "cell_type": "code",
   "execution_count": 48,
   "outputs": [],
   "source": [
    "y_train = y_train.values.ravel()"
   ],
   "metadata": {
    "collapsed": false,
    "pycharm": {
     "name": "#%%\n"
    }
   }
  },
  {
   "cell_type": "markdown",
   "source": [
    "Make a correlation matrix"
   ],
   "metadata": {
    "collapsed": false,
    "pycharm": {
     "name": "#%% md\n"
    }
   }
  },
  {
   "cell_type": "code",
   "execution_count": 49,
   "outputs": [
    {
     "data": {
      "text/plain": "<Figure size 432x288 with 2 Axes>",
      "image/png": "[encoded data removed]"
     },
     "metadata": {
      "needs_background": "light"
     },
     "output_type": "display_data"
    }
   ],
   "source": [
    "import seaborn as sn\n",
    "\n",
    "corrMatrix = X_train.corr()\n",
    "sn.heatmap(corrMatrix)\n",
    "plt.show()"
   ],
   "metadata": {
    "collapsed": false,
    "pycharm": {
     "name": "#%%\n"
    }
   }
  },
  {
   "cell_type": "markdown",
   "source": [
    "Training models, each in a cell (?)\n",
    "\n",
    "* Dummy classifier\n",
    "* K-Nearest Neighbour (KNN)\n",
    "* Naïve Bayes (NB)\n",
    "* Support Vector Machine (SVM)\n",
    "* Decision Tree (DT)\n",
    "* Random Forest (RF)\n",
    "* Gradient Boosted Trees (GBT)\n",
    "* Multi-Layered Perceptron (MLP)\n",
    "* Artificial Neural Network (ANN)"
   ],
   "metadata": {
    "collapsed": false,
    "pycharm": {
     "name": "#%% md\n"
    }
   }
  },
  {
   "cell_type": "markdown",
   "source": [
    "Evaluation with confusion matrix, F1 score, etc"
   ],
   "metadata": {
    "collapsed": false,
    "pycharm": {
     "name": "#%% md\n"
    }
   }
  },
  {
   "cell_type": "markdown",
   "source": [
    "### Dummy classifier"
   ],
   "metadata": {
    "collapsed": false,
    "pycharm": {
     "name": "#%% md\n"
    }
   }
  },
  {
   "cell_type": "code",
   "source": [
    "from sklearn.dummy import DummyClassifier\n",
    "\n",
    "dummy_clf = DummyClassifier()\n",
    "\n",
    "dummy_clf.fit(X_train, y_train)\n",
    "training_accuracy = dummy_clf.score(X_train, y_train)\n",
    "test_accuracy = dummy_clf.score(X_test, y_test)\n",
    "print(f\"Training accuracy: {training_accuracy}\")  # 0.6537796074219915\n",
    "print(f\"Test accuracy: {test_accuracy}\")  # 0.6502013422818792\n",
    "\n",
    "\n",
    "y_true, y_pred = y_test , dummy_clf.predict(X_test)\n",
    "from sklearn.metrics import classification_report\n",
    "print('Results on the test set:')\n",
    "print(classification_report(y_true, y_pred))"
   ],
   "metadata": {
    "collapsed": false,
    "pycharm": {
     "name": "#%%\n"
    }
   },
   "execution_count": 50,
   "outputs": [
    {
     "name": "stdout",
     "output_type": "stream",
     "text": [
      "Training accuracy: 0.5\n",
      "Test accuracy: 0.3465771812080537\n",
      "Results on the test set:\n",
      "              precision    recall  f1-score   support\n",
      "\n",
      "           0       0.35      1.00      0.51      1291\n",
      "           1       0.00      0.00      0.00      2434\n",
      "\n",
      "    accuracy                           0.35      3725\n",
      "   macro avg       0.17      0.50      0.26      3725\n",
      "weighted avg       0.12      0.35      0.18      3725\n",
      "\n"
     ]
    },
    {
     "name": "stderr",
     "output_type": "stream",
     "text": [
      "d:\\pycharmprojects\\thesis\\lib\\site-packages\\sklearn\\metrics\\_classification.py:1248: UndefinedMetricWarning: Precision and F-score are ill-defined and being set to 0.0 in labels with no predicted samples. Use `zero_division` parameter to control this behavior.\n",
      "  _warn_prf(average, modifier, msg_start, len(result))\n",
      "d:\\pycharmprojects\\thesis\\lib\\site-packages\\sklearn\\metrics\\_classification.py:1248: UndefinedMetricWarning: Precision and F-score are ill-defined and being set to 0.0 in labels with no predicted samples. Use `zero_division` parameter to control this behavior.\n",
      "  _warn_prf(average, modifier, msg_start, len(result))\n",
      "d:\\pycharmprojects\\thesis\\lib\\site-packages\\sklearn\\metrics\\_classification.py:1248: UndefinedMetricWarning: Precision and F-score are ill-defined and being set to 0.0 in labels with no predicted samples. Use `zero_division` parameter to control this behavior.\n",
      "  _warn_prf(average, modifier, msg_start, len(result))\n"
     ]
    }
   ]
  },
  {
   "cell_type": "markdown",
   "source": [
    "### KNN"
   ],
   "metadata": {
    "collapsed": false,
    "pycharm": {
     "name": "#%% md\n"
    }
   }
  },
  {
   "cell_type": "code",
   "source": [
    "from sklearn.model_selection import GridSearchCV\n",
    "from sklearn.neighbors import KNeighborsClassifier\n",
    "\n",
    "param_grid = {'n_neighbors': range(2, 30, 2)}\n",
    "\n",
    "grid_searchKNN = GridSearchCV(KNeighborsClassifier(), param_grid, cv=5, n_jobs=-1)\n",
    "grid_searchKNN.fit(X_train, y_train)\n",
    "\n",
    "print(\"Test set score: {:.2f}\".format(grid_searchKNN.score(X_test, y_test)))\n",
    "\n",
    "\n",
    "y_true, y_pred = y_test , grid_searchKNN.predict(X_test)\n",
    "from sklearn.metrics import classification_report\n",
    "print('Results on the test set:')\n",
    "print(classification_report(y_true, y_pred))\n",
    "\n",
    "print(f\"Best test set score: {grid_searchKNN.best_score_} with {grid_searchKNN.best_params_} parameters.\")  # 0.6436993848306627 with {'n_neighbors': 25}"
   ],
   "metadata": {
    "collapsed": false,
    "pycharm": {
     "name": "#%%\n"
    }
   },
   "execution_count": 51,
   "outputs": [
    {
     "name": "stdout",
     "output_type": "stream",
     "text": [
      "Test set score: 0.71\n",
      "Results on the test set:\n",
      "              precision    recall  f1-score   support\n",
      "\n",
      "           0       0.57      0.62      0.59      1291\n",
      "           1       0.79      0.75      0.77      2434\n",
      "\n",
      "    accuracy                           0.71      3725\n",
      "   macro avg       0.68      0.68      0.68      3725\n",
      "weighted avg       0.71      0.71      0.71      3725\n",
      "\n",
      "Best test set score: 0.6640557526611102 with {'n_neighbors': 28} parameters.\n"
     ]
    }
   ]
  },
  {
   "cell_type": "markdown",
   "source": [
    "### Naive Bayes"
   ],
   "metadata": {
    "collapsed": false,
    "pycharm": {
     "name": "#%% md\n"
    }
   }
  },
  {
   "cell_type": "code",
   "source": [
    "from sklearn.naive_bayes import GaussianNB\n",
    "\n",
    "gnb = GaussianNB()\n",
    "gnb.fit(X_train, y_train)\n",
    "print(f\"GaussianNB train score: {gnb.score(X_train, y_train)}\")  # 0.21296462024938845\n",
    "print(f\"GaussianNB test score: {gnb.score(X_test, y_test)}\")  # 0.21986577181208053\n",
    "print(\"\\n\")\n",
    "\n",
    "y_true, y_pred = y_test , gnb.predict(X_test)\n",
    "from sklearn.metrics import classification_report\n",
    "print('Results on the test set:')\n",
    "print(classification_report(y_true, y_pred))"
   ],
   "metadata": {
    "collapsed": false,
    "pycharm": {
     "name": "#%%\n"
    }
   },
   "execution_count": 52,
   "outputs": [
    {
     "name": "stdout",
     "output_type": "stream",
     "text": [
      "GaussianNB train score: 0.571742124289895\n",
      "GaussianNB test score: 0.6198657718120806\n",
      "\n",
      "\n",
      "Results on the test set:\n",
      "              precision    recall  f1-score   support\n",
      "\n",
      "           0       0.46      0.49      0.47      1291\n",
      "           1       0.72      0.69      0.70      2434\n",
      "\n",
      "    accuracy                           0.62      3725\n",
      "   macro avg       0.59      0.59      0.59      3725\n",
      "weighted avg       0.63      0.62      0.62      3725\n",
      "\n"
     ]
    }
   ]
  },
  {
   "cell_type": "markdown",
   "source": [
    "### Support Vector Machine"
   ],
   "metadata": {
    "collapsed": false,
    "pycharm": {
     "name": "#%% md\n"
    }
   }
  },
  {
   "cell_type": "code",
   "source": [
    "from sklearn.model_selection import GridSearchCV\n",
    "from sklearn.svm import SVC\n",
    "\n",
    "param_grid = {'C': [0.01, 0.1, 0.25, 0.5, 0.75, 1]}\n",
    "\n",
    "grid_searchSVC = GridSearchCV(SVC(), param_grid, cv=5, n_jobs=-1)\n",
    "grid_searchSVC.fit(X_train, y_train)\n",
    "\n",
    "print(\"Test set score: {:.2f}\".format(grid_searchSVC.score(X_test, y_test)))\n",
    "\n",
    "y_true, y_pred = y_test , grid_searchSVC.predict(X_test)\n",
    "from sklearn.metrics import classification_report\n",
    "print('Results on the test set:')\n",
    "print(classification_report(y_true, y_pred))"
   ],
   "metadata": {
    "collapsed": false,
    "pycharm": {
     "name": "#%%\n"
    }
   },
   "execution_count": 53,
   "outputs": [
    {
     "name": "stdout",
     "output_type": "stream",
     "text": [
      "Test set score: 0.70\n",
      "Results on the test set:\n",
      "              precision    recall  f1-score   support\n",
      "\n",
      "           0       0.59      0.44      0.50      1291\n",
      "           1       0.74      0.84      0.78      2434\n",
      "\n",
      "    accuracy                           0.70      3725\n",
      "   macro avg       0.66      0.64      0.64      3725\n",
      "weighted avg       0.69      0.70      0.69      3725\n",
      "\n"
     ]
    }
   ]
  },
  {
   "cell_type": "markdown",
   "source": [
    "### Decision Tree"
   ],
   "metadata": {
    "collapsed": false,
    "pycharm": {
     "name": "#%% md\n"
    }
   }
  },
  {
   "cell_type": "code",
   "source": [
    "from sklearn.tree import DecisionTreeClassifier\n",
    "from sklearn.model_selection import GridSearchCV\n",
    "\n",
    "param_grid = {'max_depth': [4, 8, 16, 32, 64, 128, 256, 512], 'criterion': ['gini', 'entropy']}\n",
    "\n",
    "grid_searchDT = GridSearchCV(DecisionTreeClassifier(), param_grid, cv=5, n_jobs=-1)\n",
    "grid_searchDT.fit(X_train, y_train)\n",
    "DT_ResultsDf = pd.DataFrame(grid_searchDT.cv_results_)\n",
    "\n",
    "print(DT_ResultsDf)\n",
    "print(f\"Best test set score: {grid_searchDT.best_score_} with {grid_searchDT.best_params_} parameters.\")\n",
    "\n",
    "y_true, y_pred = y_test , grid_searchDT.predict(X_test)\n",
    "from sklearn.metrics import classification_report\n",
    "print('Results on the test set:')\n",
    "print(classification_report(y_true, y_pred))"
   ],
   "metadata": {
    "collapsed": false,
    "pycharm": {
     "name": "#%%\n"
    }
   },
   "execution_count": 54,
   "outputs": [
    {
     "name": "stdout",
     "output_type": "stream",
     "text": [
      "    mean_fit_time  std_fit_time  mean_score_time  std_score_time  \\\n",
      "0        0.051745      0.001166         0.022177    1.165836e-03   \n",
      "1        0.072922      0.002095         0.002998    8.583069e-07   \n",
      "2        0.129268      0.005639         0.003596    4.906449e-04   \n",
      "3        0.156239      0.005811         0.004396    4.894148e-04   \n",
      "4        0.160235      0.004918         0.003796    4.000665e-04   \n",
      "5        0.156239      0.002726         0.003796    4.004243e-04   \n",
      "6        0.156439      0.004026         0.004196    3.997566e-04   \n",
      "7        0.159435      0.005421         0.004196    4.004959e-04   \n",
      "8        0.072326      0.004796         0.003197    3.988522e-04   \n",
      "9        0.119877      0.003283         0.002998    3.568323e-07   \n",
      "10       0.196997      0.004257         0.003397    4.895900e-04   \n",
      "11       0.259933      0.007019         0.003996    6.315050e-04   \n",
      "12       0.269923      0.007671         0.003996    2.336015e-07   \n",
      "13       0.269124      0.006047         0.003796    7.478822e-04   \n",
      "14       0.266327      0.005457         0.003996    4.422006e-07   \n",
      "15       0.239354      0.021901         0.002797    7.475126e-04   \n",
      "\n",
      "   param_criterion param_max_depth  \\\n",
      "0             gini               4   \n",
      "1             gini               8   \n",
      "2             gini              16   \n",
      "3             gini              32   \n",
      "4             gini              64   \n",
      "5             gini             128   \n",
      "6             gini             256   \n",
      "7             gini             512   \n",
      "8          entropy               4   \n",
      "9          entropy               8   \n",
      "10         entropy              16   \n",
      "11         entropy              32   \n",
      "12         entropy              64   \n",
      "13         entropy             128   \n",
      "14         entropy             256   \n",
      "15         entropy             512   \n",
      "\n",
      "                                        params  split0_test_score  \\\n",
      "0        {'criterion': 'gini', 'max_depth': 4}           0.648021   \n",
      "1        {'criterion': 'gini', 'max_depth': 8}           0.677496   \n",
      "2       {'criterion': 'gini', 'max_depth': 16}           0.660929   \n",
      "3       {'criterion': 'gini', 'max_depth': 32}           0.641351   \n",
      "4       {'criterion': 'gini', 'max_depth': 64}           0.645009   \n",
      "5      {'criterion': 'gini', 'max_depth': 128}           0.639630   \n",
      "6      {'criterion': 'gini', 'max_depth': 256}           0.641997   \n",
      "7      {'criterion': 'gini', 'max_depth': 512}           0.642642   \n",
      "8     {'criterion': 'entropy', 'max_depth': 4}           0.648236   \n",
      "9     {'criterion': 'entropy', 'max_depth': 8}           0.677926   \n",
      "10   {'criterion': 'entropy', 'max_depth': 16}           0.664802   \n",
      "11   {'criterion': 'entropy', 'max_depth': 32}           0.645224   \n",
      "12   {'criterion': 'entropy', 'max_depth': 64}           0.637909   \n",
      "13  {'criterion': 'entropy', 'max_depth': 128}           0.643718   \n",
      "14  {'criterion': 'entropy', 'max_depth': 256}           0.641136   \n",
      "15  {'criterion': 'entropy', 'max_depth': 512}           0.639630   \n",
      "\n",
      "    split1_test_score  split2_test_score  split3_test_score  \\\n",
      "0            0.649236           0.643426           0.650527   \n",
      "1            0.679793           0.676350           0.688186   \n",
      "2            0.664515           0.655907           0.665160   \n",
      "3            0.635464           0.636109           0.648160   \n",
      "4            0.636109           0.630730           0.652034   \n",
      "5            0.637400           0.638261           0.649451   \n",
      "6            0.633312           0.634173           0.638476   \n",
      "7            0.636540           0.636755           0.646223   \n",
      "8            0.649236           0.643426           0.649451   \n",
      "9            0.676781           0.675490           0.691844   \n",
      "10           0.675274           0.664945           0.667527   \n",
      "11           0.648590           0.636540           0.652249   \n",
      "12           0.640844           0.637185           0.649236   \n",
      "13           0.636109           0.637400           0.643211   \n",
      "14           0.641489           0.634818           0.651603   \n",
      "15           0.640844           0.633957           0.646654   \n",
      "\n",
      "    split4_test_score  mean_test_score  std_test_score  rank_test_score  \n",
      "0            0.645363         0.647314        0.002586                5  \n",
      "1            0.676781         0.679721        0.004396                1  \n",
      "2            0.658059         0.660914        0.003584                4  \n",
      "3            0.632881         0.638793        0.005432               13  \n",
      "4            0.634388         0.639654        0.007770               10  \n",
      "5            0.625995         0.638148        0.007459               15  \n",
      "6            0.630084         0.635608        0.004169               16  \n",
      "7            0.628793         0.638191        0.005957               14  \n",
      "8            0.645363         0.647142        0.002362                6  \n",
      "9            0.674414         0.679291        0.006387                2  \n",
      "10           0.668173         0.668144        0.003811                3  \n",
      "11           0.644071         0.645335        0.005241                7  \n",
      "12           0.641274         0.641290        0.004281                9  \n",
      "13           0.636540         0.639396        0.003352               11  \n",
      "14           0.640844         0.641978        0.005406                8  \n",
      "15           0.635679         0.639353        0.004432               12  \n",
      "Best test set score: 0.6797212181752927 with {'criterion': 'gini', 'max_depth': 8} parameters.\n",
      "Results on the test set:\n",
      "              precision    recall  f1-score   support\n",
      "\n",
      "           0       0.60      0.62      0.61      1291\n",
      "           1       0.80      0.78      0.79      2434\n",
      "\n",
      "    accuracy                           0.72      3725\n",
      "   macro avg       0.70      0.70      0.70      3725\n",
      "weighted avg       0.73      0.72      0.72      3725\n",
      "\n"
     ]
    }
   ]
  },
  {
   "cell_type": "markdown",
   "source": [
    "### Random Forest"
   ],
   "metadata": {
    "collapsed": false,
    "pycharm": {
     "name": "#%% md\n"
    }
   }
  },
  {
   "cell_type": "code",
   "source": [
    "from sklearn.ensemble import RandomForestClassifier\n",
    "from sklearn.model_selection import GridSearchCV\n",
    "\n",
    "param_grid = {'max_depth': [4, 8, 16, 32, 64, 128, 256, 512], 'n_estimators': [100, 500, 1000], 'criterion': ['gini', 'entropy']}\n",
    "\n",
    "rf_cl = RandomForestClassifier()\n",
    "\n",
    "grid_searchRF = GridSearchCV(rf_cl, param_grid, cv=5, n_jobs=-1)\n",
    "grid_searchRF.fit(X_train, y_train)\n",
    "RF_ResultsDf = pd.DataFrame(grid_searchRF.cv_results_)\n",
    "\n",
    "print(RF_ResultsDf)\n",
    "print(f\"Best test set score: {grid_searchRF.best_score_} with {grid_searchRF.best_params_} parameters.\")\n",
    "\n",
    "\n",
    "y_true, y_pred = y_test , grid_searchRF.predict(X_test)\n",
    "from sklearn.metrics import classification_report\n",
    "print('Results on the test set:')\n",
    "print(classification_report(y_true, y_pred))"
   ],
   "metadata": {
    "collapsed": false,
    "pycharm": {
     "name": "#%%\n"
    }
   },
   "execution_count": 55,
   "outputs": [
    {
     "name": "stdout",
     "output_type": "stream",
     "text": [
      "    mean_fit_time  std_fit_time  mean_score_time  std_score_time  \\\n",
      "0        0.981997      0.027562         0.047751        0.002132   \n",
      "1        4.767727      0.062251         0.211983        0.002133   \n",
      "2        9.537251      0.066638         0.430360        0.008125   \n",
      "3        1.538427      0.019258         0.059140        0.001468   \n",
      "4        7.695933      0.041485         0.283710        0.005825   \n",
      "5       15.394664      0.127294         0.557630        0.008533   \n",
      "6        2.513030      0.027151         0.096902        0.002096   \n",
      "7       12.547574      0.077233         0.496493        0.005172   \n",
      "8       25.384851      0.149798         1.028150        0.027361   \n",
      "9        3.188940      0.031249         0.134063        0.001719   \n",
      "10      15.804644      0.106896         0.662323        0.013253   \n",
      "11      31.402900      0.158079         1.357613        0.027807   \n",
      "12       3.143787      0.018453         0.133064        0.002558   \n",
      "13      15.667185      0.150569         0.673112        0.012784   \n",
      "14      32.406675      0.642415         1.378391        0.040816   \n",
      "15       3.243684      0.234806         0.139857        0.014156   \n",
      "16      16.391045      0.726070         0.665919        0.023989   \n",
      "17      32.132154      0.366969         1.609755        0.156381   \n",
      "18       3.158172      0.049514         0.131266        0.001355   \n",
      "19      16.751477      0.458105         0.780003        0.060556   \n",
      "20      35.038384      0.423848         1.635328        0.096630   \n",
      "21       3.572548      0.393970         0.151245        0.013575   \n",
      "22      17.969032      0.666712         0.842739        0.155545   \n",
      "23      37.167641      0.541802         1.483483        0.076141   \n",
      "24       1.562202      0.092716         0.057741        0.019427   \n",
      "25       7.595646      0.437211         0.274719        0.050153   \n",
      "26      15.415451      0.695006         0.542645        0.104746   \n",
      "27       2.741797      0.177072         0.070928        0.006286   \n",
      "28      13.185920      0.293890         0.280114        0.003926   \n",
      "29      25.563269      0.380928         0.589398        0.040094   \n",
      "30       4.189917      0.199171         0.095102        0.005559   \n",
      "31      21.234094      0.993432         0.475913        0.018405   \n",
      "32      38.521623      0.276671         0.883098        0.017268   \n",
      "33       5.093992      0.089709         0.129269        0.006400   \n",
      "34      24.613440      0.084542         0.627559        0.011059   \n",
      "35      49.336769      0.227244         1.287883        0.015469   \n",
      "36       4.918571      0.057200         0.128669        0.007188   \n",
      "37      24.847600      0.173579         0.646140        0.015976   \n",
      "38      49.977913      0.414324         1.405563        0.121286   \n",
      "39       4.921968      0.047567         0.128669        0.005263   \n",
      "40      24.867380      0.351910         0.664321        0.074035   \n",
      "41      49.274432      0.271082         1.333837        0.033080   \n",
      "42       4.868422      0.034302         0.123274        0.001199   \n",
      "43      24.515539      0.076280         0.644741        0.033739   \n",
      "44      49.186522      0.190021         1.305066        0.040812   \n",
      "45       4.904185      0.075147         0.125073        0.001719   \n",
      "46      23.906961      0.708526         0.617370        0.045235   \n",
      "47      41.128358      0.201226         1.011167        0.071878   \n",
      "\n",
      "   param_criterion param_max_depth param_n_estimators  \\\n",
      "0             gini               4                100   \n",
      "1             gini               4                500   \n",
      "2             gini               4               1000   \n",
      "3             gini               8                100   \n",
      "4             gini               8                500   \n",
      "5             gini               8               1000   \n",
      "6             gini              16                100   \n",
      "7             gini              16                500   \n",
      "8             gini              16               1000   \n",
      "9             gini              32                100   \n",
      "10            gini              32                500   \n",
      "11            gini              32               1000   \n",
      "12            gini              64                100   \n",
      "13            gini              64                500   \n",
      "14            gini              64               1000   \n",
      "15            gini             128                100   \n",
      "16            gini             128                500   \n",
      "17            gini             128               1000   \n",
      "18            gini             256                100   \n",
      "19            gini             256                500   \n",
      "20            gini             256               1000   \n",
      "21            gini             512                100   \n",
      "22            gini             512                500   \n",
      "23            gini             512               1000   \n",
      "24         entropy               4                100   \n",
      "25         entropy               4                500   \n",
      "26         entropy               4               1000   \n",
      "27         entropy               8                100   \n",
      "28         entropy               8                500   \n",
      "29         entropy               8               1000   \n",
      "30         entropy              16                100   \n",
      "31         entropy              16                500   \n",
      "32         entropy              16               1000   \n",
      "33         entropy              32                100   \n",
      "34         entropy              32                500   \n",
      "35         entropy              32               1000   \n",
      "36         entropy              64                100   \n",
      "37         entropy              64                500   \n",
      "38         entropy              64               1000   \n",
      "39         entropy             128                100   \n",
      "40         entropy             128                500   \n",
      "41         entropy             128               1000   \n",
      "42         entropy             256                100   \n",
      "43         entropy             256                500   \n",
      "44         entropy             256               1000   \n",
      "45         entropy             512                100   \n",
      "46         entropy             512                500   \n",
      "47         entropy             512               1000   \n",
      "\n",
      "                                               params  split0_test_score  \\\n",
      "0   {'criterion': 'gini', 'max_depth': 4, 'n_estim...           0.638985   \n",
      "1   {'criterion': 'gini', 'max_depth': 4, 'n_estim...           0.638554   \n",
      "2   {'criterion': 'gini', 'max_depth': 4, 'n_estim...           0.639415   \n",
      "3   {'criterion': 'gini', 'max_depth': 8, 'n_estim...           0.667599   \n",
      "4   {'criterion': 'gini', 'max_depth': 8, 'n_estim...           0.664587   \n",
      "5   {'criterion': 'gini', 'max_depth': 8, 'n_estim...           0.665663   \n",
      "6   {'criterion': 'gini', 'max_depth': 16, 'n_esti...           0.683735   \n",
      "7   {'criterion': 'gini', 'max_depth': 16, 'n_esti...           0.681368   \n",
      "8   {'criterion': 'gini', 'max_depth': 16, 'n_esti...           0.682659   \n",
      "9   {'criterion': 'gini', 'max_depth': 32, 'n_esti...           0.661790   \n",
      "10  {'criterion': 'gini', 'max_depth': 32, 'n_esti...           0.662005   \n",
      "11  {'criterion': 'gini', 'max_depth': 32, 'n_esti...           0.663726   \n",
      "12  {'criterion': 'gini', 'max_depth': 64, 'n_esti...           0.662651   \n",
      "13  {'criterion': 'gini', 'max_depth': 64, 'n_esti...           0.662435   \n",
      "14  {'criterion': 'gini', 'max_depth': 64, 'n_esti...           0.665017   \n",
      "15  {'criterion': 'gini', 'max_depth': 128, 'n_est...           0.661145   \n",
      "16  {'criterion': 'gini', 'max_depth': 128, 'n_est...           0.664802   \n",
      "17  {'criterion': 'gini', 'max_depth': 128, 'n_est...           0.664157   \n",
      "18  {'criterion': 'gini', 'max_depth': 256, 'n_est...           0.659854   \n",
      "19  {'criterion': 'gini', 'max_depth': 256, 'n_est...           0.665448   \n",
      "20  {'criterion': 'gini', 'max_depth': 256, 'n_est...           0.662651   \n",
      "21  {'criterion': 'gini', 'max_depth': 512, 'n_est...           0.663081   \n",
      "22  {'criterion': 'gini', 'max_depth': 512, 'n_est...           0.661575   \n",
      "23  {'criterion': 'gini', 'max_depth': 512, 'n_est...           0.665232   \n",
      "24  {'criterion': 'entropy', 'max_depth': 4, 'n_es...           0.636833   \n",
      "25  {'criterion': 'entropy', 'max_depth': 4, 'n_es...           0.637694   \n",
      "26  {'criterion': 'entropy', 'max_depth': 4, 'n_es...           0.637263   \n",
      "27  {'criterion': 'entropy', 'max_depth': 8, 'n_es...           0.665878   \n",
      "28  {'criterion': 'entropy', 'max_depth': 8, 'n_es...           0.666738   \n",
      "29  {'criterion': 'entropy', 'max_depth': 8, 'n_es...           0.663941   \n",
      "30  {'criterion': 'entropy', 'max_depth': 16, 'n_e...           0.677065   \n",
      "31  {'criterion': 'entropy', 'max_depth': 16, 'n_e...           0.677065   \n",
      "32  {'criterion': 'entropy', 'max_depth': 16, 'n_e...           0.680293   \n",
      "33  {'criterion': 'entropy', 'max_depth': 32, 'n_e...           0.665878   \n",
      "34  {'criterion': 'entropy', 'max_depth': 32, 'n_e...           0.665663   \n",
      "35  {'criterion': 'entropy', 'max_depth': 32, 'n_e...           0.665017   \n",
      "36  {'criterion': 'entropy', 'max_depth': 64, 'n_e...           0.659423   \n",
      "37  {'criterion': 'entropy', 'max_depth': 64, 'n_e...           0.665878   \n",
      "38  {'criterion': 'entropy', 'max_depth': 64, 'n_e...           0.664372   \n",
      "39  {'criterion': 'entropy', 'max_depth': 128, 'n_...           0.661575   \n",
      "40  {'criterion': 'entropy', 'max_depth': 128, 'n_...           0.661145   \n",
      "41  {'criterion': 'entropy', 'max_depth': 128, 'n_...           0.661360   \n",
      "42  {'criterion': 'entropy', 'max_depth': 256, 'n_...           0.664372   \n",
      "43  {'criterion': 'entropy', 'max_depth': 256, 'n_...           0.665017   \n",
      "44  {'criterion': 'entropy', 'max_depth': 256, 'n_...           0.664157   \n",
      "45  {'criterion': 'entropy', 'max_depth': 512, 'n_...           0.663081   \n",
      "46  {'criterion': 'entropy', 'max_depth': 512, 'n_...           0.663726   \n",
      "47  {'criterion': 'entropy', 'max_depth': 512, 'n_...           0.665232   \n",
      "\n",
      "    split1_test_score  split2_test_score  split3_test_score  \\\n",
      "0            0.633742           0.629869           0.641920   \n",
      "1            0.634818           0.630945           0.642350   \n",
      "2            0.635033           0.631160           0.641920   \n",
      "3            0.667097           0.661717           0.673122   \n",
      "4            0.664515           0.662578           0.673338   \n",
      "5            0.666236           0.664730           0.671616   \n",
      "6            0.684312           0.674844           0.684528   \n",
      "7            0.683667           0.676135           0.686895   \n",
      "8            0.680009           0.679793           0.685604   \n",
      "9            0.668173           0.650097           0.666451   \n",
      "10           0.667958           0.657198           0.671401   \n",
      "11           0.664945           0.653970           0.664730   \n",
      "12           0.660211           0.649021           0.670110   \n",
      "13           0.663224           0.652034           0.669895   \n",
      "14           0.664084           0.655046           0.671186   \n",
      "15           0.664515           0.652894           0.667958   \n",
      "16           0.663869           0.655907           0.670325   \n",
      "17           0.663869           0.653755           0.666882   \n",
      "18           0.663008           0.652034           0.669464   \n",
      "19           0.666021           0.655261           0.671186   \n",
      "20           0.662793           0.653755           0.670110   \n",
      "21           0.661932           0.652894           0.671186   \n",
      "22           0.665160           0.654185           0.667958   \n",
      "23           0.665806           0.653970           0.672262   \n",
      "24           0.632236           0.630730           0.642135   \n",
      "25           0.634173           0.630730           0.641704   \n",
      "26           0.634173           0.630945           0.641059   \n",
      "27           0.664300           0.658059           0.670971   \n",
      "28           0.665376           0.658920           0.670110   \n",
      "29           0.662363           0.661287           0.671401   \n",
      "30           0.684743           0.676566           0.684312   \n",
      "31           0.681730           0.677641           0.684958   \n",
      "32           0.681730           0.678933           0.687971   \n",
      "33           0.659135           0.653755           0.671401   \n",
      "34           0.663224           0.652679           0.668173   \n",
      "35           0.664515           0.650958           0.671401   \n",
      "36           0.663224           0.654616           0.670971   \n",
      "37           0.661932           0.652034           0.672477   \n",
      "38           0.662363           0.658489           0.668819   \n",
      "39           0.664515           0.655046           0.667312   \n",
      "40           0.664730           0.654831           0.670755   \n",
      "41           0.663439           0.655477           0.670325   \n",
      "42           0.662363           0.652464           0.667743   \n",
      "43           0.662578           0.655046           0.669464   \n",
      "44           0.664515           0.652464           0.670325   \n",
      "45           0.661502           0.655692           0.669464   \n",
      "46           0.662793           0.655907           0.670755   \n",
      "47           0.663008           0.656122           0.670110   \n",
      "\n",
      "    split4_test_score  mean_test_score  std_test_score  rank_test_score  \n",
      "0            0.635679         0.636039        0.004165               45  \n",
      "1            0.635894         0.636512        0.003808               43  \n",
      "2            0.633957         0.636297        0.003868               44  \n",
      "3            0.660641         0.666035        0.004506                8  \n",
      "4            0.664945         0.665992        0.003765                9  \n",
      "5            0.666021         0.666853        0.002437                7  \n",
      "6            0.684097         0.682303        0.003739                1  \n",
      "7            0.677211         0.681055        0.004000                5  \n",
      "8            0.681515         0.681916        0.002119                3  \n",
      "9            0.659135         0.661129        0.006389               38  \n",
      "10           0.661287         0.663970        0.005060               15  \n",
      "11           0.664084         0.662291        0.004183               32  \n",
      "12           0.657413         0.659881        0.006877               42  \n",
      "13           0.664730         0.662463        0.005826               31  \n",
      "14           0.663224         0.663711        0.005158               16  \n",
      "15           0.663439         0.661990        0.005050               36  \n",
      "16           0.662148         0.663410        0.004644               21  \n",
      "17           0.664945         0.662722        0.004605               29  \n",
      "18           0.660856         0.661043        0.005611               39  \n",
      "19           0.662793         0.664142        0.005206               13  \n",
      "20           0.664300         0.662722        0.005244               28  \n",
      "21           0.661072         0.662033        0.005819               35  \n",
      "22           0.666236         0.663023        0.004888               26  \n",
      "23           0.665376         0.664529        0.005901               10  \n",
      "24           0.635033         0.635393        0.003984               47  \n",
      "25           0.634818         0.635824        0.003681               46  \n",
      "26           0.632451         0.635178        0.003614               48  \n",
      "27           0.661717         0.664185        0.004302               12  \n",
      "28           0.660426         0.664314        0.004118               11  \n",
      "29           0.659135         0.663625        0.004190               18  \n",
      "30           0.683021         0.681142        0.003581                4  \n",
      "31           0.679363         0.680152        0.002900                6  \n",
      "32           0.681945         0.682174        0.003095                2  \n",
      "33           0.666451         0.663324        0.006175               22  \n",
      "34           0.661072         0.662162        0.005303               34  \n",
      "35           0.661717         0.662722        0.006682               30  \n",
      "36           0.655692         0.660785        0.005925               40  \n",
      "37           0.663439         0.663152        0.006627               24  \n",
      "38           0.666451         0.664099        0.003532               14  \n",
      "39           0.662793         0.662248        0.004084               33  \n",
      "40           0.664084         0.663109        0.005185               25  \n",
      "41           0.663224         0.662765        0.004752               27  \n",
      "42           0.655692         0.660527        0.005632               41  \n",
      "43           0.665160         0.663453        0.004753               20  \n",
      "44           0.664945         0.663281        0.005860               23  \n",
      "45           0.657413         0.661430        0.004824               37  \n",
      "46           0.664515         0.663539        0.004730               19  \n",
      "47           0.664084         0.663711        0.004505               17  \n",
      "Best test set score: 0.6823032608160207 with {'criterion': 'gini', 'max_depth': 16, 'n_estimators': 100} parameters.\n",
      "Results on the test set:\n",
      "              precision    recall  f1-score   support\n",
      "\n",
      "           0       0.60      0.63      0.61      1291\n",
      "           1       0.80      0.78      0.79      2434\n",
      "\n",
      "    accuracy                           0.73      3725\n",
      "   macro avg       0.70      0.70      0.70      3725\n",
      "weighted avg       0.73      0.73      0.73      3725\n",
      "\n"
     ]
    }
   ]
  },
  {
   "cell_type": "markdown",
   "source": [
    "Let's make a feature importance plot."
   ],
   "metadata": {
    "collapsed": false,
    "pycharm": {
     "name": "#%% md\n"
    }
   }
  },
  {
   "cell_type": "markdown",
   "source": [
    "Feature importance based on mean decrease in impurity"
   ],
   "metadata": {
    "collapsed": false,
    "pycharm": {
     "name": "#%% md\n"
    }
   }
  },
  {
   "cell_type": "code",
   "execution_count": 24,
   "outputs": [
    {
     "data": {
      "text/plain": "<Figure size 432x288 with 1 Axes>",
      "image/png": "[encoded data removed]"
     },
     "metadata": {
      "needs_background": "light"
     },
     "output_type": "display_data"
    }
   ],
   "source": [
    "importances = grid_searchRF.best_estimator_.feature_importances_\n",
    "std = np.std([\n",
    "    tree.feature_importances_ for tree in grid_searchRF.best_estimator_.estimators_], axis=0)\n",
    "\n",
    "forestImportances = pd.Series(importances, index=X_train.columns)\n",
    "\n",
    "fig, ax = plt.subplots()\n",
    "forestImportances.plot.bar(yerr=std, ax=ax)\n",
    "ax.set_title(\"Feature importances using MDI\")\n",
    "ax.set_ylabel(\"Mean decrease in impurity\")\n",
    "fig.tight_layout()"
   ],
   "metadata": {
    "collapsed": false,
    "pycharm": {
     "name": "#%%\n"
    }
   }
  },
  {
   "cell_type": "markdown",
   "source": [
    "Feature importance based on feature permutation"
   ],
   "metadata": {
    "collapsed": false
   }
  },
  {
   "cell_type": "code",
   "execution_count": 26,
   "outputs": [
    {
     "data": {
      "text/plain": "<Figure size 432x288 with 1 Axes>",
      "image/png": "[encoded data removed]"
     },
     "metadata": {
      "needs_background": "light"
     },
     "output_type": "display_data"
    }
   ],
   "source": [
    "from sklearn.inspection import permutation_importance\n",
    "\n",
    "importances = grid_searchRF.best_estimator_.feature_importances_\n",
    "result = permutation_importance(\n",
    "    grid_searchRF.best_estimator_, X_test, y_test, n_repeats=10, random_state=42, n_jobs=-1)\n",
    "\n",
    "forestImportances = pd.Series(result.importances_mean, index=X_train.columns)\n",
    "\n",
    "fig, ax = plt.subplots()\n",
    "forestImportances.plot.bar(yerr=std, ax=ax)\n",
    "ax.set_title(\"Feature importances using permutation on full model\")\n",
    "ax.set_ylabel(\"Mean accuracy decrease\")\n",
    "fig.tight_layout()\n"
   ],
   "metadata": {
    "collapsed": false,
    "pycharm": {
     "name": "#%%\n"
    }
   }
  },
  {
   "cell_type": "markdown",
   "source": [
    "### Gradient Boosted Trees (GBT)"
   ],
   "metadata": {
    "collapsed": false,
    "pycharm": {
     "name": "#%% md\n"
    }
   }
  },
  {
   "cell_type": "code",
   "source": [
    "from sklearn.ensemble import GradientBoostingClassifier\n",
    "from sklearn.model_selection import GridSearchCV\n",
    "\n",
    "param_grid = {'max_depth':[2,4,8,16,30,40], 'loss':['deviance', 'exponential']}\n",
    "\n",
    "grid_searchGBT = GridSearchCV(GradientBoostingClassifier(), param_grid, cv=5, n_jobs=-1)\n",
    "grid_searchGBT.fit(X_train, y_train)\n",
    "GBT_ResultsDf = pd.DataFrame(grid_searchGBT.cv_results_)\n",
    "\n",
    "# print(GBT_ResultsDf)\n",
    "print(f\"Best test set score: {grid_searchGBT.best_score_} with {grid_searchGBT.best_params_} parameters.\")\n",
    "\n",
    "y_true, y_pred = y_test , grid_searchGBT.predict(X_test)\n",
    "from sklearn.metrics import classification_report\n",
    "print('Results on the test set:')\n",
    "print(classification_report(y_true, y_pred))"
   ],
   "metadata": {
    "collapsed": false,
    "pycharm": {
     "name": "#%%\n"
    }
   },
   "execution_count": 56,
   "outputs": [
    {
     "name": "stdout",
     "output_type": "stream",
     "text": [
      "    mean_fit_time  std_fit_time  mean_score_time  std_score_time   param_loss  \\\n",
      "0        2.072682      0.014077         0.008791        0.001166     deviance   \n",
      "1        3.872240      0.020015         0.011388        0.000489     deviance   \n",
      "2        7.846577      0.031979         0.017981        0.000631     deviance   \n",
      "3       19.780578      0.206443         0.034764        0.000748     deviance   \n",
      "4       54.356637      1.339518         0.082316        0.002057     deviance   \n",
      "5       52.473363      0.421516         0.086512        0.002574     deviance   \n",
      "6        1.989565      0.010621         0.007792        0.000400  exponential   \n",
      "7        3.819695      0.023930         0.011188        0.000400  exponential   \n",
      "8        7.867557      0.023578         0.017182        0.000399  exponential   \n",
      "9       20.239310      0.237111         0.034565        0.000490  exponential   \n",
      "10      55.482287      1.555385         0.077521        0.005195  exponential   \n",
      "11      47.445501      7.825580         0.074324        0.006210  exponential   \n",
      "\n",
      "   param_max_depth                                    params  \\\n",
      "0                2      {'loss': 'deviance', 'max_depth': 2}   \n",
      "1                4      {'loss': 'deviance', 'max_depth': 4}   \n",
      "2                8      {'loss': 'deviance', 'max_depth': 8}   \n",
      "3               16     {'loss': 'deviance', 'max_depth': 16}   \n",
      "4               30     {'loss': 'deviance', 'max_depth': 30}   \n",
      "5               40     {'loss': 'deviance', 'max_depth': 40}   \n",
      "6                2   {'loss': 'exponential', 'max_depth': 2}   \n",
      "7                4   {'loss': 'exponential', 'max_depth': 4}   \n",
      "8                8   {'loss': 'exponential', 'max_depth': 8}   \n",
      "9               16  {'loss': 'exponential', 'max_depth': 16}   \n",
      "10              30  {'loss': 'exponential', 'max_depth': 30}   \n",
      "11              40  {'loss': 'exponential', 'max_depth': 40}   \n",
      "\n",
      "    split0_test_score  split1_test_score  split2_test_score  \\\n",
      "0            0.658778           0.662148           0.657413   \n",
      "1            0.678787           0.685388           0.676350   \n",
      "2            0.681583           0.688186           0.686249   \n",
      "3            0.667814           0.667312           0.658920   \n",
      "4            0.645009           0.646008           0.646008   \n",
      "5            0.637909           0.632236           0.634603   \n",
      "6            0.658993           0.662148           0.656983   \n",
      "7            0.677281           0.681085           0.676566   \n",
      "8            0.679862           0.688832           0.683452   \n",
      "9            0.671256           0.675705           0.668388   \n",
      "10           0.647590           0.646654           0.646869   \n",
      "11           0.642427           0.633312           0.637400   \n",
      "\n",
      "    split3_test_score  split4_test_score  mean_test_score  std_test_score  \\\n",
      "0            0.657844           0.662793         0.659795        0.002238   \n",
      "1            0.686895           0.686464         0.682777        0.004350   \n",
      "2            0.683882           0.681945         0.684369        0.002529   \n",
      "3            0.673122           0.673338         0.668101        0.005247   \n",
      "4            0.650742           0.646223         0.646798        0.002017   \n",
      "5            0.646869           0.632451         0.636814        0.005426   \n",
      "6            0.661072           0.660856         0.660010        0.001823   \n",
      "7            0.683452           0.683452         0.680367        0.002950   \n",
      "8            0.687971           0.689262         0.685876        0.003650   \n",
      "9            0.674844           0.676135         0.673266        0.002983   \n",
      "10           0.658489           0.653110         0.650542        0.004628   \n",
      "11           0.648806           0.634173         0.639223        0.005760   \n",
      "\n",
      "    rank_test_score  \n",
      "0                 8  \n",
      "1                 3  \n",
      "2                 2  \n",
      "3                 6  \n",
      "4                10  \n",
      "5                12  \n",
      "6                 7  \n",
      "7                 4  \n",
      "8                 1  \n",
      "9                 5  \n",
      "10                9  \n",
      "11               11  \n",
      "Best test set score: 0.6858756246048475 with {'loss': 'exponential', 'max_depth': 8} parameters.\n",
      "Results on the test set:\n",
      "              precision    recall  f1-score   support\n",
      "\n",
      "           0       0.61      0.62      0.62      1291\n",
      "           1       0.80      0.79      0.80      2434\n",
      "\n",
      "    accuracy                           0.73      3725\n",
      "   macro avg       0.71      0.71      0.71      3725\n",
      "weighted avg       0.73      0.73      0.73      3725\n",
      "\n"
     ]
    }
   ]
  },
  {
   "cell_type": "markdown",
   "source": [
    "### Multi-Layered Perceptron (MLP)"
   ],
   "metadata": {
    "collapsed": false,
    "pycharm": {
     "name": "#%% md\n"
    }
   }
  },
  {
   "cell_type": "code",
   "source": [
    "from sklearn.neural_network import MLPClassifier\n",
    "from sklearn.model_selection import GridSearchCV\n",
    "\n",
    "param_grid = {\n",
    "    'hidden_layer_sizes': [(5), (5, 5), (10), (10, 10), (10, 5), (5, 10, 5), (15, 30, 15), (5, 10, 10, 5), (15, 30, 5)],\n",
    "    'activation': ['tanh', 'relu'],\n",
    "    'solver': ['adam'],\n",
    "    'alpha': [0.0001, 0.05],\n",
    "    'learning_rate': ['constant']\n",
    "}\n",
    "\n",
    "grid_searchMLP = GridSearchCV(MLPClassifier(max_iter=10000), param_grid, cv=5, n_jobs=-1)\n",
    "\n",
    "grid_searchMLP.fit(X_train, y_train)\n",
    "MLP_ResultsDf = pd.DataFrame(grid_searchMLP.cv_results_)\n",
    "\n",
    "print(MLP_ResultsDf)\n",
    "print(f\"Best test set score: {grid_searchMLP.best_score_} with {grid_searchMLP.best_params_} parameters.\")\n",
    "\n",
    "y_true, y_pred = y_test , grid_searchMLP.predict(X_test)\n",
    "from sklearn.metrics import classification_report\n",
    "print('Results on the test set:')\n",
    "print(classification_report(y_true, y_pred))\n"
   ],
   "metadata": {
    "collapsed": false,
    "pycharm": {
     "name": "#%%\n",
     "is_executing": true
    }
   },
   "execution_count": null,
   "outputs": []
  }
 ],
 "metadata": {
  "kernelspec": {
   "display_name": "Python 3",
   "language": "python",
   "name": "python3"
  },
  "language_info": {
   "codemirror_mode": {
    "name": "ipython",
    "version": 2
   },
   "file_extension": ".py",
   "mimetype": "text/x-python",
   "name": "python",
   "nbconvert_exporter": "python",
   "pygments_lexer": "ipython2",
   "version": "2.7.6"
  }
 },
 "nbformat": 4,
 "nbformat_minor": 0
}