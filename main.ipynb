{
 "cells": [
  {
   "cell_type": "markdown",
   "metadata": {
    "collapsed": true,
    "pycharm": {
     "name": "#%% md\n"
    }
   },
   "source": [
    "Title\n",
    "\n",
    "Description"
   ]
  },
  {
   "cell_type": "markdown",
   "source": [
    "Importing packages."
   ],
   "metadata": {
    "collapsed": false,
    "pycharm": {
     "name": "#%% md\n"
    }
   }
  },
  {
   "cell_type": "code",
   "execution_count": 21,
   "outputs": [],
   "source": [
    "import sklearn\n",
    "import pandas as pd"
   ],
   "metadata": {
    "collapsed": false,
    "pycharm": {
     "name": "#%%\n"
    }
   }
  },
  {
   "cell_type": "markdown",
   "source": [
    "Importing data into pandas DataFrame."
   ],
   "metadata": {
    "collapsed": false,
    "pycharm": {
     "name": "#%% md\n"
    }
   }
  },
  {
   "cell_type": "code",
   "execution_count": 22,
   "outputs": [
    {
     "data": {
      "text/plain": "      fire_size_class   latitude   longitude discovery_month  weekday  \\\n29881               E  42.251900 -115.543060             Sep    False   \n30271               B  30.400000  -85.240000             Jun     True   \n29450               B  31.035656  -84.133121             Mar    False   \n3975                B  30.692400  -82.059600             Jul     True   \n2609                B  40.716188 -104.968846             Sep     True   \n\n           Vegetation  remoteness  elevation       Temp      Wind   Humidity  \\\n29881       Grassland    0.448228     1339.0  17.441237  4.632610  50.070086   \n30271  Open Shrubland    0.166176       49.0  27.985804  4.220963  75.602892   \n29450  Open Shrubland    0.155738       86.0  11.973348  2.498544  69.772745   \n3975   Open Shrubland    0.137484       29.0  28.155292  3.348635  70.542502   \n2609         Rock/Ice    0.344393     1594.0  14.959681  2.986121  46.256630   \n\n       Precipitation  \n29881       3.300000  \n30271      25.300000  \n29450      65.000000  \n3975       55.000000  \n2609      398.133333  ",
      "text/html": "<div>\n<style scoped>\n    .dataframe tbody tr th:only-of-type {\n        vertical-align: middle;\n    }\n\n    .dataframe tbody tr th {\n        vertical-align: top;\n    }\n\n    .dataframe thead th {\n        text-align: right;\n    }\n</style>\n<table border=\"1\" class=\"dataframe\">\n  <thead>\n    <tr style=\"text-align: right;\">\n      <th></th>\n      <th>fire_size_class</th>\n      <th>latitude</th>\n      <th>longitude</th>\n      <th>discovery_month</th>\n      <th>weekday</th>\n      <th>Vegetation</th>\n      <th>remoteness</th>\n      <th>elevation</th>\n      <th>Temp</th>\n      <th>Wind</th>\n      <th>Humidity</th>\n      <th>Precipitation</th>\n    </tr>\n  </thead>\n  <tbody>\n    <tr>\n      <th>29881</th>\n      <td>E</td>\n      <td>42.251900</td>\n      <td>-115.543060</td>\n      <td>Sep</td>\n      <td>False</td>\n      <td>Grassland</td>\n      <td>0.448228</td>\n      <td>1339.0</td>\n      <td>17.441237</td>\n      <td>4.632610</td>\n      <td>50.070086</td>\n      <td>3.300000</td>\n    </tr>\n    <tr>\n      <th>30271</th>\n      <td>B</td>\n      <td>30.400000</td>\n      <td>-85.240000</td>\n      <td>Jun</td>\n      <td>True</td>\n      <td>Open Shrubland</td>\n      <td>0.166176</td>\n      <td>49.0</td>\n      <td>27.985804</td>\n      <td>4.220963</td>\n      <td>75.602892</td>\n      <td>25.300000</td>\n    </tr>\n    <tr>\n      <th>29450</th>\n      <td>B</td>\n      <td>31.035656</td>\n      <td>-84.133121</td>\n      <td>Mar</td>\n      <td>False</td>\n      <td>Open Shrubland</td>\n      <td>0.155738</td>\n      <td>86.0</td>\n      <td>11.973348</td>\n      <td>2.498544</td>\n      <td>69.772745</td>\n      <td>65.000000</td>\n    </tr>\n    <tr>\n      <th>3975</th>\n      <td>B</td>\n      <td>30.692400</td>\n      <td>-82.059600</td>\n      <td>Jul</td>\n      <td>True</td>\n      <td>Open Shrubland</td>\n      <td>0.137484</td>\n      <td>29.0</td>\n      <td>28.155292</td>\n      <td>3.348635</td>\n      <td>70.542502</td>\n      <td>55.000000</td>\n    </tr>\n    <tr>\n      <th>2609</th>\n      <td>B</td>\n      <td>40.716188</td>\n      <td>-104.968846</td>\n      <td>Sep</td>\n      <td>True</td>\n      <td>Rock/Ice</td>\n      <td>0.344393</td>\n      <td>1594.0</td>\n      <td>14.959681</td>\n      <td>2.986121</td>\n      <td>46.256630</td>\n      <td>398.133333</td>\n    </tr>\n  </tbody>\n</table>\n</div>"
     },
     "execution_count": 22,
     "metadata": {},
     "output_type": "execute_result"
    }
   ],
   "source": [
    "df = pd.read_csv(r\"fullDataFinal.csv\", index_col=0)\n",
    "df.columns = df.columns.str.strip()\n",
    "df.sample(5)"
   ],
   "metadata": {
    "collapsed": false,
    "pycharm": {
     "name": "#%%\n"
    }
   }
  },
  {
   "cell_type": "markdown",
   "source": [
    "Separate target variable (fire_size_class) from predictor variables."
   ],
   "metadata": {
    "collapsed": false,
    "pycharm": {
     "name": "#%% md\n"
    }
   }
  },
  {
   "cell_type": "code",
   "execution_count": 23,
   "outputs": [],
   "source": [
    "dfTarget = df[\"fire_size_class\"]\n",
    "dfPredictor = df[[\"latitude\", \"longitude\", \"discovery_month\", \"weekday\", \"Vegetation\", \"remoteness\", \"elevation\", \"Temp\", \"Wind\", \"Humidity\", \"Precipitation\"]]"
   ],
   "metadata": {
    "collapsed": false,
    "pycharm": {
     "name": "#%%\n"
    }
   }
  },
  {
   "cell_type": "markdown",
   "source": [
    "Changing categorical variables into one-hot encoded ones."
   ],
   "metadata": {
    "collapsed": false,
    "pycharm": {
     "name": "#%% md\n"
    }
   }
  },
  {
   "cell_type": "code",
   "source": [
    "# First let's do fire_size_class\n",
    "dfTarget = pd.concat([dfTarget, pd.get_dummies(dfTarget)], axis=1)  # use get_dummies and concatenate the result to dfTarget\n",
    "dfTarget.drop([\"fire_size_class\"], axis=1, inplace=True)  # and remove the old column\n",
    "dfTarget.sample(5)"
   ],
   "metadata": {
    "collapsed": false,
    "pycharm": {
     "name": "#%%\n"
    }
   },
   "execution_count": 24,
   "outputs": [
    {
     "data": {
      "text/plain": "       B  C  D  E  F  G\n11202  0  1  0  0  0  0\n18996  1  0  0  0  0  0\n36132  0  0  0  0  1  0\n33815  0  0  0  0  0  1\n24163  1  0  0  0  0  0",
      "text/html": "<div>\n<style scoped>\n    .dataframe tbody tr th:only-of-type {\n        vertical-align: middle;\n    }\n\n    .dataframe tbody tr th {\n        vertical-align: top;\n    }\n\n    .dataframe thead th {\n        text-align: right;\n    }\n</style>\n<table border=\"1\" class=\"dataframe\">\n  <thead>\n    <tr style=\"text-align: right;\">\n      <th></th>\n      <th>B</th>\n      <th>C</th>\n      <th>D</th>\n      <th>E</th>\n      <th>F</th>\n      <th>G</th>\n    </tr>\n  </thead>\n  <tbody>\n    <tr>\n      <th>11202</th>\n      <td>0</td>\n      <td>1</td>\n      <td>0</td>\n      <td>0</td>\n      <td>0</td>\n      <td>0</td>\n    </tr>\n    <tr>\n      <th>18996</th>\n      <td>1</td>\n      <td>0</td>\n      <td>0</td>\n      <td>0</td>\n      <td>0</td>\n      <td>0</td>\n    </tr>\n    <tr>\n      <th>36132</th>\n      <td>0</td>\n      <td>0</td>\n      <td>0</td>\n      <td>0</td>\n      <td>1</td>\n      <td>0</td>\n    </tr>\n    <tr>\n      <th>33815</th>\n      <td>0</td>\n      <td>0</td>\n      <td>0</td>\n      <td>0</td>\n      <td>0</td>\n      <td>1</td>\n    </tr>\n    <tr>\n      <th>24163</th>\n      <td>1</td>\n      <td>0</td>\n      <td>0</td>\n      <td>0</td>\n      <td>0</td>\n      <td>0</td>\n    </tr>\n  </tbody>\n</table>\n</div>"
     },
     "execution_count": 24,
     "metadata": {},
     "output_type": "execute_result"
    }
   ]
  },
  {
   "cell_type": "code",
   "execution_count": 25,
   "outputs": [
    {
     "data": {
      "text/plain": "        latitude   longitude  weekday  remoteness  elevation       Temp  \\\n26101  33.212500  -81.054167     True    0.126719       58.0   9.795972   \n36377  38.136100  -98.396000    False    0.328005      538.0  10.229511   \n11527  34.450000  -79.666700     True    0.113637       28.0   3.046512   \n21113  36.916944 -120.100000     True    0.496916       77.0  22.593857   \n21367  31.635300  -82.096400     True    0.137097       56.0  16.188704   \n\n           Wind   Humidity  Precipitation  Veg Desert  ...  Dec  Feb  Jan  \\\n26101  3.437566  62.684061     422.933333           0  ...    0    0    0   \n36377  6.326077  58.101109       4.866667           0  ...    0    0    0   \n11527  1.304393  24.426357       0.000000           0  ...    0    0    0   \n21113  3.215286  43.777142       0.000000           0  ...    0    0    0   \n21367  2.575006  62.877664       4.666667           0  ...    0    0    0   \n\n       Jul  Jun  Mar  May  Nov  Oct  Sep  \n26101    0    0    1    0    0    0    0  \n36377    0    0    0    0    0    0    0  \n11527    0    0    1    0    0    0    0  \n21113    0    1    0    0    0    0    0  \n21367    0    0    0    0    1    0    0  \n\n[5 rows x 27 columns]",
      "text/html": "<div>\n<style scoped>\n    .dataframe tbody tr th:only-of-type {\n        vertical-align: middle;\n    }\n\n    .dataframe tbody tr th {\n        vertical-align: top;\n    }\n\n    .dataframe thead th {\n        text-align: right;\n    }\n</style>\n<table border=\"1\" class=\"dataframe\">\n  <thead>\n    <tr style=\"text-align: right;\">\n      <th></th>\n      <th>latitude</th>\n      <th>longitude</th>\n      <th>weekday</th>\n      <th>remoteness</th>\n      <th>elevation</th>\n      <th>Temp</th>\n      <th>Wind</th>\n      <th>Humidity</th>\n      <th>Precipitation</th>\n      <th>Veg Desert</th>\n      <th>...</th>\n      <th>Dec</th>\n      <th>Feb</th>\n      <th>Jan</th>\n      <th>Jul</th>\n      <th>Jun</th>\n      <th>Mar</th>\n      <th>May</th>\n      <th>Nov</th>\n      <th>Oct</th>\n      <th>Sep</th>\n    </tr>\n  </thead>\n  <tbody>\n    <tr>\n      <th>26101</th>\n      <td>33.212500</td>\n      <td>-81.054167</td>\n      <td>True</td>\n      <td>0.126719</td>\n      <td>58.0</td>\n      <td>9.795972</td>\n      <td>3.437566</td>\n      <td>62.684061</td>\n      <td>422.933333</td>\n      <td>0</td>\n      <td>...</td>\n      <td>0</td>\n      <td>0</td>\n      <td>0</td>\n      <td>0</td>\n      <td>0</td>\n      <td>1</td>\n      <td>0</td>\n      <td>0</td>\n      <td>0</td>\n      <td>0</td>\n    </tr>\n    <tr>\n      <th>36377</th>\n      <td>38.136100</td>\n      <td>-98.396000</td>\n      <td>False</td>\n      <td>0.328005</td>\n      <td>538.0</td>\n      <td>10.229511</td>\n      <td>6.326077</td>\n      <td>58.101109</td>\n      <td>4.866667</td>\n      <td>0</td>\n      <td>...</td>\n      <td>0</td>\n      <td>0</td>\n      <td>0</td>\n      <td>0</td>\n      <td>0</td>\n      <td>0</td>\n      <td>0</td>\n      <td>0</td>\n      <td>0</td>\n      <td>0</td>\n    </tr>\n    <tr>\n      <th>11527</th>\n      <td>34.450000</td>\n      <td>-79.666700</td>\n      <td>True</td>\n      <td>0.113637</td>\n      <td>28.0</td>\n      <td>3.046512</td>\n      <td>1.304393</td>\n      <td>24.426357</td>\n      <td>0.000000</td>\n      <td>0</td>\n      <td>...</td>\n      <td>0</td>\n      <td>0</td>\n      <td>0</td>\n      <td>0</td>\n      <td>0</td>\n      <td>1</td>\n      <td>0</td>\n      <td>0</td>\n      <td>0</td>\n      <td>0</td>\n    </tr>\n    <tr>\n      <th>21113</th>\n      <td>36.916944</td>\n      <td>-120.100000</td>\n      <td>True</td>\n      <td>0.496916</td>\n      <td>77.0</td>\n      <td>22.593857</td>\n      <td>3.215286</td>\n      <td>43.777142</td>\n      <td>0.000000</td>\n      <td>0</td>\n      <td>...</td>\n      <td>0</td>\n      <td>0</td>\n      <td>0</td>\n      <td>0</td>\n      <td>1</td>\n      <td>0</td>\n      <td>0</td>\n      <td>0</td>\n      <td>0</td>\n      <td>0</td>\n    </tr>\n    <tr>\n      <th>21367</th>\n      <td>31.635300</td>\n      <td>-82.096400</td>\n      <td>True</td>\n      <td>0.137097</td>\n      <td>56.0</td>\n      <td>16.188704</td>\n      <td>2.575006</td>\n      <td>62.877664</td>\n      <td>4.666667</td>\n      <td>0</td>\n      <td>...</td>\n      <td>0</td>\n      <td>0</td>\n      <td>0</td>\n      <td>0</td>\n      <td>0</td>\n      <td>0</td>\n      <td>0</td>\n      <td>1</td>\n      <td>0</td>\n      <td>0</td>\n    </tr>\n  </tbody>\n</table>\n<p>5 rows × 27 columns</p>\n</div>"
     },
     "execution_count": 25,
     "metadata": {},
     "output_type": "execute_result"
    }
   ],
   "source": [
    "# Now Vegetation\n",
    "dfPredictor = pd.concat([dfPredictor, pd.get_dummies(dfPredictor[\"Vegetation\"], prefix=\"Veg\", prefix_sep=\" \")], axis=1)\n",
    "dfPredictor.drop([\"Vegetation\"], axis=1, inplace=True)\n",
    "\n",
    "# And discovery_month\n",
    "dfPredictor = pd.concat([dfPredictor, pd.get_dummies(dfPredictor[\"discovery_month\"])], axis=1)\n",
    "dfPredictor.drop([\"discovery_month\"], axis=1, inplace=True)\n",
    "dfPredictor.sample(5)"
   ],
   "metadata": {
    "collapsed": false,
    "pycharm": {
     "name": "#%%\n"
    }
   }
  },
  {
   "cell_type": "markdown",
   "source": [
    "Scaling numerical data to 0-1 range."
   ],
   "metadata": {
    "collapsed": false,
    "pycharm": {
     "name": "#%% md\n"
    }
   }
  },
  {
   "cell_type": "code",
   "execution_count": 25,
   "outputs": [],
   "source": [],
   "metadata": {
    "collapsed": false,
    "pycharm": {
     "name": "#%%\n"
    }
   }
  },
  {
   "cell_type": "markdown",
   "source": [
    "Training models, each in a cell (?)\n",
    "\n",
    "* K-Nearest Neighbour (KNN)\n",
    "* Naïve Bayes (NB)\n",
    "* Support Vector Machine (SVM)\n",
    "* Decision Tree (DT)\n",
    "* Random Forest (RF)\n",
    "* Gradient Boosted Trees (GBT)\n",
    "* Multi-Layered Perceptron (MLP)\n",
    "* Artificial Neural Network (ANN)"
   ],
   "metadata": {
    "collapsed": false,
    "pycharm": {
     "name": "#%% md\n"
    }
   }
  },
  {
   "cell_type": "code",
   "execution_count": 25,
   "outputs": [],
   "source": [],
   "metadata": {
    "collapsed": false,
    "pycharm": {
     "name": "#%%\n"
    }
   }
  }
 ],
 "metadata": {
  "kernelspec": {
   "display_name": "Python 3",
   "language": "python",
   "name": "python3"
  },
  "language_info": {
   "codemirror_mode": {
    "name": "ipython",
    "version": 2
   },
   "file_extension": ".py",
   "mimetype": "text/x-python",
   "name": "python",
   "nbconvert_exporter": "python",
   "pygments_lexer": "ipython2",
   "version": "2.7.6"
  }
 },
 "nbformat": 4,
 "nbformat_minor": 0
}