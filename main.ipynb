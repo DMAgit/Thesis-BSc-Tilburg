{
 "cells": [
  {
   "cell_type": "markdown",
   "metadata": {
    "collapsed": true,
    "pycharm": {
     "name": "#%% md\n"
    }
   },
   "source": [
    "Title\n",
    "\n",
    "Description"
   ]
  },
  {
   "cell_type": "markdown",
   "source": [
    "Importing packages."
   ],
   "metadata": {
    "collapsed": false,
    "pycharm": {
     "name": "#%% md\n"
    }
   }
  },
  {
   "cell_type": "code",
   "execution_count": 3,
   "outputs": [],
   "source": [
    "import pandas as pd\n",
    "import matplotlib.pyplot as plt\n",
    "%matplotlib inline"
   ],
   "metadata": {
    "collapsed": false,
    "pycharm": {
     "name": "#%%\n"
    }
   }
  },
  {
   "cell_type": "markdown",
   "source": [
    "Importing data into pandas DataFrame."
   ],
   "metadata": {
    "collapsed": false,
    "pycharm": {
     "name": "#%% md\n"
    }
   }
  },
  {
   "cell_type": "code",
   "execution_count": 4,
   "outputs": [
    {
     "data": {
      "text/plain": "      fire_size_class   latitude  longitude discovery_month  weekday  \\\n17928               B  33.912500 -79.512500             Jan    False   \n31608               B  47.875000 -94.991700             Apr     True   \n10024               B  38.190158 -92.962625             Nov     True   \n26322               B  41.324438 -74.259891             Apr    False   \n23669               B  18.073431 -66.709900             Jan     True   \n\n             Vegetation  remoteness  elevation      Temp      Wind   Humidity  \\\n17928  Broadleaf Forest    0.112630       13.0  6.415359  3.310835  69.856022   \n31608              Rock    0.247272      374.0  1.449848  3.629489  68.597032   \n10024               NaN    0.231711      202.0  6.815328  2.482525  72.078906   \n26322              Rock    0.062910      182.0  5.381329  3.649416  58.227912   \n23669         Shrubland    0.017601      213.0  8.098765  1.917901  23.160494   \n\n       Precipitation  \n17928       0.000000  \n31608       0.000000  \n10024       0.000000  \n26322      32.833333  \n23669       0.000000  ",
      "text/html": "<div>\n<style scoped>\n    .dataframe tbody tr th:only-of-type {\n        vertical-align: middle;\n    }\n\n    .dataframe tbody tr th {\n        vertical-align: top;\n    }\n\n    .dataframe thead th {\n        text-align: right;\n    }\n</style>\n<table border=\"1\" class=\"dataframe\">\n  <thead>\n    <tr style=\"text-align: right;\">\n      <th></th>\n      <th>fire_size_class</th>\n      <th>latitude</th>\n      <th>longitude</th>\n      <th>discovery_month</th>\n      <th>weekday</th>\n      <th>Vegetation</th>\n      <th>remoteness</th>\n      <th>elevation</th>\n      <th>Temp</th>\n      <th>Wind</th>\n      <th>Humidity</th>\n      <th>Precipitation</th>\n    </tr>\n  </thead>\n  <tbody>\n    <tr>\n      <th>17928</th>\n      <td>B</td>\n      <td>33.912500</td>\n      <td>-79.512500</td>\n      <td>Jan</td>\n      <td>False</td>\n      <td>Broadleaf Forest</td>\n      <td>0.112630</td>\n      <td>13.0</td>\n      <td>6.415359</td>\n      <td>3.310835</td>\n      <td>69.856022</td>\n      <td>0.000000</td>\n    </tr>\n    <tr>\n      <th>31608</th>\n      <td>B</td>\n      <td>47.875000</td>\n      <td>-94.991700</td>\n      <td>Apr</td>\n      <td>True</td>\n      <td>Rock</td>\n      <td>0.247272</td>\n      <td>374.0</td>\n      <td>1.449848</td>\n      <td>3.629489</td>\n      <td>68.597032</td>\n      <td>0.000000</td>\n    </tr>\n    <tr>\n      <th>10024</th>\n      <td>B</td>\n      <td>38.190158</td>\n      <td>-92.962625</td>\n      <td>Nov</td>\n      <td>True</td>\n      <td>NaN</td>\n      <td>0.231711</td>\n      <td>202.0</td>\n      <td>6.815328</td>\n      <td>2.482525</td>\n      <td>72.078906</td>\n      <td>0.000000</td>\n    </tr>\n    <tr>\n      <th>26322</th>\n      <td>B</td>\n      <td>41.324438</td>\n      <td>-74.259891</td>\n      <td>Apr</td>\n      <td>False</td>\n      <td>Rock</td>\n      <td>0.062910</td>\n      <td>182.0</td>\n      <td>5.381329</td>\n      <td>3.649416</td>\n      <td>58.227912</td>\n      <td>32.833333</td>\n    </tr>\n    <tr>\n      <th>23669</th>\n      <td>B</td>\n      <td>18.073431</td>\n      <td>-66.709900</td>\n      <td>Jan</td>\n      <td>True</td>\n      <td>Shrubland</td>\n      <td>0.017601</td>\n      <td>213.0</td>\n      <td>8.098765</td>\n      <td>1.917901</td>\n      <td>23.160494</td>\n      <td>0.000000</td>\n    </tr>\n  </tbody>\n</table>\n</div>"
     },
     "execution_count": 4,
     "metadata": {},
     "output_type": "execute_result"
    }
   ],
   "source": [
    "df = pd.read_csv(r\"fullDataFinal.csv\", index_col=0)\n",
    "df.columns = df.columns.str.strip()\n",
    "df.sample(5)"
   ],
   "metadata": {
    "collapsed": false,
    "pycharm": {
     "name": "#%%\n"
    }
   }
  },
  {
   "cell_type": "markdown",
   "source": [
    "Separate target variable (fire_size_class) from predictor variables."
   ],
   "metadata": {
    "collapsed": false,
    "pycharm": {
     "name": "#%% md\n"
    }
   }
  },
  {
   "cell_type": "code",
   "execution_count": 5,
   "outputs": [],
   "source": [
    "dfTarget = df[\"fire_size_class\"]\n",
    "dfPredictor = df[[\"latitude\", \"longitude\", \"discovery_month\", \"weekday\", \"Vegetation\", \"remoteness\", \"elevation\", \"Temp\", \"Wind\", \"Humidity\", \"Precipitation\"]]"
   ],
   "metadata": {
    "collapsed": false,
    "pycharm": {
     "name": "#%%\n"
    }
   }
  },
  {
   "cell_type": "markdown",
   "source": [
    "Before doing anything, let's check the distribution of our data by plotting a histogram"
   ],
   "metadata": {
    "collapsed": false,
    "pycharm": {
     "name": "#%% md\n"
    }
   }
  },
  {
   "cell_type": "code",
   "execution_count": 6,
   "outputs": [
    {
     "data": {
      "text/plain": "array([[<AxesSubplot:title={'center':'latitude'}>,\n        <AxesSubplot:title={'center':'longitude'}>,\n        <AxesSubplot:title={'center':'remoteness'}>],\n       [<AxesSubplot:title={'center':'elevation'}>,\n        <AxesSubplot:title={'center':'Temp'}>,\n        <AxesSubplot:title={'center':'Wind'}>],\n       [<AxesSubplot:title={'center':'Humidity'}>,\n        <AxesSubplot:title={'center':'Precipitation'}>, <AxesSubplot:>]],\n      dtype=object)"
     },
     "execution_count": 6,
     "metadata": {},
     "output_type": "execute_result"
    },
    {
     "data": {
      "text/plain": "<Figure size 432x288 with 1 Axes>",
      "image/png": "[encoded data removed]"
     },
     "metadata": {
      "needs_background": "light"
     },
     "output_type": "display_data"
    },
    {
     "data": {
      "text/plain": "<Figure size 432x288 with 9 Axes>",
      "image/png": "[encoded data removed]"
     },
     "metadata": {
      "needs_background": "light"
     },
     "output_type": "display_data"
    }
   ],
   "source": [
    "dfTarget.hist()\n",
    "dfPredictor.hist()"
   ],
   "metadata": {
    "collapsed": false,
    "pycharm": {
     "name": "#%%\n"
    }
   }
  },
  {
   "cell_type": "markdown",
   "source": [
    "From the first histogram we can see that the \"B\" class is *way* overrepresented in our data and there is an imbalance.\n",
    "\n",
    "In order to deal with this, I chose to undersample the B class.\n",
    "\n"
   ],
   "metadata": {
    "collapsed": false,
    "pycharm": {
     "name": "#%% md\n"
    }
   }
  },
  {
   "cell_type": "markdown",
   "source": [
    "Changing categorical variables into one-hot encoded ones."
   ],
   "metadata": {
    "collapsed": false,
    "pycharm": {
     "name": "#%% md\n"
    }
   }
  },
  {
   "cell_type": "code",
   "source": [
    "# First let's do fire_size_class\n",
    "dfTarget = pd.concat([dfTarget, pd.get_dummies(dfTarget)], axis=1)  # use get_dummies and concatenate the result to dfTarget\n",
    "dfTarget.drop([\"fire_size_class\"], axis=1, inplace=True)  # and remove the old column\n",
    "dfTarget.sample(5)"
   ],
   "metadata": {
    "collapsed": false,
    "pycharm": {
     "name": "#%%\n"
    }
   },
   "execution_count": 7,
   "outputs": [
    {
     "data": {
      "text/plain": "       B  C  D  E  F  G\n5372   1  0  0  0  0  0\n21071  0  1  0  0  0  0\n16921  1  0  0  0  0  0\n7969   0  1  0  0  0  0\n5682   1  0  0  0  0  0",
      "text/html": "<div>\n<style scoped>\n    .dataframe tbody tr th:only-of-type {\n        vertical-align: middle;\n    }\n\n    .dataframe tbody tr th {\n        vertical-align: top;\n    }\n\n    .dataframe thead th {\n        text-align: right;\n    }\n</style>\n<table border=\"1\" class=\"dataframe\">\n  <thead>\n    <tr style=\"text-align: right;\">\n      <th></th>\n      <th>B</th>\n      <th>C</th>\n      <th>D</th>\n      <th>E</th>\n      <th>F</th>\n      <th>G</th>\n    </tr>\n  </thead>\n  <tbody>\n    <tr>\n      <th>5372</th>\n      <td>1</td>\n      <td>0</td>\n      <td>0</td>\n      <td>0</td>\n      <td>0</td>\n      <td>0</td>\n    </tr>\n    <tr>\n      <th>21071</th>\n      <td>0</td>\n      <td>1</td>\n      <td>0</td>\n      <td>0</td>\n      <td>0</td>\n      <td>0</td>\n    </tr>\n    <tr>\n      <th>16921</th>\n      <td>1</td>\n      <td>0</td>\n      <td>0</td>\n      <td>0</td>\n      <td>0</td>\n      <td>0</td>\n    </tr>\n    <tr>\n      <th>7969</th>\n      <td>0</td>\n      <td>1</td>\n      <td>0</td>\n      <td>0</td>\n      <td>0</td>\n      <td>0</td>\n    </tr>\n    <tr>\n      <th>5682</th>\n      <td>1</td>\n      <td>0</td>\n      <td>0</td>\n      <td>0</td>\n      <td>0</td>\n      <td>0</td>\n    </tr>\n  </tbody>\n</table>\n</div>"
     },
     "execution_count": 7,
     "metadata": {},
     "output_type": "execute_result"
    }
   ]
  },
  {
   "cell_type": "code",
   "execution_count": 8,
   "outputs": [
    {
     "data": {
      "text/plain": "        latitude   longitude  remoteness  elevation       Temp      Wind  \\\n22409  32.992161  -83.212706    0.146075      108.0  13.366417  0.371044   \n19683  37.004440  -79.461110    0.110298      199.0  23.592982  1.620104   \n4923   35.055700  -90.727120    0.212842      123.0  11.921320  4.227136   \n34136  40.083300 -117.134300    0.060814     1551.0  30.662938  4.573027   \n8570   42.358204  -97.599236    0.273255      504.0   5.703476  5.576404   \n\n        Humidity  Precipitation  Veg Broadleaf Forest  Veg Desert  ...  Jan  \\\n22409  66.212639       0.000000                     0           0  ...    0   \n19683  71.834061      18.366667                     0           0  ...    0   \n4923   72.720573      69.200000                     0           0  ...    0   \n34136  12.577533       0.000000                     0           1  ...    0   \n8570   62.105452       5.733333                     0           0  ...    0   \n\n       Jul  Jun  Mar  May  Nov  Oct  Sep  is_weekend  is_weekday  \n22409    0    0    0    0    0    0    0           0           1  \n19683    0    0    0    0    0    0    1           0           1  \n4923     0    0    0    0    0    0    0           0           1  \n34136    0    0    0    0    0    0    0           0           1  \n8570     0    0    1    0    0    0    0           0           1  \n\n[5 rows x 28 columns]",
      "text/html": "<div>\n<style scoped>\n    .dataframe tbody tr th:only-of-type {\n        vertical-align: middle;\n    }\n\n    .dataframe tbody tr th {\n        vertical-align: top;\n    }\n\n    .dataframe thead th {\n        text-align: right;\n    }\n</style>\n<table border=\"1\" class=\"dataframe\">\n  <thead>\n    <tr style=\"text-align: right;\">\n      <th></th>\n      <th>latitude</th>\n      <th>longitude</th>\n      <th>remoteness</th>\n      <th>elevation</th>\n      <th>Temp</th>\n      <th>Wind</th>\n      <th>Humidity</th>\n      <th>Precipitation</th>\n      <th>Veg Broadleaf Forest</th>\n      <th>Veg Desert</th>\n      <th>...</th>\n      <th>Jan</th>\n      <th>Jul</th>\n      <th>Jun</th>\n      <th>Mar</th>\n      <th>May</th>\n      <th>Nov</th>\n      <th>Oct</th>\n      <th>Sep</th>\n      <th>is_weekend</th>\n      <th>is_weekday</th>\n    </tr>\n  </thead>\n  <tbody>\n    <tr>\n      <th>22409</th>\n      <td>32.992161</td>\n      <td>-83.212706</td>\n      <td>0.146075</td>\n      <td>108.0</td>\n      <td>13.366417</td>\n      <td>0.371044</td>\n      <td>66.212639</td>\n      <td>0.000000</td>\n      <td>0</td>\n      <td>0</td>\n      <td>...</td>\n      <td>0</td>\n      <td>0</td>\n      <td>0</td>\n      <td>0</td>\n      <td>0</td>\n      <td>0</td>\n      <td>0</td>\n      <td>0</td>\n      <td>0</td>\n      <td>1</td>\n    </tr>\n    <tr>\n      <th>19683</th>\n      <td>37.004440</td>\n      <td>-79.461110</td>\n      <td>0.110298</td>\n      <td>199.0</td>\n      <td>23.592982</td>\n      <td>1.620104</td>\n      <td>71.834061</td>\n      <td>18.366667</td>\n      <td>0</td>\n      <td>0</td>\n      <td>...</td>\n      <td>0</td>\n      <td>0</td>\n      <td>0</td>\n      <td>0</td>\n      <td>0</td>\n      <td>0</td>\n      <td>0</td>\n      <td>1</td>\n      <td>0</td>\n      <td>1</td>\n    </tr>\n    <tr>\n      <th>4923</th>\n      <td>35.055700</td>\n      <td>-90.727120</td>\n      <td>0.212842</td>\n      <td>123.0</td>\n      <td>11.921320</td>\n      <td>4.227136</td>\n      <td>72.720573</td>\n      <td>69.200000</td>\n      <td>0</td>\n      <td>0</td>\n      <td>...</td>\n      <td>0</td>\n      <td>0</td>\n      <td>0</td>\n      <td>0</td>\n      <td>0</td>\n      <td>0</td>\n      <td>0</td>\n      <td>0</td>\n      <td>0</td>\n      <td>1</td>\n    </tr>\n    <tr>\n      <th>34136</th>\n      <td>40.083300</td>\n      <td>-117.134300</td>\n      <td>0.060814</td>\n      <td>1551.0</td>\n      <td>30.662938</td>\n      <td>4.573027</td>\n      <td>12.577533</td>\n      <td>0.000000</td>\n      <td>0</td>\n      <td>1</td>\n      <td>...</td>\n      <td>0</td>\n      <td>0</td>\n      <td>0</td>\n      <td>0</td>\n      <td>0</td>\n      <td>0</td>\n      <td>0</td>\n      <td>0</td>\n      <td>0</td>\n      <td>1</td>\n    </tr>\n    <tr>\n      <th>8570</th>\n      <td>42.358204</td>\n      <td>-97.599236</td>\n      <td>0.273255</td>\n      <td>504.0</td>\n      <td>5.703476</td>\n      <td>5.576404</td>\n      <td>62.105452</td>\n      <td>5.733333</td>\n      <td>0</td>\n      <td>0</td>\n      <td>...</td>\n      <td>0</td>\n      <td>0</td>\n      <td>0</td>\n      <td>1</td>\n      <td>0</td>\n      <td>0</td>\n      <td>0</td>\n      <td>0</td>\n      <td>0</td>\n      <td>1</td>\n    </tr>\n  </tbody>\n</table>\n<p>5 rows × 28 columns</p>\n</div>"
     },
     "execution_count": 8,
     "metadata": {},
     "output_type": "execute_result"
    }
   ],
   "source": [
    "# Now Vegetation\n",
    "dfPredictor = pd.concat([dfPredictor, pd.get_dummies(dfPredictor[\"Vegetation\"], prefix=\"Veg\", prefix_sep=\" \")], axis=1)\n",
    "dfPredictor.drop([\"Vegetation\"], axis=1, inplace=True)\n",
    "\n",
    "# And discovery_month\n",
    "dfPredictor = pd.concat([dfPredictor, pd.get_dummies(dfPredictor[\"discovery_month\"])], axis=1)\n",
    "dfPredictor.drop([\"discovery_month\"], axis=1, inplace=True)\n",
    "\n",
    "# And weekday\n",
    "dfPredictor = pd.concat([dfPredictor, pd.get_dummies(dfPredictor[\"weekday\"])], axis=1)\n",
    "dfPredictor.drop([\"weekday\"], axis=1, inplace=True)\n",
    "dfPredictor.rename(columns={False:\"is_weekend\", True:\"is_weekday\"}, inplace=True)\n",
    "dfPredictor.sample(5)"
   ],
   "metadata": {
    "collapsed": false,
    "pycharm": {
     "name": "#%%\n"
    }
   }
  },
  {
   "cell_type": "markdown",
   "source": [
    "Scaling numerical data to 0-1 range."
   ],
   "metadata": {
    "collapsed": false,
    "pycharm": {
     "name": "#%% md\n"
    }
   }
  },
  {
   "cell_type": "code",
   "execution_count": 9,
   "outputs": [
    {
     "data": {
      "text/plain": "       latitude  longitude  remoteness  elevation      Temp      Wind  \\\n4058   0.352028   0.459612    0.489248   0.040318  0.648602  0.098342   \n27166  0.268680   0.829901    0.139552   0.034284  0.550486  0.069828   \n24099  0.433937   0.569856    0.377157   0.490949  0.473678  0.125668   \n10098  0.293366   0.766626    0.195522   0.066100  0.352250  0.107076   \n17637  0.271533   0.732534    0.227538   0.036753  0.532936  0.039830   \n\n       Humidity  Precipitation  Veg Broadleaf Forest  Veg Desert  ...  Jan  \\\n4058   0.506771       0.000000                     0           0  ...    0   \n27166  0.784400       0.007388                     0           0  ...    0   \n24099  0.552321       0.004995                     0           1  ...    0   \n10098  0.809793       0.000000                     0           0  ...    0   \n17637  0.828233       0.006192                     0           0  ...    0   \n\n       Jul  Jun  Mar  May  Nov  Oct  Sep  is_weekend  is_weekday  \n4058     1    0    0    0    0    0    0           0           1  \n27166    0    0    0    0    0    1    0           1           0  \n24099    0    0    0    1    0    0    0           0           1  \n10098    0    0    0    0    0    0    0           0           1  \n17637    0    0    0    0    0    1    0           1           0  \n\n[5 rows x 28 columns]",
      "text/html": "<div>\n<style scoped>\n    .dataframe tbody tr th:only-of-type {\n        vertical-align: middle;\n    }\n\n    .dataframe tbody tr th {\n        vertical-align: top;\n    }\n\n    .dataframe thead th {\n        text-align: right;\n    }\n</style>\n<table border=\"1\" class=\"dataframe\">\n  <thead>\n    <tr style=\"text-align: right;\">\n      <th></th>\n      <th>latitude</th>\n      <th>longitude</th>\n      <th>remoteness</th>\n      <th>elevation</th>\n      <th>Temp</th>\n      <th>Wind</th>\n      <th>Humidity</th>\n      <th>Precipitation</th>\n      <th>Veg Broadleaf Forest</th>\n      <th>Veg Desert</th>\n      <th>...</th>\n      <th>Jan</th>\n      <th>Jul</th>\n      <th>Jun</th>\n      <th>Mar</th>\n      <th>May</th>\n      <th>Nov</th>\n      <th>Oct</th>\n      <th>Sep</th>\n      <th>is_weekend</th>\n      <th>is_weekday</th>\n    </tr>\n  </thead>\n  <tbody>\n    <tr>\n      <th>4058</th>\n      <td>0.352028</td>\n      <td>0.459612</td>\n      <td>0.489248</td>\n      <td>0.040318</td>\n      <td>0.648602</td>\n      <td>0.098342</td>\n      <td>0.506771</td>\n      <td>0.000000</td>\n      <td>0</td>\n      <td>0</td>\n      <td>...</td>\n      <td>0</td>\n      <td>1</td>\n      <td>0</td>\n      <td>0</td>\n      <td>0</td>\n      <td>0</td>\n      <td>0</td>\n      <td>0</td>\n      <td>0</td>\n      <td>1</td>\n    </tr>\n    <tr>\n      <th>27166</th>\n      <td>0.268680</td>\n      <td>0.829901</td>\n      <td>0.139552</td>\n      <td>0.034284</td>\n      <td>0.550486</td>\n      <td>0.069828</td>\n      <td>0.784400</td>\n      <td>0.007388</td>\n      <td>0</td>\n      <td>0</td>\n      <td>...</td>\n      <td>0</td>\n      <td>0</td>\n      <td>0</td>\n      <td>0</td>\n      <td>0</td>\n      <td>0</td>\n      <td>1</td>\n      <td>0</td>\n      <td>1</td>\n      <td>0</td>\n    </tr>\n    <tr>\n      <th>24099</th>\n      <td>0.433937</td>\n      <td>0.569856</td>\n      <td>0.377157</td>\n      <td>0.490949</td>\n      <td>0.473678</td>\n      <td>0.125668</td>\n      <td>0.552321</td>\n      <td>0.004995</td>\n      <td>0</td>\n      <td>1</td>\n      <td>...</td>\n      <td>0</td>\n      <td>0</td>\n      <td>0</td>\n      <td>0</td>\n      <td>1</td>\n      <td>0</td>\n      <td>0</td>\n      <td>0</td>\n      <td>0</td>\n      <td>1</td>\n    </tr>\n    <tr>\n      <th>10098</th>\n      <td>0.293366</td>\n      <td>0.766626</td>\n      <td>0.195522</td>\n      <td>0.066100</td>\n      <td>0.352250</td>\n      <td>0.107076</td>\n      <td>0.809793</td>\n      <td>0.000000</td>\n      <td>0</td>\n      <td>0</td>\n      <td>...</td>\n      <td>0</td>\n      <td>0</td>\n      <td>0</td>\n      <td>0</td>\n      <td>0</td>\n      <td>0</td>\n      <td>0</td>\n      <td>0</td>\n      <td>0</td>\n      <td>1</td>\n    </tr>\n    <tr>\n      <th>17637</th>\n      <td>0.271533</td>\n      <td>0.732534</td>\n      <td>0.227538</td>\n      <td>0.036753</td>\n      <td>0.532936</td>\n      <td>0.039830</td>\n      <td>0.828233</td>\n      <td>0.006192</td>\n      <td>0</td>\n      <td>0</td>\n      <td>...</td>\n      <td>0</td>\n      <td>0</td>\n      <td>0</td>\n      <td>0</td>\n      <td>0</td>\n      <td>0</td>\n      <td>1</td>\n      <td>0</td>\n      <td>1</td>\n      <td>0</td>\n    </tr>\n  </tbody>\n</table>\n<p>5 rows × 28 columns</p>\n</div>"
     },
     "execution_count": 9,
     "metadata": {},
     "output_type": "execute_result"
    }
   ],
   "source": [
    "from sklearn.preprocessing import MinMaxScaler\n",
    "\n",
    "dfPredictorScaled = pd.DataFrame(MinMaxScaler().fit_transform(dfPredictor[[\"latitude\", \"longitude\", \"remoteness\", \"elevation\", \"Temp\", \"Wind\", \"Humidity\", \"Precipitation\"]]), columns=[\"latitude\", \"longitude\", \"remoteness\", \"elevation\", \"Temp\", \"Wind\", \"Humidity\", \"Precipitation\"])\n",
    "# dfPredictorScaled.sample(5)\n",
    "\n",
    "dfPredictor = dfPredictor.assign(**dfPredictorScaled.to_dict(orient=\"series\"))  # replace the columns of the old df with the ones from the new one\n",
    "dfPredictor.sample(5)"
   ],
   "metadata": {
    "collapsed": false,
    "pycharm": {
     "name": "#%%\n"
    }
   }
  },
  {
   "cell_type": "markdown",
   "source": [
    "Make a correlation matrix"
   ],
   "metadata": {
    "collapsed": false,
    "pycharm": {
     "name": "#%% md\n"
    }
   }
  },
  {
   "cell_type": "code",
   "execution_count": 10,
   "outputs": [
    {
     "data": {
      "text/plain": "<Figure size 432x288 with 2 Axes>",
      "image/png": "[encoded data removed]"
     },
     "metadata": {
      "needs_background": "light"
     },
     "output_type": "display_data"
    }
   ],
   "source": [
    "import seaborn as sn\n",
    "\n",
    "corrMatrix = dfPredictor.corr()\n",
    "sn.heatmap(corrMatrix)\n",
    "plt.show()"
   ],
   "metadata": {
    "collapsed": false,
    "pycharm": {
     "name": "#%%\n"
    }
   }
  },
  {
   "cell_type": "markdown",
   "source": [
    "Train-test split"
   ],
   "metadata": {
    "collapsed": false,
    "pycharm": {
     "name": "#%% md\n"
    }
   }
  },
  {
   "cell_type": "code",
   "execution_count": 11,
   "outputs": [
    {
     "name": "stdout",
     "output_type": "stream",
     "text": [
      "(33522, 28)\n",
      "(33522, 6)\n"
     ]
    }
   ],
   "source": [
    "from sklearn.model_selection import train_test_split\n",
    "\n",
    "X_train, X_test, y_train, y_test = train_test_split(dfPredictor, dfTarget, test_size=0.1, random_state=42)\n",
    "\n",
    "print(X_train.shape)\n",
    "print(y_train.shape)"
   ],
   "metadata": {
    "collapsed": false,
    "pycharm": {
     "name": "#%%\n"
    }
   }
  },
  {
   "cell_type": "markdown",
   "source": [
    "In order to fix the distribution of the data when training, we want to change it (in the training set only though).\n",
    "\n",
    "First, I tried randomly undersampling the data, however that made the training set too small (down to 2.6k samples total). The results were abysmal, with basically every model getting around a 2% accuracy on the test set.\n",
    "\n",
    "This is the code to do this, in case you want to (but you shouldn't).\n",
    "\n",
    "    from imblearn.under_sampling import RandomUnderSampler\n",
    "\n",
    "    rus = RandomUnderSampler()\n",
    "    X_train, y_train = rus.fit_resample(X_train, y_train.values)\n",
    "\n",
    "    print(X_train.shape)\n",
    "    print(y_train.shape)\n",
    "\n",
    "    y_train = pd.DataFrame(y_train)"
   ],
   "metadata": {
    "collapsed": false,
    "pycharm": {
     "name": "#%% md\n"
    }
   }
  },
  {
   "cell_type": "markdown",
   "source": [
    "Next, I tried the opposite approach -- random *over*sampling.\n",
    "\n",
    "Here, examples from the smaller classes are picked randomly and repeated in the dataset.\n",
    "\n",
    "This made the training set massive, at 130k+ samples, but it also made training take forever and didn't achieve great results."
   ],
   "metadata": {
    "collapsed": false,
    "pycharm": {
     "name": "#%% md\n"
    }
   }
  },
  {
   "cell_type": "code",
   "execution_count": 12,
   "outputs": [
    {
     "name": "stdout",
     "output_type": "stream",
     "text": [
      "(131496, 28)\n",
      "(131496, 6)\n"
     ]
    },
    {
     "name": "stderr",
     "output_type": "stream",
     "text": [
      "d:\\pycharmprojects\\thesis\\lib\\site-packages\\sklearn\\utils\\validation.py:70: FutureWarning: Pass classes=[0 1 2 3 4 5] as keyword args. From version 1.0 (renaming of 0.25) passing these as positional arguments will result in an error\n",
      "  warnings.warn(f\"Pass {args_msg} as keyword args. From version \"\n"
     ]
    }
   ],
   "source": [
    "from imblearn.over_sampling import RandomOverSampler\n",
    "\n",
    "ros = RandomOverSampler()\n",
    "X_train, y_train = ros.fit_resample(X_train, y_train.values)\n",
    "\n",
    "print(X_train.shape)\n",
    "print(y_train.shape)\n",
    "\n",
    "y_train = pd.DataFrame(y_train)"
   ],
   "metadata": {
    "collapsed": false,
    "pycharm": {
     "name": "#%%\n"
    }
   }
  },
  {
   "cell_type": "code",
   "execution_count": 13,
   "outputs": [
    {
     "data": {
      "text/plain": "array([[<AxesSubplot:title={'center':'0'}>,\n        <AxesSubplot:title={'center':'1'}>],\n       [<AxesSubplot:title={'center':'2'}>,\n        <AxesSubplot:title={'center':'3'}>],\n       [<AxesSubplot:title={'center':'4'}>,\n        <AxesSubplot:title={'center':'5'}>]], dtype=object)"
     },
     "execution_count": 13,
     "metadata": {},
     "output_type": "execute_result"
    },
    {
     "data": {
      "text/plain": "<Figure size 432x288 with 30 Axes>",
      "image/png": "[encoded data removed]"
     },
     "metadata": {
      "needs_background": "light"
     },
     "output_type": "display_data"
    },
    {
     "data": {
      "text/plain": "<Figure size 432x288 with 6 Axes>",
      "image/png": "[encoded data removed]"
     },
     "metadata": {
      "needs_background": "light"
     },
     "output_type": "display_data"
    }
   ],
   "source": [
    "X_train.hist()\n",
    "y_train.hist()"
   ],
   "metadata": {
    "collapsed": false,
    "pycharm": {
     "name": "#%%\n"
    }
   }
  },
  {
   "cell_type": "markdown",
   "source": [
    "Make a correlation matrix"
   ],
   "metadata": {
    "collapsed": false
   }
  },
  {
   "cell_type": "code",
   "execution_count": 14,
   "outputs": [
    {
     "data": {
      "text/plain": "<Figure size 432x288 with 2 Axes>",
      "image/png": "[encoded data removed]"
     },
     "metadata": {
      "needs_background": "light"
     },
     "output_type": "display_data"
    }
   ],
   "source": [
    "import seaborn as sn\n",
    "\n",
    "corrMatrix = X_train.corr()\n",
    "sn.heatmap(corrMatrix)\n",
    "plt.show()"
   ],
   "metadata": {
    "collapsed": false,
    "pycharm": {
     "name": "#%%\n"
    }
   }
  },
  {
   "cell_type": "markdown",
   "source": [
    "Training models, each in a cell (?)\n",
    "\n",
    "* Dummy classifier\n",
    "* K-Nearest Neighbour (KNN)\n",
    "* Naïve Bayes (NB)\n",
    "* Support Vector Machine (SVM)\n",
    "* Decision Tree (DT)\n",
    "* Random Forest (RF)\n",
    "* Gradient Boosted Trees (GBT)\n",
    "* Multi-Layered Perceptron (MLP)\n",
    "* Artificial Neural Network (ANN)"
   ],
   "metadata": {
    "collapsed": false,
    "pycharm": {
     "name": "#%% md\n"
    }
   }
  },
  {
   "cell_type": "markdown",
   "source": [
    "Evaluation with confusion matrix, F1 score, etc"
   ],
   "metadata": {
    "collapsed": false,
    "pycharm": {
     "name": "#%% md\n"
    }
   }
  },
  {
   "cell_type": "markdown",
   "source": [
    "### Dummy classifier"
   ],
   "metadata": {
    "collapsed": false,
    "pycharm": {
     "name": "#%% md\n"
    }
   }
  },
  {
   "cell_type": "code",
   "execution_count": 17,
   "outputs": [
    {
     "name": "stdout",
     "output_type": "stream",
     "text": [
      "Training accuracy: 0.06763703838900043\n",
      "Test accuracy: 0.06711409395973154\n"
     ]
    }
   ],
   "source": [
    "from sklearn.dummy import DummyClassifier\n",
    "\n",
    "dummy_clf = DummyClassifier(strategy=\"stratified\")\n",
    "\n",
    "dummy_clf.fit(X_train, y_train)\n",
    "training_accuracy = dummy_clf.score(X_train, y_train)\n",
    "test_accuracy = dummy_clf.score(X_test, y_test)\n",
    "print(f\"Training accuracy: {training_accuracy}\")  # 0.6537796074219915\n",
    "print(f\"Test accuracy: {test_accuracy}\")  # 0.6502013422818792\n"
   ],
   "metadata": {
    "collapsed": false,
    "pycharm": {
     "name": "#%%\n"
    }
   }
  },
  {
   "cell_type": "markdown",
   "source": [
    "### KNN"
   ],
   "metadata": {
    "collapsed": false,
    "pycharm": {
     "name": "#%% md\n"
    }
   }
  },
  {
   "cell_type": "code",
   "execution_count": 16,
   "outputs": [
    {
     "name": "stdout",
     "output_type": "stream",
     "text": [
      "Trained in in 4358.5422 seconds\n"
     ]
    },
    {
     "data": {
      "text/plain": "<matplotlib.legend.Legend at 0x1fd4a26b340>"
     },
     "execution_count": 16,
     "metadata": {},
     "output_type": "execute_result"
    },
    {
     "data": {
      "text/plain": "<Figure size 432x288 with 1 Axes>",
      "image/png": "[encoded data removed]"
     },
     "metadata": {
      "needs_background": "light"
     },
     "output_type": "display_data"
    }
   ],
   "source": [
    "from sklearn.model_selection import GridSearchCV\n",
    "from sklearn.neighbors import KNeighborsClassifier\n",
    "\n",
    "param_grid = {'n_neighbors': range(2, 15, 2)}\n",
    "\n",
    "grid_search = GridSearchCV(KNeighborsClassifier(n_jobs=-1), param_grid, cv=5)\n",
    "grid_search.fit(X_train, y_train)\n",
    "scores = grid_search.cv_results_['mean_test_score']\n",
    "print(scores)\n",
    "\n",
    "print(\"Test set score: {:.2f}\".format(grid_search.score(X_test, y_test)))\n"
   ],
   "metadata": {
    "collapsed": false,
    "pycharm": {
     "name": "#%%\n"
    }
   }
  },
  {
   "cell_type": "markdown",
   "source": [
    "? seems to be the best on our test set. Let's train that model and save it."
   ],
   "metadata": {
    "collapsed": false,
    "pycharm": {
     "name": "#%% md\n"
    }
   }
  },
  {
   "cell_type": "code",
   "source": [
    "clf = KNeighborsClassifier(n_neighbors=9, n_jobs=-1)\n",
    "clf.fit(X_train, y_train)\n",
    "\n",
    "training_accuracy = clf.score(X_train, y_train)\n",
    "test_accuracy = clf.score(X_test, y_test)\n",
    "print(\"Number of neighbors: 9\")\n",
    "print(f\"\\nTraining accuracy: {training_accuracy}\")  # 0.7298490543523656\n",
    "print(f\"\\nTest accuracy: {test_accuracy}\")  # 0.6934228187919463"
   ],
   "metadata": {
    "collapsed": false,
    "pycharm": {
     "name": "#%%\n"
    }
   },
   "execution_count": 60,
   "outputs": [
    {
     "name": "stdout",
     "output_type": "stream",
     "text": [
      "Number of neighbors: 9\n",
      "\n",
      "Training accuracy: 0.2018140589569161\n",
      "\n",
      "Test accuracy: 0.1312751677852349\n"
     ]
    }
   ]
  },
  {
   "cell_type": "markdown",
   "source": [
    "### Naive Bayes"
   ],
   "metadata": {
    "collapsed": false
   }
  },
  {
   "cell_type": "code",
   "execution_count": 18,
   "outputs": [
    {
     "name": "stdout",
     "output_type": "stream",
     "text": [
      "GaussianNB train score: 0.025650970371722332\n",
      "GaussianNB test score: 0.01825503355704698\n",
      "\n",
      "\n"
     ]
    }
   ],
   "source": [
    "from sklearn.multioutput import MultiOutputClassifier  # (https://sklearn.org/modules/multiclass.html#multioutput-classification)\n",
    "\n",
    "# train a Gaussian Naive Bayes\n",
    "from sklearn.naive_bayes import GaussianNB\n",
    "\n",
    "gnb = GaussianNB()\n",
    "multi_gnb = MultiOutputClassifier(gnb, n_jobs=-1)\n",
    "multi_gnb.fit(X_train, y_train)\n",
    "print(f\"GaussianNB train score: {multi_gnb.score(X_train, y_train)}\")  # 0.21296462024938845\n",
    "print(f\"GaussianNB test score: {multi_gnb.score(X_test, y_test)}\")  # 0.21986577181208053\n",
    "print(\"\\n\")\n"
   ],
   "metadata": {
    "collapsed": false,
    "pycharm": {
     "name": "#%%\n"
    }
   }
  },
  {
   "cell_type": "markdown",
   "source": [
    "### Support Vector Machine"
   ],
   "metadata": {
    "collapsed": false,
    "pycharm": {
     "name": "#%% md\n"
    }
   }
  },
  {
   "cell_type": "code",
   "execution_count": null,
   "outputs": [],
   "source": [
    "from sklearn.model_selection import GridSearchCV\n",
    "from sklearn.svm import SVC\n",
    "from sklearn.multioutput import MultiOutputClassifier  # (https://sklearn.org/modules/multiclass.html#multioutput-classification)\n",
    "\n",
    "param_grid = {'C': [0.01, 0.1, 0.25, 0.5, 0.75, 1]}\n",
    "\n",
    "grid_search = GridSearchCV(MultiOutputClassifier(SVC(), n_jobs=-1), param_grid, cv=5)\n",
    "grid_search.fit(X_train, y_train)\n",
    "scores = grid_search.cv_results_['mean_test_score']\n",
    "print(scores)\n",
    "\n",
    "print(\"Test set score: {:.2f}\".format(grid_search.score(X_test, y_test)))"
   ],
   "metadata": {
    "collapsed": false,
    "pycharm": {
     "name": "#%%\n",
     "is_executing": true
    }
   }
  },
  {
   "cell_type": "markdown",
   "source": [
    "Best seems to be with C = ?\n",
    "\n",
    "Now lets train the final SVM"
   ],
   "metadata": {
    "collapsed": false,
    "pycharm": {
     "name": "#%% md\n"
    }
   }
  },
  {
   "cell_type": "code",
   "execution_count": 63,
   "outputs": [
    {
     "name": "stdout",
     "output_type": "stream",
     "text": [
      "Kernel SVM train score: 0.007558578987150416\n",
      "Kernel SVM test score: 0.0018791946308724832\n",
      "\n",
      "\n"
     ]
    }
   ],
   "source": [
    "svm = SVC(C = 0.25)\n",
    "multi_svm = MultiOutputClassifier(svm, n_jobs=-1)\n",
    "multi_svm.fit(X_train, y_train)\n",
    "\n",
    "print(f\"Kernel SVM train score: {multi_svm.score(X_train, y_train)}\")  # 0.7018077680329335\n",
    "print(f\"Kernel SVM test score: {multi_svm.score(X_test, y_test)}\")  # 0.6977181208053691\n",
    "print(\"\\n\")"
   ],
   "metadata": {
    "collapsed": false,
    "pycharm": {
     "name": "#%%\n"
    }
   }
  },
  {
   "cell_type": "markdown",
   "source": [
    "### Decision Tree"
   ],
   "metadata": {
    "collapsed": false,
    "pycharm": {
     "name": "#%% md\n"
    }
   }
  },
  {
   "cell_type": "code",
   "execution_count": 64,
   "outputs": [
    {
     "name": "stdout",
     "output_type": "stream",
     "text": [
      "[0.         0.01928166 0.02344045 0.03854549 0.03438813 0.03892571\n",
      " 0.05328601 0.0638706  0.07975318 0.09714021 0.11680066 0.12058351\n",
      " 0.12700717 0.13796983 0.13419125 0.13721654 0.13381175]\n",
      "Test set score: 0.32\n"
     ]
    }
   ],
   "source": [
    "from sklearn.tree import DecisionTreeClassifier\n",
    "from sklearn.model_selection import GridSearchCV\n",
    "\n",
    "param_grid = {'max_depth': [1, 2, 3, 4, 5, 6, 7, 8, 9, 10, 11, 12, 13, 14, 20, 40]}\n",
    "\n",
    "grid_search = GridSearchCV(DecisionTreeClassifier(), param_grid, cv=5, )\n",
    "grid_search.fit(X_train, y_train)\n",
    "scores = grid_search.cv_results_['mean_test_score']\n",
    "print(scores)\n",
    "\n",
    "print(\"Test set score: {:.2f}\".format(grid_search.score(X_test, y_test)))"
   ],
   "metadata": {
    "collapsed": false,
    "pycharm": {
     "name": "#%%\n"
    }
   }
  },
  {
   "cell_type": "markdown",
   "source": [
    "Best max_depth is 5 -->  0.72060144"
   ],
   "metadata": {
    "collapsed": false,
    "pycharm": {
     "name": "#%% md\n"
    }
   }
  },
  {
   "cell_type": "code",
   "execution_count": 65,
   "outputs": [
    {
     "name": "stdout",
     "output_type": "stream",
     "text": [
      "Decision Tree train score: 0.20408163265306123\n",
      "Decision Tree test score: 0.15409395973154363\n",
      "\n",
      "\n"
     ]
    }
   ],
   "source": [
    "dt = DecisionTreeClassifier(max_depth=5)\n",
    "dt.fit(X_train, y_train)\n",
    "\n",
    "print(f\"Decision Tree train score: {dt.score(X_train, y_train)}\")  # 0.7240618101545254\n",
    "print(f\"Decision Tree test score: {dt.score(X_test, y_test)}\")  # 0.7103355704697987\n",
    "print(\"\\n\")"
   ],
   "metadata": {
    "collapsed": false,
    "pycharm": {
     "name": "#%%\n"
    }
   }
  },
  {
   "cell_type": "markdown",
   "source": [
    "### Random Forest"
   ],
   "metadata": {
    "collapsed": false,
    "pycharm": {
     "name": "#%% md\n"
    }
   }
  },
  {
   "cell_type": "code",
   "execution_count": 66,
   "outputs": [
    {
     "name": "stdout",
     "output_type": "stream",
     "text": [
      "[0.         0.01436673 0.02607697 0.02909869 0.03060884 0.03061027\n",
      " 0.03098691 0.03136498 0.03249848 0.03363341 0.0340122  0.0336327\n",
      " 0.03552377]\n",
      "Test set score: 0.17\n"
     ]
    }
   ],
   "source": [
    "from sklearn.ensemble import RandomForestClassifier\n",
    "from sklearn.model_selection import GridSearchCV\n",
    "\n",
    "param_grid = {'max_depth':[2,4,8,10,11,12,13,14,15,16,20,30,40]}\n",
    "\n",
    "grid_search = GridSearchCV(RandomForestClassifier(n_jobs=-1, warm_start=True), param_grid, cv=5)\n",
    "grid_search.fit(X_train, y_train)\n",
    "scores = grid_search.cv_results_['mean_test_score']\n",
    "print(scores)\n",
    "\n",
    "print(\"Test set score: {:.2f}\".format(grid_search.score(X_test, y_test)))"
   ],
   "metadata": {
    "collapsed": false,
    "pycharm": {
     "name": "#%%\n"
    }
   }
  },
  {
   "cell_type": "markdown",
   "source": [
    "Best seems to be with max_depth=12"
   ],
   "metadata": {
    "collapsed": false,
    "pycharm": {
     "name": "#%% md\n"
    }
   }
  },
  {
   "cell_type": "code",
   "execution_count": 67,
   "outputs": [
    {
     "name": "stdout",
     "output_type": "stream",
     "text": [
      "Random Forest train score: 0.5600907029478458\n",
      "Random Forest test score: 0.12590604026845637\n",
      "\n",
      "\n"
     ]
    }
   ],
   "source": [
    "rf = RandomForestClassifier(max_depth=12, n_jobs=-1)\n",
    "rf.fit(X_train, y_train)\n",
    "\n",
    "print(f\"Random Forest train score: {rf.score(X_train, y_train)}\")  # 0.7210786945886284\n",
    "print(f\"Random Forest test score: {rf.score(X_test, y_test)}\")  # 0.6877852348993289\n",
    "print(\"\\n\")\n"
   ],
   "metadata": {
    "collapsed": false,
    "pycharm": {
     "name": "#%%\n"
    }
   }
  },
  {
   "cell_type": "markdown",
   "source": [
    "### Gradient Boosted Trees (GBT)"
   ],
   "metadata": {
    "collapsed": false,
    "pycharm": {
     "name": "#%% md\n"
    }
   }
  },
  {
   "cell_type": "code",
   "execution_count": 68,
   "outputs": [
    {
     "name": "stderr",
     "output_type": "stream",
     "text": [
      "d:\\pycharmprojects\\thesis\\lib\\site-packages\\sklearn\\model_selection\\_validation.py:610: FitFailedWarning: Estimator fit failed. The score on this train-test partition for these parameters will be set to nan. Details: \n",
      "Traceback (most recent call last):\n",
      "  File \"d:\\pycharmprojects\\thesis\\lib\\site-packages\\sklearn\\model_selection\\_validation.py\", line 593, in _fit_and_score\n",
      "    estimator.fit(X_train, y_train, **fit_params)\n",
      "  File \"d:\\pycharmprojects\\thesis\\lib\\site-packages\\sklearn\\multioutput.py\", line 368, in fit\n",
      "    super().fit(X, Y, sample_weight, **fit_params)\n",
      "  File \"d:\\pycharmprojects\\thesis\\lib\\site-packages\\sklearn\\multioutput.py\", line 178, in fit\n",
      "    self.estimators_ = Parallel(n_jobs=self.n_jobs)(\n",
      "  File \"d:\\pycharmprojects\\thesis\\lib\\site-packages\\joblib\\parallel.py\", line 1041, in __call__\n",
      "    if self.dispatch_one_batch(iterator):\n",
      "  File \"d:\\pycharmprojects\\thesis\\lib\\site-packages\\joblib\\parallel.py\", line 859, in dispatch_one_batch\n",
      "    self._dispatch(tasks)\n",
      "  File \"d:\\pycharmprojects\\thesis\\lib\\site-packages\\joblib\\parallel.py\", line 777, in _dispatch\n",
      "    job = self._backend.apply_async(batch, callback=cb)\n",
      "  File \"d:\\pycharmprojects\\thesis\\lib\\site-packages\\joblib\\_parallel_backends.py\", line 208, in apply_async\n",
      "    result = ImmediateResult(func)\n",
      "  File \"d:\\pycharmprojects\\thesis\\lib\\site-packages\\joblib\\_parallel_backends.py\", line 572, in __init__\n",
      "    self.results = batch()\n",
      "  File \"d:\\pycharmprojects\\thesis\\lib\\site-packages\\joblib\\parallel.py\", line 262, in __call__\n",
      "    return [func(*args, **kwargs)\n",
      "  File \"d:\\pycharmprojects\\thesis\\lib\\site-packages\\joblib\\parallel.py\", line 262, in <listcomp>\n",
      "    return [func(*args, **kwargs)\n",
      "  File \"d:\\pycharmprojects\\thesis\\lib\\site-packages\\sklearn\\utils\\fixes.py\", line 222, in __call__\n",
      "    return self.function(*args, **kwargs)\n",
      "  File \"d:\\pycharmprojects\\thesis\\lib\\site-packages\\sklearn\\multioutput.py\", line 41, in _fit_estimator\n",
      "    estimator.fit(X, y, **fit_params)\n",
      "  File \"d:\\pycharmprojects\\thesis\\lib\\site-packages\\sklearn\\ensemble\\_gb.py\", line 423, in fit\n",
      "    y = self._validate_y(y, sample_weight)\n",
      "  File \"d:\\pycharmprojects\\thesis\\lib\\site-packages\\sklearn\\ensemble\\_gb.py\", line 1107, in _validate_y\n",
      "    raise ValueError(\"y contains %d class after sample_weight \"\n",
      "ValueError: y contains 1 class after sample_weight trimmed classes with zero weights, while a minimum of 2 classes are required.\n",
      "\n",
      "  warnings.warn(\"Estimator fit failed. The score on this train-test\"\n",
      "d:\\pycharmprojects\\thesis\\lib\\site-packages\\sklearn\\model_selection\\_validation.py:610: FitFailedWarning: Estimator fit failed. The score on this train-test partition for these parameters will be set to nan. Details: \n",
      "Traceback (most recent call last):\n",
      "  File \"d:\\pycharmprojects\\thesis\\lib\\site-packages\\sklearn\\model_selection\\_validation.py\", line 593, in _fit_and_score\n",
      "    estimator.fit(X_train, y_train, **fit_params)\n",
      "  File \"d:\\pycharmprojects\\thesis\\lib\\site-packages\\sklearn\\multioutput.py\", line 368, in fit\n",
      "    super().fit(X, Y, sample_weight, **fit_params)\n",
      "  File \"d:\\pycharmprojects\\thesis\\lib\\site-packages\\sklearn\\multioutput.py\", line 178, in fit\n",
      "    self.estimators_ = Parallel(n_jobs=self.n_jobs)(\n",
      "  File \"d:\\pycharmprojects\\thesis\\lib\\site-packages\\joblib\\parallel.py\", line 1044, in __call__\n",
      "    while self.dispatch_one_batch(iterator):\n",
      "  File \"d:\\pycharmprojects\\thesis\\lib\\site-packages\\joblib\\parallel.py\", line 859, in dispatch_one_batch\n",
      "    self._dispatch(tasks)\n",
      "  File \"d:\\pycharmprojects\\thesis\\lib\\site-packages\\joblib\\parallel.py\", line 777, in _dispatch\n",
      "    job = self._backend.apply_async(batch, callback=cb)\n",
      "  File \"d:\\pycharmprojects\\thesis\\lib\\site-packages\\joblib\\_parallel_backends.py\", line 208, in apply_async\n",
      "    result = ImmediateResult(func)\n",
      "  File \"d:\\pycharmprojects\\thesis\\lib\\site-packages\\joblib\\_parallel_backends.py\", line 572, in __init__\n",
      "    self.results = batch()\n",
      "  File \"d:\\pycharmprojects\\thesis\\lib\\site-packages\\joblib\\parallel.py\", line 262, in __call__\n",
      "    return [func(*args, **kwargs)\n",
      "  File \"d:\\pycharmprojects\\thesis\\lib\\site-packages\\joblib\\parallel.py\", line 262, in <listcomp>\n",
      "    return [func(*args, **kwargs)\n",
      "  File \"d:\\pycharmprojects\\thesis\\lib\\site-packages\\sklearn\\utils\\fixes.py\", line 222, in __call__\n",
      "    return self.function(*args, **kwargs)\n",
      "  File \"d:\\pycharmprojects\\thesis\\lib\\site-packages\\sklearn\\multioutput.py\", line 41, in _fit_estimator\n",
      "    estimator.fit(X, y, **fit_params)\n",
      "  File \"d:\\pycharmprojects\\thesis\\lib\\site-packages\\sklearn\\ensemble\\_gb.py\", line 423, in fit\n",
      "    y = self._validate_y(y, sample_weight)\n",
      "  File \"d:\\pycharmprojects\\thesis\\lib\\site-packages\\sklearn\\ensemble\\_gb.py\", line 1107, in _validate_y\n",
      "    raise ValueError(\"y contains %d class after sample_weight \"\n",
      "ValueError: y contains 1 class after sample_weight trimmed classes with zero weights, while a minimum of 2 classes are required.\n",
      "\n",
      "  warnings.warn(\"Estimator fit failed. The score on this train-test\"\n",
      "d:\\pycharmprojects\\thesis\\lib\\site-packages\\sklearn\\model_selection\\_validation.py:610: FitFailedWarning: Estimator fit failed. The score on this train-test partition for these parameters will be set to nan. Details: \n",
      "Traceback (most recent call last):\n",
      "  File \"d:\\pycharmprojects\\thesis\\lib\\site-packages\\sklearn\\model_selection\\_validation.py\", line 593, in _fit_and_score\n",
      "    estimator.fit(X_train, y_train, **fit_params)\n",
      "  File \"d:\\pycharmprojects\\thesis\\lib\\site-packages\\sklearn\\multioutput.py\", line 368, in fit\n",
      "    super().fit(X, Y, sample_weight, **fit_params)\n",
      "  File \"d:\\pycharmprojects\\thesis\\lib\\site-packages\\sklearn\\multioutput.py\", line 178, in fit\n",
      "    self.estimators_ = Parallel(n_jobs=self.n_jobs)(\n",
      "  File \"d:\\pycharmprojects\\thesis\\lib\\site-packages\\joblib\\parallel.py\", line 1041, in __call__\n",
      "    if self.dispatch_one_batch(iterator):\n",
      "  File \"d:\\pycharmprojects\\thesis\\lib\\site-packages\\joblib\\parallel.py\", line 859, in dispatch_one_batch\n",
      "    self._dispatch(tasks)\n",
      "  File \"d:\\pycharmprojects\\thesis\\lib\\site-packages\\joblib\\parallel.py\", line 777, in _dispatch\n",
      "    job = self._backend.apply_async(batch, callback=cb)\n",
      "  File \"d:\\pycharmprojects\\thesis\\lib\\site-packages\\joblib\\_parallel_backends.py\", line 208, in apply_async\n",
      "    result = ImmediateResult(func)\n",
      "  File \"d:\\pycharmprojects\\thesis\\lib\\site-packages\\joblib\\_parallel_backends.py\", line 572, in __init__\n",
      "    self.results = batch()\n",
      "  File \"d:\\pycharmprojects\\thesis\\lib\\site-packages\\joblib\\parallel.py\", line 262, in __call__\n",
      "    return [func(*args, **kwargs)\n",
      "  File \"d:\\pycharmprojects\\thesis\\lib\\site-packages\\joblib\\parallel.py\", line 262, in <listcomp>\n",
      "    return [func(*args, **kwargs)\n",
      "  File \"d:\\pycharmprojects\\thesis\\lib\\site-packages\\sklearn\\utils\\fixes.py\", line 222, in __call__\n",
      "    return self.function(*args, **kwargs)\n",
      "  File \"d:\\pycharmprojects\\thesis\\lib\\site-packages\\sklearn\\multioutput.py\", line 41, in _fit_estimator\n",
      "    estimator.fit(X, y, **fit_params)\n",
      "  File \"d:\\pycharmprojects\\thesis\\lib\\site-packages\\sklearn\\ensemble\\_gb.py\", line 423, in fit\n",
      "    y = self._validate_y(y, sample_weight)\n",
      "  File \"d:\\pycharmprojects\\thesis\\lib\\site-packages\\sklearn\\ensemble\\_gb.py\", line 1107, in _validate_y\n",
      "    raise ValueError(\"y contains %d class after sample_weight \"\n",
      "ValueError: y contains 1 class after sample_weight trimmed classes with zero weights, while a minimum of 2 classes are required.\n",
      "\n",
      "  warnings.warn(\"Estimator fit failed. The score on this train-test\"\n",
      "d:\\pycharmprojects\\thesis\\lib\\site-packages\\sklearn\\model_selection\\_validation.py:610: FitFailedWarning: Estimator fit failed. The score on this train-test partition for these parameters will be set to nan. Details: \n",
      "Traceback (most recent call last):\n",
      "  File \"d:\\pycharmprojects\\thesis\\lib\\site-packages\\sklearn\\model_selection\\_validation.py\", line 593, in _fit_and_score\n",
      "    estimator.fit(X_train, y_train, **fit_params)\n",
      "  File \"d:\\pycharmprojects\\thesis\\lib\\site-packages\\sklearn\\multioutput.py\", line 368, in fit\n",
      "    super().fit(X, Y, sample_weight, **fit_params)\n",
      "  File \"d:\\pycharmprojects\\thesis\\lib\\site-packages\\sklearn\\multioutput.py\", line 178, in fit\n",
      "    self.estimators_ = Parallel(n_jobs=self.n_jobs)(\n",
      "  File \"d:\\pycharmprojects\\thesis\\lib\\site-packages\\joblib\\parallel.py\", line 1044, in __call__\n",
      "    while self.dispatch_one_batch(iterator):\n",
      "  File \"d:\\pycharmprojects\\thesis\\lib\\site-packages\\joblib\\parallel.py\", line 859, in dispatch_one_batch\n",
      "    self._dispatch(tasks)\n",
      "  File \"d:\\pycharmprojects\\thesis\\lib\\site-packages\\joblib\\parallel.py\", line 777, in _dispatch\n",
      "    job = self._backend.apply_async(batch, callback=cb)\n",
      "  File \"d:\\pycharmprojects\\thesis\\lib\\site-packages\\joblib\\_parallel_backends.py\", line 208, in apply_async\n",
      "    result = ImmediateResult(func)\n",
      "  File \"d:\\pycharmprojects\\thesis\\lib\\site-packages\\joblib\\_parallel_backends.py\", line 572, in __init__\n",
      "    self.results = batch()\n",
      "  File \"d:\\pycharmprojects\\thesis\\lib\\site-packages\\joblib\\parallel.py\", line 262, in __call__\n",
      "    return [func(*args, **kwargs)\n",
      "  File \"d:\\pycharmprojects\\thesis\\lib\\site-packages\\joblib\\parallel.py\", line 262, in <listcomp>\n",
      "    return [func(*args, **kwargs)\n",
      "  File \"d:\\pycharmprojects\\thesis\\lib\\site-packages\\sklearn\\utils\\fixes.py\", line 222, in __call__\n",
      "    return self.function(*args, **kwargs)\n",
      "  File \"d:\\pycharmprojects\\thesis\\lib\\site-packages\\sklearn\\multioutput.py\", line 41, in _fit_estimator\n",
      "    estimator.fit(X, y, **fit_params)\n",
      "  File \"d:\\pycharmprojects\\thesis\\lib\\site-packages\\sklearn\\ensemble\\_gb.py\", line 423, in fit\n",
      "    y = self._validate_y(y, sample_weight)\n",
      "  File \"d:\\pycharmprojects\\thesis\\lib\\site-packages\\sklearn\\ensemble\\_gb.py\", line 1107, in _validate_y\n",
      "    raise ValueError(\"y contains %d class after sample_weight \"\n",
      "ValueError: y contains 1 class after sample_weight trimmed classes with zero weights, while a minimum of 2 classes are required.\n",
      "\n",
      "  warnings.warn(\"Estimator fit failed. The score on this train-test\"\n",
      "d:\\pycharmprojects\\thesis\\lib\\site-packages\\sklearn\\model_selection\\_validation.py:610: FitFailedWarning: Estimator fit failed. The score on this train-test partition for these parameters will be set to nan. Details: \n",
      "Traceback (most recent call last):\n",
      "  File \"d:\\pycharmprojects\\thesis\\lib\\site-packages\\sklearn\\model_selection\\_validation.py\", line 593, in _fit_and_score\n",
      "    estimator.fit(X_train, y_train, **fit_params)\n",
      "  File \"d:\\pycharmprojects\\thesis\\lib\\site-packages\\sklearn\\multioutput.py\", line 368, in fit\n",
      "    super().fit(X, Y, sample_weight, **fit_params)\n",
      "  File \"d:\\pycharmprojects\\thesis\\lib\\site-packages\\sklearn\\multioutput.py\", line 178, in fit\n",
      "    self.estimators_ = Parallel(n_jobs=self.n_jobs)(\n",
      "  File \"d:\\pycharmprojects\\thesis\\lib\\site-packages\\joblib\\parallel.py\", line 1041, in __call__\n",
      "    if self.dispatch_one_batch(iterator):\n",
      "  File \"d:\\pycharmprojects\\thesis\\lib\\site-packages\\joblib\\parallel.py\", line 859, in dispatch_one_batch\n",
      "    self._dispatch(tasks)\n",
      "  File \"d:\\pycharmprojects\\thesis\\lib\\site-packages\\joblib\\parallel.py\", line 777, in _dispatch\n",
      "    job = self._backend.apply_async(batch, callback=cb)\n",
      "  File \"d:\\pycharmprojects\\thesis\\lib\\site-packages\\joblib\\_parallel_backends.py\", line 208, in apply_async\n",
      "    result = ImmediateResult(func)\n",
      "  File \"d:\\pycharmprojects\\thesis\\lib\\site-packages\\joblib\\_parallel_backends.py\", line 572, in __init__\n",
      "    self.results = batch()\n",
      "  File \"d:\\pycharmprojects\\thesis\\lib\\site-packages\\joblib\\parallel.py\", line 262, in __call__\n",
      "    return [func(*args, **kwargs)\n",
      "  File \"d:\\pycharmprojects\\thesis\\lib\\site-packages\\joblib\\parallel.py\", line 262, in <listcomp>\n",
      "    return [func(*args, **kwargs)\n",
      "  File \"d:\\pycharmprojects\\thesis\\lib\\site-packages\\sklearn\\utils\\fixes.py\", line 222, in __call__\n",
      "    return self.function(*args, **kwargs)\n",
      "  File \"d:\\pycharmprojects\\thesis\\lib\\site-packages\\sklearn\\multioutput.py\", line 41, in _fit_estimator\n",
      "    estimator.fit(X, y, **fit_params)\n",
      "  File \"d:\\pycharmprojects\\thesis\\lib\\site-packages\\sklearn\\ensemble\\_gb.py\", line 423, in fit\n",
      "    y = self._validate_y(y, sample_weight)\n",
      "  File \"d:\\pycharmprojects\\thesis\\lib\\site-packages\\sklearn\\ensemble\\_gb.py\", line 1107, in _validate_y\n",
      "    raise ValueError(\"y contains %d class after sample_weight \"\n",
      "ValueError: y contains 1 class after sample_weight trimmed classes with zero weights, while a minimum of 2 classes are required.\n",
      "\n",
      "  warnings.warn(\"Estimator fit failed. The score on this train-test\"\n",
      "d:\\pycharmprojects\\thesis\\lib\\site-packages\\sklearn\\model_selection\\_validation.py:610: FitFailedWarning: Estimator fit failed. The score on this train-test partition for these parameters will be set to nan. Details: \n",
      "Traceback (most recent call last):\n",
      "  File \"d:\\pycharmprojects\\thesis\\lib\\site-packages\\sklearn\\model_selection\\_validation.py\", line 593, in _fit_and_score\n",
      "    estimator.fit(X_train, y_train, **fit_params)\n",
      "  File \"d:\\pycharmprojects\\thesis\\lib\\site-packages\\sklearn\\multioutput.py\", line 368, in fit\n",
      "    super().fit(X, Y, sample_weight, **fit_params)\n",
      "  File \"d:\\pycharmprojects\\thesis\\lib\\site-packages\\sklearn\\multioutput.py\", line 178, in fit\n",
      "    self.estimators_ = Parallel(n_jobs=self.n_jobs)(\n",
      "  File \"d:\\pycharmprojects\\thesis\\lib\\site-packages\\joblib\\parallel.py\", line 1044, in __call__\n",
      "    while self.dispatch_one_batch(iterator):\n",
      "  File \"d:\\pycharmprojects\\thesis\\lib\\site-packages\\joblib\\parallel.py\", line 859, in dispatch_one_batch\n",
      "    self._dispatch(tasks)\n",
      "  File \"d:\\pycharmprojects\\thesis\\lib\\site-packages\\joblib\\parallel.py\", line 777, in _dispatch\n",
      "    job = self._backend.apply_async(batch, callback=cb)\n",
      "  File \"d:\\pycharmprojects\\thesis\\lib\\site-packages\\joblib\\_parallel_backends.py\", line 208, in apply_async\n",
      "    result = ImmediateResult(func)\n",
      "  File \"d:\\pycharmprojects\\thesis\\lib\\site-packages\\joblib\\_parallel_backends.py\", line 572, in __init__\n",
      "    self.results = batch()\n",
      "  File \"d:\\pycharmprojects\\thesis\\lib\\site-packages\\joblib\\parallel.py\", line 262, in __call__\n",
      "    return [func(*args, **kwargs)\n",
      "  File \"d:\\pycharmprojects\\thesis\\lib\\site-packages\\joblib\\parallel.py\", line 262, in <listcomp>\n",
      "    return [func(*args, **kwargs)\n",
      "  File \"d:\\pycharmprojects\\thesis\\lib\\site-packages\\sklearn\\utils\\fixes.py\", line 222, in __call__\n",
      "    return self.function(*args, **kwargs)\n",
      "  File \"d:\\pycharmprojects\\thesis\\lib\\site-packages\\sklearn\\multioutput.py\", line 41, in _fit_estimator\n",
      "    estimator.fit(X, y, **fit_params)\n",
      "  File \"d:\\pycharmprojects\\thesis\\lib\\site-packages\\sklearn\\ensemble\\_gb.py\", line 423, in fit\n",
      "    y = self._validate_y(y, sample_weight)\n",
      "  File \"d:\\pycharmprojects\\thesis\\lib\\site-packages\\sklearn\\ensemble\\_gb.py\", line 1107, in _validate_y\n",
      "    raise ValueError(\"y contains %d class after sample_weight \"\n",
      "ValueError: y contains 1 class after sample_weight trimmed classes with zero weights, while a minimum of 2 classes are required.\n",
      "\n",
      "  warnings.warn(\"Estimator fit failed. The score on this train-test\"\n",
      "d:\\pycharmprojects\\thesis\\lib\\site-packages\\sklearn\\model_selection\\_validation.py:610: FitFailedWarning: Estimator fit failed. The score on this train-test partition for these parameters will be set to nan. Details: \n",
      "Traceback (most recent call last):\n",
      "  File \"d:\\pycharmprojects\\thesis\\lib\\site-packages\\sklearn\\model_selection\\_validation.py\", line 593, in _fit_and_score\n",
      "    estimator.fit(X_train, y_train, **fit_params)\n",
      "  File \"d:\\pycharmprojects\\thesis\\lib\\site-packages\\sklearn\\multioutput.py\", line 368, in fit\n",
      "    super().fit(X, Y, sample_weight, **fit_params)\n",
      "  File \"d:\\pycharmprojects\\thesis\\lib\\site-packages\\sklearn\\multioutput.py\", line 178, in fit\n",
      "    self.estimators_ = Parallel(n_jobs=self.n_jobs)(\n",
      "  File \"d:\\pycharmprojects\\thesis\\lib\\site-packages\\joblib\\parallel.py\", line 1041, in __call__\n",
      "    if self.dispatch_one_batch(iterator):\n",
      "  File \"d:\\pycharmprojects\\thesis\\lib\\site-packages\\joblib\\parallel.py\", line 859, in dispatch_one_batch\n",
      "    self._dispatch(tasks)\n",
      "  File \"d:\\pycharmprojects\\thesis\\lib\\site-packages\\joblib\\parallel.py\", line 777, in _dispatch\n",
      "    job = self._backend.apply_async(batch, callback=cb)\n",
      "  File \"d:\\pycharmprojects\\thesis\\lib\\site-packages\\joblib\\_parallel_backends.py\", line 208, in apply_async\n",
      "    result = ImmediateResult(func)\n",
      "  File \"d:\\pycharmprojects\\thesis\\lib\\site-packages\\joblib\\_parallel_backends.py\", line 572, in __init__\n",
      "    self.results = batch()\n",
      "  File \"d:\\pycharmprojects\\thesis\\lib\\site-packages\\joblib\\parallel.py\", line 262, in __call__\n",
      "    return [func(*args, **kwargs)\n",
      "  File \"d:\\pycharmprojects\\thesis\\lib\\site-packages\\joblib\\parallel.py\", line 262, in <listcomp>\n",
      "    return [func(*args, **kwargs)\n",
      "  File \"d:\\pycharmprojects\\thesis\\lib\\site-packages\\sklearn\\utils\\fixes.py\", line 222, in __call__\n",
      "    return self.function(*args, **kwargs)\n",
      "  File \"d:\\pycharmprojects\\thesis\\lib\\site-packages\\sklearn\\multioutput.py\", line 41, in _fit_estimator\n",
      "    estimator.fit(X, y, **fit_params)\n",
      "  File \"d:\\pycharmprojects\\thesis\\lib\\site-packages\\sklearn\\ensemble\\_gb.py\", line 423, in fit\n",
      "    y = self._validate_y(y, sample_weight)\n",
      "  File \"d:\\pycharmprojects\\thesis\\lib\\site-packages\\sklearn\\ensemble\\_gb.py\", line 1107, in _validate_y\n",
      "    raise ValueError(\"y contains %d class after sample_weight \"\n",
      "ValueError: y contains 1 class after sample_weight trimmed classes with zero weights, while a minimum of 2 classes are required.\n",
      "\n",
      "  warnings.warn(\"Estimator fit failed. The score on this train-test\"\n",
      "d:\\pycharmprojects\\thesis\\lib\\site-packages\\sklearn\\model_selection\\_validation.py:610: FitFailedWarning: Estimator fit failed. The score on this train-test partition for these parameters will be set to nan. Details: \n",
      "Traceback (most recent call last):\n",
      "  File \"d:\\pycharmprojects\\thesis\\lib\\site-packages\\sklearn\\model_selection\\_validation.py\", line 593, in _fit_and_score\n",
      "    estimator.fit(X_train, y_train, **fit_params)\n",
      "  File \"d:\\pycharmprojects\\thesis\\lib\\site-packages\\sklearn\\multioutput.py\", line 368, in fit\n",
      "    super().fit(X, Y, sample_weight, **fit_params)\n",
      "  File \"d:\\pycharmprojects\\thesis\\lib\\site-packages\\sklearn\\multioutput.py\", line 178, in fit\n",
      "    self.estimators_ = Parallel(n_jobs=self.n_jobs)(\n",
      "  File \"d:\\pycharmprojects\\thesis\\lib\\site-packages\\joblib\\parallel.py\", line 1044, in __call__\n",
      "    while self.dispatch_one_batch(iterator):\n",
      "  File \"d:\\pycharmprojects\\thesis\\lib\\site-packages\\joblib\\parallel.py\", line 859, in dispatch_one_batch\n",
      "    self._dispatch(tasks)\n",
      "  File \"d:\\pycharmprojects\\thesis\\lib\\site-packages\\joblib\\parallel.py\", line 777, in _dispatch\n",
      "    job = self._backend.apply_async(batch, callback=cb)\n",
      "  File \"d:\\pycharmprojects\\thesis\\lib\\site-packages\\joblib\\_parallel_backends.py\", line 208, in apply_async\n",
      "    result = ImmediateResult(func)\n",
      "  File \"d:\\pycharmprojects\\thesis\\lib\\site-packages\\joblib\\_parallel_backends.py\", line 572, in __init__\n",
      "    self.results = batch()\n",
      "  File \"d:\\pycharmprojects\\thesis\\lib\\site-packages\\joblib\\parallel.py\", line 262, in __call__\n",
      "    return [func(*args, **kwargs)\n",
      "  File \"d:\\pycharmprojects\\thesis\\lib\\site-packages\\joblib\\parallel.py\", line 262, in <listcomp>\n",
      "    return [func(*args, **kwargs)\n",
      "  File \"d:\\pycharmprojects\\thesis\\lib\\site-packages\\sklearn\\utils\\fixes.py\", line 222, in __call__\n",
      "    return self.function(*args, **kwargs)\n",
      "  File \"d:\\pycharmprojects\\thesis\\lib\\site-packages\\sklearn\\multioutput.py\", line 41, in _fit_estimator\n",
      "    estimator.fit(X, y, **fit_params)\n",
      "  File \"d:\\pycharmprojects\\thesis\\lib\\site-packages\\sklearn\\ensemble\\_gb.py\", line 423, in fit\n",
      "    y = self._validate_y(y, sample_weight)\n",
      "  File \"d:\\pycharmprojects\\thesis\\lib\\site-packages\\sklearn\\ensemble\\_gb.py\", line 1107, in _validate_y\n",
      "    raise ValueError(\"y contains %d class after sample_weight \"\n",
      "ValueError: y contains 1 class after sample_weight trimmed classes with zero weights, while a minimum of 2 classes are required.\n",
      "\n",
      "  warnings.warn(\"Estimator fit failed. The score on this train-test\"\n",
      "d:\\pycharmprojects\\thesis\\lib\\site-packages\\sklearn\\model_selection\\_validation.py:610: FitFailedWarning: Estimator fit failed. The score on this train-test partition for these parameters will be set to nan. Details: \n",
      "Traceback (most recent call last):\n",
      "  File \"d:\\pycharmprojects\\thesis\\lib\\site-packages\\sklearn\\model_selection\\_validation.py\", line 593, in _fit_and_score\n",
      "    estimator.fit(X_train, y_train, **fit_params)\n",
      "  File \"d:\\pycharmprojects\\thesis\\lib\\site-packages\\sklearn\\multioutput.py\", line 368, in fit\n",
      "    super().fit(X, Y, sample_weight, **fit_params)\n",
      "  File \"d:\\pycharmprojects\\thesis\\lib\\site-packages\\sklearn\\multioutput.py\", line 178, in fit\n",
      "    self.estimators_ = Parallel(n_jobs=self.n_jobs)(\n",
      "  File \"d:\\pycharmprojects\\thesis\\lib\\site-packages\\joblib\\parallel.py\", line 1041, in __call__\n",
      "    if self.dispatch_one_batch(iterator):\n",
      "  File \"d:\\pycharmprojects\\thesis\\lib\\site-packages\\joblib\\parallel.py\", line 859, in dispatch_one_batch\n",
      "    self._dispatch(tasks)\n",
      "  File \"d:\\pycharmprojects\\thesis\\lib\\site-packages\\joblib\\parallel.py\", line 777, in _dispatch\n",
      "    job = self._backend.apply_async(batch, callback=cb)\n",
      "  File \"d:\\pycharmprojects\\thesis\\lib\\site-packages\\joblib\\_parallel_backends.py\", line 208, in apply_async\n",
      "    result = ImmediateResult(func)\n",
      "  File \"d:\\pycharmprojects\\thesis\\lib\\site-packages\\joblib\\_parallel_backends.py\", line 572, in __init__\n",
      "    self.results = batch()\n",
      "  File \"d:\\pycharmprojects\\thesis\\lib\\site-packages\\joblib\\parallel.py\", line 262, in __call__\n",
      "    return [func(*args, **kwargs)\n",
      "  File \"d:\\pycharmprojects\\thesis\\lib\\site-packages\\joblib\\parallel.py\", line 262, in <listcomp>\n",
      "    return [func(*args, **kwargs)\n",
      "  File \"d:\\pycharmprojects\\thesis\\lib\\site-packages\\sklearn\\utils\\fixes.py\", line 222, in __call__\n",
      "    return self.function(*args, **kwargs)\n",
      "  File \"d:\\pycharmprojects\\thesis\\lib\\site-packages\\sklearn\\multioutput.py\", line 41, in _fit_estimator\n",
      "    estimator.fit(X, y, **fit_params)\n",
      "  File \"d:\\pycharmprojects\\thesis\\lib\\site-packages\\sklearn\\ensemble\\_gb.py\", line 423, in fit\n",
      "    y = self._validate_y(y, sample_weight)\n",
      "  File \"d:\\pycharmprojects\\thesis\\lib\\site-packages\\sklearn\\ensemble\\_gb.py\", line 1107, in _validate_y\n",
      "    raise ValueError(\"y contains %d class after sample_weight \"\n",
      "ValueError: y contains 1 class after sample_weight trimmed classes with zero weights, while a minimum of 2 classes are required.\n",
      "\n",
      "  warnings.warn(\"Estimator fit failed. The score on this train-test\"\n",
      "d:\\pycharmprojects\\thesis\\lib\\site-packages\\sklearn\\model_selection\\_validation.py:610: FitFailedWarning: Estimator fit failed. The score on this train-test partition for these parameters will be set to nan. Details: \n",
      "Traceback (most recent call last):\n",
      "  File \"d:\\pycharmprojects\\thesis\\lib\\site-packages\\sklearn\\model_selection\\_validation.py\", line 593, in _fit_and_score\n",
      "    estimator.fit(X_train, y_train, **fit_params)\n",
      "  File \"d:\\pycharmprojects\\thesis\\lib\\site-packages\\sklearn\\multioutput.py\", line 368, in fit\n",
      "    super().fit(X, Y, sample_weight, **fit_params)\n",
      "  File \"d:\\pycharmprojects\\thesis\\lib\\site-packages\\sklearn\\multioutput.py\", line 178, in fit\n",
      "    self.estimators_ = Parallel(n_jobs=self.n_jobs)(\n",
      "  File \"d:\\pycharmprojects\\thesis\\lib\\site-packages\\joblib\\parallel.py\", line 1044, in __call__\n",
      "    while self.dispatch_one_batch(iterator):\n",
      "  File \"d:\\pycharmprojects\\thesis\\lib\\site-packages\\joblib\\parallel.py\", line 859, in dispatch_one_batch\n",
      "    self._dispatch(tasks)\n",
      "  File \"d:\\pycharmprojects\\thesis\\lib\\site-packages\\joblib\\parallel.py\", line 777, in _dispatch\n",
      "    job = self._backend.apply_async(batch, callback=cb)\n",
      "  File \"d:\\pycharmprojects\\thesis\\lib\\site-packages\\joblib\\_parallel_backends.py\", line 208, in apply_async\n",
      "    result = ImmediateResult(func)\n",
      "  File \"d:\\pycharmprojects\\thesis\\lib\\site-packages\\joblib\\_parallel_backends.py\", line 572, in __init__\n",
      "    self.results = batch()\n",
      "  File \"d:\\pycharmprojects\\thesis\\lib\\site-packages\\joblib\\parallel.py\", line 262, in __call__\n",
      "    return [func(*args, **kwargs)\n",
      "  File \"d:\\pycharmprojects\\thesis\\lib\\site-packages\\joblib\\parallel.py\", line 262, in <listcomp>\n",
      "    return [func(*args, **kwargs)\n",
      "  File \"d:\\pycharmprojects\\thesis\\lib\\site-packages\\sklearn\\utils\\fixes.py\", line 222, in __call__\n",
      "    return self.function(*args, **kwargs)\n",
      "  File \"d:\\pycharmprojects\\thesis\\lib\\site-packages\\sklearn\\multioutput.py\", line 41, in _fit_estimator\n",
      "    estimator.fit(X, y, **fit_params)\n",
      "  File \"d:\\pycharmprojects\\thesis\\lib\\site-packages\\sklearn\\ensemble\\_gb.py\", line 423, in fit\n",
      "    y = self._validate_y(y, sample_weight)\n",
      "  File \"d:\\pycharmprojects\\thesis\\lib\\site-packages\\sklearn\\ensemble\\_gb.py\", line 1107, in _validate_y\n",
      "    raise ValueError(\"y contains %d class after sample_weight \"\n",
      "ValueError: y contains 1 class after sample_weight trimmed classes with zero weights, while a minimum of 2 classes are required.\n",
      "\n",
      "  warnings.warn(\"Estimator fit failed. The score on this train-test\"\n",
      "d:\\pycharmprojects\\thesis\\lib\\site-packages\\sklearn\\model_selection\\_validation.py:610: FitFailedWarning: Estimator fit failed. The score on this train-test partition for these parameters will be set to nan. Details: \n",
      "Traceback (most recent call last):\n",
      "  File \"d:\\pycharmprojects\\thesis\\lib\\site-packages\\sklearn\\model_selection\\_validation.py\", line 593, in _fit_and_score\n",
      "    estimator.fit(X_train, y_train, **fit_params)\n",
      "  File \"d:\\pycharmprojects\\thesis\\lib\\site-packages\\sklearn\\multioutput.py\", line 368, in fit\n",
      "    super().fit(X, Y, sample_weight, **fit_params)\n",
      "  File \"d:\\pycharmprojects\\thesis\\lib\\site-packages\\sklearn\\multioutput.py\", line 178, in fit\n",
      "    self.estimators_ = Parallel(n_jobs=self.n_jobs)(\n",
      "  File \"d:\\pycharmprojects\\thesis\\lib\\site-packages\\joblib\\parallel.py\", line 1041, in __call__\n",
      "    if self.dispatch_one_batch(iterator):\n",
      "  File \"d:\\pycharmprojects\\thesis\\lib\\site-packages\\joblib\\parallel.py\", line 859, in dispatch_one_batch\n",
      "    self._dispatch(tasks)\n",
      "  File \"d:\\pycharmprojects\\thesis\\lib\\site-packages\\joblib\\parallel.py\", line 777, in _dispatch\n",
      "    job = self._backend.apply_async(batch, callback=cb)\n",
      "  File \"d:\\pycharmprojects\\thesis\\lib\\site-packages\\joblib\\_parallel_backends.py\", line 208, in apply_async\n",
      "    result = ImmediateResult(func)\n",
      "  File \"d:\\pycharmprojects\\thesis\\lib\\site-packages\\joblib\\_parallel_backends.py\", line 572, in __init__\n",
      "    self.results = batch()\n",
      "  File \"d:\\pycharmprojects\\thesis\\lib\\site-packages\\joblib\\parallel.py\", line 262, in __call__\n",
      "    return [func(*args, **kwargs)\n",
      "  File \"d:\\pycharmprojects\\thesis\\lib\\site-packages\\joblib\\parallel.py\", line 262, in <listcomp>\n",
      "    return [func(*args, **kwargs)\n",
      "  File \"d:\\pycharmprojects\\thesis\\lib\\site-packages\\sklearn\\utils\\fixes.py\", line 222, in __call__\n",
      "    return self.function(*args, **kwargs)\n",
      "  File \"d:\\pycharmprojects\\thesis\\lib\\site-packages\\sklearn\\multioutput.py\", line 41, in _fit_estimator\n",
      "    estimator.fit(X, y, **fit_params)\n",
      "  File \"d:\\pycharmprojects\\thesis\\lib\\site-packages\\sklearn\\ensemble\\_gb.py\", line 423, in fit\n",
      "    y = self._validate_y(y, sample_weight)\n",
      "  File \"d:\\pycharmprojects\\thesis\\lib\\site-packages\\sklearn\\ensemble\\_gb.py\", line 1107, in _validate_y\n",
      "    raise ValueError(\"y contains %d class after sample_weight \"\n",
      "ValueError: y contains 1 class after sample_weight trimmed classes with zero weights, while a minimum of 2 classes are required.\n",
      "\n",
      "  warnings.warn(\"Estimator fit failed. The score on this train-test\"\n",
      "d:\\pycharmprojects\\thesis\\lib\\site-packages\\sklearn\\model_selection\\_validation.py:610: FitFailedWarning: Estimator fit failed. The score on this train-test partition for these parameters will be set to nan. Details: \n",
      "Traceback (most recent call last):\n",
      "  File \"d:\\pycharmprojects\\thesis\\lib\\site-packages\\sklearn\\model_selection\\_validation.py\", line 593, in _fit_and_score\n",
      "    estimator.fit(X_train, y_train, **fit_params)\n",
      "  File \"d:\\pycharmprojects\\thesis\\lib\\site-packages\\sklearn\\multioutput.py\", line 368, in fit\n",
      "    super().fit(X, Y, sample_weight, **fit_params)\n",
      "  File \"d:\\pycharmprojects\\thesis\\lib\\site-packages\\sklearn\\multioutput.py\", line 178, in fit\n",
      "    self.estimators_ = Parallel(n_jobs=self.n_jobs)(\n",
      "  File \"d:\\pycharmprojects\\thesis\\lib\\site-packages\\joblib\\parallel.py\", line 1044, in __call__\n",
      "    while self.dispatch_one_batch(iterator):\n",
      "  File \"d:\\pycharmprojects\\thesis\\lib\\site-packages\\joblib\\parallel.py\", line 859, in dispatch_one_batch\n",
      "    self._dispatch(tasks)\n",
      "  File \"d:\\pycharmprojects\\thesis\\lib\\site-packages\\joblib\\parallel.py\", line 777, in _dispatch\n",
      "    job = self._backend.apply_async(batch, callback=cb)\n",
      "  File \"d:\\pycharmprojects\\thesis\\lib\\site-packages\\joblib\\_parallel_backends.py\", line 208, in apply_async\n",
      "    result = ImmediateResult(func)\n",
      "  File \"d:\\pycharmprojects\\thesis\\lib\\site-packages\\joblib\\_parallel_backends.py\", line 572, in __init__\n",
      "    self.results = batch()\n",
      "  File \"d:\\pycharmprojects\\thesis\\lib\\site-packages\\joblib\\parallel.py\", line 262, in __call__\n",
      "    return [func(*args, **kwargs)\n",
      "  File \"d:\\pycharmprojects\\thesis\\lib\\site-packages\\joblib\\parallel.py\", line 262, in <listcomp>\n",
      "    return [func(*args, **kwargs)\n",
      "  File \"d:\\pycharmprojects\\thesis\\lib\\site-packages\\sklearn\\utils\\fixes.py\", line 222, in __call__\n",
      "    return self.function(*args, **kwargs)\n",
      "  File \"d:\\pycharmprojects\\thesis\\lib\\site-packages\\sklearn\\multioutput.py\", line 41, in _fit_estimator\n",
      "    estimator.fit(X, y, **fit_params)\n",
      "  File \"d:\\pycharmprojects\\thesis\\lib\\site-packages\\sklearn\\ensemble\\_gb.py\", line 423, in fit\n",
      "    y = self._validate_y(y, sample_weight)\n",
      "  File \"d:\\pycharmprojects\\thesis\\lib\\site-packages\\sklearn\\ensemble\\_gb.py\", line 1107, in _validate_y\n",
      "    raise ValueError(\"y contains %d class after sample_weight \"\n",
      "ValueError: y contains 1 class after sample_weight trimmed classes with zero weights, while a minimum of 2 classes are required.\n",
      "\n",
      "  warnings.warn(\"Estimator fit failed. The score on this train-test\"\n",
      "d:\\pycharmprojects\\thesis\\lib\\site-packages\\sklearn\\model_selection\\_validation.py:610: FitFailedWarning: Estimator fit failed. The score on this train-test partition for these parameters will be set to nan. Details: \n",
      "Traceback (most recent call last):\n",
      "  File \"d:\\pycharmprojects\\thesis\\lib\\site-packages\\sklearn\\model_selection\\_validation.py\", line 593, in _fit_and_score\n",
      "    estimator.fit(X_train, y_train, **fit_params)\n",
      "  File \"d:\\pycharmprojects\\thesis\\lib\\site-packages\\sklearn\\multioutput.py\", line 368, in fit\n",
      "    super().fit(X, Y, sample_weight, **fit_params)\n",
      "  File \"d:\\pycharmprojects\\thesis\\lib\\site-packages\\sklearn\\multioutput.py\", line 178, in fit\n",
      "    self.estimators_ = Parallel(n_jobs=self.n_jobs)(\n",
      "  File \"d:\\pycharmprojects\\thesis\\lib\\site-packages\\joblib\\parallel.py\", line 1041, in __call__\n",
      "    if self.dispatch_one_batch(iterator):\n",
      "  File \"d:\\pycharmprojects\\thesis\\lib\\site-packages\\joblib\\parallel.py\", line 859, in dispatch_one_batch\n",
      "    self._dispatch(tasks)\n",
      "  File \"d:\\pycharmprojects\\thesis\\lib\\site-packages\\joblib\\parallel.py\", line 777, in _dispatch\n",
      "    job = self._backend.apply_async(batch, callback=cb)\n",
      "  File \"d:\\pycharmprojects\\thesis\\lib\\site-packages\\joblib\\_parallel_backends.py\", line 208, in apply_async\n",
      "    result = ImmediateResult(func)\n",
      "  File \"d:\\pycharmprojects\\thesis\\lib\\site-packages\\joblib\\_parallel_backends.py\", line 572, in __init__\n",
      "    self.results = batch()\n",
      "  File \"d:\\pycharmprojects\\thesis\\lib\\site-packages\\joblib\\parallel.py\", line 262, in __call__\n",
      "    return [func(*args, **kwargs)\n",
      "  File \"d:\\pycharmprojects\\thesis\\lib\\site-packages\\joblib\\parallel.py\", line 262, in <listcomp>\n",
      "    return [func(*args, **kwargs)\n",
      "  File \"d:\\pycharmprojects\\thesis\\lib\\site-packages\\sklearn\\utils\\fixes.py\", line 222, in __call__\n",
      "    return self.function(*args, **kwargs)\n",
      "  File \"d:\\pycharmprojects\\thesis\\lib\\site-packages\\sklearn\\multioutput.py\", line 41, in _fit_estimator\n",
      "    estimator.fit(X, y, **fit_params)\n",
      "  File \"d:\\pycharmprojects\\thesis\\lib\\site-packages\\sklearn\\ensemble\\_gb.py\", line 423, in fit\n",
      "    y = self._validate_y(y, sample_weight)\n",
      "  File \"d:\\pycharmprojects\\thesis\\lib\\site-packages\\sklearn\\ensemble\\_gb.py\", line 1107, in _validate_y\n",
      "    raise ValueError(\"y contains %d class after sample_weight \"\n",
      "ValueError: y contains 1 class after sample_weight trimmed classes with zero weights, while a minimum of 2 classes are required.\n",
      "\n",
      "  warnings.warn(\"Estimator fit failed. The score on this train-test\"\n",
      "d:\\pycharmprojects\\thesis\\lib\\site-packages\\sklearn\\model_selection\\_validation.py:610: FitFailedWarning: Estimator fit failed. The score on this train-test partition for these parameters will be set to nan. Details: \n",
      "Traceback (most recent call last):\n",
      "  File \"d:\\pycharmprojects\\thesis\\lib\\site-packages\\sklearn\\model_selection\\_validation.py\", line 593, in _fit_and_score\n",
      "    estimator.fit(X_train, y_train, **fit_params)\n",
      "  File \"d:\\pycharmprojects\\thesis\\lib\\site-packages\\sklearn\\multioutput.py\", line 368, in fit\n",
      "    super().fit(X, Y, sample_weight, **fit_params)\n",
      "  File \"d:\\pycharmprojects\\thesis\\lib\\site-packages\\sklearn\\multioutput.py\", line 178, in fit\n",
      "    self.estimators_ = Parallel(n_jobs=self.n_jobs)(\n",
      "  File \"d:\\pycharmprojects\\thesis\\lib\\site-packages\\joblib\\parallel.py\", line 1044, in __call__\n",
      "    while self.dispatch_one_batch(iterator):\n",
      "  File \"d:\\pycharmprojects\\thesis\\lib\\site-packages\\joblib\\parallel.py\", line 859, in dispatch_one_batch\n",
      "    self._dispatch(tasks)\n",
      "  File \"d:\\pycharmprojects\\thesis\\lib\\site-packages\\joblib\\parallel.py\", line 777, in _dispatch\n",
      "    job = self._backend.apply_async(batch, callback=cb)\n",
      "  File \"d:\\pycharmprojects\\thesis\\lib\\site-packages\\joblib\\_parallel_backends.py\", line 208, in apply_async\n",
      "    result = ImmediateResult(func)\n",
      "  File \"d:\\pycharmprojects\\thesis\\lib\\site-packages\\joblib\\_parallel_backends.py\", line 572, in __init__\n",
      "    self.results = batch()\n",
      "  File \"d:\\pycharmprojects\\thesis\\lib\\site-packages\\joblib\\parallel.py\", line 262, in __call__\n",
      "    return [func(*args, **kwargs)\n",
      "  File \"d:\\pycharmprojects\\thesis\\lib\\site-packages\\joblib\\parallel.py\", line 262, in <listcomp>\n",
      "    return [func(*args, **kwargs)\n",
      "  File \"d:\\pycharmprojects\\thesis\\lib\\site-packages\\sklearn\\utils\\fixes.py\", line 222, in __call__\n",
      "    return self.function(*args, **kwargs)\n",
      "  File \"d:\\pycharmprojects\\thesis\\lib\\site-packages\\sklearn\\multioutput.py\", line 41, in _fit_estimator\n",
      "    estimator.fit(X, y, **fit_params)\n",
      "  File \"d:\\pycharmprojects\\thesis\\lib\\site-packages\\sklearn\\ensemble\\_gb.py\", line 423, in fit\n",
      "    y = self._validate_y(y, sample_weight)\n",
      "  File \"d:\\pycharmprojects\\thesis\\lib\\site-packages\\sklearn\\ensemble\\_gb.py\", line 1107, in _validate_y\n",
      "    raise ValueError(\"y contains %d class after sample_weight \"\n",
      "ValueError: y contains 1 class after sample_weight trimmed classes with zero weights, while a minimum of 2 classes are required.\n",
      "\n",
      "  warnings.warn(\"Estimator fit failed. The score on this train-test\"\n",
      "d:\\pycharmprojects\\thesis\\lib\\site-packages\\sklearn\\model_selection\\_validation.py:610: FitFailedWarning: Estimator fit failed. The score on this train-test partition for these parameters will be set to nan. Details: \n",
      "Traceback (most recent call last):\n",
      "  File \"d:\\pycharmprojects\\thesis\\lib\\site-packages\\sklearn\\model_selection\\_validation.py\", line 593, in _fit_and_score\n",
      "    estimator.fit(X_train, y_train, **fit_params)\n",
      "  File \"d:\\pycharmprojects\\thesis\\lib\\site-packages\\sklearn\\multioutput.py\", line 368, in fit\n",
      "    super().fit(X, Y, sample_weight, **fit_params)\n",
      "  File \"d:\\pycharmprojects\\thesis\\lib\\site-packages\\sklearn\\multioutput.py\", line 178, in fit\n",
      "    self.estimators_ = Parallel(n_jobs=self.n_jobs)(\n",
      "  File \"d:\\pycharmprojects\\thesis\\lib\\site-packages\\joblib\\parallel.py\", line 1041, in __call__\n",
      "    if self.dispatch_one_batch(iterator):\n",
      "  File \"d:\\pycharmprojects\\thesis\\lib\\site-packages\\joblib\\parallel.py\", line 859, in dispatch_one_batch\n",
      "    self._dispatch(tasks)\n",
      "  File \"d:\\pycharmprojects\\thesis\\lib\\site-packages\\joblib\\parallel.py\", line 777, in _dispatch\n",
      "    job = self._backend.apply_async(batch, callback=cb)\n",
      "  File \"d:\\pycharmprojects\\thesis\\lib\\site-packages\\joblib\\_parallel_backends.py\", line 208, in apply_async\n",
      "    result = ImmediateResult(func)\n",
      "  File \"d:\\pycharmprojects\\thesis\\lib\\site-packages\\joblib\\_parallel_backends.py\", line 572, in __init__\n",
      "    self.results = batch()\n",
      "  File \"d:\\pycharmprojects\\thesis\\lib\\site-packages\\joblib\\parallel.py\", line 262, in __call__\n",
      "    return [func(*args, **kwargs)\n",
      "  File \"d:\\pycharmprojects\\thesis\\lib\\site-packages\\joblib\\parallel.py\", line 262, in <listcomp>\n",
      "    return [func(*args, **kwargs)\n",
      "  File \"d:\\pycharmprojects\\thesis\\lib\\site-packages\\sklearn\\utils\\fixes.py\", line 222, in __call__\n",
      "    return self.function(*args, **kwargs)\n",
      "  File \"d:\\pycharmprojects\\thesis\\lib\\site-packages\\sklearn\\multioutput.py\", line 41, in _fit_estimator\n",
      "    estimator.fit(X, y, **fit_params)\n",
      "  File \"d:\\pycharmprojects\\thesis\\lib\\site-packages\\sklearn\\ensemble\\_gb.py\", line 423, in fit\n",
      "    y = self._validate_y(y, sample_weight)\n",
      "  File \"d:\\pycharmprojects\\thesis\\lib\\site-packages\\sklearn\\ensemble\\_gb.py\", line 1107, in _validate_y\n",
      "    raise ValueError(\"y contains %d class after sample_weight \"\n",
      "ValueError: y contains 1 class after sample_weight trimmed classes with zero weights, while a minimum of 2 classes are required.\n",
      "\n",
      "  warnings.warn(\"Estimator fit failed. The score on this train-test\"\n",
      "d:\\pycharmprojects\\thesis\\lib\\site-packages\\sklearn\\model_selection\\_validation.py:610: FitFailedWarning: Estimator fit failed. The score on this train-test partition for these parameters will be set to nan. Details: \n",
      "Traceback (most recent call last):\n",
      "  File \"d:\\pycharmprojects\\thesis\\lib\\site-packages\\sklearn\\model_selection\\_validation.py\", line 593, in _fit_and_score\n",
      "    estimator.fit(X_train, y_train, **fit_params)\n",
      "  File \"d:\\pycharmprojects\\thesis\\lib\\site-packages\\sklearn\\multioutput.py\", line 368, in fit\n",
      "    super().fit(X, Y, sample_weight, **fit_params)\n",
      "  File \"d:\\pycharmprojects\\thesis\\lib\\site-packages\\sklearn\\multioutput.py\", line 178, in fit\n",
      "    self.estimators_ = Parallel(n_jobs=self.n_jobs)(\n",
      "  File \"d:\\pycharmprojects\\thesis\\lib\\site-packages\\joblib\\parallel.py\", line 1044, in __call__\n",
      "    while self.dispatch_one_batch(iterator):\n",
      "  File \"d:\\pycharmprojects\\thesis\\lib\\site-packages\\joblib\\parallel.py\", line 859, in dispatch_one_batch\n",
      "    self._dispatch(tasks)\n",
      "  File \"d:\\pycharmprojects\\thesis\\lib\\site-packages\\joblib\\parallel.py\", line 777, in _dispatch\n",
      "    job = self._backend.apply_async(batch, callback=cb)\n",
      "  File \"d:\\pycharmprojects\\thesis\\lib\\site-packages\\joblib\\_parallel_backends.py\", line 208, in apply_async\n",
      "    result = ImmediateResult(func)\n",
      "  File \"d:\\pycharmprojects\\thesis\\lib\\site-packages\\joblib\\_parallel_backends.py\", line 572, in __init__\n",
      "    self.results = batch()\n",
      "  File \"d:\\pycharmprojects\\thesis\\lib\\site-packages\\joblib\\parallel.py\", line 262, in __call__\n",
      "    return [func(*args, **kwargs)\n",
      "  File \"d:\\pycharmprojects\\thesis\\lib\\site-packages\\joblib\\parallel.py\", line 262, in <listcomp>\n",
      "    return [func(*args, **kwargs)\n",
      "  File \"d:\\pycharmprojects\\thesis\\lib\\site-packages\\sklearn\\utils\\fixes.py\", line 222, in __call__\n",
      "    return self.function(*args, **kwargs)\n",
      "  File \"d:\\pycharmprojects\\thesis\\lib\\site-packages\\sklearn\\multioutput.py\", line 41, in _fit_estimator\n",
      "    estimator.fit(X, y, **fit_params)\n",
      "  File \"d:\\pycharmprojects\\thesis\\lib\\site-packages\\sklearn\\ensemble\\_gb.py\", line 423, in fit\n",
      "    y = self._validate_y(y, sample_weight)\n",
      "  File \"d:\\pycharmprojects\\thesis\\lib\\site-packages\\sklearn\\ensemble\\_gb.py\", line 1107, in _validate_y\n",
      "    raise ValueError(\"y contains %d class after sample_weight \"\n",
      "ValueError: y contains 1 class after sample_weight trimmed classes with zero weights, while a minimum of 2 classes are required.\n",
      "\n",
      "  warnings.warn(\"Estimator fit failed. The score on this train-test\"\n",
      "d:\\pycharmprojects\\thesis\\lib\\site-packages\\sklearn\\model_selection\\_validation.py:610: FitFailedWarning: Estimator fit failed. The score on this train-test partition for these parameters will be set to nan. Details: \n",
      "Traceback (most recent call last):\n",
      "  File \"d:\\pycharmprojects\\thesis\\lib\\site-packages\\sklearn\\model_selection\\_validation.py\", line 593, in _fit_and_score\n",
      "    estimator.fit(X_train, y_train, **fit_params)\n",
      "  File \"d:\\pycharmprojects\\thesis\\lib\\site-packages\\sklearn\\multioutput.py\", line 368, in fit\n",
      "    super().fit(X, Y, sample_weight, **fit_params)\n",
      "  File \"d:\\pycharmprojects\\thesis\\lib\\site-packages\\sklearn\\multioutput.py\", line 178, in fit\n",
      "    self.estimators_ = Parallel(n_jobs=self.n_jobs)(\n",
      "  File \"d:\\pycharmprojects\\thesis\\lib\\site-packages\\joblib\\parallel.py\", line 1041, in __call__\n",
      "    if self.dispatch_one_batch(iterator):\n",
      "  File \"d:\\pycharmprojects\\thesis\\lib\\site-packages\\joblib\\parallel.py\", line 859, in dispatch_one_batch\n",
      "    self._dispatch(tasks)\n",
      "  File \"d:\\pycharmprojects\\thesis\\lib\\site-packages\\joblib\\parallel.py\", line 777, in _dispatch\n",
      "    job = self._backend.apply_async(batch, callback=cb)\n",
      "  File \"d:\\pycharmprojects\\thesis\\lib\\site-packages\\joblib\\_parallel_backends.py\", line 208, in apply_async\n",
      "    result = ImmediateResult(func)\n",
      "  File \"d:\\pycharmprojects\\thesis\\lib\\site-packages\\joblib\\_parallel_backends.py\", line 572, in __init__\n",
      "    self.results = batch()\n",
      "  File \"d:\\pycharmprojects\\thesis\\lib\\site-packages\\joblib\\parallel.py\", line 262, in __call__\n",
      "    return [func(*args, **kwargs)\n",
      "  File \"d:\\pycharmprojects\\thesis\\lib\\site-packages\\joblib\\parallel.py\", line 262, in <listcomp>\n",
      "    return [func(*args, **kwargs)\n",
      "  File \"d:\\pycharmprojects\\thesis\\lib\\site-packages\\sklearn\\utils\\fixes.py\", line 222, in __call__\n",
      "    return self.function(*args, **kwargs)\n",
      "  File \"d:\\pycharmprojects\\thesis\\lib\\site-packages\\sklearn\\multioutput.py\", line 41, in _fit_estimator\n",
      "    estimator.fit(X, y, **fit_params)\n",
      "  File \"d:\\pycharmprojects\\thesis\\lib\\site-packages\\sklearn\\ensemble\\_gb.py\", line 423, in fit\n",
      "    y = self._validate_y(y, sample_weight)\n",
      "  File \"d:\\pycharmprojects\\thesis\\lib\\site-packages\\sklearn\\ensemble\\_gb.py\", line 1107, in _validate_y\n",
      "    raise ValueError(\"y contains %d class after sample_weight \"\n",
      "ValueError: y contains 1 class after sample_weight trimmed classes with zero weights, while a minimum of 2 classes are required.\n",
      "\n",
      "  warnings.warn(\"Estimator fit failed. The score on this train-test\"\n",
      "d:\\pycharmprojects\\thesis\\lib\\site-packages\\sklearn\\model_selection\\_validation.py:610: FitFailedWarning: Estimator fit failed. The score on this train-test partition for these parameters will be set to nan. Details: \n",
      "Traceback (most recent call last):\n",
      "  File \"d:\\pycharmprojects\\thesis\\lib\\site-packages\\sklearn\\model_selection\\_validation.py\", line 593, in _fit_and_score\n",
      "    estimator.fit(X_train, y_train, **fit_params)\n",
      "  File \"d:\\pycharmprojects\\thesis\\lib\\site-packages\\sklearn\\multioutput.py\", line 368, in fit\n",
      "    super().fit(X, Y, sample_weight, **fit_params)\n",
      "  File \"d:\\pycharmprojects\\thesis\\lib\\site-packages\\sklearn\\multioutput.py\", line 178, in fit\n",
      "    self.estimators_ = Parallel(n_jobs=self.n_jobs)(\n",
      "  File \"d:\\pycharmprojects\\thesis\\lib\\site-packages\\joblib\\parallel.py\", line 1044, in __call__\n",
      "    while self.dispatch_one_batch(iterator):\n",
      "  File \"d:\\pycharmprojects\\thesis\\lib\\site-packages\\joblib\\parallel.py\", line 859, in dispatch_one_batch\n",
      "    self._dispatch(tasks)\n",
      "  File \"d:\\pycharmprojects\\thesis\\lib\\site-packages\\joblib\\parallel.py\", line 777, in _dispatch\n",
      "    job = self._backend.apply_async(batch, callback=cb)\n",
      "  File \"d:\\pycharmprojects\\thesis\\lib\\site-packages\\joblib\\_parallel_backends.py\", line 208, in apply_async\n",
      "    result = ImmediateResult(func)\n",
      "  File \"d:\\pycharmprojects\\thesis\\lib\\site-packages\\joblib\\_parallel_backends.py\", line 572, in __init__\n",
      "    self.results = batch()\n",
      "  File \"d:\\pycharmprojects\\thesis\\lib\\site-packages\\joblib\\parallel.py\", line 262, in __call__\n",
      "    return [func(*args, **kwargs)\n",
      "  File \"d:\\pycharmprojects\\thesis\\lib\\site-packages\\joblib\\parallel.py\", line 262, in <listcomp>\n",
      "    return [func(*args, **kwargs)\n",
      "  File \"d:\\pycharmprojects\\thesis\\lib\\site-packages\\sklearn\\utils\\fixes.py\", line 222, in __call__\n",
      "    return self.function(*args, **kwargs)\n",
      "  File \"d:\\pycharmprojects\\thesis\\lib\\site-packages\\sklearn\\multioutput.py\", line 41, in _fit_estimator\n",
      "    estimator.fit(X, y, **fit_params)\n",
      "  File \"d:\\pycharmprojects\\thesis\\lib\\site-packages\\sklearn\\ensemble\\_gb.py\", line 423, in fit\n",
      "    y = self._validate_y(y, sample_weight)\n",
      "  File \"d:\\pycharmprojects\\thesis\\lib\\site-packages\\sklearn\\ensemble\\_gb.py\", line 1107, in _validate_y\n",
      "    raise ValueError(\"y contains %d class after sample_weight \"\n",
      "ValueError: y contains 1 class after sample_weight trimmed classes with zero weights, while a minimum of 2 classes are required.\n",
      "\n",
      "  warnings.warn(\"Estimator fit failed. The score on this train-test\"\n",
      "d:\\pycharmprojects\\thesis\\lib\\site-packages\\sklearn\\model_selection\\_validation.py:610: FitFailedWarning: Estimator fit failed. The score on this train-test partition for these parameters will be set to nan. Details: \n",
      "Traceback (most recent call last):\n",
      "  File \"d:\\pycharmprojects\\thesis\\lib\\site-packages\\sklearn\\model_selection\\_validation.py\", line 593, in _fit_and_score\n",
      "    estimator.fit(X_train, y_train, **fit_params)\n",
      "  File \"d:\\pycharmprojects\\thesis\\lib\\site-packages\\sklearn\\multioutput.py\", line 368, in fit\n",
      "    super().fit(X, Y, sample_weight, **fit_params)\n",
      "  File \"d:\\pycharmprojects\\thesis\\lib\\site-packages\\sklearn\\multioutput.py\", line 178, in fit\n",
      "    self.estimators_ = Parallel(n_jobs=self.n_jobs)(\n",
      "  File \"d:\\pycharmprojects\\thesis\\lib\\site-packages\\joblib\\parallel.py\", line 1041, in __call__\n",
      "    if self.dispatch_one_batch(iterator):\n",
      "  File \"d:\\pycharmprojects\\thesis\\lib\\site-packages\\joblib\\parallel.py\", line 859, in dispatch_one_batch\n",
      "    self._dispatch(tasks)\n",
      "  File \"d:\\pycharmprojects\\thesis\\lib\\site-packages\\joblib\\parallel.py\", line 777, in _dispatch\n",
      "    job = self._backend.apply_async(batch, callback=cb)\n",
      "  File \"d:\\pycharmprojects\\thesis\\lib\\site-packages\\joblib\\_parallel_backends.py\", line 208, in apply_async\n",
      "    result = ImmediateResult(func)\n",
      "  File \"d:\\pycharmprojects\\thesis\\lib\\site-packages\\joblib\\_parallel_backends.py\", line 572, in __init__\n",
      "    self.results = batch()\n",
      "  File \"d:\\pycharmprojects\\thesis\\lib\\site-packages\\joblib\\parallel.py\", line 262, in __call__\n",
      "    return [func(*args, **kwargs)\n",
      "  File \"d:\\pycharmprojects\\thesis\\lib\\site-packages\\joblib\\parallel.py\", line 262, in <listcomp>\n",
      "    return [func(*args, **kwargs)\n",
      "  File \"d:\\pycharmprojects\\thesis\\lib\\site-packages\\sklearn\\utils\\fixes.py\", line 222, in __call__\n",
      "    return self.function(*args, **kwargs)\n",
      "  File \"d:\\pycharmprojects\\thesis\\lib\\site-packages\\sklearn\\multioutput.py\", line 41, in _fit_estimator\n",
      "    estimator.fit(X, y, **fit_params)\n",
      "  File \"d:\\pycharmprojects\\thesis\\lib\\site-packages\\sklearn\\ensemble\\_gb.py\", line 423, in fit\n",
      "    y = self._validate_y(y, sample_weight)\n",
      "  File \"d:\\pycharmprojects\\thesis\\lib\\site-packages\\sklearn\\ensemble\\_gb.py\", line 1107, in _validate_y\n",
      "    raise ValueError(\"y contains %d class after sample_weight \"\n",
      "ValueError: y contains 1 class after sample_weight trimmed classes with zero weights, while a minimum of 2 classes are required.\n",
      "\n",
      "  warnings.warn(\"Estimator fit failed. The score on this train-test\"\n",
      "d:\\pycharmprojects\\thesis\\lib\\site-packages\\sklearn\\model_selection\\_validation.py:610: FitFailedWarning: Estimator fit failed. The score on this train-test partition for these parameters will be set to nan. Details: \n",
      "Traceback (most recent call last):\n",
      "  File \"d:\\pycharmprojects\\thesis\\lib\\site-packages\\sklearn\\model_selection\\_validation.py\", line 593, in _fit_and_score\n",
      "    estimator.fit(X_train, y_train, **fit_params)\n",
      "  File \"d:\\pycharmprojects\\thesis\\lib\\site-packages\\sklearn\\multioutput.py\", line 368, in fit\n",
      "    super().fit(X, Y, sample_weight, **fit_params)\n",
      "  File \"d:\\pycharmprojects\\thesis\\lib\\site-packages\\sklearn\\multioutput.py\", line 178, in fit\n",
      "    self.estimators_ = Parallel(n_jobs=self.n_jobs)(\n",
      "  File \"d:\\pycharmprojects\\thesis\\lib\\site-packages\\joblib\\parallel.py\", line 1044, in __call__\n",
      "    while self.dispatch_one_batch(iterator):\n",
      "  File \"d:\\pycharmprojects\\thesis\\lib\\site-packages\\joblib\\parallel.py\", line 859, in dispatch_one_batch\n",
      "    self._dispatch(tasks)\n",
      "  File \"d:\\pycharmprojects\\thesis\\lib\\site-packages\\joblib\\parallel.py\", line 777, in _dispatch\n",
      "    job = self._backend.apply_async(batch, callback=cb)\n",
      "  File \"d:\\pycharmprojects\\thesis\\lib\\site-packages\\joblib\\_parallel_backends.py\", line 208, in apply_async\n",
      "    result = ImmediateResult(func)\n",
      "  File \"d:\\pycharmprojects\\thesis\\lib\\site-packages\\joblib\\_parallel_backends.py\", line 572, in __init__\n",
      "    self.results = batch()\n",
      "  File \"d:\\pycharmprojects\\thesis\\lib\\site-packages\\joblib\\parallel.py\", line 262, in __call__\n",
      "    return [func(*args, **kwargs)\n",
      "  File \"d:\\pycharmprojects\\thesis\\lib\\site-packages\\joblib\\parallel.py\", line 262, in <listcomp>\n",
      "    return [func(*args, **kwargs)\n",
      "  File \"d:\\pycharmprojects\\thesis\\lib\\site-packages\\sklearn\\utils\\fixes.py\", line 222, in __call__\n",
      "    return self.function(*args, **kwargs)\n",
      "  File \"d:\\pycharmprojects\\thesis\\lib\\site-packages\\sklearn\\multioutput.py\", line 41, in _fit_estimator\n",
      "    estimator.fit(X, y, **fit_params)\n",
      "  File \"d:\\pycharmprojects\\thesis\\lib\\site-packages\\sklearn\\ensemble\\_gb.py\", line 423, in fit\n",
      "    y = self._validate_y(y, sample_weight)\n",
      "  File \"d:\\pycharmprojects\\thesis\\lib\\site-packages\\sklearn\\ensemble\\_gb.py\", line 1107, in _validate_y\n",
      "    raise ValueError(\"y contains %d class after sample_weight \"\n",
      "ValueError: y contains 1 class after sample_weight trimmed classes with zero weights, while a minimum of 2 classes are required.\n",
      "\n",
      "  warnings.warn(\"Estimator fit failed. The score on this train-test\"\n",
      "d:\\pycharmprojects\\thesis\\lib\\site-packages\\sklearn\\model_selection\\_validation.py:610: FitFailedWarning: Estimator fit failed. The score on this train-test partition for these parameters will be set to nan. Details: \n",
      "Traceback (most recent call last):\n",
      "  File \"d:\\pycharmprojects\\thesis\\lib\\site-packages\\sklearn\\model_selection\\_validation.py\", line 593, in _fit_and_score\n",
      "    estimator.fit(X_train, y_train, **fit_params)\n",
      "  File \"d:\\pycharmprojects\\thesis\\lib\\site-packages\\sklearn\\multioutput.py\", line 368, in fit\n",
      "    super().fit(X, Y, sample_weight, **fit_params)\n",
      "  File \"d:\\pycharmprojects\\thesis\\lib\\site-packages\\sklearn\\multioutput.py\", line 178, in fit\n",
      "    self.estimators_ = Parallel(n_jobs=self.n_jobs)(\n",
      "  File \"d:\\pycharmprojects\\thesis\\lib\\site-packages\\joblib\\parallel.py\", line 1041, in __call__\n",
      "    if self.dispatch_one_batch(iterator):\n",
      "  File \"d:\\pycharmprojects\\thesis\\lib\\site-packages\\joblib\\parallel.py\", line 859, in dispatch_one_batch\n",
      "    self._dispatch(tasks)\n",
      "  File \"d:\\pycharmprojects\\thesis\\lib\\site-packages\\joblib\\parallel.py\", line 777, in _dispatch\n",
      "    job = self._backend.apply_async(batch, callback=cb)\n",
      "  File \"d:\\pycharmprojects\\thesis\\lib\\site-packages\\joblib\\_parallel_backends.py\", line 208, in apply_async\n",
      "    result = ImmediateResult(func)\n",
      "  File \"d:\\pycharmprojects\\thesis\\lib\\site-packages\\joblib\\_parallel_backends.py\", line 572, in __init__\n",
      "    self.results = batch()\n",
      "  File \"d:\\pycharmprojects\\thesis\\lib\\site-packages\\joblib\\parallel.py\", line 262, in __call__\n",
      "    return [func(*args, **kwargs)\n",
      "  File \"d:\\pycharmprojects\\thesis\\lib\\site-packages\\joblib\\parallel.py\", line 262, in <listcomp>\n",
      "    return [func(*args, **kwargs)\n",
      "  File \"d:\\pycharmprojects\\thesis\\lib\\site-packages\\sklearn\\utils\\fixes.py\", line 222, in __call__\n",
      "    return self.function(*args, **kwargs)\n",
      "  File \"d:\\pycharmprojects\\thesis\\lib\\site-packages\\sklearn\\multioutput.py\", line 41, in _fit_estimator\n",
      "    estimator.fit(X, y, **fit_params)\n",
      "  File \"d:\\pycharmprojects\\thesis\\lib\\site-packages\\sklearn\\ensemble\\_gb.py\", line 423, in fit\n",
      "    y = self._validate_y(y, sample_weight)\n",
      "  File \"d:\\pycharmprojects\\thesis\\lib\\site-packages\\sklearn\\ensemble\\_gb.py\", line 1107, in _validate_y\n",
      "    raise ValueError(\"y contains %d class after sample_weight \"\n",
      "ValueError: y contains 1 class after sample_weight trimmed classes with zero weights, while a minimum of 2 classes are required.\n",
      "\n",
      "  warnings.warn(\"Estimator fit failed. The score on this train-test\"\n",
      "d:\\pycharmprojects\\thesis\\lib\\site-packages\\sklearn\\model_selection\\_validation.py:610: FitFailedWarning: Estimator fit failed. The score on this train-test partition for these parameters will be set to nan. Details: \n",
      "Traceback (most recent call last):\n",
      "  File \"d:\\pycharmprojects\\thesis\\lib\\site-packages\\sklearn\\model_selection\\_validation.py\", line 593, in _fit_and_score\n",
      "    estimator.fit(X_train, y_train, **fit_params)\n",
      "  File \"d:\\pycharmprojects\\thesis\\lib\\site-packages\\sklearn\\multioutput.py\", line 368, in fit\n",
      "    super().fit(X, Y, sample_weight, **fit_params)\n",
      "  File \"d:\\pycharmprojects\\thesis\\lib\\site-packages\\sklearn\\multioutput.py\", line 178, in fit\n",
      "    self.estimators_ = Parallel(n_jobs=self.n_jobs)(\n",
      "  File \"d:\\pycharmprojects\\thesis\\lib\\site-packages\\joblib\\parallel.py\", line 1044, in __call__\n",
      "    while self.dispatch_one_batch(iterator):\n",
      "  File \"d:\\pycharmprojects\\thesis\\lib\\site-packages\\joblib\\parallel.py\", line 859, in dispatch_one_batch\n",
      "    self._dispatch(tasks)\n",
      "  File \"d:\\pycharmprojects\\thesis\\lib\\site-packages\\joblib\\parallel.py\", line 777, in _dispatch\n",
      "    job = self._backend.apply_async(batch, callback=cb)\n",
      "  File \"d:\\pycharmprojects\\thesis\\lib\\site-packages\\joblib\\_parallel_backends.py\", line 208, in apply_async\n",
      "    result = ImmediateResult(func)\n",
      "  File \"d:\\pycharmprojects\\thesis\\lib\\site-packages\\joblib\\_parallel_backends.py\", line 572, in __init__\n",
      "    self.results = batch()\n",
      "  File \"d:\\pycharmprojects\\thesis\\lib\\site-packages\\joblib\\parallel.py\", line 262, in __call__\n",
      "    return [func(*args, **kwargs)\n",
      "  File \"d:\\pycharmprojects\\thesis\\lib\\site-packages\\joblib\\parallel.py\", line 262, in <listcomp>\n",
      "    return [func(*args, **kwargs)\n",
      "  File \"d:\\pycharmprojects\\thesis\\lib\\site-packages\\sklearn\\utils\\fixes.py\", line 222, in __call__\n",
      "    return self.function(*args, **kwargs)\n",
      "  File \"d:\\pycharmprojects\\thesis\\lib\\site-packages\\sklearn\\multioutput.py\", line 41, in _fit_estimator\n",
      "    estimator.fit(X, y, **fit_params)\n",
      "  File \"d:\\pycharmprojects\\thesis\\lib\\site-packages\\sklearn\\ensemble\\_gb.py\", line 423, in fit\n",
      "    y = self._validate_y(y, sample_weight)\n",
      "  File \"d:\\pycharmprojects\\thesis\\lib\\site-packages\\sklearn\\ensemble\\_gb.py\", line 1107, in _validate_y\n",
      "    raise ValueError(\"y contains %d class after sample_weight \"\n",
      "ValueError: y contains 1 class after sample_weight trimmed classes with zero weights, while a minimum of 2 classes are required.\n",
      "\n",
      "  warnings.warn(\"Estimator fit failed. The score on this train-test\"\n",
      "d:\\pycharmprojects\\thesis\\lib\\site-packages\\sklearn\\model_selection\\_validation.py:610: FitFailedWarning: Estimator fit failed. The score on this train-test partition for these parameters will be set to nan. Details: \n",
      "Traceback (most recent call last):\n",
      "  File \"d:\\pycharmprojects\\thesis\\lib\\site-packages\\sklearn\\model_selection\\_validation.py\", line 593, in _fit_and_score\n",
      "    estimator.fit(X_train, y_train, **fit_params)\n",
      "  File \"d:\\pycharmprojects\\thesis\\lib\\site-packages\\sklearn\\multioutput.py\", line 368, in fit\n",
      "    super().fit(X, Y, sample_weight, **fit_params)\n",
      "  File \"d:\\pycharmprojects\\thesis\\lib\\site-packages\\sklearn\\multioutput.py\", line 178, in fit\n",
      "    self.estimators_ = Parallel(n_jobs=self.n_jobs)(\n",
      "  File \"d:\\pycharmprojects\\thesis\\lib\\site-packages\\joblib\\parallel.py\", line 1041, in __call__\n",
      "    if self.dispatch_one_batch(iterator):\n",
      "  File \"d:\\pycharmprojects\\thesis\\lib\\site-packages\\joblib\\parallel.py\", line 859, in dispatch_one_batch\n",
      "    self._dispatch(tasks)\n",
      "  File \"d:\\pycharmprojects\\thesis\\lib\\site-packages\\joblib\\parallel.py\", line 777, in _dispatch\n",
      "    job = self._backend.apply_async(batch, callback=cb)\n",
      "  File \"d:\\pycharmprojects\\thesis\\lib\\site-packages\\joblib\\_parallel_backends.py\", line 208, in apply_async\n",
      "    result = ImmediateResult(func)\n",
      "  File \"d:\\pycharmprojects\\thesis\\lib\\site-packages\\joblib\\_parallel_backends.py\", line 572, in __init__\n",
      "    self.results = batch()\n",
      "  File \"d:\\pycharmprojects\\thesis\\lib\\site-packages\\joblib\\parallel.py\", line 262, in __call__\n",
      "    return [func(*args, **kwargs)\n",
      "  File \"d:\\pycharmprojects\\thesis\\lib\\site-packages\\joblib\\parallel.py\", line 262, in <listcomp>\n",
      "    return [func(*args, **kwargs)\n",
      "  File \"d:\\pycharmprojects\\thesis\\lib\\site-packages\\sklearn\\utils\\fixes.py\", line 222, in __call__\n",
      "    return self.function(*args, **kwargs)\n",
      "  File \"d:\\pycharmprojects\\thesis\\lib\\site-packages\\sklearn\\multioutput.py\", line 41, in _fit_estimator\n",
      "    estimator.fit(X, y, **fit_params)\n",
      "  File \"d:\\pycharmprojects\\thesis\\lib\\site-packages\\sklearn\\ensemble\\_gb.py\", line 423, in fit\n",
      "    y = self._validate_y(y, sample_weight)\n",
      "  File \"d:\\pycharmprojects\\thesis\\lib\\site-packages\\sklearn\\ensemble\\_gb.py\", line 1107, in _validate_y\n",
      "    raise ValueError(\"y contains %d class after sample_weight \"\n",
      "ValueError: y contains 1 class after sample_weight trimmed classes with zero weights, while a minimum of 2 classes are required.\n",
      "\n",
      "  warnings.warn(\"Estimator fit failed. The score on this train-test\"\n",
      "d:\\pycharmprojects\\thesis\\lib\\site-packages\\sklearn\\model_selection\\_validation.py:610: FitFailedWarning: Estimator fit failed. The score on this train-test partition for these parameters will be set to nan. Details: \n",
      "Traceback (most recent call last):\n",
      "  File \"d:\\pycharmprojects\\thesis\\lib\\site-packages\\sklearn\\model_selection\\_validation.py\", line 593, in _fit_and_score\n",
      "    estimator.fit(X_train, y_train, **fit_params)\n",
      "  File \"d:\\pycharmprojects\\thesis\\lib\\site-packages\\sklearn\\multioutput.py\", line 368, in fit\n",
      "    super().fit(X, Y, sample_weight, **fit_params)\n",
      "  File \"d:\\pycharmprojects\\thesis\\lib\\site-packages\\sklearn\\multioutput.py\", line 178, in fit\n",
      "    self.estimators_ = Parallel(n_jobs=self.n_jobs)(\n",
      "  File \"d:\\pycharmprojects\\thesis\\lib\\site-packages\\joblib\\parallel.py\", line 1044, in __call__\n",
      "    while self.dispatch_one_batch(iterator):\n",
      "  File \"d:\\pycharmprojects\\thesis\\lib\\site-packages\\joblib\\parallel.py\", line 859, in dispatch_one_batch\n",
      "    self._dispatch(tasks)\n",
      "  File \"d:\\pycharmprojects\\thesis\\lib\\site-packages\\joblib\\parallel.py\", line 777, in _dispatch\n",
      "    job = self._backend.apply_async(batch, callback=cb)\n",
      "  File \"d:\\pycharmprojects\\thesis\\lib\\site-packages\\joblib\\_parallel_backends.py\", line 208, in apply_async\n",
      "    result = ImmediateResult(func)\n",
      "  File \"d:\\pycharmprojects\\thesis\\lib\\site-packages\\joblib\\_parallel_backends.py\", line 572, in __init__\n",
      "    self.results = batch()\n",
      "  File \"d:\\pycharmprojects\\thesis\\lib\\site-packages\\joblib\\parallel.py\", line 262, in __call__\n",
      "    return [func(*args, **kwargs)\n",
      "  File \"d:\\pycharmprojects\\thesis\\lib\\site-packages\\joblib\\parallel.py\", line 262, in <listcomp>\n",
      "    return [func(*args, **kwargs)\n",
      "  File \"d:\\pycharmprojects\\thesis\\lib\\site-packages\\sklearn\\utils\\fixes.py\", line 222, in __call__\n",
      "    return self.function(*args, **kwargs)\n",
      "  File \"d:\\pycharmprojects\\thesis\\lib\\site-packages\\sklearn\\multioutput.py\", line 41, in _fit_estimator\n",
      "    estimator.fit(X, y, **fit_params)\n",
      "  File \"d:\\pycharmprojects\\thesis\\lib\\site-packages\\sklearn\\ensemble\\_gb.py\", line 423, in fit\n",
      "    y = self._validate_y(y, sample_weight)\n",
      "  File \"d:\\pycharmprojects\\thesis\\lib\\site-packages\\sklearn\\ensemble\\_gb.py\", line 1107, in _validate_y\n",
      "    raise ValueError(\"y contains %d class after sample_weight \"\n",
      "ValueError: y contains 1 class after sample_weight trimmed classes with zero weights, while a minimum of 2 classes are required.\n",
      "\n",
      "  warnings.warn(\"Estimator fit failed. The score on this train-test\"\n",
      "d:\\pycharmprojects\\thesis\\lib\\site-packages\\sklearn\\model_selection\\_search.py:918: UserWarning: One or more of the test scores are non-finite: [nan nan nan nan nan nan nan nan nan nan nan nan]\n",
      "  warnings.warn(\n"
     ]
    },
    {
     "name": "stdout",
     "output_type": "stream",
     "text": [
      "[nan nan nan nan nan nan nan nan nan nan nan nan]\n",
      "Best parameters found:\n",
      " {'estimator__loss': 'deviance', 'estimator__max_depth': 2}\n",
      "Test set score: 0.12\n"
     ]
    }
   ],
   "source": [
    "from sklearn.ensemble import GradientBoostingClassifier\n",
    "from sklearn.model_selection import GridSearchCV\n",
    "from sklearn.multioutput import MultiOutputClassifier  # (https://sklearn.org/modules/multiclass.html#multioutput-classification)\n",
    "\n",
    "param_grid = {'estimator__max_depth':[2,4,8,16,30,40], 'estimator__loss':['deviance', 'exponential']}\n",
    "\n",
    "gbt = MultiOutputClassifier(GradientBoostingClassifier(verbose=0, warm_start=True))\n",
    "grid_search = GridSearchCV(gbt, param_grid, cv=5)\n",
    "\n",
    "grid_search.fit(X_train, y_train)\n",
    "scores = grid_search.cv_results_['mean_test_score']\n",
    "print(scores)\n",
    "\n",
    "print('Best parameters found:\\n', grid_search.best_params_)\n",
    "print(\"Test set score: {:.2f}\".format(grid_search.score(X_test, y_test)))"
   ],
   "metadata": {
    "collapsed": false,
    "pycharm": {
     "name": "#%%\n"
    }
   }
  },
  {
   "cell_type": "markdown",
   "source": [
    "### Multi-Layered Perceptron (MLP)"
   ],
   "metadata": {
    "collapsed": false,
    "pycharm": {
     "name": "#%% md\n"
    }
   }
  },
  {
   "cell_type": "code",
   "execution_count": null,
   "outputs": [
    {
     "name": "stderr",
     "output_type": "stream",
     "text": [
      "d:\\pycharmprojects\\thesis\\lib\\site-packages\\sklearn\\neural_network\\_multilayer_perceptron.py:619: UserWarning: Training interrupted by user.\n",
      "  warnings.warn(\"Training interrupted by user.\")\n"
     ]
    }
   ],
   "source": [
    "from sklearn.neural_network import MLPClassifier\n",
    "from sklearn.model_selection import GridSearchCV\n",
    "\n",
    "param_grid = {\n",
    "    'hidden_layer_sizes': [(5, 10, 5), (15, 30, 15), (5, 10, 10, 5), (15, 30, 5)],\n",
    "    'activation': ['tanh', 'relu'],\n",
    "    'solver': ['adam'],\n",
    "    'alpha': [0.0001, 0.05],\n",
    "    'learning_rate': ['constant']\n",
    "}\n",
    "\n",
    "grid_search = GridSearchCV(MLPClassifier(max_iter=10000), param_grid, cv=5)\n",
    "\n",
    "grid_search.fit(X_train, y_train)\n",
    "scores = grid_search.cv_results_['mean_test_score']\n",
    "print(scores)\n",
    "\n",
    "y_true, y_pred = y_test , grid_search.predict(X_test)\n",
    "\n",
    "from sklearn.metrics import classification_report\n",
    "print('Results on the test set:')\n",
    "print(classification_report(y_true, y_pred))\n",
    "\n",
    "print('Best parameters found:\\n', grid_search.best_params_)\n",
    "print(\"Test set score: {:.2f}\".format(grid_search.score(X_test, y_test)))\n"
   ],
   "metadata": {
    "collapsed": false,
    "pycharm": {
     "name": "#%%\n",
     "is_executing": true
    }
   }
  }
 ],
 "metadata": {
  "kernelspec": {
   "display_name": "Python 3",
   "language": "python",
   "name": "python3"
  },
  "language_info": {
   "codemirror_mode": {
    "name": "ipython",
    "version": 2
   },
   "file_extension": ".py",
   "mimetype": "text/x-python",
   "name": "python",
   "nbconvert_exporter": "python",
   "pygments_lexer": "ipython2",
   "version": "2.7.6"
  }
 },
 "nbformat": 4,
 "nbformat_minor": 0
}