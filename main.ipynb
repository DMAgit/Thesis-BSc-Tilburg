{
 "cells": [
  {
   "cell_type": "markdown",
   "metadata": {
    "collapsed": true,
    "pycharm": {
     "name": "#%% md\n"
    }
   },
   "source": [
    "Title\n",
    "\n",
    "Description"
   ]
  },
  {
   "cell_type": "markdown",
   "source": [
    "---"
   ],
   "metadata": {
    "collapsed": false
   }
  },
  {
   "cell_type": "markdown",
   "source": [
    "Importing packages."
   ],
   "metadata": {
    "collapsed": false,
    "pycharm": {
     "name": "#%% md\n"
    }
   }
  },
  {
   "cell_type": "code",
   "execution_count": 1,
   "outputs": [],
   "source": [
    "import pandas as pd\n",
    "import numpy as np\n",
    "import matplotlib.pyplot as plt\n",
    "%matplotlib inline\n",
    "import ipywidgets as widgets\n",
    "from sklearn.model_selection import GridSearchCV"
   ],
   "metadata": {
    "collapsed": false,
    "pycharm": {
     "name": "#%%\n"
    }
   }
  },
  {
   "cell_type": "markdown",
   "source": [
    "Select a style sheet for matplotlib"
   ],
   "metadata": {
    "collapsed": false,
    "pycharm": {
     "name": "#%% md\n"
    }
   }
  },
  {
   "cell_type": "code",
   "execution_count": 2,
   "outputs": [],
   "source": [
    "repo = \"https://raw.githubusercontent.com/garrettj403/SciencePlots/master\"\n",
    "styleScience = repo + \"/styles/science.mplstyle\"\n",
    "styleColor = repo + \"/styles/color/bright.mplstyle\"\n",
    "styleGrid = repo + \"/styles/misc/grid.mplstyle\"\n",
    "styleNoLatex = repo + \"/styles/misc/no-latex.mplstyle\""
   ],
   "metadata": {
    "collapsed": false,
    "pycharm": {
     "name": "#%%\n"
    }
   }
  },
  {
   "cell_type": "markdown",
   "source": [
    "---"
   ],
   "metadata": {
    "collapsed": false
   }
  },
  {
   "cell_type": "markdown",
   "source": [
    "Importing data."
   ],
   "metadata": {
    "collapsed": false,
    "pycharm": {
     "name": "#%% md\n"
    }
   }
  },
  {
   "cell_type": "code",
   "execution_count": 3,
   "outputs": [
    {
     "name": "stdout",
     "output_type": "stream",
     "text": [
      "Choose the dataset you want to use below and you can run the next sections with it.\n"
     ]
    },
    {
     "data": {
      "text/plain": "Dropdown(description='Dataset selection:', options=('Full', 'Spatio-temporal', 'Meteorological', 'Topological'…",
      "application/vnd.jupyter.widget-view+json": {
       "version_major": 2,
       "version_minor": 0,
       "model_id": "3ff370ad1fa24fc78fcf9d9db7d0b862"
      }
     },
     "metadata": {},
     "output_type": "display_data"
    }
   ],
   "source": [
    "# I use the ipywidgets library to allow for a nice menu to select the dataset.\n",
    "w_data = widgets.Dropdown(\n",
    "    options=['Full', 'Spatio-temporal', 'Meteorological', 'Topological'],\n",
    "    value='Full',\n",
    "    description='Dataset selection:',\n",
    ")\n",
    "\n",
    "print(\"Choose the dataset you want to use below and you can run the next sections with it.\")\n",
    "display(w_data)"
   ],
   "metadata": {
    "collapsed": false,
    "pycharm": {
     "name": "#%%\n"
    }
   }
  },
  {
   "cell_type": "markdown",
   "source": [
    "Import the X and y datasets. If you want to change the dataset you're using, change the selection from the dropdown\n",
    "above and rerun this cell."
   ],
   "metadata": {
    "collapsed": false,
    "pycharm": {
     "name": "#%% md\n"
    }
   }
  },
  {
   "cell_type": "code",
   "execution_count": 4,
   "outputs": [
    {
     "name": "stdout",
     "output_type": "stream",
     "text": [
      "Features: ['latitude', 'longitude', 'remoteness', 'elevation', 'Temp', 'Wind', 'Humidity', 'Precipitation', 'Veg Broadleaf Forest', 'Veg Desert', 'Veg Grassland', 'Veg Needleleaf Forest', 'Veg Rock', 'Veg Shrubland', 'Fall', 'Spring', 'Summer', 'Winter', 'is_weekend', 'is_weekday']\n"
     ]
    }
   ],
   "source": [
    "if w_data.value == 'Full':\n",
    "    X = pd.read_csv(r\"data/data_Full_X.csv\", index_col=0)\n",
    "    y = pd.read_csv(r\"data/data_Full_y.csv\", index_col=0)\n",
    "\n",
    "elif w_data.value == 'Spatio-temporal':\n",
    "    X = pd.read_csv(r\"data/data_SPT_X.csv\", index_col=0)\n",
    "    y = pd.read_csv(r\"data/data_SPT_y.csv\", index_col=0)\n",
    "\n",
    "elif w_data.value == 'Meteorological':\n",
    "    X = pd.read_csv(r\"data/data_M_X.csv\", index_col=0)\n",
    "    y = pd.read_csv(r\"data/data_M_y.csv\", index_col=0)\n",
    "\n",
    "elif w_data.value == 'Topological':\n",
    "    X = pd.read_csv(r\"data/data_T_X.csv\", index_col=0)\n",
    "    y = pd.read_csv(r\"data/data_T_y.csv\", index_col=0)\n",
    "\n",
    "else: raise Exception(\"It seems that something went wrong. The widget gave an unexpected output value. \"\n",
    "                      \"Values should be one of: ['Full', 'Spatio-temporal', 'Meteorological', 'Topological'].\")\n",
    "\n",
    "print(\"Features:\", list(X.columns))\n",
    "# print(y.sample(5))"
   ],
   "metadata": {
    "collapsed": false,
    "pycharm": {
     "name": "#%%\n"
    }
   }
  },
  {
   "cell_type": "markdown",
   "source": [
    "---"
   ],
   "metadata": {
    "collapsed": false,
    "pycharm": {
     "name": "#%% md\n"
    }
   }
  },
  {
   "cell_type": "markdown",
   "source": [
    "Train-test split the dataset."
   ],
   "metadata": {
    "collapsed": false
   }
  },
  {
   "cell_type": "code",
   "execution_count": 10,
   "outputs": [
    {
     "name": "stdout",
     "output_type": "stream",
     "text": [
      "(33522, 20)\n",
      "(33522, 1) \n",
      "\n",
      "(3725, 20)\n",
      "(3725, 1)\n"
     ]
    }
   ],
   "source": [
    "from sklearn.model_selection import train_test_split\n",
    "\n",
    "X_train, X_test, y_train, y_test = train_test_split(X, y, test_size=0.1, random_state=42, stratify=y)\n",
    "\n",
    "# print(X_train.shape)\n",
    "# print(y_train.shape, \"\\n\")\n",
    "\n",
    "# print(X_test.shape)\n",
    "# print(y_test.shape)"
   ],
   "metadata": {
    "collapsed": false,
    "pycharm": {
     "name": "#%%\n"
    }
   }
  },
  {
   "cell_type": "markdown",
   "source": [
    "Let's check the balance of the target features by making a bar plot of them."
   ],
   "metadata": {
    "collapsed": false
   }
  },
  {
   "cell_type": "code",
   "execution_count": 11,
   "outputs": [
    {
     "data": {
      "text/plain": "<Figure size 252x189 with 1 Axes>",
      "image/png": "[encoded data removed]"
     },
     "metadata": {
      "needs_background": "light"
     },
     "output_type": "display_data"
    }
   ],
   "source": [
    "with plt.style.context([styleScience, styleNoLatex, styleColor, styleGrid]):\n",
    "    plt.bar(x=[\"Class B\", \"Classes > B\"], height=[(y_train[\"B\"] == 1).sum(), (y_train[\"B\"] == 0).sum()])\n",
    "    plt.ylabel(\"Number of samples\")\n",
    "\n",
    "    if w_data.value == 'Full':\n",
    "        plt.savefig(r\"figures/hist_y_unbalanced.png\", dpi=1200)"
   ],
   "metadata": {
    "collapsed": false,
    "pycharm": {
     "name": "#%%\n"
    }
   }
  },
  {
   "cell_type": "markdown",
   "source": [
    "In order to fix the distribution of the data when training, we want to change it (in the training set only though).\n",
    "\n",
    "To do this I used a simple random undersample of the training data. I used the imblearn implementation."
   ],
   "metadata": {
    "collapsed": false,
    "pycharm": {
     "name": "#%% md\n"
    }
   }
  },
  {
   "cell_type": "code",
   "execution_count": 12,
   "outputs": [],
   "source": [
    "from imblearn.under_sampling import RandomUnderSampler\n",
    "\n",
    "rus = RandomUnderSampler()\n",
    "X_train, y_train = rus.fit_resample(X_train, y_train)\n",
    "\n",
    "# print(X_train.shape)\n",
    "# print(y_train.shape)"
   ],
   "metadata": {
    "collapsed": false,
    "pycharm": {
     "name": "#%%\n"
    }
   }
  },
  {
   "cell_type": "markdown",
   "source": [
    "Let's plot the new distribution."
   ],
   "metadata": {
    "collapsed": false,
    "pycharm": {
     "name": "#%% md\n"
    }
   }
  },
  {
   "cell_type": "code",
   "execution_count": 13,
   "outputs": [
    {
     "data": {
      "text/plain": "<Figure size 252x189 with 1 Axes>",
      "image/png": "[encoded data removed]"
     },
     "metadata": {
      "needs_background": "light"
     },
     "output_type": "display_data"
    }
   ],
   "source": [
    "with plt.style.context([styleScience, styleNoLatex, styleColor, styleGrid]):\n",
    "    plt.bar(x=[\"Class B\", \"Classes > B\"], height=[(y_train[\"B\"] == 1).sum(), (y_train[\"B\"] == 0).sum()])\n",
    "    plt.ylabel(\"Number of samples\")\n",
    "\n",
    "    if w_data.value == 'Full':\n",
    "        plt.savefig(r\"figures/hist_y_balanced.png\", dpi=1200)"
   ],
   "metadata": {
    "collapsed": false,
    "pycharm": {
     "name": "#%%\n"
    }
   }
  },
  {
   "cell_type": "markdown",
   "source": [
    "Make a correlation matrix of the features."
   ],
   "metadata": {
    "collapsed": false,
    "pycharm": {
     "name": "#%% md\n"
    }
   }
  },
  {
   "cell_type": "code",
   "execution_count": 14,
   "outputs": [
    {
     "data": {
      "text/plain": "<Figure size 936x720 with 2 Axes>",
      "image/png": "[encoded data removed]"
     },
     "metadata": {
      "needs_background": "light"
     },
     "output_type": "display_data"
    }
   ],
   "source": [
    "with plt.style.context([styleScience, styleNoLatex, styleColor]):\n",
    "\n",
    "    plt.rcParams.update({\"xtick.minor.visible\" : False,\n",
    "                         \"ytick.minor.visible\"  : False})\n",
    "\n",
    "    fig = plt.figure(figsize=[13, 10])\n",
    "    ax = plt.gca()\n",
    "\n",
    "    im = ax.matshow(X_train.corr(), interpolation='none')\n",
    "    fig.colorbar(im)\n",
    "\n",
    "    ax.set_xticks(range(0, len(X_train.columns)))\n",
    "    ax.set_xticklabels(list(X_train.columns))\n",
    "    ax.set_yticks(range(0, len(X_train.columns)))\n",
    "    ax.set_yticklabels(list(X_train.columns))\n",
    "\n",
    "    # Set ticks on both sides of axes on\n",
    "    ax.tick_params(axis=\"x\", bottom=False, top=True, labelbottom=False, labeltop=True)\n",
    "    # Rotate and align bottom ticklabels\n",
    "    plt.setp([tick.label1 for tick in ax.xaxis.get_major_ticks()], rotation=45,\n",
    "             ha=\"right\", va=\"center\", rotation_mode=\"anchor\")\n",
    "    # Rotate and align top ticklabels\n",
    "    plt.setp([tick.label2 for tick in ax.xaxis.get_major_ticks()], rotation=45,\n",
    "             ha=\"left\", va=\"center\",rotation_mode=\"anchor\")\n",
    "\n",
    "    fig.tight_layout()\n",
    "\n",
    "    plt.style.use('default')\n",
    "\n",
    "    if w_data.value == 'Full':\n",
    "        plt.savefig(r\"figures/corrMatrix.png\", dpi=1200)"
   ],
   "metadata": {
    "collapsed": false,
    "pycharm": {
     "name": "#%%\n"
    }
   }
  },
  {
   "cell_type": "markdown",
   "source": [
    "---\n",
    "\n",
    "Training models, each in a cell\n",
    "\n",
    "* Dummy classifier\n",
    "* K-Nearest Neighbour (KNN)\n",
    "* Naïve Bayes (NB)\n",
    "* Support Vector Machine (SVM)\n",
    "* Decision Tree (DT)\n",
    "* Random Forest (RF)\n",
    "* Gradient Boosted Trees (GBT)\n",
    "* Multi-Layered Perceptron (MLP)"
   ],
   "metadata": {
    "collapsed": false,
    "pycharm": {
     "name": "#%% md\n"
    }
   }
  },
  {
   "cell_type": "markdown",
   "source": [
    "Evaluation with confusion matrix, F1 score, etc"
   ],
   "metadata": {
    "collapsed": false,
    "pycharm": {
     "name": "#%% md\n"
    }
   }
  },
  {
   "cell_type": "markdown",
   "source": [
    "### Dummy classifier"
   ],
   "metadata": {
    "collapsed": false,
    "pycharm": {
     "name": "#%% md\n"
    }
   }
  },
  {
   "cell_type": "code",
   "source": [
    "from sklearn.dummy import DummyClassifier\n",
    "\n",
    "param_grid = {'strategy': ['stratified']}\n",
    "\n",
    "grid_searchDummy = GridSearchCV(DummyClassifier(), param_grid, cv=10, n_jobs=-1)\n",
    "grid_searchDummy.fit(X_train, y_train)\n",
    "\n",
    "training_accuracy = grid_searchDummy.score(X_train, y_train)\n",
    "test_accuracy = grid_searchDummy.score(X_test, y_test)\n",
    "\n",
    "print(\"Test set score: {}\".format(grid_searchDummy.score(X_test, y_test)))\n",
    "\n",
    "y_true, y_pred = y_test , grid_searchDummy.predict(X_test)\n",
    "from sklearn.metrics import classification_report\n",
    "print('Results on the test set:')\n",
    "print(classification_report(y_true, y_pred))"
   ],
   "metadata": {
    "collapsed": false,
    "pycharm": {
     "name": "#%%\n"
    }
   },
   "execution_count": 79,
   "outputs": [
    {
     "name": "stdout",
     "output_type": "stream",
     "text": [
      "Test set score: 0.5041610738255033\n",
      "Results on the test set:\n",
      "              precision    recall  f1-score   support\n",
      "\n",
      "           0       0.34      0.48      0.39      1291\n",
      "           1       0.64      0.50      0.56      2434\n",
      "\n",
      "    accuracy                           0.49      3725\n",
      "   macro avg       0.49      0.49      0.48      3725\n",
      "weighted avg       0.54      0.49      0.50      3725\n",
      "\n"
     ]
    }
   ]
  },
  {
   "cell_type": "markdown",
   "source": [
    "### KNN"
   ],
   "metadata": {
    "collapsed": false,
    "pycharm": {
     "name": "#%% md\n"
    }
   }
  },
  {
   "cell_type": "code",
   "source": [
    "from sklearn.neighbors import KNeighborsClassifier\n",
    "\n",
    "param_grid = {'n_neighbors': range(2, 30, 2), 'weights': ['uniform', 'distance']}\n",
    "\n",
    "grid_searchKNN = GridSearchCV(KNeighborsClassifier(), param_grid, cv=10, n_jobs=-1)\n",
    "grid_searchKNN.fit(X_train, y_train)\n",
    "\n",
    "print(\"Test set score: {}\".format(grid_searchKNN.score(X_test, y_test)))\n",
    "\n",
    "y_true, y_pred = y_test , grid_searchKNN.predict(X_test)\n",
    "from sklearn.metrics import classification_report\n",
    "print('Results on the test set:')\n",
    "print(classification_report(y_true, y_pred))"
   ],
   "metadata": {
    "collapsed": false,
    "pycharm": {
     "name": "#%%\n"
    }
   },
   "execution_count": 80,
   "outputs": [
    {
     "name": "stdout",
     "output_type": "stream",
     "text": [
      "Test set score: 0.6195973154362416\n",
      "Results on the test set:\n",
      "              precision    recall  f1-score   support\n",
      "\n",
      "           0       0.46      0.58      0.51      1291\n",
      "           1       0.74      0.64      0.69      2434\n",
      "\n",
      "    accuracy                           0.62      3725\n",
      "   macro avg       0.60      0.61      0.60      3725\n",
      "weighted avg       0.64      0.62      0.63      3725\n",
      "\n"
     ]
    }
   ]
  },
  {
   "cell_type": "markdown",
   "source": [
    "### Naive Bayes"
   ],
   "metadata": {
    "collapsed": false,
    "pycharm": {
     "name": "#%% md\n"
    }
   }
  },
  {
   "cell_type": "code",
   "source": [
    "from sklearn.naive_bayes import GaussianNB\n",
    "\n",
    "param_grid = {}\n",
    "\n",
    "grid_searchGNB = GridSearchCV(GaussianNB(), param_grid, cv=10, n_jobs=-1)\n",
    "grid_searchGNB.fit(X_train, y_train)\n",
    "\n",
    "print(\"Test set score: {}\".format(grid_searchGNB.score(X_test, y_test)))\n",
    "\n",
    "y_true, y_pred = y_test , grid_searchGNB.predict(X_test)\n",
    "from sklearn.metrics import classification_report\n",
    "print('Results on the test set:')\n",
    "print(classification_report(y_true, y_pred))"
   ],
   "metadata": {
    "collapsed": false,
    "pycharm": {
     "name": "#%%\n"
    }
   },
   "execution_count": 81,
   "outputs": [
    {
     "name": "stdout",
     "output_type": "stream",
     "text": [
      "Test set score: 0.6510067114093959\n",
      "Results on the test set:\n",
      "              precision    recall  f1-score   support\n",
      "\n",
      "           0       0.50      0.38      0.43      1291\n",
      "           1       0.71      0.80      0.75      2434\n",
      "\n",
      "    accuracy                           0.65      3725\n",
      "   macro avg       0.60      0.59      0.59      3725\n",
      "weighted avg       0.63      0.65      0.64      3725\n",
      "\n"
     ]
    }
   ]
  },
  {
   "cell_type": "markdown",
   "source": [
    "### Support Vector Machine"
   ],
   "metadata": {
    "collapsed": false,
    "pycharm": {
     "name": "#%% md\n"
    }
   }
  },
  {
   "cell_type": "code",
   "source": [
    "from sklearn.svm import SVC\n",
    "\n",
    "param_grid = {'kernel': ['poly', 'rbf', 'sigmoid'],'C': [0.01, 0.1, 0.25, 0.5, 1, 2]}\n",
    "\n",
    "grid_searchSVC = GridSearchCV(SVC(), param_grid, cv=10, n_jobs=-1)\n",
    "grid_searchSVC.fit(X_train, y_train)\n",
    "\n",
    "print(\"Test set score: {}\".format(grid_searchSVC.score(X_test, y_test)))\n",
    "\n",
    "y_true, y_pred = y_test , grid_searchSVC.predict(X_test)\n",
    "from sklearn.metrics import classification_report\n",
    "print('Results on the test set:')\n",
    "print(classification_report(y_true, y_pred))"
   ],
   "metadata": {
    "collapsed": false,
    "pycharm": {
     "name": "#%%\n"
    }
   },
   "execution_count": 82,
   "outputs": [
    {
     "name": "stdout",
     "output_type": "stream",
     "text": [
      "Test set score: 0.6681879194630872\n",
      "Results on the test set:\n",
      "              precision    recall  f1-score   support\n",
      "\n",
      "           0       0.53      0.38      0.44      1291\n",
      "           1       0.71      0.82      0.76      2434\n",
      "\n",
      "    accuracy                           0.67      3725\n",
      "   macro avg       0.62      0.60      0.60      3725\n",
      "weighted avg       0.65      0.67      0.65      3725\n",
      "\n"
     ]
    }
   ]
  },
  {
   "cell_type": "markdown",
   "source": [
    "### Decision Tree"
   ],
   "metadata": {
    "collapsed": false,
    "pycharm": {
     "name": "#%% md\n"
    }
   }
  },
  {
   "cell_type": "code",
   "source": [
    "from sklearn.tree import DecisionTreeClassifier\n",
    "\n",
    "param_grid = {'max_depth': [2, 4, 16, 64, 128, 256, None], 'criterion': ['gini', 'entropy']}\n",
    "\n",
    "grid_searchDT = GridSearchCV(DecisionTreeClassifier(), param_grid, cv=10, n_jobs=-1)\n",
    "grid_searchDT.fit(X_train, y_train)\n",
    "\n",
    "print(\"Test set score: {}\".format(grid_searchDT.score(X_test, y_test)))\n",
    "\n",
    "y_true, y_pred = y_test , grid_searchDT.predict(X_test)\n",
    "from sklearn.metrics import classification_report\n",
    "print('Results on the test set:')\n",
    "print(classification_report(y_true, y_pred))"
   ],
   "metadata": {
    "collapsed": false,
    "pycharm": {
     "name": "#%%\n"
    }
   },
   "execution_count": 83,
   "outputs": [
    {
     "name": "stdout",
     "output_type": "stream",
     "text": [
      "Test set score: 0.6448322147651007\n",
      "Results on the test set:\n",
      "              precision    recall  f1-score   support\n",
      "\n",
      "           0       0.49      0.50      0.49      1291\n",
      "           1       0.73      0.72      0.73      2434\n",
      "\n",
      "    accuracy                           0.64      3725\n",
      "   macro avg       0.61      0.61      0.61      3725\n",
      "weighted avg       0.65      0.64      0.65      3725\n",
      "\n"
     ]
    }
   ]
  },
  {
   "cell_type": "markdown",
   "source": [
    "### Random Forest"
   ],
   "metadata": {
    "collapsed": false,
    "pycharm": {
     "name": "#%% md\n"
    }
   }
  },
  {
   "cell_type": "code",
   "source": [
    "from sklearn.ensemble import RandomForestClassifier\n",
    "\n",
    "param_grid = {'max_depth': [2, 4, 16, 64, 128, 256, None], 'n_estimators': [100, 500, 1000], 'criterion': ['gini', 'entropy']}\n",
    "\n",
    "rf_cl = RandomForestClassifier()\n",
    "\n",
    "grid_searchRF = GridSearchCV(rf_cl, param_grid, cv=10, n_jobs=-1)\n",
    "grid_searchRF.fit(X_train, y_train)\n",
    "\n",
    "print(\"Test set score: {}\".format(grid_searchRF.score(X_test, y_test)))\n",
    "\n",
    "y_true, y_pred = y_test , grid_searchRF.predict(X_test)\n",
    "from sklearn.metrics import classification_report\n",
    "print('Results on the test set:')\n",
    "print(classification_report(y_true, y_pred))"
   ],
   "metadata": {
    "collapsed": false,
    "pycharm": {
     "name": "#%%\n",
     "is_executing": true
    }
   },
   "execution_count": null,
   "outputs": []
  },
  {
   "cell_type": "markdown",
   "source": [
    "Let's make a feature importance plot."
   ],
   "metadata": {
    "collapsed": false,
    "pycharm": {
     "name": "#%% md\n"
    }
   }
  },
  {
   "cell_type": "code",
   "execution_count": null,
   "outputs": [],
   "source": [
    "# based on mean decrease in impurity\n",
    "importances = grid_searchRF.best_estimator_.feature_importances_\n",
    "std = np.std([tree.feature_importances_ for tree in grid_searchRF.best_estimator_.estimators_], axis=0)\n",
    "\n",
    "forestImportances = pd.Series(importances, index=X_train.columns)\n",
    "\n",
    "\n",
    "# make the plot\n",
    "with plt.style.context([styleScience, styleNoLatex, styleColor, styleGrid]):\n",
    "    fig, ax = plt.subplots()\n",
    "    forestImportances.plot.bar(yerr=std, ax=ax, fontsize=7)\n",
    "\n",
    "    ax.set_ylabel(\"Mean decrease in impurity\")\n",
    "\n",
    "    plt.savefig(fr\"figures/{w_data.value}_featureImportance.svg\")\n"
   ],
   "metadata": {
    "collapsed": false,
    "pycharm": {
     "name": "#%%\n",
     "is_executing": true
    }
   }
  },
  {
   "cell_type": "markdown",
   "source": [
    "### Gradient Boosted Trees (GBT)"
   ],
   "metadata": {
    "collapsed": false,
    "pycharm": {
     "name": "#%% md\n"
    }
   }
  },
  {
   "cell_type": "code",
   "source": [
    "from sklearn.experimental import enable_hist_gradient_boosting\n",
    "from sklearn.ensemble import HistGradientBoostingClassifier\n",
    "\n",
    "param_grid = {'max_depth':[2,4,8,16,32,64,None], 'max_iter':[10, 50, 100, 250, 500, 1000, 2500]}\n",
    "\n",
    "grid_searchGBT = GridSearchCV(HistGradientBoostingClassifier(), param_grid, cv=10, n_jobs=-1)\n",
    "grid_searchGBT.fit(X_train, y_train)\n",
    "\n",
    "print(\"Best parameters: {}\".format(grid_searchGBT.best_params_))\n",
    "print(\"Test set score: {}\".format(grid_searchGBT.score(X_test, y_test)))\n",
    "\n",
    "y_true, y_pred = y_test , grid_searchGBT.predict(X_test)\n",
    "from sklearn.metrics import classification_report\n",
    "print('Results on the test set:')\n",
    "print(classification_report(y_true, y_pred))"
   ],
   "metadata": {
    "collapsed": false,
    "pycharm": {
     "name": "#%%\n"
    }
   },
   "execution_count": 86,
   "outputs": [
    {
     "name": "stdout",
     "output_type": "stream",
     "text": [
      "Best parameters: {'max_depth': None, 'max_iter': 2500}\n",
      "Test set score: 0.6695302013422819\n",
      "Results on the test set:\n",
      "              precision    recall  f1-score   support\n",
      "\n",
      "           0       0.53      0.48      0.50      1291\n",
      "           1       0.74      0.77      0.75      2434\n",
      "\n",
      "    accuracy                           0.67      3725\n",
      "   macro avg       0.63      0.62      0.63      3725\n",
      "weighted avg       0.66      0.67      0.67      3725\n",
      "\n"
     ]
    }
   ]
  },
  {
   "cell_type": "markdown",
   "source": [
    "### Multi-Layered Perceptron (MLP)"
   ],
   "metadata": {
    "collapsed": false,
    "pycharm": {
     "name": "#%% md\n"
    }
   }
  },
  {
   "cell_type": "code",
   "source": [
    "from sklearn.neural_network import MLPClassifier\n",
    "\n",
    "param_grid = {\n",
    "    'hidden_layer_sizes': [(5), (50), (100), (250), (1000), (10, 10), (25, 25), (50, 50), (100, 100), (250, 250)],\n",
    "    'activation': ['tanh', 'relu', 'logistic'],\n",
    "    'solver': ['adam'],\n",
    "    'alpha': [0.0001, 0.05],\n",
    "    'learning_rate': ['constant']\n",
    "}\n",
    "\n",
    "grid_searchMLP = GridSearchCV(MLPClassifier(max_iter=10000), param_grid, cv=10, n_jobs=-1)\n",
    "\n",
    "grid_searchMLP.fit(X_train, y_train)\n",
    "\n",
    "print(\"Test set score: {}\".format(grid_searchMLP.score(X_test, y_test)))\n",
    "\n",
    "y_true, y_pred = y_test , grid_searchMLP.predict(X_test)\n",
    "from sklearn.metrics import classification_report\n",
    "print('Results on the test set:')\n",
    "print(classification_report(y_true, y_pred))"
   ],
   "metadata": {
    "collapsed": false,
    "pycharm": {
     "name": "#%%\n"
    }
   },
   "execution_count": 87,
   "outputs": [
    {
     "name": "stdout",
     "output_type": "stream",
     "text": [
      "Test set score: 0.6649664429530201\n",
      "Results on the test set:\n",
      "              precision    recall  f1-score   support\n",
      "\n",
      "           0       0.52      0.46      0.49      1291\n",
      "           1       0.73      0.77      0.75      2434\n",
      "\n",
      "    accuracy                           0.66      3725\n",
      "   macro avg       0.62      0.62      0.62      3725\n",
      "weighted avg       0.66      0.66      0.66      3725\n",
      "\n"
     ]
    }
   ]
  },
  {
   "cell_type": "markdown",
   "source": [
    "---"
   ],
   "metadata": {
    "collapsed": false
   }
  },
  {
   "cell_type": "markdown",
   "source": [
    "Getting the final results (nicely formatted).\n",
    "\n",
    "I wrote a function that does this since I couldn't find anything suitable online. Also saves it in a .csv file."
   ],
   "metadata": {
    "collapsed": false,
    "pycharm": {
     "name": "#%% md\n"
    }
   }
  },
  {
   "cell_type": "code",
   "execution_count": 61,
   "outputs": [],
   "source": [
    "import re\n",
    "from sklearn.metrics import precision_recall_fscore_support\n",
    "\n",
    "\n",
    "def getResults(algoList, verbose=True, save=False):\n",
    "    \"\"\"\n",
    "    :param algoList: List of gridSearch-class objects you want to get the results for\n",
    "    :param verbose: If true prints the final Pandas dataframe\n",
    "    :param save: If true saves the file as a .csv file in '/results/{dataset name}_results.csv'\n",
    "    :return:\n",
    "    \"\"\"\n",
    "    beforeParenthesis = re.compile(\"(.*?)\\s*\\(\")\n",
    "\n",
    "    dfResults = pd.DataFrame(columns=['Classifier', 'Parameters', 'Accuracy', 'Precision', 'Recall',\n",
    "                                      'F1-Score', 'CV Splits', 'Training time'])\n",
    "    for algo in algoList:\n",
    "        tempList = []\n",
    "\n",
    "        classifier = beforeParenthesis.match(str(algo.best_estimator_)).group(1)\n",
    "        tempList.append(classifier)\n",
    "\n",
    "        parameters = list(algo.best_params_.items())\n",
    "        tempList.append(parameters)\n",
    "\n",
    "        accuracy = algo.best_score_\n",
    "        tempList.append(accuracy)\n",
    "\n",
    "        y_true, y_pred = y_test, algo.predict(X_test)\n",
    "        precision, recall, fScore, support = precision_recall_fscore_support(y_true, y_pred, average='macro')\n",
    "        tempList.append(precision)\n",
    "        tempList.append(recall)\n",
    "        tempList.append(fScore)\n",
    "\n",
    "        splits = algo.n_splits_\n",
    "        tempList.append(splits)\n",
    "\n",
    "        trainTime = algo.refit_time_\n",
    "        tempList.append(trainTime)\n",
    "\n",
    "        dfResults.loc[len(dfResults)] = tempList\n",
    "\n",
    "    if save:\n",
    "        dfResults.to_csv(fr'results/{w_data.value}_results.csv')\n",
    "\n",
    "    if verbose:\n",
    "        print(dfResults)"
   ],
   "metadata": {
    "collapsed": false,
    "pycharm": {
     "name": "#%%\n"
    }
   }
  },
  {
   "cell_type": "markdown",
   "source": [
    "Now we call the function."
   ],
   "metadata": {
    "collapsed": false,
    "pycharm": {
     "name": "#%% md\n"
    }
   }
  },
  {
   "cell_type": "code",
   "execution_count": 88,
   "outputs": [
    {
     "name": "stdout",
     "output_type": "stream",
     "text": [
      "                       Classifier  \\\n",
      "0                 DummyClassifier   \n",
      "1            KNeighborsClassifier   \n",
      "2                      GaussianNB   \n",
      "3                             SVC   \n",
      "4          DecisionTreeClassifier   \n",
      "5          RandomForestClassifier   \n",
      "6  HistGradientBoostingClassifier   \n",
      "7                   MLPClassifier   \n",
      "\n",
      "                                          Parameters  Accuracy  Precision  \\\n",
      "0                           [(strategy, stratified)]  0.493717   0.489809   \n",
      "1           [(n_neighbors, 28), (weights, distance)]  0.598253   0.601201   \n",
      "2                                                 []  0.575529   0.601183   \n",
      "3                            [(C, 2), (kernel, rbf)]  0.596059   0.622008   \n",
      "4                [(criterion, gini), (max_depth, 4)]  0.596748   0.609533   \n",
      "5  [(criterion, entropy), (max_depth, 16), (n_est...  0.605742   0.616225   \n",
      "6              [(max_depth, None), (max_iter, 2500)]  0.606646   0.630461   \n",
      "7  [(activation, relu), (alpha, 0.0001), (hidden_...  0.601998   0.624677   \n",
      "\n",
      "     Recall  F1-Score CV Splits  Training time  \n",
      "0  0.488750  0.477571        10       0.000998  \n",
      "1  0.609794  0.600423        10       0.085911  \n",
      "2  0.586905  0.588783        10       0.004996  \n",
      "3  0.601144  0.603867        10      16.485156  \n",
      "4  0.610735  0.610084        10       0.028970  \n",
      "5  0.617460  0.616796        10      24.798663  \n",
      "6  0.623996  0.626373        10       0.254740  \n",
      "7  0.617775  0.620189        10      14.944730  \n"
     ]
    }
   ],
   "source": [
    "algoList = [grid_searchDummy, grid_searchKNN, grid_searchGNB, grid_searchSVC,\n",
    "            grid_searchDT, grid_searchRF, grid_searchGBT, grid_searchMLP]\n",
    "\n",
    "getResults(algoList, verbose=False, save=True)\n"
   ],
   "metadata": {
    "collapsed": false,
    "pycharm": {
     "name": "#%%\n"
    }
   }
  }
 ],
 "metadata": {
  "kernelspec": {
   "display_name": "Python 3",
   "language": "python",
   "name": "python3"
  },
  "language_info": {
   "codemirror_mode": {
    "name": "ipython",
    "version": 2
   },
   "file_extension": ".py",
   "mimetype": "text/x-python",
   "name": "python",
   "nbconvert_exporter": "python",
   "pygments_lexer": "ipython2",
   "version": "2.7.6"
  }
 },
 "nbformat": 4,
 "nbformat_minor": 0
}