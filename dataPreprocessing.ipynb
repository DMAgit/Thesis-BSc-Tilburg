{
 "cells": [
  {
   "cell_type": "markdown",
   "source": [
    "Title\n",
    "\n",
    "Description"
   ],
   "metadata": {
    "collapsed": false
   }
  },
  {
   "cell_type": "markdown",
   "source": [
    "Importing packages."
   ],
   "metadata": {
    "collapsed": false
   }
  },
  {
   "cell_type": "code",
   "execution_count": 1,
   "outputs": [],
   "source": [
    "import pandas as pd\n",
    "from sklearn.preprocessing import MinMaxScaler"
   ],
   "metadata": {
    "collapsed": false,
    "pycharm": {
     "name": "#%%\n"
    }
   }
  },
  {
   "cell_type": "markdown",
   "source": [
    "Importing data into pandas DataFrame."
   ],
   "metadata": {
    "collapsed": false
   }
  },
  {
   "cell_type": "code",
   "execution_count": 2,
   "outputs": [],
   "source": [
    "df = pd.read_csv(r\"fullDataFinal.csv\", index_col=0)\n",
    "df.columns = df.columns.str.strip()\n",
    "# df.sample(5)"
   ],
   "metadata": {
    "collapsed": false,
    "pycharm": {
     "name": "#%%\n"
    }
   }
  },
  {
   "cell_type": "markdown",
   "source": [
    "Run the block below to get the dataset with spaciotemporal *(SPT)* data only.\n",
    "\n",
    "    | Latitude | Longitude | Remoteness | Discovery month | Weekend |"
   ],
   "metadata": {
    "collapsed": false
   }
  },
  {
   "cell_type": "code",
   "execution_count": 3,
   "outputs": [
    {
     "data": {
      "text/plain": "array([[<AxesSubplot:title={'center':'B'}>,\n        <AxesSubplot:title={'center':'C'}>],\n       [<AxesSubplot:title={'center':'D'}>,\n        <AxesSubplot:title={'center':'E'}>],\n       [<AxesSubplot:title={'center':'F'}>,\n        <AxesSubplot:title={'center':'G'}>]], dtype=object)"
     },
     "execution_count": 3,
     "metadata": {},
     "output_type": "execute_result"
    },
    {
     "data": {
      "text/plain": "<Figure size 432x288 with 6 Axes>",
      "image/png": "[encoded data removed]"
     },
     "metadata": {
      "needs_background": "light"
     },
     "output_type": "display_data"
    }
   ],
   "source": [
    "# Separate target variable (fire_size_class) from predictor variables.\n",
    "dfTarget = df[\"fire_size_class\"]\n",
    "dfPredictor = df[[\"latitude\", \"longitude\", \"discovery_month\", \"weekday\", \"remoteness\"]]\n",
    "\n",
    "# First we one-hot encode the target class\n",
    "dfTarget = pd.concat([dfTarget, pd.get_dummies(dfTarget)], axis=1)  # use get_dummies and concatenate the result to dfTarget\n",
    "dfTarget.drop([\"fire_size_class\"], axis=1, inplace=True)  # and remove the old column\n",
    "# print(dfTarget.sample(5))\n",
    "\n",
    "# We want to make it binary classification between B and the larger fires\n",
    "# To do this we can drop all classes other than B\n",
    "# If B is 0 -> it's larger\n",
    "dfTarget.drop([\"C\", \"D\", \"E\", \"F\", \"G\"], axis=1, inplace=True)\n",
    "\n",
    "\n",
    "# Change Discovery_month to seasons.\n",
    "    # March - May -> Spring\n",
    "    # June - August -> Summer\n",
    "    # September - November -> Fall\n",
    "    # December - February -> Winter\n",
    "seasons = {'Mar': 'Spring', 'Apr': 'Spring', 'May': 'Spring',\n",
    "           'Jun': 'Summer', 'Jul': 'Summer', 'Aug': 'Summer',\n",
    "           'Sep': 'Fall', 'Oct': 'Fall', 'Nov': 'Fall',\n",
    "           'Dec': 'Winter', 'Jan': 'Winter', 'Feb': 'Winter'}\n",
    "\n",
    "dfPredictor['season'] = dfPredictor['discovery_month'].apply(lambda x: seasons[x])\n",
    "dfPredictor.drop([\"discovery_month\"], axis=1, inplace=True)\n",
    "\n",
    "\n",
    "# One-hot encode the predictor features\n",
    "# Seasons\n",
    "dfPredictor = pd.concat([dfPredictor, pd.get_dummies(dfPredictor[\"season\"])], axis=1)\n",
    "dfPredictor.drop([\"season\"], axis=1, inplace=True)\n",
    "# Weekday\n",
    "dfPredictor = pd.concat([dfPredictor, pd.get_dummies(dfPredictor[\"weekday\"])], axis=1)\n",
    "dfPredictor.drop([\"weekday\"], axis=1, inplace=True)\n",
    "dfPredictor.rename(columns={False:\"is_weekend\", True:\"is_weekday\"}, inplace=True)  # Rename the column to is_weekday. Just preference\n",
    "\n",
    "\n",
    "# Scaling numerical data to 0-1 range.\n",
    "dfPredictorScaled = pd.DataFrame(MinMaxScaler().fit_transform(dfPredictor[[\"latitude\", \"longitude\", \"remoteness\"]]), columns=[\"latitude\", \"longitude\", \"remoteness\"])\n",
    "\n",
    "dfPredictor = dfPredictor.assign(**dfPredictorScaled.to_dict(orient=\"series\"))  # replace the columns of the old df with the ones from the new one\n",
    "# print(dfPredictor.sample(5))\n",
    "\n",
    "\n",
    "# Save both dataframes as .csv files to \"data_SPT_X.csv\" and \"data_SPT_y.csv\"\n",
    "dfTarget.to_csv(r'data\\data_SPT_y.csv')\n",
    "dfPredictor.to_csv(r'data\\data_SPT_X.csv')"
   ],
   "metadata": {
    "collapsed": false,
    "pycharm": {
     "name": "#%%\n"
    }
   }
  },
  {
   "cell_type": "markdown",
   "source": [
    "Run this block to get the dataset with the meteorological *(M)* features only.\n",
    "\n",
    "    | Temperature | Wind speed | Humidity | Precipitation |"
   ],
   "metadata": {
    "collapsed": false
   }
  },
  {
   "cell_type": "code",
   "execution_count": 9,
   "outputs": [],
   "source": [
    "# Separate target variable (fire_size_class) from predictor variables.\n",
    "\n",
    "dfTarget = df[\"fire_size_class\"]\n",
    "dfPredictor = df[[\"Temp\", \"Wind\", \"Humidity\", \"Precipitation\"]]\n",
    "\n",
    "# First we one-hot encode all of the classes\n",
    "dfTarget = pd.concat([dfTarget, pd.get_dummies(dfTarget)], axis=1)  # use get_dummies and concatenate the result to dfTarget\n",
    "dfTarget.drop([\"fire_size_class\"], axis=1, inplace=True)  # and remove the old column\n",
    "\n",
    "# We want to make it binary classification between B and the larger fires\n",
    "# To do this we can drop all classes other than B\n",
    "# If B is 0 -> it's larger\n",
    "dfTarget.drop([\"C\", \"D\", \"E\", \"F\", \"G\"], axis=1, inplace=True)\n",
    "\n",
    "\n",
    "# Scaling numerical data to 0-1 range.\n",
    "dfPredictorScaled = pd.DataFrame(MinMaxScaler().fit_transform(dfPredictor[[\"Temp\", \"Wind\", \"Humidity\", \"Precipitation\"]]), columns=[\"Temp\", \"Wind\", \"Humidity\", \"Precipitation\"])\n",
    "dfPredictor = dfPredictor.assign(**dfPredictorScaled.to_dict(orient=\"series\"))  # replace the columns of the old df with the ones from the new one\n",
    "\n",
    "\n",
    "# Save both dataframes as .csv files to \"data_M_X.csv\" and \"data_M_y.csv\"\n",
    "dfTarget.to_csv(r'data\\data_M_y.csv')\n",
    "dfPredictor.to_csv(r'data\\data_M_X.csv')"
   ],
   "metadata": {
    "collapsed": false,
    "pycharm": {
     "name": "#%%\n"
    }
   }
  },
  {
   "cell_type": "markdown",
   "source": [
    "Run this block to get the dataset with the topographic *(T)* features only.\n",
    "\n",
    "    | Vegetation type | Elevation |"
   ],
   "metadata": {
    "collapsed": false
   }
  },
  {
   "cell_type": "code",
   "execution_count": 10,
   "outputs": [],
   "source": [
    "# Separate target variable (fire_size_class) from predictor variables.\n",
    "\n",
    "dfTarget = df[\"fire_size_class\"]\n",
    "dfPredictor = df[[\"Vegetation\", \"elevation\"]]\n",
    "\n",
    "# First we one-hot encode all of the classes\n",
    "dfTarget = pd.concat([dfTarget, pd.get_dummies(dfTarget)], axis=1)  # use get_dummies and concatenate the result to dfTarget\n",
    "dfTarget.drop([\"fire_size_class\"], axis=1, inplace=True)  # and remove the old column\n",
    "\n",
    "# We want to make it binary classification between B and the larger fires\n",
    "# To do this we can drop all classes other than B\n",
    "# If B is 0 -> it's larger\n",
    "dfTarget.drop([\"C\", \"D\", \"E\", \"F\", \"G\"], axis=1, inplace=True)\n",
    "\n",
    "\n",
    "# Changing categorical variables into one-hot encoded ones.\n",
    "# Vegetation\n",
    "dfPredictor = pd.concat([dfPredictor, pd.get_dummies(dfPredictor[\"Vegetation\"], prefix=\"Veg\", prefix_sep=\" \")], axis=1)\n",
    "dfPredictor.drop([\"Vegetation\"], axis=1, inplace=True)\n",
    "\n",
    "\n",
    "# Save both dataframes as .csv files to \"data_T_X.csv\" and \"data_T_y.csv\"\n",
    "dfTarget.to_csv(r'data\\data_T_y.csv')\n",
    "dfPredictor.to_csv(r'data\\data_T_X.csv')"
   ],
   "metadata": {
    "collapsed": false,
    "pycharm": {
     "name": "#%%\n"
    }
   }
  },
  {
   "cell_type": "markdown",
   "source": [
    "Run this block to get the dataset with the all the features.\n",
    "\n",
    "    | Latitude | Longitude | Remoteness | Discovery month | Weekend | Temperature | Wind speed | Humidity | Precipitation | Vegetation type | Elevation |"
   ],
   "metadata": {
    "collapsed": false
   }
  },
  {
   "cell_type": "code",
   "execution_count": 11,
   "outputs": [],
   "source": [
    "# Separate target variable (fire_size_class) from predictor variables.\n",
    "\n",
    "dfTarget = df[\"fire_size_class\"]\n",
    "dfPredictor = df[[\"latitude\", \"longitude\", \"discovery_month\", \"weekday\", \"Vegetation\", \"remoteness\", \"elevation\", \"Temp\", \"Wind\", \"Humidity\", \"Precipitation\"]]\n",
    "\n",
    "# First we one-hot encode all of the classes\n",
    "dfTarget = pd.concat([dfTarget, pd.get_dummies(dfTarget)], axis=1)  # use get_dummies and concatenate the result to dfTarget\n",
    "dfTarget.drop([\"fire_size_class\"], axis=1, inplace=True)  # and remove the old column\n",
    "\n",
    "# We want to make it binary classification between B and the larger fires\n",
    "# To do this we can drop all classes other than B\n",
    "# If B is 0 -> it's larger\n",
    "dfTarget.drop([\"C\", \"D\", \"E\", \"F\", \"G\"], axis=1, inplace=True)\n",
    "\n",
    "\n",
    "# Change Discovery_month to seasons.\n",
    "    # March - May -> Spring\n",
    "    # June - August -> Summer\n",
    "    # September - November -> Fall\n",
    "    # December - February -> Winter\n",
    "seasons = {'Mar': 'Spring', 'Apr': 'Spring', 'May': 'Spring',\n",
    "           'Jun': 'Summer', 'Jul': 'Summer', 'Aug': 'Summer',\n",
    "           'Sep': 'Fall', 'Oct': 'Fall', 'Nov': 'Fall',\n",
    "           'Dec': 'Winter', 'Jan': 'Winter', 'Feb': 'Winter'}\n",
    "\n",
    "dfPredictor['season'] = dfPredictor['discovery_month'].apply(lambda x: seasons[x])\n",
    "dfPredictor.drop([\"discovery_month\"], axis=1, inplace=True)\n",
    "\n",
    "\n",
    "# Changing categorical variables into one-hot encoded ones.\n",
    "# Vegetation\n",
    "dfPredictor = pd.concat([dfPredictor, pd.get_dummies(dfPredictor[\"Vegetation\"], prefix=\"Veg\", prefix_sep=\" \")], axis=1)\n",
    "dfPredictor.drop([\"Vegetation\"], axis=1, inplace=True)\n",
    "\n",
    "# Seasons\n",
    "dfPredictor = pd.concat([dfPredictor, pd.get_dummies(dfPredictor[\"season\"])], axis=1)\n",
    "dfPredictor.drop([\"season\"], axis=1, inplace=True)\n",
    "\n",
    "# Weekday\n",
    "dfPredictor = pd.concat([dfPredictor, pd.get_dummies(dfPredictor[\"weekday\"])], axis=1)\n",
    "dfPredictor.drop([\"weekday\"], axis=1, inplace=True)\n",
    "dfPredictor.rename(columns={False:\"is_weekend\", True:\"is_weekday\"}, inplace=True) # Rename the column to is_weekday. Just preference\n",
    "\n",
    "\n",
    "# Scaling numerical data to 0-1 range.\n",
    "dfPredictorScaled = pd.DataFrame(MinMaxScaler().fit_transform(dfPredictor[[\"latitude\", \"longitude\", \"remoteness\", \"elevation\", \"Temp\", \"Wind\", \"Humidity\", \"Precipitation\"]]), columns=[\"latitude\", \"longitude\", \"remoteness\", \"elevation\", \"Temp\", \"Wind\", \"Humidity\", \"Precipitation\"])\n",
    "dfPredictor = dfPredictor.assign(**dfPredictorScaled.to_dict(orient=\"series\"))  # replace the columns of the old df with the ones from the new one\n",
    "\n",
    "\n",
    "# Save both dataframes as .csv files to \"data_Full_X.csv\" and \"data_Full_y.csv\"\n",
    "dfTarget.to_csv(r'data\\data_Full_y.csv')\n",
    "dfPredictor.to_csv(r'data\\data_Full_X.csv')\n"
   ],
   "metadata": {
    "collapsed": false,
    "pycharm": {
     "name": "#%%\n"
    }
   }
  }
 ],
 "metadata": {
  "kernelspec": {
   "display_name": "Python 3",
   "language": "python",
   "name": "python3"
  },
  "language_info": {
   "codemirror_mode": {
    "name": "ipython",
    "version": 2
   },
   "file_extension": ".py",
   "mimetype": "text/x-python",
   "name": "python",
   "nbconvert_exporter": "python",
   "pygments_lexer": "ipython2",
   "version": "2.7.6"
  }
 },
 "nbformat": 4,
 "nbformat_minor": 0
}